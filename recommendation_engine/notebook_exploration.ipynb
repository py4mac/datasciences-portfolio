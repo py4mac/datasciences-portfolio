{
 "cells": [
  {
   "cell_type": "markdown",
   "metadata": {},
   "source": [
    "# Movies recommendation engine\n",
    "Pierre-Yves BOISBUNON - October 2017\n",
    "\n",
    "\n",
    "----------\n",
    "\n",
    "The target is to elaborate a movie recommendation engine based on the dataset **movie_metadata.csv** IMDB database.\n",
    "\n",
    "Tags:\n",
    "- Clustering (PCA, KMeans)\n"
   ]
  },
  {
   "cell_type": "code",
   "execution_count": 1,
   "metadata": {},
   "outputs": [],
   "source": [
    "import pandas as pd\n",
    "import matplotlib.pyplot as plt\n",
    "import seaborn as sns\n",
    "import numpy as np\n",
    "from scipy.stats import norm\n",
    "from sklearn.preprocessing import StandardScaler\n",
    "from scipy import stats\n",
    "import warnings\n",
    "warnings.filterwarnings('ignore')\n",
    "%matplotlib inline"
   ]
  },
  {
   "cell_type": "markdown",
   "metadata": {},
   "source": [
    "# 1. Exploration and Cleaning"
   ]
  },
  {
   "cell_type": "markdown",
   "metadata": {},
   "source": [
    "Let's open the dataset:"
   ]
  },
  {
   "cell_type": "code",
   "execution_count": 7,
   "metadata": {},
   "outputs": [
    {
     "name": "stdout",
     "output_type": "stream",
     "text": [
      "Reading package lists... Done\n",
      "Building dependency tree       \n",
      "Reading state information... Done\n",
      "The following NEW packages will be installed:\n",
      "  wget\n",
      "0 upgraded, 1 newly installed, 0 to remove and 2 not upgraded.\n",
      "Need to get 299 kB of archives.\n",
      "After this operation, 905 kB of additional disk space will be used.\n",
      "Get:1 http://archive.ubuntu.com/ubuntu xenial-updates/main amd64 wget amd64 1.17.1-1ubuntu1.4 [299 kB]\n",
      "Fetched 299 kB in 0s (327 kB/s)\n",
      "debconf: delaying package configuration, since apt-utils is not installed\n",
      "Selecting previously unselected package wget.\n",
      "(Reading database ... 14043 files and directories currently installed.)\n",
      "Preparing to unpack .../wget_1.17.1-1ubuntu1.4_amd64.deb ...\n",
      "Unpacking wget (1.17.1-1ubuntu1.4) ...\n",
      "Setting up wget (1.17.1-1ubuntu1.4) ...\n"
     ]
    }
   ],
   "source": [
    "!apt-get install wget"
   ]
  },
  {
   "cell_type": "code",
   "execution_count": 8,
   "metadata": {},
   "outputs": [
    {
     "name": "stdout",
     "output_type": "stream",
     "text": [
      "--2018-10-16 10:34:13--  https://raw.githubusercontent.com/sundeepblue/movie_rating_prediction/master/movie_metadata.csv\n",
      "Resolving raw.githubusercontent.com (raw.githubusercontent.com)... 151.101.120.133\n",
      "Connecting to raw.githubusercontent.com (raw.githubusercontent.com)|151.101.120.133|:443... connected.\n",
      "HTTP request sent, awaiting response... 200 OK\n",
      "Length: 1494688 (1.4M) [text/plain]\n",
      "Saving to: 'movie_metadata.csv'\n",
      "\n",
      "movie_metadata.csv  100%[===================>]   1.42M  1.22MB/s    in 1.2s    \n",
      "\n",
      "2018-10-16 10:34:16 (1.22 MB/s) - 'movie_metadata.csv' saved [1494688/1494688]\n",
      "\n"
     ]
    }
   ],
   "source": [
    "!wget https://raw.githubusercontent.com/sundeepblue/movie_rating_prediction/master/movie_metadata.csv"
   ]
  },
  {
   "cell_type": "code",
   "execution_count": 93,
   "metadata": {},
   "outputs": [],
   "source": [
    "df_train = pd.read_csv('movie_metadata.csv', sep=',')"
   ]
  },
  {
   "cell_type": "code",
   "execution_count": 94,
   "metadata": {},
   "outputs": [
    {
     "data": {
      "text/plain": [
       "(5043, 28)"
      ]
     },
     "execution_count": 94,
     "metadata": {},
     "output_type": "execute_result"
    }
   ],
   "source": [
    "df_train.shape"
   ]
  },
  {
   "cell_type": "code",
   "execution_count": 95,
   "metadata": {
    "scrolled": false
   },
   "outputs": [
    {
     "data": {
      "text/html": [
       "<div>\n",
       "<style scoped>\n",
       "    .dataframe tbody tr th:only-of-type {\n",
       "        vertical-align: middle;\n",
       "    }\n",
       "\n",
       "    .dataframe tbody tr th {\n",
       "        vertical-align: top;\n",
       "    }\n",
       "\n",
       "    .dataframe thead th {\n",
       "        text-align: right;\n",
       "    }\n",
       "</style>\n",
       "<table border=\"1\" class=\"dataframe\">\n",
       "  <thead>\n",
       "    <tr style=\"text-align: right;\">\n",
       "      <th></th>\n",
       "      <th>color</th>\n",
       "      <th>director_name</th>\n",
       "      <th>num_critic_for_reviews</th>\n",
       "      <th>duration</th>\n",
       "      <th>director_facebook_likes</th>\n",
       "      <th>actor_3_facebook_likes</th>\n",
       "      <th>actor_2_name</th>\n",
       "      <th>actor_1_facebook_likes</th>\n",
       "      <th>gross</th>\n",
       "      <th>genres</th>\n",
       "      <th>...</th>\n",
       "      <th>num_user_for_reviews</th>\n",
       "      <th>language</th>\n",
       "      <th>country</th>\n",
       "      <th>content_rating</th>\n",
       "      <th>budget</th>\n",
       "      <th>title_year</th>\n",
       "      <th>actor_2_facebook_likes</th>\n",
       "      <th>imdb_score</th>\n",
       "      <th>aspect_ratio</th>\n",
       "      <th>movie_facebook_likes</th>\n",
       "    </tr>\n",
       "  </thead>\n",
       "  <tbody>\n",
       "    <tr>\n",
       "      <th>0</th>\n",
       "      <td>Color</td>\n",
       "      <td>James Cameron</td>\n",
       "      <td>723.0</td>\n",
       "      <td>178.0</td>\n",
       "      <td>0.0</td>\n",
       "      <td>855.0</td>\n",
       "      <td>Joel David Moore</td>\n",
       "      <td>1000.0</td>\n",
       "      <td>760505847.0</td>\n",
       "      <td>Action|Adventure|Fantasy|Sci-Fi</td>\n",
       "      <td>...</td>\n",
       "      <td>3054.0</td>\n",
       "      <td>English</td>\n",
       "      <td>USA</td>\n",
       "      <td>PG-13</td>\n",
       "      <td>237000000.0</td>\n",
       "      <td>2009.0</td>\n",
       "      <td>936.0</td>\n",
       "      <td>7.9</td>\n",
       "      <td>1.78</td>\n",
       "      <td>33000</td>\n",
       "    </tr>\n",
       "    <tr>\n",
       "      <th>1</th>\n",
       "      <td>Color</td>\n",
       "      <td>Gore Verbinski</td>\n",
       "      <td>302.0</td>\n",
       "      <td>169.0</td>\n",
       "      <td>563.0</td>\n",
       "      <td>1000.0</td>\n",
       "      <td>Orlando Bloom</td>\n",
       "      <td>40000.0</td>\n",
       "      <td>309404152.0</td>\n",
       "      <td>Action|Adventure|Fantasy</td>\n",
       "      <td>...</td>\n",
       "      <td>1238.0</td>\n",
       "      <td>English</td>\n",
       "      <td>USA</td>\n",
       "      <td>PG-13</td>\n",
       "      <td>300000000.0</td>\n",
       "      <td>2007.0</td>\n",
       "      <td>5000.0</td>\n",
       "      <td>7.1</td>\n",
       "      <td>2.35</td>\n",
       "      <td>0</td>\n",
       "    </tr>\n",
       "    <tr>\n",
       "      <th>2</th>\n",
       "      <td>Color</td>\n",
       "      <td>Sam Mendes</td>\n",
       "      <td>602.0</td>\n",
       "      <td>148.0</td>\n",
       "      <td>0.0</td>\n",
       "      <td>161.0</td>\n",
       "      <td>Rory Kinnear</td>\n",
       "      <td>11000.0</td>\n",
       "      <td>200074175.0</td>\n",
       "      <td>Action|Adventure|Thriller</td>\n",
       "      <td>...</td>\n",
       "      <td>994.0</td>\n",
       "      <td>English</td>\n",
       "      <td>UK</td>\n",
       "      <td>PG-13</td>\n",
       "      <td>245000000.0</td>\n",
       "      <td>2015.0</td>\n",
       "      <td>393.0</td>\n",
       "      <td>6.8</td>\n",
       "      <td>2.35</td>\n",
       "      <td>85000</td>\n",
       "    </tr>\n",
       "    <tr>\n",
       "      <th>3</th>\n",
       "      <td>Color</td>\n",
       "      <td>Christopher Nolan</td>\n",
       "      <td>813.0</td>\n",
       "      <td>164.0</td>\n",
       "      <td>22000.0</td>\n",
       "      <td>23000.0</td>\n",
       "      <td>Christian Bale</td>\n",
       "      <td>27000.0</td>\n",
       "      <td>448130642.0</td>\n",
       "      <td>Action|Thriller</td>\n",
       "      <td>...</td>\n",
       "      <td>2701.0</td>\n",
       "      <td>English</td>\n",
       "      <td>USA</td>\n",
       "      <td>PG-13</td>\n",
       "      <td>250000000.0</td>\n",
       "      <td>2012.0</td>\n",
       "      <td>23000.0</td>\n",
       "      <td>8.5</td>\n",
       "      <td>2.35</td>\n",
       "      <td>164000</td>\n",
       "    </tr>\n",
       "    <tr>\n",
       "      <th>4</th>\n",
       "      <td>NaN</td>\n",
       "      <td>Doug Walker</td>\n",
       "      <td>NaN</td>\n",
       "      <td>NaN</td>\n",
       "      <td>131.0</td>\n",
       "      <td>NaN</td>\n",
       "      <td>Rob Walker</td>\n",
       "      <td>131.0</td>\n",
       "      <td>NaN</td>\n",
       "      <td>Documentary</td>\n",
       "      <td>...</td>\n",
       "      <td>NaN</td>\n",
       "      <td>NaN</td>\n",
       "      <td>NaN</td>\n",
       "      <td>NaN</td>\n",
       "      <td>NaN</td>\n",
       "      <td>NaN</td>\n",
       "      <td>12.0</td>\n",
       "      <td>7.1</td>\n",
       "      <td>NaN</td>\n",
       "      <td>0</td>\n",
       "    </tr>\n",
       "  </tbody>\n",
       "</table>\n",
       "<p>5 rows × 28 columns</p>\n",
       "</div>"
      ],
      "text/plain": [
       "   color      director_name  num_critic_for_reviews  duration  \\\n",
       "0  Color      James Cameron                   723.0     178.0   \n",
       "1  Color     Gore Verbinski                   302.0     169.0   \n",
       "2  Color         Sam Mendes                   602.0     148.0   \n",
       "3  Color  Christopher Nolan                   813.0     164.0   \n",
       "4    NaN        Doug Walker                     NaN       NaN   \n",
       "\n",
       "   director_facebook_likes  actor_3_facebook_likes      actor_2_name  \\\n",
       "0                      0.0                   855.0  Joel David Moore   \n",
       "1                    563.0                  1000.0     Orlando Bloom   \n",
       "2                      0.0                   161.0      Rory Kinnear   \n",
       "3                  22000.0                 23000.0    Christian Bale   \n",
       "4                    131.0                     NaN        Rob Walker   \n",
       "\n",
       "   actor_1_facebook_likes        gross                           genres  \\\n",
       "0                  1000.0  760505847.0  Action|Adventure|Fantasy|Sci-Fi   \n",
       "1                 40000.0  309404152.0         Action|Adventure|Fantasy   \n",
       "2                 11000.0  200074175.0        Action|Adventure|Thriller   \n",
       "3                 27000.0  448130642.0                  Action|Thriller   \n",
       "4                   131.0          NaN                      Documentary   \n",
       "\n",
       "          ...          num_user_for_reviews language  country  content_rating  \\\n",
       "0         ...                        3054.0  English      USA           PG-13   \n",
       "1         ...                        1238.0  English      USA           PG-13   \n",
       "2         ...                         994.0  English       UK           PG-13   \n",
       "3         ...                        2701.0  English      USA           PG-13   \n",
       "4         ...                           NaN      NaN      NaN             NaN   \n",
       "\n",
       "        budget  title_year actor_2_facebook_likes imdb_score  aspect_ratio  \\\n",
       "0  237000000.0      2009.0                  936.0        7.9          1.78   \n",
       "1  300000000.0      2007.0                 5000.0        7.1          2.35   \n",
       "2  245000000.0      2015.0                  393.0        6.8          2.35   \n",
       "3  250000000.0      2012.0                23000.0        8.5          2.35   \n",
       "4          NaN         NaN                   12.0        7.1           NaN   \n",
       "\n",
       "  movie_facebook_likes  \n",
       "0                33000  \n",
       "1                    0  \n",
       "2                85000  \n",
       "3               164000  \n",
       "4                    0  \n",
       "\n",
       "[5 rows x 28 columns]"
      ]
     },
     "execution_count": 95,
     "metadata": {},
     "output_type": "execute_result"
    }
   ],
   "source": [
    "df_train.head()"
   ]
  },
  {
   "cell_type": "markdown",
   "metadata": {},
   "source": [
    "## 1.1. Analyse missing data"
   ]
  },
  {
   "cell_type": "markdown",
   "metadata": {},
   "source": [
    "Let's analyse missing data contained in dataset"
   ]
  },
  {
   "cell_type": "code",
   "execution_count": 96,
   "metadata": {
    "scrolled": true
   },
   "outputs": [
    {
     "data": {
      "text/plain": [
       "Text(0, 0.5, '')"
      ]
     },
     "execution_count": 96,
     "metadata": {},
     "output_type": "execute_result"
    },
    {
     "data": {
      "image/png": "[encoded data removed]",
      "text/plain": [
       "<Figure size 842.4x595.44 with 1 Axes>"
      ]
     },
     "metadata": {
      "needs_background": "light"
     },
     "output_type": "display_data"
    }
   ],
   "source": [
    "col = df_train.columns.get_values()\n",
    "y = []\n",
    "for var in col:\n",
    "    missing = float(df_train[var].isnull().sum())\n",
    "    count = float(df_train[var].count() + 1)\n",
    "    y.append(float(missing/(missing+count)) * 100)\n",
    "    \n",
    "my_df = pd.DataFrame({'index': col, 'missing_values': y})\n",
    "my_df = my_df.sort_values('missing_values')\n",
    "\n",
    "fig, ax = plt.subplots()\n",
    "fig.set_size_inches(11.7, 8.27)\n",
    "\n",
    "sns.barplot(x='missing_values', y=\"index\", data=my_df, ax=ax)\n",
    "ax.set_xlabel('Number of missing values')\n",
    "ax.set_ylabel('')"
   ]
  },
  {
   "cell_type": "markdown",
   "metadata": {},
   "source": [
    "Let's fill dataset missing column with mean value for numeric values."
   ]
  },
  {
   "cell_type": "code",
   "execution_count": 97,
   "metadata": {},
   "outputs": [],
   "source": [
    "df_train.fillna(df_train.mean(), inplace=True)"
   ]
  },
  {
   "cell_type": "markdown",
   "metadata": {},
   "source": [
    "Let's drop now all non defined values"
   ]
  },
  {
   "cell_type": "code",
   "execution_count": 98,
   "metadata": {},
   "outputs": [
    {
     "data": {
      "text/plain": [
       "(4581, 28)"
      ]
     },
     "execution_count": 98,
     "metadata": {},
     "output_type": "execute_result"
    }
   ],
   "source": [
    "cols = df_train.columns.values\n",
    "for var in cols:\n",
    "    df_train = df_train.dropna(subset=[var], how='all')\n",
    "df_train.shape"
   ]
  },
  {
   "cell_type": "markdown",
   "metadata": {},
   "source": [
    "## 1.2 Analyse categoric variable"
   ]
  },
  {
   "cell_type": "markdown",
   "metadata": {},
   "source": [
    "Let's observe the amount of unique value per categoric variable"
   ]
  },
  {
   "cell_type": "code",
   "execution_count": 99,
   "metadata": {
    "scrolled": true
   },
   "outputs": [
    {
     "data": {
      "text/plain": [
       "Text(0, 0.5, '')"
      ]
     },
     "execution_count": 99,
     "metadata": {},
     "output_type": "execute_result"
    },
    {
     "data": {
      "image/png": "[encoded data removed]",
      "text/plain": [
       "<Figure size 432x288 with 1 Axes>"
      ]
     },
     "metadata": {
      "needs_background": "light"
     },
     "output_type": "display_data"
    }
   ],
   "source": [
    "df_train_cat = df_train.select_dtypes(include=['object'])\n",
    "y = []\n",
    "x = df_train_cat.columns.get_values()\n",
    "for var in x:\n",
    "    y.append(len(df_train_cat[var].unique()))\n",
    "\n",
    "my_df = pd.DataFrame({'index': x, 'unique_values': y})\n",
    "my_df = my_df.sort_values('unique_values')\n",
    "ax = sns.barplot(x='unique_values', y=\"index\", data=my_df)\n",
    "\n",
    "ax.set_xlabel('Number of unique values')\n",
    "ax.set_ylabel('')"
   ]
  },
  {
   "cell_type": "markdown",
   "metadata": {},
   "source": [
    "**plot_keywords** and **movie_imdb_link** show a lot of unique values (equal to the amount of movie_title)"
   ]
  },
  {
   "cell_type": "markdown",
   "metadata": {},
   "source": [
    "### 1.2.1 Utils API"
   ]
  },
  {
   "cell_type": "markdown",
   "metadata": {},
   "source": [
    "Let's define some generic functions that we could use later"
   ]
  },
  {
   "cell_type": "markdown",
   "metadata": {},
   "source": [
    "** Function encoding var **: the row **var** value is compared to the expected **value** if equal return **positive_value** else **negative_value**"
   ]
  },
  {
   "cell_type": "code",
   "execution_count": 100,
   "metadata": {},
   "outputs": [],
   "source": [
    "def encode_var(row, var, value, positive_value, negative_value):\n",
    "    if row[var].find(value)> -1:\n",
    "        return positive_value\n",
    "    else:\n",
    "        return negative_value"
   ]
  },
  {
   "cell_type": "markdown",
   "metadata": {},
   "source": [
    "** Function encoding var in binary**: the row **var** value is compared to the expected **value** if equal return 1 else 0"
   ]
  },
  {
   "cell_type": "code",
   "execution_count": 101,
   "metadata": {},
   "outputs": [],
   "source": [
    "def binary_encode_var(row, var, value):\n",
    "    return encode_var(row, var, value, 1, 0)"
   ]
  },
  {
   "cell_type": "markdown",
   "metadata": {},
   "source": [
    "** Function encoding var in binary (exclusion)**: the row **var** value is compared to the expected **values** list separated by a **separator**. \n",
    "If the **var** is not in the list, it returns 0 else 1"
   ]
  },
  {
   "cell_type": "code",
   "execution_count": 102,
   "metadata": {},
   "outputs": [],
   "source": [
    "def binary_encode_var_exclude(row, var, values, separator):\n",
    "    for value in values.split(separator):\n",
    "        if (encode_var(row, var, value, 1, 0) == 1):\n",
    "            return 0\n",
    "    return 1"
   ]
  },
  {
   "cell_type": "markdown",
   "metadata": {},
   "source": [
    "### 1.2.2 color"
   ]
  },
  {
   "cell_type": "markdown",
   "metadata": {},
   "source": [
    "Let's analyse **color** variable"
   ]
  },
  {
   "cell_type": "code",
   "execution_count": 103,
   "metadata": {},
   "outputs": [
    {
     "data": {
      "text/plain": [
       "array(['Color', ' Black and White'], dtype=object)"
      ]
     },
     "execution_count": 103,
     "metadata": {},
     "output_type": "execute_result"
    }
   ],
   "source": [
    "df_train['color'].unique()"
   ]
  },
  {
   "cell_type": "code",
   "execution_count": 104,
   "metadata": {},
   "outputs": [
    {
     "data": {
      "text/plain": [
       "count      4581\n",
       "unique        2\n",
       "top       Color\n",
       "freq       4392\n",
       "Name: color, dtype: object"
      ]
     },
     "execution_count": 104,
     "metadata": {},
     "output_type": "execute_result"
    }
   ],
   "source": [
    "df_train['color'].describe()"
   ]
  },
  {
   "cell_type": "markdown",
   "metadata": {},
   "source": [
    "As there is only two different values, We will use label encoder to encode both of them (it will then be a binary encoding)."
   ]
  },
  {
   "cell_type": "markdown",
   "metadata": {},
   "source": [
    "### 1.2.3 content_rating"
   ]
  },
  {
   "cell_type": "markdown",
   "metadata": {},
   "source": [
    "Let's analyse **content_rating**"
   ]
  },
  {
   "cell_type": "code",
   "execution_count": 105,
   "metadata": {},
   "outputs": [
    {
     "data": {
      "text/plain": [
       "array(['PG-13', 'PG', 'G', 'R', 'TV-14', 'Not Rated', 'Unrated',\n",
       "       'Approved', 'NC-17', 'X', 'GP', 'Passed', 'M', 'TV-G', 'TV-PG'],\n",
       "      dtype=object)"
      ]
     },
     "execution_count": 105,
     "metadata": {},
     "output_type": "execute_result"
    }
   ],
   "source": [
    "df_train['content_rating'].unique()"
   ]
  },
  {
   "cell_type": "markdown",
   "metadata": {},
   "source": [
    "### 1.2.4 language"
   ]
  },
  {
   "cell_type": "markdown",
   "metadata": {},
   "source": [
    "Let's analyse **language**"
   ]
  },
  {
   "cell_type": "code",
   "execution_count": 106,
   "metadata": {
    "scrolled": true
   },
   "outputs": [],
   "source": [
    "languages = df_train['language'].unique()"
   ]
  },
  {
   "cell_type": "markdown",
   "metadata": {},
   "source": [
    "Let's observe the number of occurence of each languages"
   ]
  },
  {
   "cell_type": "code",
   "execution_count": 107,
   "metadata": {},
   "outputs": [
    {
     "data": {
      "text/plain": [
       "Text(0, 0.5, '')"
      ]
     },
     "execution_count": 107,
     "metadata": {},
     "output_type": "execute_result"
    },
    {
     "data": {
      "image/png": "[encoded data removed]",
      "text/plain": [
       "<Figure size 842.4x595.44 with 1 Axes>"
      ]
     },
     "metadata": {
      "needs_background": "light"
     },
     "output_type": "display_data"
    }
   ],
   "source": [
    "my_df = pd.DataFrame({'index': df_train['language'].value_counts().index, 'nb_occurence': df_train['language'].value_counts()})\n",
    "my_df = my_df.sort_values('nb_occurence')\n",
    "fig, ax = plt.subplots()\n",
    "fig.set_size_inches(11.7, 8.27)\n",
    "sns.barplot(x='nb_occurence', y=\"index\", data=my_df, ax=ax)\n",
    "\n",
    "ax.set_xlabel('Number of occurence')\n",
    "ax.set_ylabel('')"
   ]
  },
  {
   "cell_type": "markdown",
   "metadata": {},
   "source": [
    "Most of languages are 'english','french' and 'spanish'. I propose to create 3 features based on them and create an 'other_language' categorie for the rest."
   ]
  },
  {
   "cell_type": "code",
   "execution_count": 108,
   "metadata": {},
   "outputs": [],
   "source": [
    "df_train['english_lang'] = df_train['language'].apply(lambda x: int('English' in str(x)))\n",
    "df_train['french_lang'] = df_train['language'].apply(lambda x: int('French' in str(x)))\n",
    "df_train['spanish_lang'] = df_train['language'].apply(lambda x: int('Spanish' in str(x)))\n",
    "df_train['other_lang'] = df_train['language'].apply(lambda x: int((not 'English' in x) and (not 'French' in x) and (not 'Spanish' in x)))"
   ]
  },
  {
   "cell_type": "code",
   "execution_count": 109,
   "metadata": {},
   "outputs": [],
   "source": [
    "df_train.drop('language', inplace=True, axis=1)"
   ]
  },
  {
   "cell_type": "markdown",
   "metadata": {},
   "source": [
    "### 1.2.5 plot_keywords"
   ]
  },
  {
   "cell_type": "markdown",
   "metadata": {},
   "source": [
    "Let's analyse **plot_keywords**"
   ]
  },
  {
   "cell_type": "code",
   "execution_count": 110,
   "metadata": {
    "scrolled": false
   },
   "outputs": [
    {
     "data": {
      "text/plain": [
       "4458"
      ]
     },
     "execution_count": 110,
     "metadata": {},
     "output_type": "execute_result"
    }
   ],
   "source": [
    "len(df_train['plot_keywords'].unique())"
   ]
  },
  {
   "cell_type": "code",
   "execution_count": 111,
   "metadata": {},
   "outputs": [
    {
     "name": "stdout",
     "output_type": "stream",
     "text": [
      "7746\n"
     ]
    }
   ],
   "source": [
    "# Create 'keywords' list\n",
    "keywords = []\n",
    "for elem in df_train['plot_keywords'].str.split('|').values:\n",
    "    for val in [val for val in elem if val not in keywords]:\n",
    "        keywords.append(val)\n",
    "print(len(keywords))"
   ]
  },
  {
   "cell_type": "markdown",
   "metadata": {},
   "source": [
    "**plot_keywords** seems to be a specific field filled with commented values. It contains almost the same amount of different combinaison than the number of entry in the dataset. Let's remove it"
   ]
  },
  {
   "cell_type": "code",
   "execution_count": 112,
   "metadata": {},
   "outputs": [],
   "source": [
    "df_train.drop('plot_keywords', inplace=True, axis=1)"
   ]
  },
  {
   "cell_type": "markdown",
   "metadata": {},
   "source": [
    "### 1.2.5 movie_imdb_link"
   ]
  },
  {
   "cell_type": "markdown",
   "metadata": {},
   "source": [
    "Let's analyse **movie_imbd_link**"
   ]
  },
  {
   "cell_type": "code",
   "execution_count": 113,
   "metadata": {},
   "outputs": [
    {
     "data": {
      "text/plain": [
       "array(['http://www.imdb.com/title/tt0499549/?ref_=fn_tt_tt_1',\n",
       "       'http://www.imdb.com/title/tt0449088/?ref_=fn_tt_tt_1',\n",
       "       'http://www.imdb.com/title/tt2379713/?ref_=fn_tt_tt_1', ...,\n",
       "       'http://www.imdb.com/title/tt0430371/?ref_=fn_tt_tt_1',\n",
       "       'http://www.imdb.com/title/tt1880418/?ref_=fn_tt_tt_1',\n",
       "       'http://www.imdb.com/title/tt0378407/?ref_=fn_tt_tt_1'],\n",
       "      dtype=object)"
      ]
     },
     "execution_count": 113,
     "metadata": {},
     "output_type": "execute_result"
    }
   ],
   "source": [
    "df_train['movie_imdb_link'].unique()"
   ]
  },
  {
   "cell_type": "markdown",
   "metadata": {},
   "source": [
    "Filled of url link, no need to keep it"
   ]
  },
  {
   "cell_type": "code",
   "execution_count": 114,
   "metadata": {},
   "outputs": [],
   "source": [
    "df_train.drop('movie_imdb_link', inplace=True, axis=1)"
   ]
  },
  {
   "cell_type": "markdown",
   "metadata": {},
   "source": [
    "### 1.2.6 genres"
   ]
  },
  {
   "cell_type": "markdown",
   "metadata": {},
   "source": [
    "Let's analyse **genres**"
   ]
  },
  {
   "cell_type": "code",
   "execution_count": 115,
   "metadata": {},
   "outputs": [
    {
     "data": {
      "text/plain": [
       "array(['Action|Adventure|Fantasy|Sci-Fi', 'Action|Adventure|Fantasy',\n",
       "       'Action|Adventure|Thriller', 'Action|Thriller',\n",
       "       'Action|Adventure|Sci-Fi', 'Action|Adventure|Romance',\n",
       "       'Adventure|Animation|Comedy|Family|Fantasy|Musical|Romance',\n",
       "       'Adventure|Family|Fantasy|Mystery', 'Action|Adventure',\n",
       "       'Action|Adventure|Western', 'Action|Adventure|Family|Fantasy',\n",
       "       'Action|Adventure|Comedy|Family|Fantasy|Sci-Fi',\n",
       "       'Adventure|Fantasy', 'Action|Adventure|Drama|History',\n",
       "       'Adventure|Family|Fantasy', 'Action|Adventure|Drama|Romance',\n",
       "       'Drama|Romance', 'Action|Adventure|Sci-Fi|Thriller',\n",
       "       'Action|Adventure|Fantasy|Romance',\n",
       "       'Action|Adventure|Fantasy|Sci-Fi|Thriller',\n",
       "       'Adventure|Animation|Comedy|Family|Fantasy',\n",
       "       'Adventure|Animation|Comedy|Family|Sport', 'Action|Crime|Thriller',\n",
       "       'Action|Adventure|Horror|Sci-Fi|Thriller',\n",
       "       'Adventure|Animation|Family|Sci-Fi',\n",
       "       'Action|Comedy|Crime|Thriller', 'Animation|Drama|Family|Fantasy',\n",
       "       'Action|Crime|Drama|Thriller', 'Adventure|Animation|Comedy|Family',\n",
       "       'Action|Adventure|Animation|Comedy|Family|Sci-Fi',\n",
       "       'Adventure|Drama|Family|Mystery', 'Action|Comedy|Sci-Fi|Western',\n",
       "       'Action|Adventure|Fantasy|Horror|Thriller',\n",
       "       'Action|Adventure|Comedy|Sci-Fi', 'Comedy|Family|Fantasy',\n",
       "       'Adventure|Animation|Comedy|Drama|Family|Fantasy',\n",
       "       'Adventure|Drama|Family|Fantasy', 'Action|Adventure|Drama|Fantasy',\n",
       "       'Action|Adventure|Family|Fantasy|Romance',\n",
       "       'Action|Adventure|Drama|Sci-Fi', 'Action|Adventure|Romance|Sci-Fi',\n",
       "       'Action|Adventure|Family|Mystery|Sci-Fi',\n",
       "       'Action|Adventure|Animation|Comedy|Drama|Family|Sci-Fi',\n",
       "       'Adventure|Animation|Comedy|Family|Sci-Fi',\n",
       "       'Adventure|Animation|Family|Fantasy', 'Action|Sci-Fi',\n",
       "       'Adventure|Drama|Sci-Fi', 'Drama|Fantasy|Romance',\n",
       "       'Adventure|Sci-Fi', 'Action|Adventure|Drama|Thriller',\n",
       "       'Action|Drama|History|Romance|War',\n",
       "       'Action|Adventure|Biography|Drama|History|Romance|War',\n",
       "       'Action|Drama', 'Drama|Horror|Sci-Fi',\n",
       "       'Adventure|Comedy|Family|Fantasy',\n",
       "       'Animation|Comedy|Family|Fantasy',\n",
       "       'Action|Adventure|Animation|Comedy|Family',\n",
       "       'Adventure|Animation|Comedy|Family|Fantasy|Musical',\n",
       "       'Mystery|Thriller', 'Adventure|Animation|Comedy|Drama|Family',\n",
       "       'Action|Adventure|Animation|Comedy|Family|Fantasy|Sci-Fi',\n",
       "       'Comedy|Fantasy|Horror', 'Drama|Fantasy|Horror|Thriller',\n",
       "       'Action|Drama|Thriller', 'Adventure',\n",
       "       'Action|Comedy|Fantasy|Sci-Fi',\n",
       "       'Action|Adventure|Comedy|Family|Fantasy|Mystery|Sci-Fi',\n",
       "       'Action|Adventure|Animation|Fantasy', 'Comedy|Crime',\n",
       "       'Action|Drama|History|War', 'Action|Adventure|Drama',\n",
       "       'Action|Adventure|Animation|Comedy|Family|Fantasy',\n",
       "       'Action|Drama|Mystery|Sci-Fi', 'Action|Adventure|Comedy|Thriller',\n",
       "       'Action|Adventure|Animation|Fantasy|Romance|Sci-Fi',\n",
       "       'Action|Adventure|Drama|History|War',\n",
       "       'Adventure|Drama|Fantasy|Romance',\n",
       "       'Animation|Comedy|Family|Musical',\n",
       "       'Adventure|Drama|Thriller|Western',\n",
       "       'Adventure|Animation|Comedy|Family|Western',\n",
       "       'Action|Mystery|Thriller', 'Adventure|Sci-Fi|Thriller',\n",
       "       'Adventure|Animation|Comedy|Family|Fantasy|Sci-Fi',\n",
       "       'Action|Crime|Mystery|Thriller', 'Action|Adventure|Family|Mystery',\n",
       "       'Adventure|Drama|Romance|War',\n",
       "       'Adventure|Animation|Family|Thriller',\n",
       "       'Action|Animation|Comedy|Family|Sci-Fi', 'Action|Comedy|Fantasy',\n",
       "       'Adventure|Animation|Comedy|Family|Musical',\n",
       "       'Action|Adventure|Crime|Mystery|Thriller',\n",
       "       'Action|Adventure|History', 'Action', 'Adventure|Drama|Fantasy',\n",
       "       'Action|Fantasy|Thriller', 'Action|Adventure|Comedy|Crime',\n",
       "       'Adventure|Mystery|Sci-Fi', 'Action|Drama|Sci-Fi|Thriller',\n",
       "       'Action|Crime|Sci-Fi|Thriller', 'Action|Family|Sport',\n",
       "       'Comedy|Drama|Romance', 'Action|Comedy|Romance',\n",
       "       'Action|Adventure|Mystery|Sci-Fi', 'Action|Drama|War',\n",
       "       'Adventure|Drama|Sci-Fi|Thriller',\n",
       "       'Action|Adventure|Comedy|Family|Fantasy', 'Crime|Thriller',\n",
       "       'Action|Comedy|Crime|Romance|Thriller', 'Biography|Drama',\n",
       "       'Action|Comedy|Crime|Sci-Fi|Thriller', 'Action|Drama|Fantasy|War',\n",
       "       'Animation|Comedy|Family|Music|Western',\n",
       "       'Action|Adventure|Mystery|Sci-Fi|Thriller',\n",
       "       'Action|Drama|Sci-Fi|Sport', 'Action|Crime|Romance|Thriller',\n",
       "       'Action|Adventure|Comedy', 'Biography|Drama|Sport',\n",
       "       'Action|Mystery|Sci-Fi|Thriller',\n",
       "       'Animation|Family|Fantasy|Musical|Romance',\n",
       "       'Action|Adventure|Romance|Sci-Fi|Thriller', 'Comedy|Romance',\n",
       "       'Action|Drama|Romance', 'Biography|Crime|Drama|History|Romance',\n",
       "       'Biography|Crime|Drama', 'Action|Comedy|Thriller',\n",
       "       'Action|Comedy|Crime', 'Action|Drama|Mystery|Thriller',\n",
       "       'Drama|Western', 'Animation|Drama|Family|Musical|Romance',\n",
       "       'Action|Adventure|Comedy|Family|Mystery',\n",
       "       'Action|Romance|Thriller', 'Action|Fantasy|Horror|Mystery',\n",
       "       'Adventure|Drama|Thriller', 'Biography|Comedy|Crime|Drama',\n",
       "       'Action|Sci-Fi|War', 'Drama|Sci-Fi',\n",
       "       'Action|Adventure|Animation|Family|Fantasy',\n",
       "       'Action|Crime|Fantasy|Romance|Thriller', 'Adventure|Comedy|Sci-Fi',\n",
       "       'Action|Crime|Sport|Thriller',\n",
       "       'Action|Adventure|Biography|Drama|History|Thriller',\n",
       "       'Action|Comedy|Sci-Fi', 'Action|Drama|Thriller|War',\n",
       "       'Drama|Mystery|Thriller', 'Action|Adventure|Fantasy|Thriller',\n",
       "       'Crime|Drama', 'Drama|History|Romance|War',\n",
       "       'Animation|Comedy|Family|Sport', 'Comedy|Sci-Fi|Thriller',\n",
       "       'Drama|History|War', 'Comedy',\n",
       "       'Adventure|Animation|Comedy|Family|Romance',\n",
       "       'Drama|Family|Fantasy|Romance', 'Drama|Fantasy|Thriller',\n",
       "       'Drama|Mystery|Romance|Sci-Fi|Thriller',\n",
       "       'Drama|History|War|Western', 'Action|Adventure|Animation|Family',\n",
       "       'Adventure|Comedy|Family|Mystery|Sci-Fi',\n",
       "       'Drama|Fantasy|Horror|Mystery|Thriller',\n",
       "       'Animation|Comedy|Family|Sci-Fi',\n",
       "       'Adventure|Comedy|Drama|Fantasy|Romance',\n",
       "       'Action|Adventure|Comedy|Crime|Thriller', 'Crime|Drama|Thriller',\n",
       "       'Adventure|Animation|Family|Fantasy|Musical|War', 'Action|Comedy',\n",
       "       'Crime|Drama|Mystery|Thriller',\n",
       "       'Action|Adventure|Animation|Family|Fantasy|Sci-Fi',\n",
       "       'Adventure|Animation|Comedy|Family|Fantasy|Music',\n",
       "       'Drama|History|Thriller|War', 'Action|Animation|Comedy|Sci-Fi',\n",
       "       'Comedy|Family|Fantasy|Horror|Mystery',\n",
       "       'Drama|Mystery|Sci-Fi|Thriller', 'Action|Horror|Sci-Fi|Thriller',\n",
       "       'Crime|Mystery|Thriller',\n",
       "       'Action|Adventure|Comedy|Crime|Mystery|Thriller',\n",
       "       'Comedy|Drama|Sci-Fi', 'Action|Family|Fantasy|Musical',\n",
       "       'Drama|History|Sport', 'Adventure|Drama|Romance',\n",
       "       'Animation|Comedy|Family|Music|Romance',\n",
       "       'Animation|Comedy|Family|Fantasy|Musical|Romance',\n",
       "       'Adventure|Comedy|Family', 'Action|Crime|Drama|Mystery|Thriller',\n",
       "       'Action|Adventure|Comedy|Fantasy', 'Comedy|Drama|Music|Musical',\n",
       "       'Adventure|Comedy|Drama|Family|Fantasy',\n",
       "       'Action|Comedy|Fantasy|Romance', 'Comedy|Romance|Sci-Fi',\n",
       "       'Adventure|Comedy|Mystery', 'Comedy|Drama|Fantasy|Romance',\n",
       "       'Action|Comedy|Family|Fantasy',\n",
       "       'Action|Adventure|Fantasy|Horror|Sci-Fi',\n",
       "       'Crime|Drama|History|Mystery|Thriller', 'Comedy|Drama',\n",
       "       'Adventure|Animation|Comedy|Drama|Family|Fantasy|Sci-Fi',\n",
       "       'Action|Drama|Romance|Sci-Fi|Thriller', 'Comedy|Crime|Sport',\n",
       "       'Comedy|Family|Fantasy|Romance',\n",
       "       'Adventure|Drama|History|Romance|War', 'Comedy|Family|Sci-Fi',\n",
       "       'Fantasy|Horror|Mystery|Thriller',\n",
       "       'Adventure|Animation|Comedy|Family|Fantasy|Sci-Fi|Sport',\n",
       "       'Adventure|Comedy|Crime|Family|Mystery', 'Drama|Sci-Fi|Thriller',\n",
       "       'Action|Crime|Mystery|Romance|Thriller',\n",
       "       'Action|Adventure|Comedy|Romance',\n",
       "       'Adventure|Animation|Family|Western', 'Comedy|Family|Romance',\n",
       "       'Action|Adventure|Family|Sci-Fi|Thriller',\n",
       "       'Animation|Family|Fantasy|Music',\n",
       "       'Action|Adventure|Family|Fantasy|Thriller', 'Comedy|Fantasy',\n",
       "       'Action|Adventure|Comedy|Fantasy|Thriller',\n",
       "       'Action|Sci-Fi|Thriller', 'Drama|History|Thriller',\n",
       "       'Adventure|Animation|Family', 'Drama|Musical|Romance',\n",
       "       'Documentary|Drama', 'Action|Adventure|Drama|History|Romance',\n",
       "       'Adventure|Animation|Drama|Family|Musical',\n",
       "       'Animation|Comedy|Family|Fantasy|Sci-Fi',\n",
       "       'Adventure|Animation|Drama|Family|Fantasy', 'Sci-Fi|Thriller',\n",
       "       'Animation|Comedy|Family', 'Action|Crime|Fantasy|Thriller',\n",
       "       'Comedy|Drama|Family|Music|Musical|Romance',\n",
       "       'Horror|Mystery|Thriller', 'Action|Adventure|Comedy|Family|Sci-Fi',\n",
       "       'Comedy|Family', 'Biography|Comedy|Drama|History',\n",
       "       'Drama|Music|Musical', 'Comedy|Crime|Music',\n",
       "       'Action|Comedy|Romance|Thriller',\n",
       "       'Animation|Comedy|Family|Fantasy|Mystery',\n",
       "       'Comedy|Crime|Drama|Romance', 'Action|Adventure|Romance|Thriller',\n",
       "       'Drama|History|Romance', 'Action|Drama|Fantasy|Romance',\n",
       "       'Action|Adventure|Animation|Family|Sci-Fi', 'Action|Drama|Sci-Fi',\n",
       "       'Drama|Horror|Sci-Fi|Thriller', 'Animation|Comedy|Fantasy',\n",
       "       'Action|Fantasy', 'Action|Animation|Comedy|Family',\n",
       "       'Action|Adventure|Comedy|Romance|Thriller', 'Action|Comedy|Sport',\n",
       "       'Biography|Drama|History|War', 'Adventure|Animation|Comedy',\n",
       "       'Action|Drama|Sport', 'Adventure|Drama|Family',\n",
       "       'Drama|Mystery|Romance|Thriller',\n",
       "       'Adventure|Animation|Comedy|Family|Fantasy|Romance',\n",
       "       'Adventure|Drama|War', 'Action|Adventure|Crime|Thriller',\n",
       "       'Fantasy|Mystery|Romance|Sci-Fi|Thriller',\n",
       "       'Drama|Fantasy|Mystery|Thriller',\n",
       "       'Animation|Comedy|Family|Fantasy|Music',\n",
       "       'Drama|Horror|Romance|Thriller', 'Drama|War', 'Drama',\n",
       "       'Action|Drama|Fantasy|Horror|War',\n",
       "       'Adventure|Family|Fantasy|Romance',\n",
       "       'Adventure|Biography|Drama|History|War',\n",
       "       'Action|Adventure|Horror|Sci-Fi', 'Action|Fantasy|Horror',\n",
       "       'Comedy|Drama|Musical|Romance', 'Action|Sci-Fi|Sport',\n",
       "       'Action|Adventure|Animation|Comedy|Crime|Family|Fantasy',\n",
       "       'Adventure|Animation|Family|Fantasy|Musical',\n",
       "       'Action|Crime|Mystery|Sci-Fi|Thriller',\n",
       "       'Action|Comedy|Crime|Drama|Thriller',\n",
       "       'Adventure|Drama|History|Romance', 'Biography|Drama|Thriller',\n",
       "       'Action|Drama|History|Thriller', 'Action|Adventure|Fantasy|War',\n",
       "       'Comedy|Fantasy|Romance', 'Adventure|Drama|History',\n",
       "       'Action|Adventure|Comedy|Romance|Thriller|Western',\n",
       "       'Biography|Drama|Sport|War', 'Comedy|Drama|Family|Musical',\n",
       "       'Action|Adventure|Fantasy|Horror|Sci-Fi|Thriller', 'Drama|Sport',\n",
       "       'Action|Fantasy|Sci-Fi|Thriller', 'Drama|Mystery|Romance',\n",
       "       'Adventure|Biography|Drama|History|Sport|Thriller',\n",
       "       'Crime|Drama|Fantasy', 'Adventure|Biography|Crime|Drama|Western',\n",
       "       'Action|War', 'Comedy|Romance|Sport',\n",
       "       'Crime|Drama|Mystery|Thriller|Western', 'Comedy|Sport',\n",
       "       'Comedy|Drama|Family', 'Crime|Drama|Fantasy|Mystery',\n",
       "       'Adventure|Animation|Biography|Drama|Family|Fantasy|Musical',\n",
       "       'Drama|Romance|Western', 'Documentary|Music', 'Drama|Thriller',\n",
       "       'Animation|Family|Fantasy', 'Action|Fantasy|Horror|Sci-Fi',\n",
       "       'Biography|Comedy|Drama', 'Action|Horror|Sci-Fi',\n",
       "       'Adventure|Comedy', 'Biography|Drama|History|Sport',\n",
       "       'Comedy|Crime|Romance|Thriller', 'Comedy|Crime|Romance',\n",
       "       'Horror|Mystery|Sci-Fi|Thriller', 'Biography|Drama|Music',\n",
       "       'Drama|Fantasy|Sport', 'Adventure|Comedy|Drama|Music',\n",
       "       'Action|Fantasy|Horror|Sci-Fi|Thriller',\n",
       "       'Adventure|Animation|Comedy|Drama|Family|Fantasy|Romance',\n",
       "       'Horror|Sci-Fi|Thriller', 'Drama|Fantasy|Mystery|Romance|Thriller',\n",
       "       'Action|Adventure|Drama|History|Romance|War',\n",
       "       'Drama|Fantasy|Mystery|Romance', 'Fantasy|Horror|Mystery|Romance',\n",
       "       'Adventure|Comedy|Family|Romance|Sci-Fi', 'Drama|Horror|Thriller',\n",
       "       'Action|Comedy|Mystery|Romance',\n",
       "       'Action|Adventure|Comedy|Romance|Sci-Fi',\n",
       "       'Action|Biography|Drama|History|Thriller|War',\n",
       "       'Adventure|Comedy|Family|Fantasy|Horror',\n",
       "       'Comedy|Family|Romance|Sci-Fi', 'Action|Adventure|Thriller|War',\n",
       "       'Comedy|Drama|Romance|Sport', 'Comedy|Western',\n",
       "       'Action|Comedy|Crime|Drama', 'Drama|Music|Romance|War',\n",
       "       'Action|Comedy|Drama|Family|Thriller', 'Action|Crime',\n",
       "       'Adventure|Animation|Drama|Family|History|Musical|Romance',\n",
       "       'Action|Adventure|Drama|Romance|Sci-Fi',\n",
       "       'Action|Adventure|Comedy|Family|Romance',\n",
       "       'Action|Adventure|Comedy|Western',\n",
       "       'Biography|Drama|History|Musical',\n",
       "       'Adventure|Drama|Horror|Thriller', 'Action|Drama|Sport|Thriller',\n",
       "       'Drama|Musical|Romance|Thriller', 'Comedy|Drama|Family|Fantasy',\n",
       "       'Adventure|Comedy|Crime|Family|Musical',\n",
       "       'Drama|Music|Musical|Romance', 'Drama|Mystery|Romance|War',\n",
       "       'Crime|Drama|Romance', 'Crime|Horror|Mystery|Thriller',\n",
       "       'Adventure|Animation|Drama|Family|Fantasy|Musical|Mystery|Romance',\n",
       "       'Action|Horror|Thriller', 'Drama|History|Horror',\n",
       "       'Drama|Romance|Sport', 'Comedy|Family|Musical|Romance',\n",
       "       'Romance|Sci-Fi|Thriller', 'Biography|Comedy|Drama|Romance',\n",
       "       'Mystery|Sci-Fi|Thriller', 'Drama|Fantasy|Horror',\n",
       "       'Adventure|Comedy|Drama|Fantasy|Musical', 'Horror|Mystery',\n",
       "       'Action|Adventure|Family|Fantasy|Sci-Fi|Thriller',\n",
       "       'Adventure|Comedy|Family|Fantasy|Romance|Sport',\n",
       "       'Adventure|Horror|Mystery', 'Crime|Drama|Romance|Thriller',\n",
       "       'Comedy|Crime|Drama|Thriller', 'Drama|Fantasy',\n",
       "       'Adventure|Comedy|Drama', 'Action|Biography|Drama|History|War',\n",
       "       'Adventure|Comedy|Fantasy', 'Adventure|Comedy|Crime|Drama|Family',\n",
       "       'Action|Biography|Crime|Drama|Thriller', 'Comedy|Sci-Fi',\n",
       "       'Action|Adventure|Comedy|Crime|Music|Mystery',\n",
       "       'Comedy|Drama|Music', 'Action|Crime|Drama|Sci-Fi|Thriller',\n",
       "       'Action|Adventure|Comedy|Drama|War', 'Drama|Mystery|Sci-Fi',\n",
       "       'Crime|Drama|Music', 'Adventure|Crime|Drama|Western',\n",
       "       'Comedy|Drama|Thriller', 'Drama|Romance|War',\n",
       "       'Action|Comedy|Crime|Music|Romance|Thriller',\n",
       "       'Crime|Romance|Thriller', 'Action|Adventure|Drama|Sci-Fi|Thriller',\n",
       "       'Action|Drama|Fantasy|Thriller|Western',\n",
       "       'Action|Drama|Mystery|Thriller|War', 'Action|Comedy|Crime|Romance',\n",
       "       'Action|Adventure|Family|Fantasy|Sci-Fi',\n",
       "       'Adventure|Comedy|Family|Musical', 'Action|Horror',\n",
       "       'Action|Adventure|Horror|Thriller', 'Comedy|Drama|Music|Romance',\n",
       "       'Action|Crime|Drama|Romance|Thriller',\n",
       "       'Comedy|Family|Romance|Sport', 'Drama|Family|Fantasy',\n",
       "       'Drama|Fantasy|Musical|Romance',\n",
       "       'Adventure|Comedy|Family|Fantasy|Sci-Fi', 'Comedy|Musical',\n",
       "       'Biography|Drama|History', 'Action|Crime|Drama|Thriller|War',\n",
       "       'Comedy|Crime|Thriller', 'Action|Animation|Comedy|Family|Fantasy',\n",
       "       'Biography|Drama|History|Thriller',\n",
       "       'Action|Adventure|Crime|Drama|Mystery|Thriller',\n",
       "       'Animation|Family|Fantasy|Musical', 'Adventure|Drama|Western',\n",
       "       'Biography|Drama|History|Romance', 'Drama|Horror|Mystery|Thriller',\n",
       "       'Action|Fantasy|Western', 'Drama|Music',\n",
       "       'Action|Drama|Family|Sport', 'Action|Biography|Drama|Thriller|War',\n",
       "       'Comedy|Drama|Sport', 'Adventure|Comedy|Sci-Fi|Western',\n",
       "       'Fantasy|Horror|Romance', 'Biography|Drama|Romance',\n",
       "       'Action|Adventure|Drama|Romance|War',\n",
       "       'Adventure|Comedy|Crime|Romance',\n",
       "       'Comedy|Drama|Family|Fantasy|Romance', 'Horror', 'Comedy|Music',\n",
       "       'Action|Adventure|Drama|Romance|Thriller',\n",
       "       'Biography|Drama|Music|Musical', 'Drama|History',\n",
       "       'Comedy|Music|Romance',\n",
       "       'Action|Adventure|Crime|Fantasy|Mystery|Thriller',\n",
       "       'Adventure|Drama|Mystery', 'Biography|Crime|Drama|Music',\n",
       "       'Crime|Drama|Horror|Thriller', 'Horror|Thriller',\n",
       "       'Adventure|Animation|Comedy|Drama|Family|Fantasy|Musical',\n",
       "       'Action|Adventure|Comedy|Music|Thriller',\n",
       "       'Adventure|Animation|Comedy|Crime|Family',\n",
       "       'Comedy|Romance|Sci-Fi|Thriller', 'Comedy|Crime|Family|Romance',\n",
       "       'Crime|Horror|Thriller', 'Action|Horror|Mystery|Sci-Fi|Thriller',\n",
       "       'Comedy|Fantasy|Sci-Fi',\n",
       "       'Adventure|Animation|Comedy|Fantasy|Romance',\n",
       "       'Action|Adventure|Family|Thriller',\n",
       "       'Adventure|Comedy|Drama|Romance|Thriller|War',\n",
       "       'Adventure|Animation|Comedy|Fantasy|Music|Romance',\n",
       "       'Action|Drama|Fantasy', 'Drama|Fantasy|Romance|Sci-Fi',\n",
       "       'Animation|Comedy|Family|Horror|Sci-Fi',\n",
       "       'Biography|Drama|Romance|Sport', 'Action|Biography|Drama',\n",
       "       'Adventure|Drama', 'Horror|Mystery|Sci-Fi',\n",
       "       'Action|Adventure|Drama|Thriller|Western',\n",
       "       'Adventure|Family|Fantasy|Sci-Fi',\n",
       "       'Adventure|Comedy|History|Romance', 'Action|Biography|Drama|Sport',\n",
       "       'Drama|Family',\n",
       "       'Action|Adventure|Crime|Drama|Family|Fantasy|Romance|Thriller',\n",
       "       'Biography|Comedy|Romance', 'Action|Biography|Drama|History',\n",
       "       'Biography|Drama|War', 'Adventure|Comedy|Family|Sci-Fi',\n",
       "       'Biography|Drama|Family|History|Sport',\n",
       "       'Biography|Comedy|Drama|History|Music', 'Fantasy|Horror',\n",
       "       'Comedy|Drama|Family|Sport', 'Comedy|Drama|Romance|Sci-Fi',\n",
       "       'Adventure|Animation|Comedy|Family|War',\n",
       "       'Action|Comedy|Sci-Fi|Thriller', 'Comedy|Horror',\n",
       "       'Drama|Thriller|War', 'Action|Western',\n",
       "       'Action|Adventure|Family|Sci-Fi',\n",
       "       'Adventure|Biography|Drama|Thriller', 'Drama|Romance|War|Western',\n",
       "       'Action|Comedy|Crime|Western',\n",
       "       'Action|Adventure|Comedy|Drama|Thriller', 'Drama|Music|Romance',\n",
       "       'Action|Adventure|Crime|Drama|Thriller',\n",
       "       'Adventure|Comedy|Family|Sport', 'Comedy|Drama|Fantasy',\n",
       "       'Comedy|Family|Sport', 'Action|Adventure|Drama|Family',\n",
       "       'Action|Comedy|War', 'Drama|Family|Sport',\n",
       "       'Action|Thriller|Western', 'Action|Drama|Fantasy|Horror|Thriller',\n",
       "       'Animation|Comedy|Family|Fantasy|Musical',\n",
       "       'Action|Adventure|Comedy|Fantasy|Romance',\n",
       "       'Action|Crime|Drama|Mystery|Sci-Fi|Thriller',\n",
       "       'Adventure|Comedy|Crime|Drama', 'Drama|Mystery',\n",
       "       'Comedy|Fantasy|Horror|Thriller',\n",
       "       'Crime|Drama|Mystery|Sci-Fi|Thriller', 'Comedy|Crime|Musical',\n",
       "       'Comedy|Drama|Family|Music|Romance', 'Comedy|Horror|Romance',\n",
       "       'Comedy|Family|Fantasy|Sport',\n",
       "       'Animation|Comedy|Family|Mystery|Sci-Fi',\n",
       "       'Adventure|Comedy|Drama|Family|Sport',\n",
       "       'Animation|Drama|Family|Fantasy|Musical|Romance',\n",
       "       'Comedy|Horror|Musical|Sci-Fi', 'Crime|Drama|Sport',\n",
       "       'Action|Adventure|Animation|Drama|Mystery|Sci-Fi|Thriller',\n",
       "       'Action|Adventure|Crime|Drama|Romance', 'Action|Comedy|Horror',\n",
       "       'Adventure|Horror|Thriller', 'Adventure|Fantasy|Mystery',\n",
       "       'Action|Drama|Romance|Sport',\n",
       "       'Biography|Crime|Drama|History|Western',\n",
       "       'Action|Biography|Crime|Drama',\n",
       "       'Adventure|Animation|Comedy|Fantasy',\n",
       "       'Biography|Drama|Music|Romance',\n",
       "       'Biography|Comedy|Crime|Drama|Romance|Thriller',\n",
       "       'Biography|Crime|Drama|History|Music',\n",
       "       'Adventure|Animation|Comedy|Drama|Family|Musical',\n",
       "       'Biography|Comedy|Drama|Music|Romance',\n",
       "       'Adventure|Animation|Sci-Fi', 'Drama|Romance|Thriller',\n",
       "       'Action|Fantasy|Horror|Thriller', 'Adventure|Biography',\n",
       "       'Action|Comedy|Family', 'Action|Horror|Romance',\n",
       "       'Action|Comedy|Crime|Music', 'Comedy|Drama|Family|Romance',\n",
       "       'Action|Drama|Fantasy|Mystery|Sci-Fi|Thriller',\n",
       "       'Adventure|Family|Fantasy|Horror|Mystery',\n",
       "       'Action|Crime|Drama|History|Western', 'Comedy|Crime|Drama',\n",
       "       'Comedy|Family|Fantasy|Music|Romance',\n",
       "       'Adventure|Comedy|Crime|Music',\n",
       "       'Action|Adventure|Comedy|Sci-Fi|Thriller',\n",
       "       'Action|Crime|Drama|Western',\n",
       "       'Action|Adventure|Comedy|Family|Romance|Sci-Fi',\n",
       "       'Action|Fantasy|Romance|Sci-Fi', 'Comedy|Crime|Mystery|Romance',\n",
       "       'Adventure|Family', 'Action|Drama|Music|Romance',\n",
       "       'Adventure|Comedy|Family|Fantasy|Horror|Mystery',\n",
       "       'Action|Biography|Drama|History|Romance|Western',\n",
       "       'Fantasy|Horror|Mystery', 'Biography|Drama|Family',\n",
       "       'Action|Adventure|Comedy|Crime|Family|Romance|Thriller',\n",
       "       'Drama|Romance|Sci-Fi', 'Comedy|Fantasy|Horror|Romance',\n",
       "       'Comedy|Family|Music', 'Action|Comedy|Music',\n",
       "       'Adventure|Comedy|Crime', 'Biography|Comedy|Drama|Sport',\n",
       "       'Fantasy|Horror|Thriller', 'Comedy|Drama|Romance|Thriller',\n",
       "       'Adventure|Comedy|Family|Romance',\n",
       "       'Adventure|Family|Fantasy|Musical',\n",
       "       'Biography|Crime|Drama|History|Thriller', 'Crime|Drama|History',\n",
       "       'Biography|Drama|Thriller|War',\n",
       "       'Drama|Music|Mystery|Romance|Thriller',\n",
       "       'Action|Adventure|Fantasy|Horror', 'Fantasy',\n",
       "       'Crime|Drama|Mystery|Romance', 'Action|Adventure|History|Romance',\n",
       "       'Action|Drama|Western', 'Comedy|War',\n",
       "       'Adventure|Comedy|Family|Fantasy|Music|Sci-Fi',\n",
       "       'Adventure|Family|Fantasy|Music|Musical',\n",
       "       'Action|Adventure|Animation|Comedy|Fantasy',\n",
       "       'Adventure|Comedy|Horror|Sci-Fi', 'Horror|Sci-Fi',\n",
       "       'Biography|Comedy|Drama|Family|Sport',\n",
       "       'Action|Crime|Drama|Thriller|Western',\n",
       "       'Drama|Fantasy|Romance|Thriller', 'Thriller', 'Comedy|Mystery',\n",
       "       'Comedy|Drama|Musical|Romance|War',\n",
       "       'Drama|History|Music|Romance|War', 'Comedy|History',\n",
       "       'Adventure|Animation|Family|Sport',\n",
       "       'Animation|Comedy|Fantasy|Musical', 'Action|Comedy|Documentary',\n",
       "       'Adventure|Comedy|Drama|Family|Romance',\n",
       "       'Adventure|Comedy|Drama|Family|Mystery',\n",
       "       'Drama|Family|Music|Romance', 'Fantasy|Romance',\n",
       "       'Adventure|Animation|Family|Musical',\n",
       "       'Animation|Comedy|Drama|Family|Musical',\n",
       "       'Biography|Crime|Drama|History',\n",
       "       'Adventure|Comedy|Fantasy|Music|Sci-Fi',\n",
       "       'Comedy|Drama|Musical|Romance|Western',\n",
       "       'Action|Adventure|Drama|Mystery',\n",
       "       'Comedy|Crime|Family|Mystery|Romance|Thriller',\n",
       "       'Action|Adventure|Drama|Romance|Western',\n",
       "       'Adventure|Crime|Mystery|Sci-Fi|Thriller', 'Crime|Drama|Western',\n",
       "       'Adventure|Comedy|Drama|Fantasy', 'Adventure|Biography|Drama',\n",
       "       'Adventure|Drama|Horror|Mystery|Thriller', 'Crime|Fantasy|Horror',\n",
       "       'Animation|Family|Fantasy|Mystery', 'Action|Comedy|Crime|Fantasy',\n",
       "       'Comedy|Family|Music|Musical', 'Crime|Documentary|News',\n",
       "       'Drama|Mystery|Romance|Thriller|War', 'Action|Crime|Drama|Sport',\n",
       "       'Drama|Fantasy|Horror|Mystery', 'Comedy|Drama|Music|War',\n",
       "       'Comedy|Musical|Romance', 'Comedy|Drama|Music|Musical|Romance',\n",
       "       'Comedy|Crime|Drama|Mystery|Romance',\n",
       "       'Biography|Comedy|Drama|History|Music|Musical',\n",
       "       'Animation|Drama|Mystery|Sci-Fi|Thriller',\n",
       "       'Adventure|Comedy|Drama|Romance', 'Adventure|Animation|Fantasy',\n",
       "       'Comedy|Drama|Mystery|Romance|Thriller|War',\n",
       "       'Biography|Comedy|Musical',\n",
       "       'Action|Adventure|Animation|Family|Sci-Fi|Thriller',\n",
       "       'Crime|Drama|Mystery|Romance|Thriller',\n",
       "       'Action|Comedy|Crime|Fantasy|Horror|Mystery|Sci-Fi|Thriller',\n",
       "       'Crime|Drama|Mystery', 'Animation', 'Drama|Horror',\n",
       "       'Adventure|Comedy|Romance', 'Family|Fantasy|Music',\n",
       "       'Crime|Drama|Music|Thriller',\n",
       "       'Action|Drama|Fantasy|Mystery|Thriller',\n",
       "       'Biography|Drama|History|Music', 'Biography|Drama|Family|Sport',\n",
       "       'Comedy|Drama|War', 'Adventure|Fantasy|Mystery|Thriller',\n",
       "       'Biography|Drama|Romance|War',\n",
       "       'Action|Horror|Romance|Sci-Fi|Thriller', 'Music',\n",
       "       'Action|Drama|History|Romance|War|Western',\n",
       "       'Action|Animation|Sci-Fi|Thriller',\n",
       "       'Action|Animation|Comedy|Crime|Family',\n",
       "       'Drama|Family|Music|Musical', 'Drama|Family|Musical|Romance',\n",
       "       'Comedy|Drama|Family|Fantasy|Sci-Fi',\n",
       "       'Comedy|Crime|Drama|Music|Romance',\n",
       "       'Adventure|Comedy|Family|Fantasy|Musical',\n",
       "       'Adventure|Crime|Drama|Romance', 'Biography|Crime|Drama|Thriller',\n",
       "       'Comedy|Mystery|Sci-Fi|Thriller', 'Sci-Fi', 'Drama|Fantasy|War',\n",
       "       'Action|Comedy|Crime|Family', 'Action|Comedy|Mystery',\n",
       "       'Comedy|Crime|Mystery', 'Action|Crime|Sci-Fi',\n",
       "       'Comedy|Horror|Sci-Fi', 'Action|Comedy|Drama|Thriller',\n",
       "       'Drama|Family|Romance', 'Adventure|Comedy|Family|Music|Romance',\n",
       "       'Comedy|Horror|Thriller', 'Comedy|Family|Music|Romance',\n",
       "       'Adventure|Fantasy|Horror|Mystery|Thriller',\n",
       "       'Crime|Drama|Musical|Romance', 'Family|Music|Romance',\n",
       "       'Biography|Drama|History|Thriller|War',\n",
       "       'Adventure|Crime|Drama|Mystery|Western',\n",
       "       'Drama|Fantasy|Horror|Romance', 'Comedy|Crime|Drama|Thriller|War',\n",
       "       'Action|Adventure|Drama|History|Thriller|War',\n",
       "       'Action|Comedy|Drama|War', 'Comedy|Drama|Fantasy|Music|Romance',\n",
       "       'Biography|Drama|Fantasy|History', 'Drama|Family|Music',\n",
       "       'Adventure|Mystery|Thriller', 'Comedy|Mystery|Romance',\n",
       "       'Biography|Crime|Drama|War', 'Crime|Drama|Music|Mystery|Thriller',\n",
       "       'Biography|Comedy|Drama|War', 'Comedy|Crime|Family|Sci-Fi',\n",
       "       'Adventure|Family|Sci-Fi', 'Adventure|Comedy|Romance|Sci-Fi',\n",
       "       'Action|Adventure|Comedy|Family',\n",
       "       'Biography|Comedy|Crime|Drama|Romance', 'Crime|Drama|Musical',\n",
       "       'Animation|Comedy|Crime|Drama|Family',\n",
       "       'Action|Adventure|Comedy|Fantasy|Mystery',\n",
       "       'Action|Adventure|Drama|Thriller|War', 'Crime|Drama|Music|Romance',\n",
       "       'Adventure|Animation|Comedy|Crime',\n",
       "       'Adventure|Comedy|Fantasy|Sci-Fi',\n",
       "       'Comedy|Drama|Family|Fantasy|Musical', 'Comedy|Crime|Family',\n",
       "       'Adventure|Drama|Thriller|War', 'Comedy|Drama|Horror|Sci-Fi',\n",
       "       'Adventure|Crime|Thriller', 'Mystery|Romance|Sci-Fi|Thriller',\n",
       "       'Fantasy|Mystery|Thriller',\n",
       "       'Adventure|Crime|Drama|Mystery|Thriller',\n",
       "       'Drama|Fantasy|Music|Romance', 'Adventure|Drama|History|War',\n",
       "       'Family|Sci-Fi', 'Adventure|Comedy|Music|Sci-Fi',\n",
       "       'Drama|Family|Musical', 'Action|Comedy|Drama|Music',\n",
       "       'Fantasy|Horror|Sci-Fi', 'Western', 'Comedy|Romance|Thriller',\n",
       "       'Biography|Crime|Drama|Romance',\n",
       "       'Adventure|Comedy|Drama|Romance|Sci-Fi',\n",
       "       'Drama|Music|Mystery|Romance', 'Action|Crime|Drama',\n",
       "       'Adventure|Biography|Drama|War', 'Action|Comedy|Drama',\n",
       "       'Comedy|Drama|Horror|Romance', 'Comedy|Crime|Drama|Mystery',\n",
       "       'Adventure|Animation|Fantasy|Horror|Sci-Fi',\n",
       "       'Biography|Comedy|Drama|Family|Romance',\n",
       "       'Action|Biography|Drama|History|Romance|War',\n",
       "       'Action|Animation|Fantasy|Horror|Mystery|Sci-Fi|Thriller',\n",
       "       'Horror|Musical|Sci-Fi', 'Biography|Drama|Family|Musical|Romance',\n",
       "       'Comedy|Crime|Drama|Romance|Thriller',\n",
       "       'Animation|Comedy|Drama|Romance', 'Comedy|Crime|Musical|Romance',\n",
       "       'Comedy|Crime|Musical|Mystery', 'Action|Animation|Sci-Fi',\n",
       "       'Drama|Romance|Sci-Fi|Thriller', 'Animation|Biography|Drama|War',\n",
       "       'Adventure|Fantasy|Thriller', 'Crime|Horror',\n",
       "       'Adventure|Biography|Drama|History',\n",
       "       'Action|Crime|Horror|Sci-Fi|Thriller',\n",
       "       'Comedy|Fantasy|Horror|Mystery', 'Drama|Mystery|War',\n",
       "       'Action|Comedy|Crime|Drama|Romance|Thriller',\n",
       "       'Comedy|Drama|Musical', 'Mystery|Romance|Thriller',\n",
       "       'Adventure|Comedy|Drama|Family', 'Action|Adventure|Drama|Western',\n",
       "       'Musical|Romance', 'Documentary|Drama|War',\n",
       "       'Biography|Crime|Drama|Western', 'Comedy|Family|Fantasy|Musical',\n",
       "       'Crime|Drama|Musical|Romance|Thriller',\n",
       "       'Fantasy|Horror|Romance|Thriller',\n",
       "       'Adventure|Crime|Drama|Thriller', 'Documentary', 'Thriller|War',\n",
       "       'Action|Sport', 'Musical', 'Mystery|Western',\n",
       "       'Comedy|Drama|History|Romance', 'Comedy|Horror|Sci-Fi|Thriller',\n",
       "       'Drama|Horror|Mystery|Sci-Fi|Thriller', 'Comedy|Documentary',\n",
       "       'Adventure|Drama|Family|Fantasy|Sci-Fi',\n",
       "       'Adventure|Drama|Family|Romance|Western', 'Adventure|Horror',\n",
       "       'Comedy|Music|Sci-Fi', 'Biography|Crime|Drama|Romance|Thriller',\n",
       "       'Comedy|Crime|Drama|Mystery|Thriller',\n",
       "       'Biography|Crime|Drama|Mystery|Thriller',\n",
       "       'Crime|Horror|Music|Thriller', 'Crime|Documentary|War',\n",
       "       'Crime|Thriller|War', 'Comedy|Crime|Horror|Thriller',\n",
       "       'Animation|Comedy', 'Animation|Family', 'Comedy|Drama|Romance|War',\n",
       "       'Biography|Drama|Romance|Western', 'Drama|Musical',\n",
       "       'Adventure|Comedy|Western', 'Fantasy|Thriller',\n",
       "       'Drama|Horror|Mystery', 'Adventure|Drama|History|Thriller|War',\n",
       "       'Comedy|Documentary|Drama|Fantasy|Mystery|Sci-Fi',\n",
       "       'Crime|Drama|Fantasy|Romance', 'Action|Crime|Horror|Thriller',\n",
       "       'Comedy|Horror|Mystery', 'Drama|Family|History|Musical',\n",
       "       'Adventure|Biography|Drama|Romance', 'Adventure|War|Western',\n",
       "       'Biography|Comedy|Musical|Romance|Western',\n",
       "       'Adventure|Comedy|Musical|Romance', 'Comedy|Drama|Romance|Western',\n",
       "       'Action|Adventure|Comedy|Musical', 'Comedy|Drama|Fantasy|Horror',\n",
       "       'Action|Animation|Crime|Sci-Fi|Thriller',\n",
       "       'Action|Comedy|Horror|Thriller', 'Crime|Documentary|Drama',\n",
       "       'Biography|Comedy|Documentary', 'Comedy|Thriller',\n",
       "       'Comedy|Documentary|Music', 'Action|Adventure|Romance|Western',\n",
       "       'Crime|Drama|History|Romance', 'Family|Fantasy|Musical',\n",
       "       'Comedy|Drama|Horror', 'Drama|Horror|Romance',\n",
       "       'Action|Adventure|Crime|Drama', 'Adventure|Family|Sport',\n",
       "       'Action|Adventure|Animation|Comedy|Sci-Fi',\n",
       "       'Drama|Fantasy|Romance|War', 'Documentary|History|Sport',\n",
       "       'Comedy|Crime|Drama|Sci-Fi', 'Comedy|Documentary|War',\n",
       "       'Action|Comedy|Horror|Sci-Fi', 'Adventure|Drama|Romance|Western',\n",
       "       'Animation|Comedy|Drama', 'Adventure|Documentary|Drama|Sport',\n",
       "       'Crime|Documentary',\n",
       "       'Animation|Biography|Documentary|Drama|History|War',\n",
       "       'Documentary|History', 'Biography|Documentary|History',\n",
       "       'Action|Adventure|Comedy|Drama|Music|Sci-Fi',\n",
       "       'Biography|Comedy|Drama|Music', 'Animation|Comedy|Family|Romance',\n",
       "       'Horror|Romance|Sci-Fi', 'Action|Comedy|Fantasy|Horror',\n",
       "       'Crime|Drama|Horror|Mystery|Thriller',\n",
       "       'Crime|Drama|Film-Noir|Mystery|Thriller',\n",
       "       'Comedy|Fantasy|Musical|Sci-Fi',\n",
       "       'Action|Adventure|History|Western',\n",
       "       'Biography|Crime|Documentary|History|Thriller',\n",
       "       'Film-Noir|Mystery|Romance|Thriller',\n",
       "       'Comedy|Crime|Sci-Fi|Thriller', 'Documentary|War',\n",
       "       'Adventure|Comedy|Horror', 'Drama|Film-Noir|Mystery|Thriller',\n",
       "       'Drama|Film-Noir', 'Crime|Film-Noir|Thriller',\n",
       "       'Action|Adventure|Romance|War', 'Action|Horror|Mystery|Thriller',\n",
       "       'Adventure|Comedy|Sport', 'Action|Drama|Horror|Thriller',\n",
       "       'Adventure|Comedy|History', 'Action|Drama|Romance|War',\n",
       "       'Biography|Documentary|Music', 'Comedy|Fantasy|Mystery',\n",
       "       'Biography|Crime|Documentary|History', 'Documentary|Sport',\n",
       "       'Adventure|Biography|Documentary|Drama',\n",
       "       'Action|Adventure|Comedy|Fantasy|Sci-Fi',\n",
       "       'Comedy|Fantasy|Thriller', 'Animation|Drama|Family',\n",
       "       'Drama|Fantasy|Sci-Fi', 'Action|Adventure|Drama|War',\n",
       "       'Action|Adventure|Animation|Comedy|Fantasy|Sci-Fi',\n",
       "       'Thriller|Western', 'Documentary|Drama|Sport',\n",
       "       'Documentary|History|Music', 'Adventure|Family|Romance',\n",
       "       'Adventure|Biography|Drama|Horror|Thriller',\n",
       "       'Documentary|Family|Music', 'Biography|Documentary|Sport',\n",
       "       'Action|Romance|Sport', 'Comedy|Horror|Musical',\n",
       "       'Biography|Documentary', 'Action|Fantasy|Horror|Mystery|Thriller',\n",
       "       'Action|Comedy|Sci-Fi|Sport',\n",
       "       'Action|Adventure|Mystery|Romance|Thriller',\n",
       "       'Animation|Comedy|Drama|Fantasy|Sci-Fi', 'Adventure|Horror|Sci-Fi',\n",
       "       'Comedy|Drama|History|Musical|Romance',\n",
       "       'Drama|Music|Mystery|Romance|Sci-Fi',\n",
       "       'Comedy|Crime|Drama|Horror|Thriller', 'Comedy|Documentary|Drama',\n",
       "       'Comedy|Crime|Horror'], dtype=object)"
      ]
     },
     "execution_count": 115,
     "metadata": {},
     "output_type": "execute_result"
    }
   ],
   "source": [
    "df_train['genres'].unique()"
   ]
  },
  {
   "cell_type": "markdown",
   "metadata": {},
   "source": [
    "The different genres are separated with a '|', let's create a unique list of genres"
   ]
  },
  {
   "cell_type": "code",
   "execution_count": 116,
   "metadata": {},
   "outputs": [],
   "source": [
    "import operator\n",
    "# Create 'genres' list\n",
    "genres = []\n",
    "for elem in df_train['genres'].str.split('|').values:\n",
    "    for val in [val for val in elem if val not in genres]:\n",
    "        genres.append(val)"
   ]
  },
  {
   "cell_type": "markdown",
   "metadata": {},
   "source": [
    "Let's analyse the number of each occurences of genres"
   ]
  },
  {
   "cell_type": "code",
   "execution_count": 117,
   "metadata": {},
   "outputs": [
    {
     "name": "stdout",
     "output_type": "stream",
     "text": [
      "[('Drama', 2338), ('Comedy', 1737), ('Thriller', 1310), ('Action', 1085), ('Romance', 1033), ('Adventure', 880), ('Crime', 822), ('Sci-Fi', 578), ('Fantasy', 573), ('Horror', 515), ('Family', 508), ('Mystery', 454), ('Biography', 278), ('Animation', 226), ('Music', 199), ('War', 192), ('History', 188), ('Sport', 179), ('Musical', 122), ('Western', 86), ('Documentary', 75), ('Film-Noir', 5), ('News', 1)]\n"
     ]
    }
   ],
   "source": [
    "genres_occurences = dict.fromkeys(genres, 0)\n",
    "for elem in df_train['genres'].str.split('|'):\n",
    "    for val in [val for val in elem if val in genres]:\n",
    "            genres_occurences[val] += 1\n",
    "# Sort descending order\n",
    "genres_occurences = sorted(genres_occurences.items(), key=operator.itemgetter(1), reverse=True)\n",
    "print(genres_occurences)"
   ]
  },
  {
   "cell_type": "code",
   "execution_count": 118,
   "metadata": {},
   "outputs": [
    {
     "data": {
      "text/plain": [
       "Text(0, 0.5, '')"
      ]
     },
     "execution_count": 118,
     "metadata": {},
     "output_type": "execute_result"
    },
    {
     "data": {
      "image/png": "[encoded data removed]",
      "text/plain": [
       "<Figure size 432x288 with 1 Axes>"
      ]
     },
     "metadata": {
      "needs_background": "light"
     },
     "output_type": "display_data"
    }
   ],
   "source": [
    "y = []\n",
    "x = []\n",
    "for var in genres_occurences:\n",
    "    y.append(var[0])\n",
    "    x.append(var[1])\n",
    "\n",
    "my_df = pd.DataFrame({'occurences': x, 'index': y})\n",
    "my_df = my_df.sort_values('occurences')\n",
    "ax = sns.barplot(x='occurences', y=\"index\", data=my_df)\n",
    "\n",
    "ax.set_xlabel('Number of occurences')\n",
    "ax.set_ylabel('')"
   ]
  },
  {
   "cell_type": "markdown",
   "metadata": {},
   "source": [
    "Most of movies are with the genre 'Drama', 'Comedy'.\n",
    "'News' and 'Film-Noir' are with the lowest quantity\n",
    "Let's create new features based on each genre labels."
   ]
  },
  {
   "cell_type": "code",
   "execution_count": 119,
   "metadata": {},
   "outputs": [],
   "source": [
    "for genre in genres:\n",
    "    df_train[genre] = df_train.apply(lambda row: binary_encode_var(row, 'genres', genre), axis=1)"
   ]
  },
  {
   "cell_type": "code",
   "execution_count": 120,
   "metadata": {},
   "outputs": [],
   "source": [
    "df_train.drop('genres', inplace=True, axis=1)"
   ]
  },
  {
   "cell_type": "markdown",
   "metadata": {},
   "source": [
    "### 1.2.7 encoding remaining categorical variables (except movie_title)"
   ]
  },
  {
   "cell_type": "markdown",
   "metadata": {},
   "source": [
    "In order to facilitate elaboration of movie engine, I propose to encode categorical variables in order to get a full dataset with numeric values except movie_title."
   ]
  },
  {
   "cell_type": "code",
   "execution_count": 121,
   "metadata": {},
   "outputs": [
    {
     "data": {
      "text/plain": [
       "Index(['color', 'director_name', 'actor_2_name', 'actor_1_name', 'movie_title',\n",
       "       'actor_3_name', 'country', 'content_rating'],\n",
       "      dtype='object')"
      ]
     },
     "execution_count": 121,
     "metadata": {},
     "output_type": "execute_result"
    }
   ],
   "source": [
    "categorical_variables = df_train.select_dtypes(include=['object']).columns\n",
    "categorical_variables"
   ]
  },
  {
   "cell_type": "code",
   "execution_count": 122,
   "metadata": {},
   "outputs": [],
   "source": [
    "from sklearn import preprocessing\n",
    "\n",
    "for var in categorical_variables:\n",
    "    if (var != 'movie_title'):\n",
    "        le = preprocessing.LabelEncoder()\n",
    "        le.fit(df_train[var].unique())\n",
    "        df_train[var] = le.transform(df_train[var])"
   ]
  },
  {
   "cell_type": "markdown",
   "metadata": {},
   "source": [
    "### 1.2.8 Movie title"
   ]
  },
  {
   "cell_type": "markdown",
   "metadata": {},
   "source": [
    "Let's analyse 'movie_title' variable"
   ]
  },
  {
   "cell_type": "code",
   "execution_count": 123,
   "metadata": {
    "scrolled": true
   },
   "outputs": [
    {
     "data": {
      "text/plain": [
       "array(['Avatar\\xa0', \"Pirates of the Caribbean: At World's End\\xa0\",\n",
       "       'Spectre\\xa0', ..., 'The Mongol King\\xa0', 'Newlyweds\\xa0',\n",
       "       'My Date with Drew\\xa0'], dtype=object)"
      ]
     },
     "execution_count": 123,
     "metadata": {},
     "output_type": "execute_result"
    }
   ],
   "source": [
    "df_train['movie_title'].unique()"
   ]
  },
  {
   "cell_type": "markdown",
   "metadata": {},
   "source": [
    "Let's remove the trailing caracters"
   ]
  },
  {
   "cell_type": "code",
   "execution_count": 124,
   "metadata": {},
   "outputs": [],
   "source": [
    "df_train['movie_title'].replace(regex=True,inplace=True,to_replace=r'\\xc2\\xa0',value=r'')"
   ]
  },
  {
   "cell_type": "code",
   "execution_count": 125,
   "metadata": {},
   "outputs": [
    {
     "data": {
      "text/plain": [
       "count     4581\n",
       "unique    4462\n",
       "top       Pan \n",
       "freq         3\n",
       "Name: movie_title, dtype: object"
      ]
     },
     "execution_count": 125,
     "metadata": {},
     "output_type": "execute_result"
    }
   ],
   "source": [
    "df_train['movie_title'].describe()"
   ]
  },
  {
   "cell_type": "markdown",
   "metadata": {},
   "source": [
    "We can see there are duplicated variables, let's remove them"
   ]
  },
  {
   "cell_type": "code",
   "execution_count": 126,
   "metadata": {},
   "outputs": [],
   "source": [
    "df_train.drop_duplicates('movie_title', inplace=True)"
   ]
  },
  {
   "cell_type": "markdown",
   "metadata": {},
   "source": [
    "### 1.2.9 Reset index"
   ]
  },
  {
   "cell_type": "code",
   "execution_count": 127,
   "metadata": {},
   "outputs": [],
   "source": [
    "df_train = df_train.reset_index(drop=True)"
   ]
  },
  {
   "cell_type": "markdown",
   "metadata": {},
   "source": [
    "## 1.3 Correlation view"
   ]
  },
  {
   "cell_type": "code",
   "execution_count": 128,
   "metadata": {
    "scrolled": true
   },
   "outputs": [
    {
     "data": {
      "image/png": "[encoded data removed]",
      "text/plain": [
       "<Figure size 720x720 with 2 Axes>"
      ]
     },
     "metadata": {
      "needs_background": "light"
     },
     "output_type": "display_data"
    }
   ],
   "source": [
    "#correlation matrix removing id/title\n",
    "corrmat = df_train.corr()\n",
    "f, ax = plt.subplots(figsize=(10,10))\n",
    "sns.heatmap(corrmat, vmax=0.2, square=True);"
   ]
  },
  {
   "cell_type": "markdown",
   "metadata": {},
   "source": [
    "# 1.4 Modelizations"
   ]
  },
  {
   "cell_type": "markdown",
   "metadata": {},
   "source": [
    "Let's start by standardize all variables (except ** movie_title ** that stays a categorize variable)"
   ]
  },
  {
   "cell_type": "code",
   "execution_count": 129,
   "metadata": {},
   "outputs": [],
   "source": [
    "# Normalize only numeric column\n",
    "numerics = ['int16', 'int32', 'int64', 'float16', 'float32', 'float64']\n",
    "num_selection = df_train.select_dtypes(include=numerics).columns"
   ]
  },
  {
   "cell_type": "code",
   "execution_count": 135,
   "metadata": {},
   "outputs": [],
   "source": [
    "X_norm=preprocessing.scale(df_train[num_selection])"
   ]
  },
  {
   "cell_type": "code",
   "execution_count": 140,
   "metadata": {},
   "outputs": [],
   "source": [
    "scaler = preprocessing.StandardScaler().fit(df_train[num_selection])\n",
    "X_scaled = scaler.transform(df_train[num_selection])"
   ]
  },
  {
   "cell_type": "markdown",
   "metadata": {},
   "source": [
    "### 1.4.1 Clustering"
   ]
  },
  {
   "cell_type": "markdown",
   "metadata": {},
   "source": [
    "Let's try to separate datasets into several clusters observing silouhette score."
   ]
  },
  {
   "cell_type": "markdown",
   "metadata": {},
   "source": [
    "#### 1.4.1 Principal Component Analysis"
   ]
  },
  {
   "cell_type": "markdown",
   "metadata": {},
   "source": [
    "Let's analyse the 4 clusters using PCA."
   ]
  },
  {
   "cell_type": "code",
   "execution_count": 141,
   "metadata": {
    "scrolled": false
   },
   "outputs": [
    {
     "data": {
      "image/png": "[encoded data removed]",
      "text/plain": [
       "<Figure size 432x288 with 1 Axes>"
      ]
     },
     "metadata": {
      "needs_background": "light"
     },
     "output_type": "display_data"
    }
   ],
   "source": [
    "from sklearn import decomposition\n",
    "pca = decomposition.PCA().fit(X_scaled) \n",
    "plt.plot(np.cumsum(pca.explained_variance_ratio_)) \n",
    "plt.show()\n",
    "X_trans = pca.transform(X_scaled)"
   ]
  },
  {
   "cell_type": "code",
   "execution_count": 142,
   "metadata": {},
   "outputs": [
    {
     "name": "stdout",
     "output_type": "stream",
     "text": [
      "0.8335417395586956\n"
     ]
    }
   ],
   "source": [
    "variance_sum = 0\n",
    "for i in range(30):\n",
    "    variance_sum += pca.explained_variance_ratio_[i]\n",
    "print(variance_sum)"
   ]
  },
  {
   "cell_type": "markdown",
   "metadata": {},
   "source": [
    "The **30** first component explains more than 84% of the variance\n",
    "Let's visualize the data projected on the two first dimension dimension of PCA."
   ]
  },
  {
   "cell_type": "code",
   "execution_count": 146,
   "metadata": {},
   "outputs": [],
   "source": [
    "pca = decomposition.PCA(n_components=30).fit(X_scaled) \n",
    "X_trans = pca.transform(X_scaled)"
   ]
  },
  {
   "cell_type": "markdown",
   "metadata": {},
   "source": [
    "#### 1.4.2 Kmeans"
   ]
  },
  {
   "cell_type": "code",
   "execution_count": 160,
   "metadata": {
    "scrolled": false
   },
   "outputs": [
    {
     "data": {
      "text/plain": [
       "[<matplotlib.lines.Line2D at 0x7f6100725320>]"
      ]
     },
     "execution_count": 160,
     "metadata": {},
     "output_type": "execute_result"
    },
    {
     "data": {
      "image/png": "[encoded data removed]",
      "text/plain": [
       "<Figure size 432x288 with 1 Axes>"
      ]
     },
     "metadata": {
      "needs_background": "light"
     },
     "output_type": "display_data"
    }
   ],
   "source": [
    "from sklearn import cluster, metrics\n",
    "from sklearn import preprocessing\n",
    "silhouettes = []\n",
    "for num_clusters in range(2, 10):\n",
    "    cls = cluster.KMeans(n_clusters=num_clusters, n_init=1, init='random', random_state=10)\n",
    "    labels = cls.fit_predict(X_trans)\n",
    "    silh = metrics.silhouette_score(X_trans, labels)\n",
    "    silhouettes.append(silh)\n",
    "plt.plot(range(2,10), silhouettes, marker='o')"
   ]
  },
  {
   "cell_type": "markdown",
   "metadata": {},
   "source": [
    "We can select 3 clusters, silhouette is maximum in that case. We also observe that the silhouette score is really small indicating risk of overlapping in the clusters."
   ]
  },
  {
   "cell_type": "code",
   "execution_count": 182,
   "metadata": {},
   "outputs": [
    {
     "data": {
      "image/png": "[encoded data removed]",
      "text/plain": [
       "<Figure size 864x360 with 1 Axes>"
      ]
     },
     "metadata": {
      "needs_background": "light"
     },
     "output_type": "display_data"
    }
   ],
   "source": [
    "from sklearn.pipeline import Pipeline\n",
    "scaler = preprocessing.StandardScaler()\n",
    "pca = decomposition.PCA(n_components=30)\n",
    "kmeans = cluster.KMeans(n_clusters=4, n_init=1, init='random', random_state=10)\n",
    "\n",
    "X = df_train[num_selection]\n",
    "pipe = [\n",
    "        ('scaler', scaler),\n",
    "        ('pca', pca),\n",
    "        ('kmeans', kmeans)\n",
    "]\n",
    "\n",
    "pipe = Pipeline(pipe)\n",
    "pipe.fit(X)\n",
    "\n",
    "X_scaled = pipe.named_steps['scaler'].transform(X)\n",
    "X_trans = pipe.named_steps['pca'].transform(X_scaled)\n",
    "labels = pipe.fit_predict(X)\n",
    "centers = pipe.named_steps['kmeans'].cluster_centers_\n",
    "\n",
    "fig = plt.figure(figsize=(12,5))\n",
    "ax = fig.add_subplot(121)\n",
    "# Force cluster color\n",
    "LABEL_COLOR_MAP = {0 : 'r',1 : 'g',2 : 'b', 3: 'y'}\n",
    "label_color = [LABEL_COLOR_MAP[l] for l in labels]\n",
    "ax.scatter(X_trans[:,0], X_trans[:,1], c=label_color)\n",
    "# Plot cluster center\n",
    "for i, center in enumerate(centers):\n",
    "    plt.scatter(center[0], center[1], marker='${}$'.format(i), alpha=1, s=50, edgecolor='k')"
   ]
  },
  {
   "cell_type": "markdown",
   "metadata": {},
   "source": [
    "The 4 clusters are not clearly separated."
   ]
  },
  {
   "cell_type": "markdown",
   "metadata": {},
   "source": [
    "Let's quantify the correspondance between each column of the dataset and the labels of the cluster using the adjusted rand score."
   ]
  },
  {
   "cell_type": "code",
   "execution_count": 183,
   "metadata": {
    "scrolled": true
   },
   "outputs": [
    {
     "data": {
      "text/plain": [
       "Text(0, 0.5, '')"
      ]
     },
     "execution_count": 183,
     "metadata": {},
     "output_type": "execute_result"
    },
    {
     "data": {
      "image/png": "[encoded data removed]",
      "text/plain": [
       "<Figure size 1440x720 with 1 Axes>"
      ]
     },
     "metadata": {
      "needs_background": "light"
     },
     "output_type": "display_data"
    }
   ],
   "source": [
    "x = num_selection\n",
    "y = [metrics.adjusted_rand_score(df_train[sel], labels) for sel in x]\n",
    "\n",
    "\n",
    "fig = plt.figure(figsize=(20,10)) \n",
    "my_df = pd.DataFrame({'score': y, 'index': x})\n",
    "my_df = my_df.sort_values('score')\n",
    "ax = sns.barplot(x='score', y=\"index\", data=my_df)\n",
    "\n",
    "ax.set_xlabel('Score')\n",
    "ax.set_ylabel('')"
   ]
  },
  {
   "cell_type": "markdown",
   "metadata": {},
   "source": [
    "The 'Thriller' has the biggest adjusted rand score, but the score is not really high. We don't have really distinguable cluster. Let's work on movie engine."
   ]
  },
  {
   "cell_type": "markdown",
   "metadata": {},
   "source": [
    "# 2. Movie Engine"
   ]
  },
  {
   "cell_type": "markdown",
   "metadata": {},
   "source": [
    "The principe that I choose for the movie engine is the **content-based filtering**.\n",
    "I will use:\n",
    "- Notes: num_voted_users, num_user_for_reviews et imdb_score.\n",
    "- Characters selection: actors and director names\n",
    "- Genre selection\n",
    "- Other selection as color and language\n",
    "I declare the variable **criteria_selection**"
   ]
  },
  {
   "cell_type": "code",
   "execution_count": 221,
   "metadata": {},
   "outputs": [],
   "source": [
    "criteria_selection = ['color', 'director_name','actor_2_name', 'actor_1_name', 'actor_3_name',\n",
    "                      'content_rating', 'budget', 'title_year', 'imdb_score', 'english_lang', 'french_lang', 'spanish_lang',\n",
    "                      'other_lang', 'Action', 'Adventure', 'Fantasy', 'Sci-Fi', 'Thriller', 'Romance', 'Animation', 'Comedy', \n",
    "                      'Family', 'Musical', 'Mystery', 'Western', 'Drama', 'History', 'Sport', 'Crime', 'Horror', 'War', 'Biography', \n",
    "                      'Music', 'Documentary', 'Film-Noir']\n",
    "df = df_train[criteria_selection].copy(deep=True)"
   ]
  },
  {
   "cell_type": "code",
   "execution_count": 222,
   "metadata": {},
   "outputs": [],
   "source": [
    "df['movie_title'] = df_train['movie_title']"
   ]
  },
  {
   "cell_type": "markdown",
   "metadata": {},
   "source": [
    "## 2.2 Different ponderations"
   ]
  },
  {
   "cell_type": "markdown",
   "metadata": {},
   "source": [
    "** Function returning default ponderation**: all the variables have the same priority"
   ]
  },
  {
   "cell_type": "code",
   "execution_count": 185,
   "metadata": {},
   "outputs": [],
   "source": [
    "def get_default_weights():\n",
    "    #        ['color','director_name', 'duration', 'actor_2_name', 'actor_1_name', 'actor_3_name', 'country', \n",
    "    return   [ 1, 1, 1, 1, 1, 1, 1,\n",
    "    #        'content_rating', 'budget', 'title_year', 'imdb_score', 'english_lang', 'french_lang', 'spanish_lang',\n",
    "              1, 1, 1, 1, 1, 1, 1,\n",
    "    #        'other_lang', 'Action', 'Adventure', 'Fantasy', 'Sci-Fi', 'Thriller', 'Romance', 'Animation', 'Comedy', \n",
    "              1, 1, 1, 1, 1, 1, 1, 1, 1,\n",
    "    #        'Family', 'Musical', 'Mystery', 'Western', 'Drama', 'History', 'Sport', 'Crime', 'Horror', 'War', 'Biography', \n",
    "              1, 1, 1, 1, 1, 1, 1, 1, 1, 1, 1,\n",
    "    #        'Music', 'Documentary', 'Film-Noir']\n",
    "              1, 1, 1]"
   ]
  },
  {
   "cell_type": "markdown",
   "metadata": {},
   "source": [
    "** Function returning ponderation selection 1**: highest ponderation for genres and consider only color, actor_1_name, country and languages as key features."
   ]
  },
  {
   "cell_type": "code",
   "execution_count": 186,
   "metadata": {},
   "outputs": [],
   "source": [
    "def get_pond1_weights():\n",
    "    #        ['color','director_name', 'duration', 'actor_2_name', 'actor_1_name', 'actor_3_name', 'country', \n",
    "    return   [ 1, 0, 0, 0, 1, 0, 1,\n",
    "    #        'content_rating', 'budget', 'title_year', 'imdb_score', 'english_lang', 'french_lang', 'spanish_lang',\n",
    "              0, 0, 0, 0, 1, 1, 1,\n",
    "    #        'other_lang', 'Action', 'Adventure', 'Fantasy', 'Sci-Fi', 'Thriller', 'Romance', 'Animation', 'Comedy', \n",
    "              1, 1, 1, 1, 1, 1, 1, 1, 1,\n",
    "    #        'Family', 'Musical', 'Mystery', 'Western', 'Drama', 'History', 'Sport', 'Crime', 'Horror', 'War', 'Biography', \n",
    "              1, 1, 1, 1, 1, 1, 1, 1, 1, 1, 1,\n",
    "    #        'Music', 'Documentary', 'Film-Noir']\n",
    "              1, 1, 1]"
   ]
  },
  {
   "cell_type": "markdown",
   "metadata": {},
   "source": [
    "## 2.3 Movie engine core"
   ]
  },
  {
   "cell_type": "markdown",
   "metadata": {},
   "source": [
    "** Function of ponderation**: input **x** is ponderated by **matrix** through **array_selection**."
   ]
  },
  {
   "cell_type": "code",
   "execution_count": 187,
   "metadata": {},
   "outputs": [],
   "source": [
    "def ponderate(x, matrix, array_selection):\n",
    "    z = np.copy(x)\n",
    "    for i in range(len(array_selection)):\n",
    "        z[:,i] *= matrix[i]\n",
    "    return z"
   ]
  },
  {
   "cell_type": "markdown",
   "metadata": {},
   "source": [
    "**Function of similarity**: two titles are compared, it returns true if both are closed"
   ]
  },
  {
   "cell_type": "code",
   "execution_count": 188,
   "metadata": {},
   "outputs": [],
   "source": [
    "from difflib import SequenceMatcher\n",
    "\n",
    "def similar(a, b):\n",
    "    return SequenceMatcher(None, a, b).ratio()\n",
    "\n",
    "def sequel(movie_title_1, movie_title_2):\n",
    "    if (similar(movie_title_1, movie_title_2) > 0.6):\n",
    "        return True\n",
    "    else:\n",
    "        return False"
   ]
  },
  {
   "cell_type": "markdown",
   "metadata": {},
   "source": [
    "**Function of index**: return index of movie title in the dataframe **df**"
   ]
  },
  {
   "cell_type": "code",
   "execution_count": 215,
   "metadata": {},
   "outputs": [],
   "source": [
    "def find_entry(df, title):\n",
    "    index =  df[df.movie_title == title].index\n",
    "    if (len(index) == 0):\n",
    "        return -1\n",
    "    else:\n",
    "        return index[0]"
   ]
  },
  {
   "cell_type": "markdown",
   "metadata": {},
   "source": [
    "**Function of recommendation**: return first twentiest movie title closer to the **id_entry** movie"
   ]
  },
  {
   "cell_type": "code",
   "execution_count": 190,
   "metadata": {},
   "outputs": [],
   "source": [
    "from sklearn.neighbors import NearestNeighbors\n",
    "def recommend(x, df, id_entry):\n",
    "    nbrs = NearestNeighbors(n_neighbors=20, algorithm='auto', metric='euclidean').fit(x)\n",
    "    X_test = x[id_entry,:]\n",
    "    X_test = X_test.reshape(1, -1)\n",
    "    distances, indices = nbrs.kneighbors(X_test)\n",
    "    list_films = []\n",
    "    # Remove first element as it's the title...\n",
    "    for i in range(1, 20):\n",
    "        list_films.append(df.get_value(indices[0][i], 'movie_title'))\n",
    "    return list_films"
   ]
  },
  {
   "cell_type": "markdown",
   "metadata": {},
   "source": [
    "**Function of sequel deletion**: remove all film that are too closed"
   ]
  },
  {
   "cell_type": "code",
   "execution_count": 191,
   "metadata": {},
   "outputs": [],
   "source": [
    "def del_sequels(film_list):  \n",
    "    # First element is considered with highest priority\n",
    "    keeped = []\n",
    "    removed = []\n",
    "    for film_1 in enumerate(film_list):\n",
    "        keeped.append(film_1[1])\n",
    "        for film_2 in enumerate(film_list):\n",
    "            if (film_1[1] != film_2[1]):\n",
    "                if sequel(film_1[1], film_2[1]) and (not film_2[1] in keeped): \n",
    "                    last_film = film_2[1]\n",
    "                    removed.append(last_film)\n",
    "\n",
    "    film_list = [film for film in film_list if film not in removed]\n",
    "\n",
    "    return film_list "
   ]
  },
  {
   "cell_type": "markdown",
   "metadata": {},
   "source": [
    "**Function of movie engine**: entry point for the movie engine"
   ]
  },
  {
   "cell_type": "code",
   "execution_count": 192,
   "metadata": {},
   "outputs": [],
   "source": [
    "def movie_engine(df, title, x, weights, remove_sequel):\n",
    "    index = find_entry(df, title)\n",
    "    X_norm_ponderate = ponderate(x, weights, criteria_selection)\n",
    "    film_selection = recommend(X_norm_ponderate, df, index)\n",
    "    if remove_sequel:\n",
    "        film_selection = remove_sequels(film_selection)\n",
    "    return [dict(id=find_entry(df, film), name=film) for film in film_selection[:5]]"
   ]
  },
  {
   "cell_type": "markdown",
   "metadata": {},
   "source": [
    "Let's start by normalize input dataframe."
   ]
  },
  {
   "cell_type": "code",
   "execution_count": 231,
   "metadata": {},
   "outputs": [],
   "source": [
    "col = list(df.columns)\n",
    "col.pop()\n",
    "X_norm = preprocessing.scale(df[col])"
   ]
  },
  {
   "cell_type": "markdown",
   "metadata": {},
   "source": [
    "### Test on 'Star Wars: Episode III - Revenge of the Sith'"
   ]
  },
  {
   "cell_type": "markdown",
   "metadata": {},
   "source": [
    "Fantasy movie with sequel from 2005"
   ]
  },
  {
   "cell_type": "code",
   "execution_count": 232,
   "metadata": {},
   "outputs": [
    {
     "data": {
      "text/html": [
       "<div>\n",
       "<style scoped>\n",
       "    .dataframe tbody tr th:only-of-type {\n",
       "        vertical-align: middle;\n",
       "    }\n",
       "\n",
       "    .dataframe tbody tr th {\n",
       "        vertical-align: top;\n",
       "    }\n",
       "\n",
       "    .dataframe thead th {\n",
       "        text-align: right;\n",
       "    }\n",
       "</style>\n",
       "<table border=\"1\" class=\"dataframe\">\n",
       "  <thead>\n",
       "    <tr style=\"text-align: right;\">\n",
       "      <th></th>\n",
       "      <th>Default</th>\n",
       "      <th>Ponderation1</th>\n",
       "    </tr>\n",
       "  </thead>\n",
       "  <tbody>\n",
       "    <tr>\n",
       "      <th>0</th>\n",
       "      <td>Star Wars: Episode II - Attack of the Clones</td>\n",
       "      <td>Star Wars: Episode II - Attack of the Clones</td>\n",
       "    </tr>\n",
       "    <tr>\n",
       "      <th>1</th>\n",
       "      <td>Star Wars: Episode I - The Phantom Menace</td>\n",
       "      <td>Star Wars: Episode I - The Phantom Menace</td>\n",
       "    </tr>\n",
       "    <tr>\n",
       "      <th>2</th>\n",
       "      <td>The Amazing Spider-Man 2</td>\n",
       "      <td>Star Wars: Episode VI - Return of the Jedi</td>\n",
       "    </tr>\n",
       "    <tr>\n",
       "      <th>3</th>\n",
       "      <td>X-Men 2</td>\n",
       "      <td>Man of Steel</td>\n",
       "    </tr>\n",
       "    <tr>\n",
       "      <th>4</th>\n",
       "      <td>Man of Steel</td>\n",
       "      <td>Star Wars: Episode IV - A New Hope</td>\n",
       "    </tr>\n",
       "  </tbody>\n",
       "</table>\n",
       "</div>"
      ],
      "text/plain": [
       "                                        Default  \\\n",
       "0  Star Wars: Episode II - Attack of the Clones   \n",
       "1     Star Wars: Episode I - The Phantom Menace   \n",
       "2                      The Amazing Spider-Man 2   \n",
       "3                                       X-Men 2   \n",
       "4                                  Man of Steel   \n",
       "\n",
       "                                   Ponderation1  \n",
       "0  Star Wars: Episode II - Attack of the Clones  \n",
       "1     Star Wars: Episode I - The Phantom Menace  \n",
       "2    Star Wars: Episode VI - Return of the Jedi  \n",
       "3                                  Man of Steel  \n",
       "4            Star Wars: Episode IV - A New Hope  "
      ]
     },
     "execution_count": 232,
     "metadata": {},
     "output_type": "execute_result"
    }
   ],
   "source": [
    "ret = movie_engine(df, 'Star Wars: Episode III - Revenge of the Sith', X_norm, get_default_weights(), False)\n",
    "default_result = [res['name'] for res in ret]\n",
    "ret = movie_engine(df, 'Star Wars: Episode III - Revenge of the Sith', X_norm, get_pond1_weights(), False)\n",
    "pond1_result = [res['name'] for res in ret]\n",
    "##_________________________________________________________________________________________________________________##\n",
    "my_df = pd.DataFrame({'Default': default_result, 'Ponderation1': pond1_result})\n",
    "my_df"
   ]
  },
  {
   "cell_type": "markdown",
   "metadata": {},
   "source": [
    "The ponderation 'pond1' looks better (we have 4 episodes of Star Wars).\n",
    "We can see that not all the films from Star Wars does not appears, as Natalie Portman appears only in episode I, II and III."
   ]
  },
  {
   "cell_type": "markdown",
   "metadata": {},
   "source": [
    "### Test on 'Closer'"
   ]
  },
  {
   "cell_type": "markdown",
   "metadata": {},
   "source": [
    "Dramatic movie from 2004"
   ]
  },
  {
   "cell_type": "code",
   "execution_count": 233,
   "metadata": {},
   "outputs": [
    {
     "data": {
      "text/html": [
       "<div>\n",
       "<style scoped>\n",
       "    .dataframe tbody tr th:only-of-type {\n",
       "        vertical-align: middle;\n",
       "    }\n",
       "\n",
       "    .dataframe tbody tr th {\n",
       "        vertical-align: top;\n",
       "    }\n",
       "\n",
       "    .dataframe thead th {\n",
       "        text-align: right;\n",
       "    }\n",
       "</style>\n",
       "<table border=\"1\" class=\"dataframe\">\n",
       "  <thead>\n",
       "    <tr style=\"text-align: right;\">\n",
       "      <th></th>\n",
       "      <th>Default</th>\n",
       "      <th>Ponderation1</th>\n",
       "    </tr>\n",
       "  </thead>\n",
       "  <tbody>\n",
       "    <tr>\n",
       "      <th>0</th>\n",
       "      <td>Mother and Child</td>\n",
       "      <td>The Best of Me</td>\n",
       "    </tr>\n",
       "    <tr>\n",
       "      <th>1</th>\n",
       "      <td>My Summer of Love</td>\n",
       "      <td>Up in the Air</td>\n",
       "    </tr>\n",
       "    <tr>\n",
       "      <th>2</th>\n",
       "      <td>The Heart of Me</td>\n",
       "      <td>Oscar and Lucinda</td>\n",
       "    </tr>\n",
       "    <tr>\n",
       "      <th>3</th>\n",
       "      <td>The End of the Affair</td>\n",
       "      <td>Vicky Cristina Barcelona</td>\n",
       "    </tr>\n",
       "    <tr>\n",
       "      <th>4</th>\n",
       "      <td>Revolutionary Road</td>\n",
       "      <td>Shopgirl</td>\n",
       "    </tr>\n",
       "  </tbody>\n",
       "</table>\n",
       "</div>"
      ],
      "text/plain": [
       "                 Default              Ponderation1\n",
       "0       Mother and Child            The Best of Me\n",
       "1      My Summer of Love             Up in the Air\n",
       "2        The Heart of Me         Oscar and Lucinda\n",
       "3  The End of the Affair  Vicky Cristina Barcelona\n",
       "4     Revolutionary Road                  Shopgirl"
      ]
     },
     "execution_count": 233,
     "metadata": {},
     "output_type": "execute_result"
    }
   ],
   "source": [
    "ret = movie_engine(df, 'Closer', X_norm, get_default_weights(), False)\n",
    "default_result = [res['name'] for res in ret]\n",
    "ret = movie_engine(df, 'Closer', X_norm, get_pond1_weights(), False)\n",
    "pond1_result = [res['name'] for res in ret]\n",
    "##_________________________________________________________________________________________________________________##\n",
    "my_df = pd.DataFrame({'Default': default_result, 'Ponderation1': pond1_result})\n",
    "my_df"
   ]
  },
  {
   "cell_type": "markdown",
   "metadata": {},
   "source": [
    "The ponderation 'default' seems to look better than 'ponderation1' as 'Shopgirl' is not a dramatic movie."
   ]
  },
  {
   "cell_type": "markdown",
   "metadata": {},
   "source": [
    "### Test on 'The Artist'"
   ]
  },
  {
   "cell_type": "markdown",
   "metadata": {},
   "source": [
    "Dramatic movie from 2011 in black and white color."
   ]
  },
  {
   "cell_type": "code",
   "execution_count": 234,
   "metadata": {
    "scrolled": true
   },
   "outputs": [
    {
     "data": {
      "text/html": [
       "<div>\n",
       "<style scoped>\n",
       "    .dataframe tbody tr th:only-of-type {\n",
       "        vertical-align: middle;\n",
       "    }\n",
       "\n",
       "    .dataframe tbody tr th {\n",
       "        vertical-align: top;\n",
       "    }\n",
       "\n",
       "    .dataframe thead th {\n",
       "        text-align: right;\n",
       "    }\n",
       "</style>\n",
       "<table border=\"1\" class=\"dataframe\">\n",
       "  <thead>\n",
       "    <tr style=\"text-align: right;\">\n",
       "      <th></th>\n",
       "      <th>Default</th>\n",
       "      <th>Ponderation1</th>\n",
       "    </tr>\n",
       "  </thead>\n",
       "  <tbody>\n",
       "    <tr>\n",
       "      <th>0</th>\n",
       "      <td>Frances Ha</td>\n",
       "      <td>The Apartment</td>\n",
       "    </tr>\n",
       "    <tr>\n",
       "      <th>1</th>\n",
       "      <td>Clerks II</td>\n",
       "      <td>You Can't Take It with You</td>\n",
       "    </tr>\n",
       "    <tr>\n",
       "      <th>2</th>\n",
       "      <td>Clerks</td>\n",
       "      <td>Nothing But a Man</td>\n",
       "    </tr>\n",
       "    <tr>\n",
       "      <th>3</th>\n",
       "      <td>Celebrity</td>\n",
       "      <td>Amélie</td>\n",
       "    </tr>\n",
       "    <tr>\n",
       "      <th>4</th>\n",
       "      <td>Barbershop 2: Back in Business</td>\n",
       "      <td>Gentleman's Agreement</td>\n",
       "    </tr>\n",
       "  </tbody>\n",
       "</table>\n",
       "</div>"
      ],
      "text/plain": [
       "                          Default                Ponderation1\n",
       "0                      Frances Ha               The Apartment\n",
       "1                       Clerks II  You Can't Take It with You\n",
       "2                          Clerks           Nothing But a Man\n",
       "3                       Celebrity                      Amélie\n",
       "4  Barbershop 2: Back in Business       Gentleman's Agreement"
      ]
     },
     "execution_count": 234,
     "metadata": {},
     "output_type": "execute_result"
    }
   ],
   "source": [
    "ret = movie_engine(df, 'The Artist', X_norm, get_default_weights(), False)\n",
    "default_result = [res['name'] for res in ret]\n",
    "ret = movie_engine(df, 'The Artist', X_norm, get_pond1_weights(), False)\n",
    "pond1_result = [res['name'] for res in ret]\n",
    "##_________________________________________________________________________________________________________________##\n",
    "my_df = pd.DataFrame({'Default': default_result, 'Ponderation1': pond1_result})\n",
    "my_df"
   ]
  },
  {
   "cell_type": "markdown",
   "metadata": {},
   "source": [
    "The ponderation 'pond1' looks better: all the movies are in black and white except 'Amélie'"
   ]
  },
  {
   "cell_type": "markdown",
   "metadata": {},
   "source": [
    "## 2.4 Error cases"
   ]
  },
  {
   "cell_type": "markdown",
   "metadata": {},
   "source": [
    "### Test on 'Psycho'"
   ]
  },
  {
   "cell_type": "markdown",
   "metadata": {},
   "source": [
    "Horror movie from 1960"
   ]
  },
  {
   "cell_type": "code",
   "execution_count": 235,
   "metadata": {
    "scrolled": false
   },
   "outputs": [
    {
     "data": {
      "text/html": [
       "<div>\n",
       "<style scoped>\n",
       "    .dataframe tbody tr th:only-of-type {\n",
       "        vertical-align: middle;\n",
       "    }\n",
       "\n",
       "    .dataframe tbody tr th {\n",
       "        vertical-align: top;\n",
       "    }\n",
       "\n",
       "    .dataframe thead th {\n",
       "        text-align: right;\n",
       "    }\n",
       "</style>\n",
       "<table border=\"1\" class=\"dataframe\">\n",
       "  <thead>\n",
       "    <tr style=\"text-align: right;\">\n",
       "      <th></th>\n",
       "      <th>Ponderation1</th>\n",
       "    </tr>\n",
       "  </thead>\n",
       "  <tbody>\n",
       "    <tr>\n",
       "      <th>0</th>\n",
       "      <td>The Skeleton Key</td>\n",
       "    </tr>\n",
       "    <tr>\n",
       "      <th>1</th>\n",
       "      <td>Memento</td>\n",
       "    </tr>\n",
       "    <tr>\n",
       "      <th>2</th>\n",
       "      <td>Night of the Living Dead</td>\n",
       "    </tr>\n",
       "    <tr>\n",
       "      <th>3</th>\n",
       "      <td>The Good German</td>\n",
       "    </tr>\n",
       "    <tr>\n",
       "      <th>4</th>\n",
       "      <td>Pi</td>\n",
       "    </tr>\n",
       "  </tbody>\n",
       "</table>\n",
       "</div>"
      ],
      "text/plain": [
       "               Ponderation1\n",
       "0          The Skeleton Key\n",
       "1                   Memento\n",
       "2  Night of the Living Dead\n",
       "3           The Good German\n",
       "4                        Pi"
      ]
     },
     "execution_count": 235,
     "metadata": {},
     "output_type": "execute_result"
    }
   ],
   "source": [
    "ret = movie_engine(df, 'Psycho', X_norm, get_pond1_weights(), False)\n",
    "pond1_result = [res['name'] for res in ret]\n",
    "##_________________________________________________________________________________________________________________##\n",
    "my_df = pd.DataFrame({'Ponderation1': pond1_result})\n",
    "my_df"
   ]
  },
  {
   "cell_type": "markdown",
   "metadata": {},
   "source": [
    "The ponderation 'pond1' looks failing:\n",
    "- 'Memento' is not horror movies. 'Night of the Living Dead' should be presented first."
   ]
  },
  {
   "cell_type": "markdown",
   "metadata": {},
   "source": [
    "### Test on 'Das Boot'"
   ]
  },
  {
   "cell_type": "markdown",
   "metadata": {},
   "source": [
    "German war movie from 1981"
   ]
  },
  {
   "cell_type": "code",
   "execution_count": 236,
   "metadata": {},
   "outputs": [
    {
     "data": {
      "text/html": [
       "<div>\n",
       "<style scoped>\n",
       "    .dataframe tbody tr th:only-of-type {\n",
       "        vertical-align: middle;\n",
       "    }\n",
       "\n",
       "    .dataframe tbody tr th {\n",
       "        vertical-align: top;\n",
       "    }\n",
       "\n",
       "    .dataframe thead th {\n",
       "        text-align: right;\n",
       "    }\n",
       "</style>\n",
       "<table border=\"1\" class=\"dataframe\">\n",
       "  <thead>\n",
       "    <tr style=\"text-align: right;\">\n",
       "      <th></th>\n",
       "      <th>Ponderation1</th>\n",
       "    </tr>\n",
       "  </thead>\n",
       "  <tbody>\n",
       "    <tr>\n",
       "      <th>0</th>\n",
       "      <td>Black Book</td>\n",
       "    </tr>\n",
       "    <tr>\n",
       "      <th>1</th>\n",
       "      <td>Tae Guk Gi: The Brotherhood of War</td>\n",
       "    </tr>\n",
       "    <tr>\n",
       "      <th>2</th>\n",
       "      <td>Earth</td>\n",
       "    </tr>\n",
       "    <tr>\n",
       "      <th>3</th>\n",
       "      <td>I Served the King of England</td>\n",
       "    </tr>\n",
       "    <tr>\n",
       "      <th>4</th>\n",
       "      <td>My Name Is Khan</td>\n",
       "    </tr>\n",
       "  </tbody>\n",
       "</table>\n",
       "</div>"
      ],
      "text/plain": [
       "                         Ponderation1\n",
       "0                          Black Book\n",
       "1  Tae Guk Gi: The Brotherhood of War\n",
       "2                               Earth\n",
       "3        I Served the King of England\n",
       "4                     My Name Is Khan"
      ]
     },
     "execution_count": 236,
     "metadata": {},
     "output_type": "execute_result"
    }
   ],
   "source": [
    "ret = movie_engine(df, 'Das Boot', X_norm, get_default_weights(), False)\n",
    "pond1_result = [res['name'] for res in ret]\n",
    "##_________________________________________________________________________________________________________________##\n",
    "my_df = pd.DataFrame({'Ponderation1': pond1_result})\n",
    "my_df"
   ]
  },
  {
   "cell_type": "markdown",
   "metadata": {},
   "source": [
    "The 'genre' is respected but not the language. The movie 'Tae Guk Gi...' is in Korean."
   ]
  },
  {
   "cell_type": "code",
   "execution_count": 238,
   "metadata": {},
   "outputs": [],
   "source": [
    "df.to_csv('./api/movieengineapp/static/movies.csv', index=False)"
   ]
  },
  {
   "cell_type": "markdown",
   "metadata": {
    "collapsed": true
   },
   "source": [
    "# 3 Conclusion"
   ]
  },
  {
   "cell_type": "markdown",
   "metadata": {
    "collapsed": true
   },
   "source": [
    "The movie engine behaves not so bad but the error cases raises some point to adress:\n",
    "- the creation of a specific feature for sequel could be interesting\n",
    "- the management of 'plot_keywords' should also help in case of finding movie with genre sparsely represented"
   ]
  }
 ],
 "metadata": {
  "kernelspec": {
   "display_name": "Python 3",
   "language": "python",
   "name": "python3"
  },
  "language_info": {
   "codemirror_mode": {
    "name": "ipython",
    "version": 3
   },
   "file_extension": ".py",
   "mimetype": "text/x-python",
   "name": "python",
   "nbconvert_exporter": "python",
   "pygments_lexer": "ipython3",
   "version": "3.5.2"
  }
 },
 "nbformat": 4,
 "nbformat_minor": 2
}
