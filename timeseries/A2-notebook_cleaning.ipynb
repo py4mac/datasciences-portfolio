{
 "cells": [
  {
   "cell_type": "markdown",
   "metadata": {},
   "source": [
    "# Predicting flight delays (modelisation)\n",
    "Pierre-Yves BOISBUNON - Decembre 2017\n",
    "\n",
    "\n",
    "----------\n",
    "\n",
    "The target is to predict flight delays based on the dataset **https://www.transtats.bts.gov/DL_SelectFields.asp?Table_ID=236&DB_Short_Name=On-Time**\n",
    "\n",
    "In this notebook, we will try to find a model."
   ]
  },
  {
   "cell_type": "code",
   "execution_count": 1,
   "metadata": {},
   "outputs": [],
   "source": [
    "import pandas as pd\n",
    "import matplotlib.pyplot as plt\n",
    "import seaborn as sns\n",
    "import numpy as np\n",
    "import warnings\n",
    "warnings.filterwarnings('ignore')\n",
    "%matplotlib inline"
   ]
  },
  {
   "cell_type": "markdown",
   "metadata": {},
   "source": [
    "# 1 Model"
   ]
  },
  {
   "cell_type": "markdown",
   "metadata": {},
   "source": [
    "Let's reopen the dataset previously stored"
   ]
  },
  {
   "cell_type": "code",
   "execution_count": 2,
   "metadata": {},
   "outputs": [],
   "source": [
    "import datetime\n",
    "df = pd.read_csv('dataset_clean.csv', sep=',', error_bad_lines=False)\n",
    "\n",
    "def import_datetime(chaine):\n",
    "    return datetime.datetime.strptime(chaine, \"%Y-%m-%d %H:%M:%S\")\n",
    "\n",
    "def import_time(chaine):\n",
    "    raw = chaine.split(':')\n",
    "    return datetime.time(int(raw[0]),int(raw[1]),int(raw[2]))\n",
    "\n",
    "df['SCHEDULED_ARRIVAL'] = df['SCHEDULED_ARRIVAL'].apply(import_time)\n",
    "df['SCHEDULED_DEPARTURE'] = df['SCHEDULED_DEPARTURE'].apply(import_datetime)"
   ]
  },
  {
   "cell_type": "code",
   "execution_count": 3,
   "metadata": {},
   "outputs": [
    {
     "data": {
      "text/plain": [
       "Index(['AIRLINE', 'ORIGIN_AIRPORT', 'DESTINATION_AIRPORT',\n",
       "       'SCHEDULED_ELAPSED_TIME', 'SCHEDULED_DEPARTURE', 'SCHEDULED_ARRIVAL',\n",
       "       'DISTANCE', 'ARRIVAL_DELAY'],\n",
       "      dtype='object')"
      ]
     },
     "execution_count": 3,
     "metadata": {},
     "output_type": "execute_result"
    }
   ],
   "source": [
    "df.columns"
   ]
  },
  {
   "cell_type": "code",
   "execution_count": 4,
   "metadata": {
    "scrolled": true
   },
   "outputs": [],
   "source": [
    "df_subset = df.copy(deep=True)"
   ]
  },
  {
   "cell_type": "code",
   "execution_count": 5,
   "metadata": {
    "scrolled": true
   },
   "outputs": [
    {
     "data": {
      "text/html": [
       "<div>\n",
       "<style scoped>\n",
       "    .dataframe tbody tr th:only-of-type {\n",
       "        vertical-align: middle;\n",
       "    }\n",
       "\n",
       "    .dataframe tbody tr th {\n",
       "        vertical-align: top;\n",
       "    }\n",
       "\n",
       "    .dataframe thead th {\n",
       "        text-align: right;\n",
       "    }\n",
       "</style>\n",
       "<table border=\"1\" class=\"dataframe\">\n",
       "  <thead>\n",
       "    <tr style=\"text-align: right;\">\n",
       "      <th></th>\n",
       "      <th>AIRLINE</th>\n",
       "      <th>ORIGIN_AIRPORT</th>\n",
       "      <th>DESTINATION_AIRPORT</th>\n",
       "      <th>SCHEDULED_ELAPSED_TIME</th>\n",
       "      <th>SCHEDULED_DEPARTURE</th>\n",
       "      <th>SCHEDULED_ARRIVAL</th>\n",
       "      <th>DISTANCE</th>\n",
       "      <th>ARRIVAL_DELAY</th>\n",
       "    </tr>\n",
       "  </thead>\n",
       "  <tbody>\n",
       "    <tr>\n",
       "      <th>0</th>\n",
       "      <td>EV</td>\n",
       "      <td>IAH</td>\n",
       "      <td>CRP</td>\n",
       "      <td>66.0</td>\n",
       "      <td>2016-01-06 17:35:00</td>\n",
       "      <td>18:41:00</td>\n",
       "      <td>201.0</td>\n",
       "      <td>9.0</td>\n",
       "    </tr>\n",
       "    <tr>\n",
       "      <th>1</th>\n",
       "      <td>B6</td>\n",
       "      <td>LGA</td>\n",
       "      <td>FLL</td>\n",
       "      <td>176.0</td>\n",
       "      <td>2016-01-17 21:40:00</td>\n",
       "      <td>00:36:00</td>\n",
       "      <td>1076.0</td>\n",
       "      <td>25.0</td>\n",
       "    </tr>\n",
       "    <tr>\n",
       "      <th>2</th>\n",
       "      <td>DL</td>\n",
       "      <td>MOB</td>\n",
       "      <td>ATL</td>\n",
       "      <td>74.0</td>\n",
       "      <td>2016-01-22 17:50:00</td>\n",
       "      <td>20:04:00</td>\n",
       "      <td>302.0</td>\n",
       "      <td>94.0</td>\n",
       "    </tr>\n",
       "    <tr>\n",
       "      <th>3</th>\n",
       "      <td>WN</td>\n",
       "      <td>CLE</td>\n",
       "      <td>BWI</td>\n",
       "      <td>80.0</td>\n",
       "      <td>2016-01-18 21:15:00</td>\n",
       "      <td>22:35:00</td>\n",
       "      <td>314.0</td>\n",
       "      <td>-10.0</td>\n",
       "    </tr>\n",
       "    <tr>\n",
       "      <th>4</th>\n",
       "      <td>OO</td>\n",
       "      <td>DEN</td>\n",
       "      <td>SLC</td>\n",
       "      <td>96.0</td>\n",
       "      <td>2016-01-17 15:19:00</td>\n",
       "      <td>16:55:00</td>\n",
       "      <td>391.0</td>\n",
       "      <td>8.0</td>\n",
       "    </tr>\n",
       "  </tbody>\n",
       "</table>\n",
       "</div>"
      ],
      "text/plain": [
       "  AIRLINE ORIGIN_AIRPORT DESTINATION_AIRPORT  SCHEDULED_ELAPSED_TIME  \\\n",
       "0      EV            IAH                 CRP                    66.0   \n",
       "1      B6            LGA                 FLL                   176.0   \n",
       "2      DL            MOB                 ATL                    74.0   \n",
       "3      WN            CLE                 BWI                    80.0   \n",
       "4      OO            DEN                 SLC                    96.0   \n",
       "\n",
       "  SCHEDULED_DEPARTURE SCHEDULED_ARRIVAL  DISTANCE  ARRIVAL_DELAY  \n",
       "0 2016-01-06 17:35:00          18:41:00     201.0            9.0  \n",
       "1 2016-01-17 21:40:00          00:36:00    1076.0           25.0  \n",
       "2 2016-01-22 17:50:00          20:04:00     302.0           94.0  \n",
       "3 2016-01-18 21:15:00          22:35:00     314.0          -10.0  \n",
       "4 2016-01-17 15:19:00          16:55:00     391.0            8.0  "
      ]
     },
     "execution_count": 5,
     "metadata": {},
     "output_type": "execute_result"
    }
   ],
   "source": [
    "df_subset.head()"
   ]
  },
  {
   "cell_type": "markdown",
   "metadata": {},
   "source": [
    "## 1.1 Baseline"
   ]
  },
  {
   "cell_type": "markdown",
   "metadata": {},
   "source": [
    "In order to compute our baseline, let's encode the categorical variables (**AIRLINE**, **ORIGIN_AIRPORT** and **DESTINATION_AIRPORT**) and convert **SCHEDULE_DEPARTURE** as a numeric value."
   ]
  },
  {
   "cell_type": "code",
   "execution_count": 6,
   "metadata": {
    "scrolled": false
   },
   "outputs": [
    {
     "data": {
      "text/html": [
       "<div>\n",
       "<style scoped>\n",
       "    .dataframe tbody tr th:only-of-type {\n",
       "        vertical-align: middle;\n",
       "    }\n",
       "\n",
       "    .dataframe tbody tr th {\n",
       "        vertical-align: top;\n",
       "    }\n",
       "\n",
       "    .dataframe thead th {\n",
       "        text-align: right;\n",
       "    }\n",
       "</style>\n",
       "<table border=\"1\" class=\"dataframe\">\n",
       "  <thead>\n",
       "    <tr style=\"text-align: right;\">\n",
       "      <th></th>\n",
       "      <th>AIRLINE</th>\n",
       "      <th>ORIGIN_AIRPORT</th>\n",
       "      <th>DESTINATION_AIRPORT</th>\n",
       "      <th>SCHEDULED_ELAPSED_TIME</th>\n",
       "      <th>SCHEDULED_DEPARTURE</th>\n",
       "      <th>SCHEDULED_ARRIVAL</th>\n",
       "      <th>DISTANCE</th>\n",
       "      <th>ARRIVAL_DELAY</th>\n",
       "    </tr>\n",
       "  </thead>\n",
       "  <tbody>\n",
       "    <tr>\n",
       "      <th>0</th>\n",
       "      <td>4</td>\n",
       "      <td>143</td>\n",
       "      <td>68</td>\n",
       "      <td>66.0</td>\n",
       "      <td>1.452102e+09</td>\n",
       "      <td>1121</td>\n",
       "      <td>201.0</td>\n",
       "      <td>9.0</td>\n",
       "    </tr>\n",
       "    <tr>\n",
       "      <th>1</th>\n",
       "      <td>2</td>\n",
       "      <td>173</td>\n",
       "      <td>105</td>\n",
       "      <td>176.0</td>\n",
       "      <td>1.453067e+09</td>\n",
       "      <td>36</td>\n",
       "      <td>1076.0</td>\n",
       "      <td>25.0</td>\n",
       "    </tr>\n",
       "    <tr>\n",
       "      <th>2</th>\n",
       "      <td>3</td>\n",
       "      <td>200</td>\n",
       "      <td>18</td>\n",
       "      <td>74.0</td>\n",
       "      <td>1.453485e+09</td>\n",
       "      <td>1204</td>\n",
       "      <td>302.0</td>\n",
       "      <td>94.0</td>\n",
       "    </tr>\n",
       "    <tr>\n",
       "      <th>3</th>\n",
       "      <td>11</td>\n",
       "      <td>61</td>\n",
       "      <td>49</td>\n",
       "      <td>80.0</td>\n",
       "      <td>1.453152e+09</td>\n",
       "      <td>1355</td>\n",
       "      <td>314.0</td>\n",
       "      <td>-10.0</td>\n",
       "    </tr>\n",
       "    <tr>\n",
       "      <th>4</th>\n",
       "      <td>8</td>\n",
       "      <td>78</td>\n",
       "      <td>275</td>\n",
       "      <td>96.0</td>\n",
       "      <td>1.453044e+09</td>\n",
       "      <td>1015</td>\n",
       "      <td>391.0</td>\n",
       "      <td>8.0</td>\n",
       "    </tr>\n",
       "  </tbody>\n",
       "</table>\n",
       "</div>"
      ],
      "text/plain": [
       "   AIRLINE  ORIGIN_AIRPORT  DESTINATION_AIRPORT  SCHEDULED_ELAPSED_TIME  \\\n",
       "0        4             143                   68                    66.0   \n",
       "1        2             173                  105                   176.0   \n",
       "2        3             200                   18                    74.0   \n",
       "3       11              61                   49                    80.0   \n",
       "4        8              78                  275                    96.0   \n",
       "\n",
       "   SCHEDULED_DEPARTURE  SCHEDULED_ARRIVAL  DISTANCE  ARRIVAL_DELAY  \n",
       "0         1.452102e+09               1121     201.0            9.0  \n",
       "1         1.453067e+09                 36    1076.0           25.0  \n",
       "2         1.453485e+09               1204     302.0           94.0  \n",
       "3         1.453152e+09               1355     314.0          -10.0  \n",
       "4         1.453044e+09               1015     391.0            8.0  "
      ]
     },
     "execution_count": 6,
     "metadata": {},
     "output_type": "execute_result"
    }
   ],
   "source": [
    "from sklearn import preprocessing\n",
    "import datetime \n",
    "def convert_to_minute(x):\n",
    "    return x.hour*60 + x.minute\n",
    "    \n",
    "df_train = pd.DataFrame()\n",
    "\n",
    "# Label encoding\n",
    "le_airline = preprocessing.LabelEncoder()\n",
    "le_airline.fit(df_subset['AIRLINE'].unique())\n",
    "df_train['AIRLINE'] = le_airline.transform(df_subset['AIRLINE'])\n",
    "\n",
    "# Label encoding\n",
    "le_origin_airport = preprocessing.LabelEncoder()\n",
    "le_origin_airport.fit(df_subset['ORIGIN_AIRPORT'].unique())\n",
    "df_train['ORIGIN_AIRPORT'] = le_origin_airport.transform(df_subset['ORIGIN_AIRPORT'])\n",
    "\n",
    "# Label encoding\n",
    "le_destination_airport = preprocessing.LabelEncoder()\n",
    "le_destination_airport.fit(df_subset['DESTINATION_AIRPORT'].unique())\n",
    "df_train['DESTINATION_AIRPORT'] = le_destination_airport.transform(df_subset['DESTINATION_AIRPORT'])\n",
    "\n",
    "df_train['SCHEDULED_ELAPSED_TIME'] = df_subset['SCHEDULED_ELAPSED_TIME']\n",
    "df_train['SCHEDULED_DEPARTURE'] = (df_subset['SCHEDULED_DEPARTURE'] - datetime.datetime(1970,1,1)).dt.total_seconds()\n",
    "df_train['SCHEDULED_ARRIVAL'] = df_subset['SCHEDULED_ARRIVAL'].apply(convert_to_minute)\n",
    "df_train['DISTANCE'] = df_subset['DISTANCE']\n",
    "df_train['ARRIVAL_DELAY'] = df_subset['ARRIVAL_DELAY']\n",
    "\n",
    "# Creer variable weekend\n",
    "df_train.head()"
   ]
  },
  {
   "cell_type": "markdown",
   "metadata": {},
   "source": [
    "Let's see the mean value of **ARRIVAL_DELAY** in minutes"
   ]
  },
  {
   "cell_type": "code",
   "execution_count": 7,
   "metadata": {},
   "outputs": [
    {
     "data": {
      "text/plain": [
       "3.3652151877349326"
      ]
     },
     "execution_count": 7,
     "metadata": {},
     "output_type": "execute_result"
    }
   ],
   "source": [
    "df_train['ARRIVAL_DELAY'].mean()"
   ]
  },
  {
   "cell_type": "markdown",
   "metadata": {},
   "source": [
    "Let's predict **ARRIVAL_DELAY**"
   ]
  },
  {
   "cell_type": "code",
   "execution_count": 8,
   "metadata": {},
   "outputs": [],
   "source": [
    "from sklearn import preprocessing\n",
    "\n",
    "X = df_train.as_matrix(df_train.columns[:-1])\n",
    "X = preprocessing.normalize(X)\n",
    "y = df_train.as_matrix([df_train.columns[-1]])\n",
    "y = y.flatten()"
   ]
  },
  {
   "cell_type": "code",
   "execution_count": 9,
   "metadata": {},
   "outputs": [],
   "source": [
    "from sklearn import preprocessing\n",
    "from sklearn import model_selection\n",
    "\n",
    "X_train, X_test, y_train, y_test = \\\n",
    "model_selection.train_test_split(X, y,\n",
    "test_size=0.3 # 30% des données dans le jeu de test\n",
    ")"
   ]
  },
  {
   "cell_type": "code",
   "execution_count": 10,
   "metadata": {
    "scrolled": false
   },
   "outputs": [
    {
     "name": "stdout",
     "output_type": "stream",
     "text": [
      "Coefficients: \n",
      " [-7.16036742e+07 -2.51763000e+04  7.24949448e+06 -1.26195165e+08\n",
      " -3.70570113e+11  1.62751015e+07  1.34310201e+07]\n",
      "Variance score: 0.01\n",
      "Mean absolute error: 21.00 (minutes)\n"
     ]
    }
   ],
   "source": [
    "from sklearn import preprocessing\n",
    "from sklearn import linear_model\n",
    "from sklearn.metrics import mean_squared_error, r2_score,mean_absolute_error\n",
    "\n",
    "\n",
    "regr = linear_model.LinearRegression()\n",
    "regr.fit(X_train, y_train)\n",
    "y_pred = regr.predict(X_test)\n",
    "\n",
    "# The coefficients\n",
    "print('Coefficients: \\n', regr.coef_)\n",
    "\n",
    "# Explained variance score: 1 is perfect prediction\n",
    "print('Variance score: %.2f' % r2_score(y_test, y_pred))\n",
    "# The mean absolute error\n",
    "print(\"Mean absolute error: %.2f (minutes)\"\n",
    "      % mean_absolute_error(y_test, y_pred))"
   ]
  },
  {
   "cell_type": "markdown",
   "metadata": {},
   "source": [
    "We now have our baseline in minutes: **21 minutes**"
   ]
  },
  {
   "cell_type": "code",
   "execution_count": 11,
   "metadata": {},
   "outputs": [
    {
     "data": {
      "text/plain": [
       "[<matplotlib.lines.Line2D at 0x17fe0856128>]"
      ]
     },
     "execution_count": 11,
     "metadata": {},
     "output_type": "execute_result"
    },
    {
     "data": {
      "image/png": "[encoded data removed]",
      "text/plain": [
       "<Figure size 432x288 with 1 Axes>"
      ]
     },
     "metadata": {},
     "output_type": "display_data"
    }
   ],
   "source": [
    "plt.plot(y_test[:100])\n",
    "plt.plot(y_pred[:100], color='r')"
   ]
  },
  {
   "cell_type": "markdown",
   "metadata": {},
   "source": [
    "# 1.2 Improve dataset"
   ]
  },
  {
   "cell_type": "code",
   "execution_count": 12,
   "metadata": {},
   "outputs": [
    {
     "data": {
      "text/plain": [
       "Index(['AIRLINE', 'ORIGIN_AIRPORT', 'DESTINATION_AIRPORT',\n",
       "       'SCHEDULED_ELAPSED_TIME', 'SCHEDULED_DEPARTURE', 'SCHEDULED_ARRIVAL',\n",
       "       'DISTANCE', 'ARRIVAL_DELAY'],\n",
       "      dtype='object')"
      ]
     },
     "execution_count": 12,
     "metadata": {},
     "output_type": "execute_result"
    }
   ],
   "source": [
    "df_subset.columns"
   ]
  },
  {
   "cell_type": "markdown",
   "metadata": {},
   "source": [
    "## 1.2.1 Feature engineering"
   ]
  },
  {
   "cell_type": "markdown",
   "metadata": {},
   "source": [
    "As we have discovered during EDA, each variables (**AIRLINE**, **ORIGIN_AIRPORT**, **DESTINATION_AIRPORT**, scheduled month, scheduled day, scheduled hour and arrival date) plays a role in the arrival delay. Let's encode each one."
   ]
  },
  {
   "cell_type": "code",
   "execution_count": 13,
   "metadata": {
    "scrolled": true
   },
   "outputs": [
    {
     "name": "stdout",
     "output_type": "stream",
     "text": [
      "start: 2018-11-19 22:39:34.454795\n",
      "end: 2018-11-19 23:08:20.155891\n"
     ]
    },
    {
     "data": {
      "text/html": [
       "<div>\n",
       "<style scoped>\n",
       "    .dataframe tbody tr th:only-of-type {\n",
       "        vertical-align: middle;\n",
       "    }\n",
       "\n",
       "    .dataframe tbody tr th {\n",
       "        vertical-align: top;\n",
       "    }\n",
       "\n",
       "    .dataframe thead th {\n",
       "        text-align: right;\n",
       "    }\n",
       "</style>\n",
       "<table border=\"1\" class=\"dataframe\">\n",
       "  <thead>\n",
       "    <tr style=\"text-align: right;\">\n",
       "      <th></th>\n",
       "      <th>AIRL_EV</th>\n",
       "      <th>AIRL_B6</th>\n",
       "      <th>AIRL_DL</th>\n",
       "      <th>AIRL_WN</th>\n",
       "      <th>AIRL_OO</th>\n",
       "      <th>AIRL_F9</th>\n",
       "      <th>AIRL_AA</th>\n",
       "      <th>AIRL_UA</th>\n",
       "      <th>AIRL_NK</th>\n",
       "      <th>AIRL_VX</th>\n",
       "      <th>...</th>\n",
       "      <th>SCHEDULED_DEPARTURE_DAY</th>\n",
       "      <th>SCHEDULED_DEPARTURE_HOUR</th>\n",
       "      <th>SCHEDULED_DEPARTURE_MINUTE</th>\n",
       "      <th>SCHEDULED_DEPARTURE_SECOND</th>\n",
       "      <th>IS_WEEKEND</th>\n",
       "      <th>SCHEDULED_ARRIVAL_HOUR</th>\n",
       "      <th>SCHEDULED_ARRIVAL_MINUTE</th>\n",
       "      <th>SCHEDULED_ARRIVAL_SECONDE</th>\n",
       "      <th>DISTANCE</th>\n",
       "      <th>ARRIVAL_DELAY</th>\n",
       "    </tr>\n",
       "  </thead>\n",
       "  <tbody>\n",
       "    <tr>\n",
       "      <th>0</th>\n",
       "      <td>1</td>\n",
       "      <td>0</td>\n",
       "      <td>0</td>\n",
       "      <td>0</td>\n",
       "      <td>0</td>\n",
       "      <td>0</td>\n",
       "      <td>0</td>\n",
       "      <td>0</td>\n",
       "      <td>0</td>\n",
       "      <td>0</td>\n",
       "      <td>...</td>\n",
       "      <td>6</td>\n",
       "      <td>17</td>\n",
       "      <td>35</td>\n",
       "      <td>0</td>\n",
       "      <td>0</td>\n",
       "      <td>18</td>\n",
       "      <td>41</td>\n",
       "      <td>0</td>\n",
       "      <td>201.0</td>\n",
       "      <td>9.0</td>\n",
       "    </tr>\n",
       "    <tr>\n",
       "      <th>1</th>\n",
       "      <td>0</td>\n",
       "      <td>1</td>\n",
       "      <td>0</td>\n",
       "      <td>0</td>\n",
       "      <td>0</td>\n",
       "      <td>0</td>\n",
       "      <td>0</td>\n",
       "      <td>0</td>\n",
       "      <td>0</td>\n",
       "      <td>0</td>\n",
       "      <td>...</td>\n",
       "      <td>17</td>\n",
       "      <td>21</td>\n",
       "      <td>40</td>\n",
       "      <td>0</td>\n",
       "      <td>1</td>\n",
       "      <td>0</td>\n",
       "      <td>36</td>\n",
       "      <td>0</td>\n",
       "      <td>1076.0</td>\n",
       "      <td>25.0</td>\n",
       "    </tr>\n",
       "    <tr>\n",
       "      <th>2</th>\n",
       "      <td>0</td>\n",
       "      <td>0</td>\n",
       "      <td>1</td>\n",
       "      <td>0</td>\n",
       "      <td>0</td>\n",
       "      <td>0</td>\n",
       "      <td>0</td>\n",
       "      <td>0</td>\n",
       "      <td>0</td>\n",
       "      <td>0</td>\n",
       "      <td>...</td>\n",
       "      <td>22</td>\n",
       "      <td>17</td>\n",
       "      <td>50</td>\n",
       "      <td>0</td>\n",
       "      <td>0</td>\n",
       "      <td>20</td>\n",
       "      <td>4</td>\n",
       "      <td>0</td>\n",
       "      <td>302.0</td>\n",
       "      <td>94.0</td>\n",
       "    </tr>\n",
       "    <tr>\n",
       "      <th>3</th>\n",
       "      <td>0</td>\n",
       "      <td>0</td>\n",
       "      <td>0</td>\n",
       "      <td>1</td>\n",
       "      <td>0</td>\n",
       "      <td>0</td>\n",
       "      <td>0</td>\n",
       "      <td>0</td>\n",
       "      <td>0</td>\n",
       "      <td>0</td>\n",
       "      <td>...</td>\n",
       "      <td>18</td>\n",
       "      <td>21</td>\n",
       "      <td>15</td>\n",
       "      <td>0</td>\n",
       "      <td>0</td>\n",
       "      <td>22</td>\n",
       "      <td>35</td>\n",
       "      <td>0</td>\n",
       "      <td>314.0</td>\n",
       "      <td>-10.0</td>\n",
       "    </tr>\n",
       "    <tr>\n",
       "      <th>4</th>\n",
       "      <td>0</td>\n",
       "      <td>0</td>\n",
       "      <td>0</td>\n",
       "      <td>0</td>\n",
       "      <td>1</td>\n",
       "      <td>0</td>\n",
       "      <td>0</td>\n",
       "      <td>0</td>\n",
       "      <td>0</td>\n",
       "      <td>0</td>\n",
       "      <td>...</td>\n",
       "      <td>17</td>\n",
       "      <td>15</td>\n",
       "      <td>19</td>\n",
       "      <td>0</td>\n",
       "      <td>1</td>\n",
       "      <td>16</td>\n",
       "      <td>55</td>\n",
       "      <td>0</td>\n",
       "      <td>391.0</td>\n",
       "      <td>8.0</td>\n",
       "    </tr>\n",
       "  </tbody>\n",
       "</table>\n",
       "<p>5 rows × 638 columns</p>\n",
       "</div>"
      ],
      "text/plain": [
       "   AIRL_EV  AIRL_B6  AIRL_DL  AIRL_WN  AIRL_OO  AIRL_F9  AIRL_AA  AIRL_UA  \\\n",
       "0        1        0        0        0        0        0        0        0   \n",
       "1        0        1        0        0        0        0        0        0   \n",
       "2        0        0        1        0        0        0        0        0   \n",
       "3        0        0        0        1        0        0        0        0   \n",
       "4        0        0        0        0        1        0        0        0   \n",
       "\n",
       "   AIRL_NK  AIRL_VX      ...        SCHEDULED_DEPARTURE_DAY  \\\n",
       "0        0        0      ...                              6   \n",
       "1        0        0      ...                             17   \n",
       "2        0        0      ...                             22   \n",
       "3        0        0      ...                             18   \n",
       "4        0        0      ...                             17   \n",
       "\n",
       "   SCHEDULED_DEPARTURE_HOUR  SCHEDULED_DEPARTURE_MINUTE  \\\n",
       "0                        17                          35   \n",
       "1                        21                          40   \n",
       "2                        17                          50   \n",
       "3                        21                          15   \n",
       "4                        15                          19   \n",
       "\n",
       "   SCHEDULED_DEPARTURE_SECOND  IS_WEEKEND  SCHEDULED_ARRIVAL_HOUR  \\\n",
       "0                           0           0                      18   \n",
       "1                           0           1                       0   \n",
       "2                           0           0                      20   \n",
       "3                           0           0                      22   \n",
       "4                           0           1                      16   \n",
       "\n",
       "   SCHEDULED_ARRIVAL_MINUTE  SCHEDULED_ARRIVAL_SECONDE  DISTANCE  \\\n",
       "0                        41                          0     201.0   \n",
       "1                        36                          0    1076.0   \n",
       "2                         4                          0     302.0   \n",
       "3                        35                          0     314.0   \n",
       "4                        55                          0     391.0   \n",
       "\n",
       "   ARRIVAL_DELAY  \n",
       "0            9.0  \n",
       "1           25.0  \n",
       "2           94.0  \n",
       "3          -10.0  \n",
       "4            8.0  \n",
       "\n",
       "[5 rows x 638 columns]"
      ]
     },
     "execution_count": 13,
     "metadata": {},
     "output_type": "execute_result"
    }
   ],
   "source": [
    "df_train = pd.DataFrame()\n",
    "\n",
    "def encode_weekend(df, col):\n",
    "    liste = []\n",
    "    for index in df.index: \n",
    "        if pd.to_datetime(df[col].loc[index]).weekday() < 5:\n",
    "            liste.append(0)\n",
    "        else:\n",
    "            liste.append(1)\n",
    "    return liste\n",
    "\n",
    "def encode_var(row, var, value, positive_value, negative_value):\n",
    "    if row[var].find(value)> -1:\n",
    "        return positive_value\n",
    "    else:\n",
    "        return negative_value\n",
    "    \n",
    "def binary_encode_var(row, var, value):\n",
    "    return encode_var(row, var, value, 1, 0)\n",
    "\n",
    "print ('start: ' +  str(datetime.datetime.now()))\n",
    "\n",
    "# AIRLINE: one airline/one feature\n",
    "airlines = df_subset['AIRLINE'].unique()\n",
    "for airline in airlines:\n",
    "    df_train['AIRL_' + airline] = df_subset.apply(lambda row: binary_encode_var(row, 'AIRLINE', airline), axis=1)\n",
    "\n",
    "# ORIGIN_AIRPORT: one origin airport / one feature\n",
    "airports = df_subset['ORIGIN_AIRPORT'].unique()\n",
    "for airport in airports:\n",
    "    df_train['ORIG_' + airport] = df_subset.apply(lambda row: binary_encode_var(row, 'ORIGIN_AIRPORT', airport), axis=1)\n",
    "\n",
    "# DESTINATION_AIRPORT: one destination airport / one feature\n",
    "destinations = df_subset['DESTINATION_AIRPORT'].unique()\n",
    "for destination in destinations:\n",
    "    df_train['DEST_' + destination] = df_subset.apply(lambda row: binary_encode_var(row, 'DESTINATION_AIRPORT', destination), axis=1)\n",
    "\n",
    "df_train['SCHEDULED_DEPARTURE_MONTH'] = df_subset['SCHEDULED_DEPARTURE'].dt.month\n",
    "df_train['SCHEDULED_DEPARTURE_DAY'] = df_subset['SCHEDULED_DEPARTURE'].dt.day\n",
    "df_train['SCHEDULED_DEPARTURE_HOUR'] = df_subset['SCHEDULED_DEPARTURE'].dt.hour\n",
    "df_train['SCHEDULED_DEPARTURE_MINUTE'] = df_subset['SCHEDULED_DEPARTURE'].dt.minute\n",
    "df_train['SCHEDULED_DEPARTURE_SECOND'] = df_subset['SCHEDULED_DEPARTURE'].dt.second\n",
    "\n",
    "df_train['IS_WEEKEND'] = encode_weekend(df_subset, 'SCHEDULED_DEPARTURE')\n",
    "\n",
    "df_train['SCHEDULED_ARRIVAL_HOUR'] = df_subset['SCHEDULED_ARRIVAL'].apply(lambda x: x.hour)\n",
    "df_train['SCHEDULED_ARRIVAL_MINUTE'] = df_subset['SCHEDULED_ARRIVAL'].apply(lambda x: x.minute)\n",
    "df_train['SCHEDULED_ARRIVAL_SECONDE'] = df_subset['SCHEDULED_ARRIVAL'].apply(lambda x: x.second)\n",
    "\n",
    "df_train['DISTANCE'] = df_subset['DISTANCE']\n",
    "\n",
    "df_train['ARRIVAL_DELAY'] = df_subset['ARRIVAL_DELAY']\n",
    "\n",
    "print ('end: ' + str(datetime.datetime.now()))\n",
    "\n",
    "df_train.head()"
   ]
  },
  {
   "cell_type": "code",
   "execution_count": 14,
   "metadata": {},
   "outputs": [],
   "source": [
    "df_train['SCHEDULED_ELAPSED_TIME'] = df_subset['SCHEDULED_ELAPSED_TIME']"
   ]
  },
  {
   "cell_type": "markdown",
   "metadata": {},
   "source": [
    "## 3.2.2 Dealing with skew"
   ]
  },
  {
   "cell_type": "markdown",
   "metadata": {},
   "source": [
    "Let's dealing with skew now"
   ]
  },
  {
   "cell_type": "code",
   "execution_count": 15,
   "metadata": {},
   "outputs": [],
   "source": [
    "df_train_copy = df_train.copy(deep=True)\n",
    "#df_train = df_train_copy.copy(deep=True)"
   ]
  },
  {
   "cell_type": "code",
   "execution_count": 16,
   "metadata": {
    "scrolled": false
   },
   "outputs": [
    {
     "data": {
      "text/html": [
       "<div>\n",
       "<style scoped>\n",
       "    .dataframe tbody tr th:only-of-type {\n",
       "        vertical-align: middle;\n",
       "    }\n",
       "\n",
       "    .dataframe tbody tr th {\n",
       "        vertical-align: top;\n",
       "    }\n",
       "\n",
       "    .dataframe thead th {\n",
       "        text-align: right;\n",
       "    }\n",
       "</style>\n",
       "<table border=\"1\" class=\"dataframe\">\n",
       "  <thead>\n",
       "    <tr style=\"text-align: right;\">\n",
       "      <th></th>\n",
       "      <th>index</th>\n",
       "      <th>skew_values</th>\n",
       "    </tr>\n",
       "  </thead>\n",
       "  <tbody>\n",
       "    <tr>\n",
       "      <th>7</th>\n",
       "      <td>SCHEDULED_ARRIVAL_HOUR</td>\n",
       "      <td>-0.312376</td>\n",
       "    </tr>\n",
       "    <tr>\n",
       "      <th>1</th>\n",
       "      <td>SCHEDULED_DEPARTURE_DAY</td>\n",
       "      <td>-0.008092</td>\n",
       "    </tr>\n",
       "    <tr>\n",
       "      <th>4</th>\n",
       "      <td>SCHEDULED_DEPARTURE_SECOND</td>\n",
       "      <td>0.000000</td>\n",
       "    </tr>\n",
       "    <tr>\n",
       "      <th>9</th>\n",
       "      <td>SCHEDULED_ARRIVAL_SECONDE</td>\n",
       "      <td>0.000000</td>\n",
       "    </tr>\n",
       "    <tr>\n",
       "      <th>0</th>\n",
       "      <td>SCHEDULED_DEPARTURE_MONTH</td>\n",
       "      <td>0.001554</td>\n",
       "    </tr>\n",
       "    <tr>\n",
       "      <th>8</th>\n",
       "      <td>SCHEDULED_ARRIVAL_MINUTE</td>\n",
       "      <td>0.002731</td>\n",
       "    </tr>\n",
       "    <tr>\n",
       "      <th>3</th>\n",
       "      <td>SCHEDULED_DEPARTURE_MINUTE</td>\n",
       "      <td>0.048814</td>\n",
       "    </tr>\n",
       "    <tr>\n",
       "      <th>2</th>\n",
       "      <td>SCHEDULED_DEPARTURE_HOUR</td>\n",
       "      <td>0.063876</td>\n",
       "    </tr>\n",
       "    <tr>\n",
       "      <th>6</th>\n",
       "      <td>IS_WEEKEND</td>\n",
       "      <td>1.100277</td>\n",
       "    </tr>\n",
       "    <tr>\n",
       "      <th>5</th>\n",
       "      <td>SCHEDULED_ELAPSED_TIME</td>\n",
       "      <td>1.275019</td>\n",
       "    </tr>\n",
       "    <tr>\n",
       "      <th>10</th>\n",
       "      <td>DISTANCE</td>\n",
       "      <td>1.342667</td>\n",
       "    </tr>\n",
       "    <tr>\n",
       "      <th>11</th>\n",
       "      <td>ARRIVAL_DELAY</td>\n",
       "      <td>7.914521</td>\n",
       "    </tr>\n",
       "  </tbody>\n",
       "</table>\n",
       "</div>"
      ],
      "text/plain": [
       "                         index  skew_values\n",
       "7       SCHEDULED_ARRIVAL_HOUR    -0.312376\n",
       "1      SCHEDULED_DEPARTURE_DAY    -0.008092\n",
       "4   SCHEDULED_DEPARTURE_SECOND     0.000000\n",
       "9    SCHEDULED_ARRIVAL_SECONDE     0.000000\n",
       "0    SCHEDULED_DEPARTURE_MONTH     0.001554\n",
       "8     SCHEDULED_ARRIVAL_MINUTE     0.002731\n",
       "3   SCHEDULED_DEPARTURE_MINUTE     0.048814\n",
       "2     SCHEDULED_DEPARTURE_HOUR     0.063876\n",
       "6                   IS_WEEKEND     1.100277\n",
       "5       SCHEDULED_ELAPSED_TIME     1.275019\n",
       "10                    DISTANCE     1.342667\n",
       "11               ARRIVAL_DELAY     7.914521"
      ]
     },
     "execution_count": 16,
     "metadata": {},
     "output_type": "execute_result"
    }
   ],
   "source": [
    "from scipy.stats import skew\n",
    "skew_values = []\n",
    "cols = ['SCHEDULED_DEPARTURE_MONTH', 'SCHEDULED_DEPARTURE_DAY', \n",
    "        'SCHEDULED_DEPARTURE_HOUR', 'SCHEDULED_DEPARTURE_MINUTE', 'SCHEDULED_DEPARTURE_SECOND',\n",
    "        'SCHEDULED_ELAPSED_TIME',\n",
    "        'IS_WEEKEND',\n",
    "        'SCHEDULED_ARRIVAL_HOUR', 'SCHEDULED_ARRIVAL_MINUTE', 'SCHEDULED_ARRIVAL_SECONDE',\n",
    "        'DISTANCE', 'ARRIVAL_DELAY']\n",
    "#cols = ['SCHEDULED_DEPARTURE', 'DEPARTURE_TIME', 'SCHEDULED_ARRIVAL', 'DISTANCE', 'ARRIVAL_DELAY']\n",
    "for col in cols:\n",
    "    skew_values = skew(df_train[cols])\n",
    "my_df = pd.DataFrame({'index': cols, 'skew_values': skew_values})\n",
    "my_df = my_df.sort_values('skew_values')\n",
    "my_df"
   ]
  },
  {
   "cell_type": "markdown",
   "metadata": {},
   "source": [
    "**DISTANCE** and **ARRIVAL_DELAY** have the worst skew, let's try to solve this point!"
   ]
  },
  {
   "cell_type": "code",
   "execution_count": 17,
   "metadata": {},
   "outputs": [],
   "source": [
    "from __future__ import division\n",
    "from scipy.stats import boxcox\n",
    "\n",
    "def display_skew(df, var):\n",
    "    df.hist(column=var)\n",
    "    print ('skewness: ' + str(skew(df[var])))\n",
    "    \n",
    "def remove_outliers(df, var):\n",
    "    elements = df[var] \n",
    "    mean = np.mean(elements, axis=0)\n",
    "    sd = np.std(elements, axis=0)\n",
    "    test_df = pd.DataFrame()\n",
    "    test_df = df[(df[var] > mean - 2 * sd) & (df[var] < mean + 2 * sd)]\n",
    "    prev_len = len(df)\n",
    "    new_len = len(test_df)\n",
    "    diff_perc = 100 * ((prev_len - new_len) / prev_len)\n",
    "    print ('len (before cleaning): ' + str(prev_len))\n",
    "    print ('len (after cleaning): ' + str(new_len))\n",
    "    print ('len (% removing): ' + str(diff_perc))\n",
    "    return test_df"
   ]
  },
  {
   "cell_type": "code",
   "execution_count": 18,
   "metadata": {},
   "outputs": [],
   "source": [
    "# https://stackoverflow.com/questions/26391454/reverse-box-cox-transformation\n",
    "def invboxcox(y,ld, offset):\n",
    "    if ld == 0:\n",
    "        return (np.exp(y) - offset)\n",
    "    else:\n",
    "        return (np.exp(np.log(ld*y+1)/ld) - offset)"
   ]
  },
  {
   "cell_type": "markdown",
   "metadata": {},
   "source": [
    "#### DISTANCE"
   ]
  },
  {
   "cell_type": "markdown",
   "metadata": {},
   "source": [
    "Let's display the skew of **DISTANCE** variable"
   ]
  },
  {
   "cell_type": "code",
   "execution_count": 19,
   "metadata": {},
   "outputs": [
    {
     "name": "stdout",
     "output_type": "stream",
     "text": [
      "skewness: 1.3426669476879873\n"
     ]
    },
    {
     "data": {
      "image/png": "[encoded data removed]",
      "text/plain": [
       "<Figure size 432x288 with 1 Axes>"
      ]
     },
     "metadata": {},
     "output_type": "display_data"
    }
   ],
   "source": [
    "display_skew(df_train, 'DISTANCE')"
   ]
  },
  {
   "cell_type": "markdown",
   "metadata": {},
   "source": [
    "Let's use Box Cox transformation to reduce the skew"
   ]
  },
  {
   "cell_type": "code",
   "execution_count": 20,
   "metadata": {
    "scrolled": false
   },
   "outputs": [
    {
     "name": "stdout",
     "output_type": "stream",
     "text": [
      "skewness: -0.018429921273444484\n"
     ]
    },
    {
     "data": {
      "image/png": "[encoded data removed]",
      "text/plain": [
       "<Figure size 432x288 with 1 Axes>"
      ]
     },
     "metadata": {},
     "output_type": "display_data"
    }
   ],
   "source": [
    "# Optimize skew with boxcox\n",
    "res = boxcox(df_train['DISTANCE'])\n",
    "df_train['DISTANCE'] = res[0]\n",
    "coxbox_ld_distance = res[1]\n",
    "display_skew(df_train, 'DISTANCE')"
   ]
  },
  {
   "cell_type": "code",
   "execution_count": 21,
   "metadata": {},
   "outputs": [
    {
     "data": {
      "text/plain": [
       "0.15921412370657623"
      ]
     },
     "execution_count": 21,
     "metadata": {},
     "output_type": "execute_result"
    }
   ],
   "source": [
    "coxbox_ld_distance"
   ]
  },
  {
   "cell_type": "markdown",
   "metadata": {},
   "source": [
    "Done!"
   ]
  },
  {
   "cell_type": "markdown",
   "metadata": {},
   "source": [
    "#### ARRIVAL_DELAY"
   ]
  },
  {
   "cell_type": "markdown",
   "metadata": {},
   "source": [
    "Let's display the skew of **ARRIVAL_DELAY**"
   ]
  },
  {
   "cell_type": "code",
   "execution_count": 22,
   "metadata": {
    "scrolled": false
   },
   "outputs": [
    {
     "name": "stdout",
     "output_type": "stream",
     "text": [
      "skewness: 7.914520511025244\n"
     ]
    },
    {
     "data": {
      "image/png": "[encoded data removed]",
      "text/plain": [
       "<Figure size 432x288 with 1 Axes>"
      ]
     },
     "metadata": {},
     "output_type": "display_data"
    }
   ],
   "source": [
    "display_skew(df_train, 'ARRIVAL_DELAY')"
   ]
  },
  {
   "cell_type": "code",
   "execution_count": 23,
   "metadata": {
    "scrolled": true
   },
   "outputs": [
    {
     "name": "stdout",
     "output_type": "stream",
     "text": [
      "len (before cleaning): 118385\n",
      "len (after cleaning): 114274\n",
      "len (% removing): 3.4725683152426403\n",
      "skewness: 1.5441172165048562\n"
     ]
    },
    {
     "data": {
      "image/png": "[encoded data removed]",
      "text/plain": [
       "<Figure size 432x288 with 1 Axes>"
      ]
     },
     "metadata": {},
     "output_type": "display_data"
    }
   ],
   "source": [
    "# Remove outliers first\n",
    "df_train = remove_outliers(df_train, 'ARRIVAL_DELAY')\n",
    "display_skew(df_train, 'ARRIVAL_DELAY')"
   ]
  },
  {
   "cell_type": "code",
   "execution_count": 24,
   "metadata": {
    "scrolled": false
   },
   "outputs": [
    {
     "name": "stdout",
     "output_type": "stream",
     "text": [
      "skewness: -0.1108044037684048\n"
     ]
    },
    {
     "data": {
      "image/png": "[encoded data removed]",
      "text/plain": [
       "<Figure size 432x288 with 1 Axes>"
      ]
     },
     "metadata": {},
     "output_type": "display_data"
    }
   ],
   "source": [
    "# Optimize skew with boxcox\n",
    "coxbox_add_arrival_delay = abs(np.min(df_train['ARRIVAL_DELAY'])) + 100\n",
    "res = boxcox(df_train['ARRIVAL_DELAY'] + coxbox_add_arrival_delay)\n",
    "df_train['ARRIVAL_DELAY'] = res[0]\n",
    "coxbox_ld_arrival_delay = res[1]\n",
    "display_skew(df_train, 'ARRIVAL_DELAY')"
   ]
  },
  {
   "cell_type": "code",
   "execution_count": 27,
   "metadata": {},
   "outputs": [
    {
     "data": {
      "text/plain": [
       "(-2.4838584691985517, 179.0)"
      ]
     },
     "execution_count": 27,
     "metadata": {},
     "output_type": "execute_result"
    }
   ],
   "source": [
    "coxbox_ld_arrival_delay, coxbox_add_arrival_delay"
   ]
  },
  {
   "cell_type": "markdown",
   "metadata": {},
   "source": [
    "We now have a clean dataset with variables correctly centered and outliers removed. Let's store all of them."
   ]
  },
  {
   "cell_type": "code",
   "execution_count": 25,
   "metadata": {},
   "outputs": [],
   "source": [
    "df_train.to_csv('dataset_modele.csv', index=False)"
   ]
  }
 ],
 "metadata": {
  "kernelspec": {
   "display_name": "Python 3",
   "language": "python",
   "name": "python3"
  },
  "language_info": {
   "codemirror_mode": {
    "name": "ipython",
    "version": 3
   },
   "file_extension": ".py",
   "mimetype": "text/x-python",
   "name": "python",
   "nbconvert_exporter": "python",
   "pygments_lexer": "ipython3",
   "version": "3.6.5"
  }
 },
 "nbformat": 4,
 "nbformat_minor": 2
}
