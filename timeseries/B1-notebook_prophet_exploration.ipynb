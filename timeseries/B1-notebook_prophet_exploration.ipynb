{
 "cells": [
  {
   "cell_type": "markdown",
   "metadata": {},
   "source": [
    "# Predicting flight delays (exploration)\n",
    "Pierre-Yves BOISBUNON - May 2018\n",
    "\n",
    "\n",
    "----------\n",
    "\n",
    "The target is to rework flight delays prediction based on the dataset **dataset_modele.csv**, the one used for **PROJET 4** (Open Classrooms Project).\n",
    "\n",
    "In this notebook, we will explore rapidly this dataset and compute our baseline based on previously identified model."
   ]
  },
  {
   "cell_type": "code",
   "execution_count": 1,
   "metadata": {},
   "outputs": [],
   "source": [
    "import pandas as pd\n",
    "import matplotlib.pyplot as plt\n",
    "import seaborn as sns\n",
    "import numpy as np\n",
    "import warnings\n",
    "warnings.filterwarnings('ignore')\n",
    "%matplotlib inline"
   ]
  },
  {
   "cell_type": "markdown",
   "metadata": {},
   "source": [
    "# 1. Dataset"
   ]
  },
  {
   "cell_type": "markdown",
   "metadata": {},
   "source": [
    "Let's reopen the dataset previously stored: **dataset_modele.csv**"
   ]
  },
  {
   "cell_type": "markdown",
   "metadata": {},
   "source": [
    "## 1.1 Import previously stored model"
   ]
  },
  {
   "cell_type": "code",
   "execution_count": 2,
   "metadata": {},
   "outputs": [],
   "source": [
    "import datetime\n",
    "df_tmp = pd.read_csv('dataset_modele.csv', sep=',', error_bad_lines=False)"
   ]
  },
  {
   "cell_type": "markdown",
   "metadata": {},
   "source": [
    "Due to BOX-COX transformation processed on **DISTANCE** and **ARRIVAL_DELAY** variables, let's import BOX-COX constants:"
   ]
  },
  {
   "cell_type": "code",
   "execution_count": 3,
   "metadata": {},
   "outputs": [],
   "source": [
    "coxbox_ld_distance = 0.15921412370657623\n",
    "coxbox_ld_arrival_delay = -2.4838584691985517\n",
    "coxbox_add_arrival_delay = 179"
   ]
  },
  {
   "cell_type": "code",
   "execution_count": 4,
   "metadata": {},
   "outputs": [
    {
     "data": {
      "text/html": [
       "<div>\n",
       "<style scoped>\n",
       "    .dataframe tbody tr th:only-of-type {\n",
       "        vertical-align: middle;\n",
       "    }\n",
       "\n",
       "    .dataframe tbody tr th {\n",
       "        vertical-align: top;\n",
       "    }\n",
       "\n",
       "    .dataframe thead th {\n",
       "        text-align: right;\n",
       "    }\n",
       "</style>\n",
       "<table border=\"1\" class=\"dataframe\">\n",
       "  <thead>\n",
       "    <tr style=\"text-align: right;\">\n",
       "      <th></th>\n",
       "      <th>AIRL_EV</th>\n",
       "      <th>AIRL_B6</th>\n",
       "      <th>AIRL_DL</th>\n",
       "      <th>AIRL_WN</th>\n",
       "      <th>AIRL_OO</th>\n",
       "      <th>AIRL_F9</th>\n",
       "      <th>AIRL_AA</th>\n",
       "      <th>AIRL_UA</th>\n",
       "      <th>AIRL_NK</th>\n",
       "      <th>AIRL_VX</th>\n",
       "      <th>...</th>\n",
       "      <th>SCHEDULED_DEPARTURE_HOUR</th>\n",
       "      <th>SCHEDULED_DEPARTURE_MINUTE</th>\n",
       "      <th>SCHEDULED_DEPARTURE_SECOND</th>\n",
       "      <th>IS_WEEKEND</th>\n",
       "      <th>SCHEDULED_ARRIVAL_HOUR</th>\n",
       "      <th>SCHEDULED_ARRIVAL_MINUTE</th>\n",
       "      <th>SCHEDULED_ARRIVAL_SECONDE</th>\n",
       "      <th>DISTANCE</th>\n",
       "      <th>ARRIVAL_DELAY</th>\n",
       "      <th>SCHEDULED_ELAPSED_TIME</th>\n",
       "    </tr>\n",
       "  </thead>\n",
       "  <tbody>\n",
       "    <tr>\n",
       "      <th>0</th>\n",
       "      <td>1</td>\n",
       "      <td>0</td>\n",
       "      <td>0</td>\n",
       "      <td>0</td>\n",
       "      <td>0</td>\n",
       "      <td>0</td>\n",
       "      <td>0</td>\n",
       "      <td>0</td>\n",
       "      <td>0</td>\n",
       "      <td>0</td>\n",
       "      <td>...</td>\n",
       "      <td>17</td>\n",
       "      <td>35</td>\n",
       "      <td>0</td>\n",
       "      <td>0</td>\n",
       "      <td>18</td>\n",
       "      <td>41</td>\n",
       "      <td>0</td>\n",
       "      <td>8.331490</td>\n",
       "      <td>0.402599</td>\n",
       "      <td>66.0</td>\n",
       "    </tr>\n",
       "    <tr>\n",
       "      <th>1</th>\n",
       "      <td>0</td>\n",
       "      <td>1</td>\n",
       "      <td>0</td>\n",
       "      <td>0</td>\n",
       "      <td>0</td>\n",
       "      <td>0</td>\n",
       "      <td>0</td>\n",
       "      <td>0</td>\n",
       "      <td>0</td>\n",
       "      <td>0</td>\n",
       "      <td>...</td>\n",
       "      <td>21</td>\n",
       "      <td>40</td>\n",
       "      <td>0</td>\n",
       "      <td>1</td>\n",
       "      <td>0</td>\n",
       "      <td>36</td>\n",
       "      <td>0</td>\n",
       "      <td>12.805626</td>\n",
       "      <td>0.402599</td>\n",
       "      <td>176.0</td>\n",
       "    </tr>\n",
       "    <tr>\n",
       "      <th>2</th>\n",
       "      <td>0</td>\n",
       "      <td>0</td>\n",
       "      <td>0</td>\n",
       "      <td>1</td>\n",
       "      <td>0</td>\n",
       "      <td>0</td>\n",
       "      <td>0</td>\n",
       "      <td>0</td>\n",
       "      <td>0</td>\n",
       "      <td>0</td>\n",
       "      <td>...</td>\n",
       "      <td>21</td>\n",
       "      <td>15</td>\n",
       "      <td>0</td>\n",
       "      <td>0</td>\n",
       "      <td>22</td>\n",
       "      <td>35</td>\n",
       "      <td>0</td>\n",
       "      <td>9.407052</td>\n",
       "      <td>0.402598</td>\n",
       "      <td>80.0</td>\n",
       "    </tr>\n",
       "    <tr>\n",
       "      <th>3</th>\n",
       "      <td>0</td>\n",
       "      <td>0</td>\n",
       "      <td>0</td>\n",
       "      <td>0</td>\n",
       "      <td>1</td>\n",
       "      <td>0</td>\n",
       "      <td>0</td>\n",
       "      <td>0</td>\n",
       "      <td>0</td>\n",
       "      <td>0</td>\n",
       "      <td>...</td>\n",
       "      <td>15</td>\n",
       "      <td>19</td>\n",
       "      <td>0</td>\n",
       "      <td>1</td>\n",
       "      <td>16</td>\n",
       "      <td>55</td>\n",
       "      <td>0</td>\n",
       "      <td>9.964518</td>\n",
       "      <td>0.402599</td>\n",
       "      <td>96.0</td>\n",
       "    </tr>\n",
       "    <tr>\n",
       "      <th>4</th>\n",
       "      <td>0</td>\n",
       "      <td>0</td>\n",
       "      <td>1</td>\n",
       "      <td>0</td>\n",
       "      <td>0</td>\n",
       "      <td>0</td>\n",
       "      <td>0</td>\n",
       "      <td>0</td>\n",
       "      <td>0</td>\n",
       "      <td>0</td>\n",
       "      <td>...</td>\n",
       "      <td>19</td>\n",
       "      <td>0</td>\n",
       "      <td>0</td>\n",
       "      <td>0</td>\n",
       "      <td>20</td>\n",
       "      <td>40</td>\n",
       "      <td>0</td>\n",
       "      <td>10.650590</td>\n",
       "      <td>0.402598</td>\n",
       "      <td>100.0</td>\n",
       "    </tr>\n",
       "  </tbody>\n",
       "</table>\n",
       "<p>5 rows × 639 columns</p>\n",
       "</div>"
      ],
      "text/plain": [
       "   AIRL_EV  AIRL_B6  AIRL_DL  AIRL_WN  AIRL_OO  AIRL_F9  AIRL_AA  AIRL_UA  \\\n",
       "0        1        0        0        0        0        0        0        0   \n",
       "1        0        1        0        0        0        0        0        0   \n",
       "2        0        0        0        1        0        0        0        0   \n",
       "3        0        0        0        0        1        0        0        0   \n",
       "4        0        0        1        0        0        0        0        0   \n",
       "\n",
       "   AIRL_NK  AIRL_VX           ...            SCHEDULED_DEPARTURE_HOUR  \\\n",
       "0        0        0           ...                                  17   \n",
       "1        0        0           ...                                  21   \n",
       "2        0        0           ...                                  21   \n",
       "3        0        0           ...                                  15   \n",
       "4        0        0           ...                                  19   \n",
       "\n",
       "   SCHEDULED_DEPARTURE_MINUTE  SCHEDULED_DEPARTURE_SECOND  IS_WEEKEND  \\\n",
       "0                          35                           0           0   \n",
       "1                          40                           0           1   \n",
       "2                          15                           0           0   \n",
       "3                          19                           0           1   \n",
       "4                           0                           0           0   \n",
       "\n",
       "   SCHEDULED_ARRIVAL_HOUR  SCHEDULED_ARRIVAL_MINUTE  \\\n",
       "0                      18                        41   \n",
       "1                       0                        36   \n",
       "2                      22                        35   \n",
       "3                      16                        55   \n",
       "4                      20                        40   \n",
       "\n",
       "   SCHEDULED_ARRIVAL_SECONDE   DISTANCE  ARRIVAL_DELAY  SCHEDULED_ELAPSED_TIME  \n",
       "0                          0   8.331490       0.402599                    66.0  \n",
       "1                          0  12.805626       0.402599                   176.0  \n",
       "2                          0   9.407052       0.402598                    80.0  \n",
       "3                          0   9.964518       0.402599                    96.0  \n",
       "4                          0  10.650590       0.402598                   100.0  \n",
       "\n",
       "[5 rows x 639 columns]"
      ]
     },
     "execution_count": 4,
     "metadata": {},
     "output_type": "execute_result"
    }
   ],
   "source": [
    "df_tmp.head()"
   ]
  },
  {
   "cell_type": "code",
   "execution_count": 5,
   "metadata": {},
   "outputs": [],
   "source": [
    "# https://stackoverflow.com/questions/26391454/reverse-box-cox-transformation\n",
    "def invboxcox(y,ld, offset):\n",
    "    if ld == 0:\n",
    "        return (np.exp(y) - offset)\n",
    "    else:\n",
    "        return (np.exp(np.log(ld*y+1)/ld) - offset)"
   ]
  },
  {
   "cell_type": "markdown",
   "metadata": {},
   "source": [
    "Let's read different airlines, origine airport and destination airports (each one is prefixed):"
   ]
  },
  {
   "cell_type": "code",
   "execution_count": 6,
   "metadata": {},
   "outputs": [],
   "source": [
    "airline = [col for col in df_tmp.columns if 'AIRL_' in col ]\n",
    "origine = [col for col in df_tmp.columns if 'ORIG_' in col ]\n",
    "destination = [col for col in df_tmp.columns if 'DEST_' in col ]"
   ]
  },
  {
   "cell_type": "code",
   "execution_count": 7,
   "metadata": {},
   "outputs": [
    {
     "data": {
      "text/plain": [
       "12"
      ]
     },
     "execution_count": 7,
     "metadata": {},
     "output_type": "execute_result"
    }
   ],
   "source": [
    "len(airline)"
   ]
  },
  {
   "cell_type": "code",
   "execution_count": 8,
   "metadata": {},
   "outputs": [
    {
     "data": {
      "text/plain": [
       "308"
      ]
     },
     "execution_count": 8,
     "metadata": {},
     "output_type": "execute_result"
    }
   ],
   "source": [
    "len(origine)"
   ]
  },
  {
   "cell_type": "code",
   "execution_count": 9,
   "metadata": {},
   "outputs": [
    {
     "data": {
      "text/plain": [
       "307"
      ]
     },
     "execution_count": 9,
     "metadata": {},
     "output_type": "execute_result"
    }
   ],
   "source": [
    "len(destination)"
   ]
  },
  {
   "cell_type": "markdown",
   "metadata": {},
   "source": [
    "We can observe that we got scheduled departed month from January to December:"
   ]
  },
  {
   "cell_type": "code",
   "execution_count": 10,
   "metadata": {},
   "outputs": [
    {
     "data": {
      "text/plain": [
       "1"
      ]
     },
     "execution_count": 10,
     "metadata": {},
     "output_type": "execute_result"
    }
   ],
   "source": [
    "min(df_tmp.SCHEDULED_DEPARTURE_MONTH)"
   ]
  },
  {
   "cell_type": "code",
   "execution_count": 11,
   "metadata": {},
   "outputs": [
    {
     "data": {
      "text/plain": [
       "12"
      ]
     },
     "execution_count": 11,
     "metadata": {},
     "output_type": "execute_result"
    }
   ],
   "source": [
    "max(df_tmp.SCHEDULED_DEPARTURE_MONTH)"
   ]
  },
  {
   "cell_type": "markdown",
   "metadata": {},
   "source": [
    "## 1.2 Variation of delay per month"
   ]
  },
  {
   "cell_type": "markdown",
   "metadata": {},
   "source": [
    "Let's observe the delay variation per month:"
   ]
  },
  {
   "cell_type": "code",
   "execution_count": 12,
   "metadata": {},
   "outputs": [
    {
     "data": {
      "text/plain": [
       "Text(0.5,1,'Flight delay based on month departure')"
      ]
     },
     "execution_count": 12,
     "metadata": {},
     "output_type": "execute_result"
    },
    {
     "data": {
      "image/png": "[encoded data removed]",
      "text/plain": [
       "<Figure size 432x288 with 1 Axes>"
      ]
     },
     "metadata": {},
     "output_type": "display_data"
    }
   ],
   "source": [
    "month_list = df_tmp.SCHEDULED_DEPARTURE_MONTH.unique()\n",
    "month_mean_delay = []\n",
    "\n",
    "for month in month_list:\n",
    "    subset = invboxcox(df_tmp[df_tmp.SCHEDULED_DEPARTURE_MONTH == month][\"ARRIVAL_DELAY\"], coxbox_ld_arrival_delay, coxbox_add_arrival_delay)\n",
    "    month_mean_delay.append(subset.mean())\n",
    "\n",
    "my_df = pd.DataFrame({'index': month_list, 'missing_values': month_mean_delay})\n",
    "my_df = my_df.sort_values('missing_values')\n",
    "\n",
    "fig, ax = plt.subplots()\n",
    "\n",
    "sns.barplot(x='index', y=\"missing_values\", data=my_df, ax=ax)\n",
    "ax.set_xlabel('Month')\n",
    "ax.set_ylabel('Average Delay(minutes)')\n",
    "ax.set_title('Flight delay based on month departure')"
   ]
  },
  {
   "cell_type": "markdown",
   "metadata": {},
   "source": [
    "In case of timeseries prediction we are looking for a monthly trend flat in several months (we only one year history), let's select March, April and May months."
   ]
  },
  {
   "cell_type": "code",
   "execution_count": 13,
   "metadata": {},
   "outputs": [],
   "source": [
    "df_tmp = df_tmp[(df_tmp.SCHEDULED_DEPARTURE_MONTH == 3) | (df_tmp.SCHEDULED_DEPARTURE_MONTH == 4) | (df_tmp.SCHEDULED_DEPARTURE_MONTH == 5)]"
   ]
  },
  {
   "cell_type": "markdown",
   "metadata": {},
   "source": [
    "## 1.3 Variationnal delay per day"
   ]
  },
  {
   "cell_type": "markdown",
   "metadata": {},
   "source": [
    "If we look the variationnal delay on day:"
   ]
  },
  {
   "cell_type": "code",
   "execution_count": 14,
   "metadata": {},
   "outputs": [
    {
     "data": {
      "text/plain": [
       "Text(0.5,1,'Flights delay based on day departure')"
      ]
     },
     "execution_count": 14,
     "metadata": {},
     "output_type": "execute_result"
    },
    {
     "data": {
      "image/png": "[encoded data removed]",
      "text/plain": [
       "<Figure size 432x288 with 1 Axes>"
      ]
     },
     "metadata": {},
     "output_type": "display_data"
    }
   ],
   "source": [
    "# Let's find ORIGIN_AIRPORT_ID\n",
    "df_subset = df_tmp\n",
    "\n",
    "day_list = df_subset.SCHEDULED_DEPARTURE_DAY.unique()\n",
    "day_mean_delay = []\n",
    "\n",
    "for day in day_list:\n",
    "    subset = invboxcox(df_subset[df_subset.SCHEDULED_DEPARTURE_DAY == day][\"ARRIVAL_DELAY\"], coxbox_ld_arrival_delay, coxbox_add_arrival_delay)\n",
    "    day_mean_delay.append(subset.mean())\n",
    "\n",
    "my_df = pd.DataFrame({'index': day_list, 'missing_values': day_mean_delay})\n",
    "my_df = my_df.sort_values('missing_values')\n",
    "\n",
    "fig, ax = plt.subplots()\n",
    "\n",
    "sns.barplot(x='index', y=\"missing_values\", data=my_df, ax=ax)\n",
    "ax.set_xlabel('Day')\n",
    "ax.set_ylabel('Average Delay(minutes)')\n",
    "ax.set_title('Flights delay based on day departure')"
   ]
  },
  {
   "cell_type": "markdown",
   "metadata": {},
   "source": [
    "We can see that some days have highest delay than other: day 1  vs day 23 for example."
   ]
  },
  {
   "cell_type": "markdown",
   "metadata": {},
   "source": [
    "## 1.4. Rebuild dataframe components"
   ]
  },
  {
   "cell_type": "markdown",
   "metadata": {},
   "source": [
    "In order to keep one column per airline, origin and destination let's gather all AIRLINE, ORIGIN and DESTINATION into only one column:"
   ]
  },
  {
   "cell_type": "code",
   "execution_count": 15,
   "metadata": {},
   "outputs": [
    {
     "name": "stdout",
     "output_type": "stream",
     "text": [
      "added AIRLINE\n",
      "added ORIGIN\n",
      "added DESTINATION\n"
     ]
    }
   ],
   "source": [
    "airline_arr = []\n",
    "for index, col in df_tmp.iterrows():\n",
    "    for air in airline:\n",
    "        if (col[air] == 1):\n",
    "            airline_arr.append(air)\n",
    "df_tmp['AIRLINE'] = airline_arr\n",
    "print('added AIRLINE')\n",
    "\n",
    "origine_arr = []\n",
    "for index, col in df_tmp.iterrows():\n",
    "    for orig in origine:\n",
    "        if (col[orig] == 1):\n",
    "            origine_arr.append(orig)\n",
    "df_tmp['ORIGIN'] = origine_arr\n",
    "\n",
    "print('added ORIGIN')\n",
    "destination_arr = []\n",
    "for index, col in df_tmp.iterrows():\n",
    "    for dest in destination:\n",
    "        if (col[dest] == 1):\n",
    "            destination_arr.append(dest)\n",
    "df_tmp['DESTINATION'] = destination_arr\n",
    "print('added DESTINATION')"
   ]
  },
  {
   "cell_type": "code",
   "execution_count": 16,
   "metadata": {},
   "outputs": [
    {
     "data": {
      "text/html": [
       "<div>\n",
       "<style scoped>\n",
       "    .dataframe tbody tr th:only-of-type {\n",
       "        vertical-align: middle;\n",
       "    }\n",
       "\n",
       "    .dataframe tbody tr th {\n",
       "        vertical-align: top;\n",
       "    }\n",
       "\n",
       "    .dataframe thead th {\n",
       "        text-align: right;\n",
       "    }\n",
       "</style>\n",
       "<table border=\"1\" class=\"dataframe\">\n",
       "  <thead>\n",
       "    <tr style=\"text-align: right;\">\n",
       "      <th></th>\n",
       "      <th>AIRL_EV</th>\n",
       "      <th>AIRL_B6</th>\n",
       "      <th>AIRL_DL</th>\n",
       "      <th>AIRL_WN</th>\n",
       "      <th>AIRL_OO</th>\n",
       "      <th>AIRL_F9</th>\n",
       "      <th>AIRL_AA</th>\n",
       "      <th>AIRL_UA</th>\n",
       "      <th>AIRL_NK</th>\n",
       "      <th>AIRL_VX</th>\n",
       "      <th>...</th>\n",
       "      <th>IS_WEEKEND</th>\n",
       "      <th>SCHEDULED_ARRIVAL_HOUR</th>\n",
       "      <th>SCHEDULED_ARRIVAL_MINUTE</th>\n",
       "      <th>SCHEDULED_ARRIVAL_SECONDE</th>\n",
       "      <th>DISTANCE</th>\n",
       "      <th>ARRIVAL_DELAY</th>\n",
       "      <th>SCHEDULED_ELAPSED_TIME</th>\n",
       "      <th>AIRLINE</th>\n",
       "      <th>ORIGIN</th>\n",
       "      <th>DESTINATION</th>\n",
       "    </tr>\n",
       "  </thead>\n",
       "  <tbody>\n",
       "    <tr>\n",
       "      <th>18964</th>\n",
       "      <td>0</td>\n",
       "      <td>0</td>\n",
       "      <td>0</td>\n",
       "      <td>1</td>\n",
       "      <td>0</td>\n",
       "      <td>0</td>\n",
       "      <td>0</td>\n",
       "      <td>0</td>\n",
       "      <td>0</td>\n",
       "      <td>0</td>\n",
       "      <td>...</td>\n",
       "      <td>0</td>\n",
       "      <td>23</td>\n",
       "      <td>15</td>\n",
       "      <td>0</td>\n",
       "      <td>11.904045</td>\n",
       "      <td>0.402599</td>\n",
       "      <td>120.0</td>\n",
       "      <td>AIRL_WN</td>\n",
       "      <td>ORIG_DEN</td>\n",
       "      <td>DEST_SAT</td>\n",
       "    </tr>\n",
       "    <tr>\n",
       "      <th>18965</th>\n",
       "      <td>0</td>\n",
       "      <td>0</td>\n",
       "      <td>0</td>\n",
       "      <td>1</td>\n",
       "      <td>0</td>\n",
       "      <td>0</td>\n",
       "      <td>0</td>\n",
       "      <td>0</td>\n",
       "      <td>0</td>\n",
       "      <td>0</td>\n",
       "      <td>...</td>\n",
       "      <td>0</td>\n",
       "      <td>13</td>\n",
       "      <td>0</td>\n",
       "      <td>0</td>\n",
       "      <td>14.695597</td>\n",
       "      <td>0.402599</td>\n",
       "      <td>255.0</td>\n",
       "      <td>AIRL_WN</td>\n",
       "      <td>ORIG_LAX</td>\n",
       "      <td>DEST_ATL</td>\n",
       "    </tr>\n",
       "    <tr>\n",
       "      <th>18966</th>\n",
       "      <td>0</td>\n",
       "      <td>0</td>\n",
       "      <td>0</td>\n",
       "      <td>1</td>\n",
       "      <td>0</td>\n",
       "      <td>0</td>\n",
       "      <td>0</td>\n",
       "      <td>0</td>\n",
       "      <td>0</td>\n",
       "      <td>0</td>\n",
       "      <td>...</td>\n",
       "      <td>0</td>\n",
       "      <td>20</td>\n",
       "      <td>50</td>\n",
       "      <td>0</td>\n",
       "      <td>9.621861</td>\n",
       "      <td>0.402598</td>\n",
       "      <td>70.0</td>\n",
       "      <td>AIRL_WN</td>\n",
       "      <td>ORIG_SJC</td>\n",
       "      <td>DEST_SNA</td>\n",
       "    </tr>\n",
       "    <tr>\n",
       "      <th>18967</th>\n",
       "      <td>1</td>\n",
       "      <td>0</td>\n",
       "      <td>0</td>\n",
       "      <td>0</td>\n",
       "      <td>0</td>\n",
       "      <td>0</td>\n",
       "      <td>0</td>\n",
       "      <td>0</td>\n",
       "      <td>0</td>\n",
       "      <td>0</td>\n",
       "      <td>...</td>\n",
       "      <td>0</td>\n",
       "      <td>11</td>\n",
       "      <td>11</td>\n",
       "      <td>0</td>\n",
       "      <td>6.412105</td>\n",
       "      <td>0.402598</td>\n",
       "      <td>46.0</td>\n",
       "      <td>AIRL_EV</td>\n",
       "      <td>ORIG_ATL</td>\n",
       "      <td>DEST_CSG</td>\n",
       "    </tr>\n",
       "    <tr>\n",
       "      <th>18968</th>\n",
       "      <td>0</td>\n",
       "      <td>0</td>\n",
       "      <td>0</td>\n",
       "      <td>0</td>\n",
       "      <td>0</td>\n",
       "      <td>0</td>\n",
       "      <td>1</td>\n",
       "      <td>0</td>\n",
       "      <td>0</td>\n",
       "      <td>0</td>\n",
       "      <td>...</td>\n",
       "      <td>0</td>\n",
       "      <td>15</td>\n",
       "      <td>26</td>\n",
       "      <td>0</td>\n",
       "      <td>14.385260</td>\n",
       "      <td>0.402599</td>\n",
       "      <td>231.0</td>\n",
       "      <td>AIRL_AA</td>\n",
       "      <td>ORIG_PHX</td>\n",
       "      <td>DEST_CLT</td>\n",
       "    </tr>\n",
       "  </tbody>\n",
       "</table>\n",
       "<p>5 rows × 642 columns</p>\n",
       "</div>"
      ],
      "text/plain": [
       "       AIRL_EV  AIRL_B6  AIRL_DL  AIRL_WN  AIRL_OO  AIRL_F9  AIRL_AA  AIRL_UA  \\\n",
       "18964        0        0        0        1        0        0        0        0   \n",
       "18965        0        0        0        1        0        0        0        0   \n",
       "18966        0        0        0        1        0        0        0        0   \n",
       "18967        1        0        0        0        0        0        0        0   \n",
       "18968        0        0        0        0        0        0        1        0   \n",
       "\n",
       "       AIRL_NK  AIRL_VX     ...       IS_WEEKEND  SCHEDULED_ARRIVAL_HOUR  \\\n",
       "18964        0        0     ...                0                      23   \n",
       "18965        0        0     ...                0                      13   \n",
       "18966        0        0     ...                0                      20   \n",
       "18967        0        0     ...                0                      11   \n",
       "18968        0        0     ...                0                      15   \n",
       "\n",
       "       SCHEDULED_ARRIVAL_MINUTE  SCHEDULED_ARRIVAL_SECONDE   DISTANCE  \\\n",
       "18964                        15                          0  11.904045   \n",
       "18965                         0                          0  14.695597   \n",
       "18966                        50                          0   9.621861   \n",
       "18967                        11                          0   6.412105   \n",
       "18968                        26                          0  14.385260   \n",
       "\n",
       "       ARRIVAL_DELAY  SCHEDULED_ELAPSED_TIME  AIRLINE    ORIGIN  DESTINATION  \n",
       "18964       0.402599                   120.0  AIRL_WN  ORIG_DEN     DEST_SAT  \n",
       "18965       0.402599                   255.0  AIRL_WN  ORIG_LAX     DEST_ATL  \n",
       "18966       0.402598                    70.0  AIRL_WN  ORIG_SJC     DEST_SNA  \n",
       "18967       0.402598                    46.0  AIRL_EV  ORIG_ATL     DEST_CSG  \n",
       "18968       0.402599                   231.0  AIRL_AA  ORIG_PHX     DEST_CLT  \n",
       "\n",
       "[5 rows x 642 columns]"
      ]
     },
     "execution_count": 16,
     "metadata": {},
     "output_type": "execute_result"
    }
   ],
   "source": [
    "df_tmp.head()"
   ]
  },
  {
   "cell_type": "markdown",
   "metadata": {},
   "source": [
    "In the same way, let's gather **SCHEDULED_DEPARTURE** and **SCHEDULED_ARRIVAL** columns in the same one:"
   ]
  },
  {
   "cell_type": "code",
   "execution_count": 17,
   "metadata": {},
   "outputs": [],
   "source": [
    "dt_dep = []\n",
    "for index, col in df_tmp.iterrows():\n",
    "    dt_dep.append(pd.to_datetime(datetime.datetime(2016, \n",
    "                                                   col['SCHEDULED_DEPARTURE_MONTH'], \n",
    "                                                   col['SCHEDULED_DEPARTURE_DAY'], \n",
    "                                                   col['SCHEDULED_DEPARTURE_HOUR'], \n",
    "                                                   col['SCHEDULED_DEPARTURE_MINUTE'], \n",
    "                                                   col['SCHEDULED_DEPARTURE_SECOND'])))\n",
    "df_tmp['SCHEDULED_DEPARTURE'] = dt_dep"
   ]
  },
  {
   "cell_type": "code",
   "execution_count": 18,
   "metadata": {},
   "outputs": [],
   "source": [
    "dt_arr = []\n",
    "for index, col in df_tmp.iterrows():\n",
    "    dt_arr.append(datetime.time(col['SCHEDULED_ARRIVAL_HOUR'],\n",
    "                                col['SCHEDULED_ARRIVAL_MINUTE'],\n",
    "                                col['SCHEDULED_ARRIVAL_SECONDE']))\n",
    "df_tmp['SCHEDULED_ARRIVAL'] = dt_arr"
   ]
  },
  {
   "cell_type": "code",
   "execution_count": 19,
   "metadata": {},
   "outputs": [],
   "source": [
    "#df_tmp.iloc[0]"
   ]
  },
  {
   "cell_type": "code",
   "execution_count": 20,
   "metadata": {},
   "outputs": [
    {
     "data": {
      "text/html": [
       "<div>\n",
       "<style scoped>\n",
       "    .dataframe tbody tr th:only-of-type {\n",
       "        vertical-align: middle;\n",
       "    }\n",
       "\n",
       "    .dataframe tbody tr th {\n",
       "        vertical-align: top;\n",
       "    }\n",
       "\n",
       "    .dataframe thead th {\n",
       "        text-align: right;\n",
       "    }\n",
       "</style>\n",
       "<table border=\"1\" class=\"dataframe\">\n",
       "  <thead>\n",
       "    <tr style=\"text-align: right;\">\n",
       "      <th></th>\n",
       "      <th>AIRL_EV</th>\n",
       "      <th>AIRL_B6</th>\n",
       "      <th>AIRL_DL</th>\n",
       "      <th>AIRL_WN</th>\n",
       "      <th>AIRL_OO</th>\n",
       "      <th>AIRL_F9</th>\n",
       "      <th>AIRL_AA</th>\n",
       "      <th>AIRL_UA</th>\n",
       "      <th>AIRL_NK</th>\n",
       "      <th>AIRL_VX</th>\n",
       "      <th>...</th>\n",
       "      <th>SCHEDULED_ARRIVAL_MINUTE</th>\n",
       "      <th>SCHEDULED_ARRIVAL_SECONDE</th>\n",
       "      <th>DISTANCE</th>\n",
       "      <th>ARRIVAL_DELAY</th>\n",
       "      <th>SCHEDULED_ELAPSED_TIME</th>\n",
       "      <th>AIRLINE</th>\n",
       "      <th>ORIGIN</th>\n",
       "      <th>DESTINATION</th>\n",
       "      <th>SCHEDULED_DEPARTURE</th>\n",
       "      <th>SCHEDULED_ARRIVAL</th>\n",
       "    </tr>\n",
       "    <tr>\n",
       "      <th>SCHEDULED_DEPARTURE</th>\n",
       "      <th></th>\n",
       "      <th></th>\n",
       "      <th></th>\n",
       "      <th></th>\n",
       "      <th></th>\n",
       "      <th></th>\n",
       "      <th></th>\n",
       "      <th></th>\n",
       "      <th></th>\n",
       "      <th></th>\n",
       "      <th></th>\n",
       "      <th></th>\n",
       "      <th></th>\n",
       "      <th></th>\n",
       "      <th></th>\n",
       "      <th></th>\n",
       "      <th></th>\n",
       "      <th></th>\n",
       "      <th></th>\n",
       "      <th></th>\n",
       "      <th></th>\n",
       "    </tr>\n",
       "  </thead>\n",
       "  <tbody>\n",
       "    <tr>\n",
       "      <th>2016-03-29 20:15:00</th>\n",
       "      <td>0</td>\n",
       "      <td>0</td>\n",
       "      <td>0</td>\n",
       "      <td>1</td>\n",
       "      <td>0</td>\n",
       "      <td>0</td>\n",
       "      <td>0</td>\n",
       "      <td>0</td>\n",
       "      <td>0</td>\n",
       "      <td>0</td>\n",
       "      <td>...</td>\n",
       "      <td>15</td>\n",
       "      <td>0</td>\n",
       "      <td>11.904045</td>\n",
       "      <td>0.402599</td>\n",
       "      <td>120.0</td>\n",
       "      <td>AIRL_WN</td>\n",
       "      <td>ORIG_DEN</td>\n",
       "      <td>DEST_SAT</td>\n",
       "      <td>2016-03-29 20:15:00</td>\n",
       "      <td>23:15:00</td>\n",
       "    </tr>\n",
       "    <tr>\n",
       "      <th>2016-03-11 05:45:00</th>\n",
       "      <td>0</td>\n",
       "      <td>0</td>\n",
       "      <td>0</td>\n",
       "      <td>1</td>\n",
       "      <td>0</td>\n",
       "      <td>0</td>\n",
       "      <td>0</td>\n",
       "      <td>0</td>\n",
       "      <td>0</td>\n",
       "      <td>0</td>\n",
       "      <td>...</td>\n",
       "      <td>0</td>\n",
       "      <td>0</td>\n",
       "      <td>14.695597</td>\n",
       "      <td>0.402599</td>\n",
       "      <td>255.0</td>\n",
       "      <td>AIRL_WN</td>\n",
       "      <td>ORIG_LAX</td>\n",
       "      <td>DEST_ATL</td>\n",
       "      <td>2016-03-11 05:45:00</td>\n",
       "      <td>13:00:00</td>\n",
       "    </tr>\n",
       "    <tr>\n",
       "      <th>2016-03-21 19:40:00</th>\n",
       "      <td>0</td>\n",
       "      <td>0</td>\n",
       "      <td>0</td>\n",
       "      <td>1</td>\n",
       "      <td>0</td>\n",
       "      <td>0</td>\n",
       "      <td>0</td>\n",
       "      <td>0</td>\n",
       "      <td>0</td>\n",
       "      <td>0</td>\n",
       "      <td>...</td>\n",
       "      <td>50</td>\n",
       "      <td>0</td>\n",
       "      <td>9.621861</td>\n",
       "      <td>0.402598</td>\n",
       "      <td>70.0</td>\n",
       "      <td>AIRL_WN</td>\n",
       "      <td>ORIG_SJC</td>\n",
       "      <td>DEST_SNA</td>\n",
       "      <td>2016-03-21 19:40:00</td>\n",
       "      <td>20:50:00</td>\n",
       "    </tr>\n",
       "    <tr>\n",
       "      <th>2016-03-29 10:25:00</th>\n",
       "      <td>1</td>\n",
       "      <td>0</td>\n",
       "      <td>0</td>\n",
       "      <td>0</td>\n",
       "      <td>0</td>\n",
       "      <td>0</td>\n",
       "      <td>0</td>\n",
       "      <td>0</td>\n",
       "      <td>0</td>\n",
       "      <td>0</td>\n",
       "      <td>...</td>\n",
       "      <td>11</td>\n",
       "      <td>0</td>\n",
       "      <td>6.412105</td>\n",
       "      <td>0.402598</td>\n",
       "      <td>46.0</td>\n",
       "      <td>AIRL_EV</td>\n",
       "      <td>ORIG_ATL</td>\n",
       "      <td>DEST_CSG</td>\n",
       "      <td>2016-03-29 10:25:00</td>\n",
       "      <td>11:11:00</td>\n",
       "    </tr>\n",
       "    <tr>\n",
       "      <th>2016-03-10 09:35:00</th>\n",
       "      <td>0</td>\n",
       "      <td>0</td>\n",
       "      <td>0</td>\n",
       "      <td>0</td>\n",
       "      <td>0</td>\n",
       "      <td>0</td>\n",
       "      <td>1</td>\n",
       "      <td>0</td>\n",
       "      <td>0</td>\n",
       "      <td>0</td>\n",
       "      <td>...</td>\n",
       "      <td>26</td>\n",
       "      <td>0</td>\n",
       "      <td>14.385260</td>\n",
       "      <td>0.402599</td>\n",
       "      <td>231.0</td>\n",
       "      <td>AIRL_AA</td>\n",
       "      <td>ORIG_PHX</td>\n",
       "      <td>DEST_CLT</td>\n",
       "      <td>2016-03-10 09:35:00</td>\n",
       "      <td>15:26:00</td>\n",
       "    </tr>\n",
       "  </tbody>\n",
       "</table>\n",
       "<p>5 rows × 644 columns</p>\n",
       "</div>"
      ],
      "text/plain": [
       "                     AIRL_EV  AIRL_B6  AIRL_DL  AIRL_WN  AIRL_OO  AIRL_F9  \\\n",
       "SCHEDULED_DEPARTURE                                                         \n",
       "2016-03-29 20:15:00        0        0        0        1        0        0   \n",
       "2016-03-11 05:45:00        0        0        0        1        0        0   \n",
       "2016-03-21 19:40:00        0        0        0        1        0        0   \n",
       "2016-03-29 10:25:00        1        0        0        0        0        0   \n",
       "2016-03-10 09:35:00        0        0        0        0        0        0   \n",
       "\n",
       "                     AIRL_AA  AIRL_UA  AIRL_NK  AIRL_VX        ...          \\\n",
       "SCHEDULED_DEPARTURE                                            ...           \n",
       "2016-03-29 20:15:00        0        0        0        0        ...           \n",
       "2016-03-11 05:45:00        0        0        0        0        ...           \n",
       "2016-03-21 19:40:00        0        0        0        0        ...           \n",
       "2016-03-29 10:25:00        0        0        0        0        ...           \n",
       "2016-03-10 09:35:00        1        0        0        0        ...           \n",
       "\n",
       "                     SCHEDULED_ARRIVAL_MINUTE  SCHEDULED_ARRIVAL_SECONDE  \\\n",
       "SCHEDULED_DEPARTURE                                                        \n",
       "2016-03-29 20:15:00                        15                          0   \n",
       "2016-03-11 05:45:00                         0                          0   \n",
       "2016-03-21 19:40:00                        50                          0   \n",
       "2016-03-29 10:25:00                        11                          0   \n",
       "2016-03-10 09:35:00                        26                          0   \n",
       "\n",
       "                      DISTANCE  ARRIVAL_DELAY  SCHEDULED_ELAPSED_TIME  \\\n",
       "SCHEDULED_DEPARTURE                                                     \n",
       "2016-03-29 20:15:00  11.904045       0.402599                   120.0   \n",
       "2016-03-11 05:45:00  14.695597       0.402599                   255.0   \n",
       "2016-03-21 19:40:00   9.621861       0.402598                    70.0   \n",
       "2016-03-29 10:25:00   6.412105       0.402598                    46.0   \n",
       "2016-03-10 09:35:00  14.385260       0.402599                   231.0   \n",
       "\n",
       "                     AIRLINE    ORIGIN  DESTINATION  SCHEDULED_DEPARTURE  \\\n",
       "SCHEDULED_DEPARTURE                                                        \n",
       "2016-03-29 20:15:00  AIRL_WN  ORIG_DEN     DEST_SAT  2016-03-29 20:15:00   \n",
       "2016-03-11 05:45:00  AIRL_WN  ORIG_LAX     DEST_ATL  2016-03-11 05:45:00   \n",
       "2016-03-21 19:40:00  AIRL_WN  ORIG_SJC     DEST_SNA  2016-03-21 19:40:00   \n",
       "2016-03-29 10:25:00  AIRL_EV  ORIG_ATL     DEST_CSG  2016-03-29 10:25:00   \n",
       "2016-03-10 09:35:00  AIRL_AA  ORIG_PHX     DEST_CLT  2016-03-10 09:35:00   \n",
       "\n",
       "                     SCHEDULED_ARRIVAL  \n",
       "SCHEDULED_DEPARTURE                     \n",
       "2016-03-29 20:15:00           23:15:00  \n",
       "2016-03-11 05:45:00           13:00:00  \n",
       "2016-03-21 19:40:00           20:50:00  \n",
       "2016-03-29 10:25:00           11:11:00  \n",
       "2016-03-10 09:35:00           15:26:00  \n",
       "\n",
       "[5 rows x 644 columns]"
      ]
     },
     "execution_count": 20,
     "metadata": {},
     "output_type": "execute_result"
    }
   ],
   "source": [
    "df_tmp.index = pd.to_datetime(df_tmp['SCHEDULED_DEPARTURE'])\n",
    "#df_tmp.drop('SCHEDULED_DEPARTURE', inplace=True, axis=1)\n",
    "df_tmp.head()"
   ]
  },
  {
   "cell_type": "code",
   "execution_count": 21,
   "metadata": {},
   "outputs": [
    {
     "data": {
      "text/html": [
       "<div>\n",
       "<style scoped>\n",
       "    .dataframe tbody tr th:only-of-type {\n",
       "        vertical-align: middle;\n",
       "    }\n",
       "\n",
       "    .dataframe tbody tr th {\n",
       "        vertical-align: top;\n",
       "    }\n",
       "\n",
       "    .dataframe thead th {\n",
       "        text-align: right;\n",
       "    }\n",
       "</style>\n",
       "<table border=\"1\" class=\"dataframe\">\n",
       "  <thead>\n",
       "    <tr style=\"text-align: right;\">\n",
       "      <th></th>\n",
       "      <th>AIRL_EV</th>\n",
       "      <th>AIRL_B6</th>\n",
       "      <th>AIRL_DL</th>\n",
       "      <th>AIRL_WN</th>\n",
       "      <th>AIRL_OO</th>\n",
       "      <th>AIRL_F9</th>\n",
       "      <th>AIRL_AA</th>\n",
       "      <th>AIRL_UA</th>\n",
       "      <th>AIRL_NK</th>\n",
       "      <th>AIRL_VX</th>\n",
       "      <th>...</th>\n",
       "      <th>SCHEDULED_ARRIVAL_MINUTE</th>\n",
       "      <th>SCHEDULED_ARRIVAL_SECONDE</th>\n",
       "      <th>DISTANCE</th>\n",
       "      <th>ARRIVAL_DELAY</th>\n",
       "      <th>SCHEDULED_ELAPSED_TIME</th>\n",
       "      <th>AIRLINE</th>\n",
       "      <th>ORIGIN</th>\n",
       "      <th>DESTINATION</th>\n",
       "      <th>SCHEDULED_DEPARTURE</th>\n",
       "      <th>SCHEDULED_ARRIVAL</th>\n",
       "    </tr>\n",
       "    <tr>\n",
       "      <th>SCHEDULED_DEPARTURE</th>\n",
       "      <th></th>\n",
       "      <th></th>\n",
       "      <th></th>\n",
       "      <th></th>\n",
       "      <th></th>\n",
       "      <th></th>\n",
       "      <th></th>\n",
       "      <th></th>\n",
       "      <th></th>\n",
       "      <th></th>\n",
       "      <th></th>\n",
       "      <th></th>\n",
       "      <th></th>\n",
       "      <th></th>\n",
       "      <th></th>\n",
       "      <th></th>\n",
       "      <th></th>\n",
       "      <th></th>\n",
       "      <th></th>\n",
       "      <th></th>\n",
       "      <th></th>\n",
       "    </tr>\n",
       "  </thead>\n",
       "  <tbody>\n",
       "    <tr>\n",
       "      <th>2016-03-01 05:14:00</th>\n",
       "      <td>1</td>\n",
       "      <td>0</td>\n",
       "      <td>0</td>\n",
       "      <td>0</td>\n",
       "      <td>0</td>\n",
       "      <td>0</td>\n",
       "      <td>0</td>\n",
       "      <td>0</td>\n",
       "      <td>0</td>\n",
       "      <td>0</td>\n",
       "      <td>...</td>\n",
       "      <td>8</td>\n",
       "      <td>0</td>\n",
       "      <td>6.553942</td>\n",
       "      <td>0.402598</td>\n",
       "      <td>54.0</td>\n",
       "      <td>AIRL_EV</td>\n",
       "      <td>ORIG_ACT</td>\n",
       "      <td>DEST_DFW</td>\n",
       "      <td>2016-03-01 05:14:00</td>\n",
       "      <td>06:08:00</td>\n",
       "    </tr>\n",
       "    <tr>\n",
       "      <th>2016-03-01 05:28:00</th>\n",
       "      <td>1</td>\n",
       "      <td>0</td>\n",
       "      <td>0</td>\n",
       "      <td>0</td>\n",
       "      <td>0</td>\n",
       "      <td>0</td>\n",
       "      <td>0</td>\n",
       "      <td>0</td>\n",
       "      <td>0</td>\n",
       "      <td>0</td>\n",
       "      <td>...</td>\n",
       "      <td>46</td>\n",
       "      <td>0</td>\n",
       "      <td>7.401654</td>\n",
       "      <td>0.402598</td>\n",
       "      <td>78.0</td>\n",
       "      <td>AIRL_EV</td>\n",
       "      <td>ORIG_CAK</td>\n",
       "      <td>DEST_DTW</td>\n",
       "      <td>2016-03-01 05:28:00</td>\n",
       "      <td>06:46:00</td>\n",
       "    </tr>\n",
       "    <tr>\n",
       "      <th>2016-03-01 05:30:00</th>\n",
       "      <td>0</td>\n",
       "      <td>0</td>\n",
       "      <td>1</td>\n",
       "      <td>0</td>\n",
       "      <td>0</td>\n",
       "      <td>0</td>\n",
       "      <td>0</td>\n",
       "      <td>0</td>\n",
       "      <td>0</td>\n",
       "      <td>0</td>\n",
       "      <td>...</td>\n",
       "      <td>23</td>\n",
       "      <td>0</td>\n",
       "      <td>12.987390</td>\n",
       "      <td>0.402598</td>\n",
       "      <td>173.0</td>\n",
       "      <td>AIRL_DL</td>\n",
       "      <td>ORIG_BOI</td>\n",
       "      <td>DEST_MSP</td>\n",
       "      <td>2016-03-01 05:30:00</td>\n",
       "      <td>09:23:00</td>\n",
       "    </tr>\n",
       "    <tr>\n",
       "      <th>2016-03-01 05:45:00</th>\n",
       "      <td>0</td>\n",
       "      <td>0</td>\n",
       "      <td>0</td>\n",
       "      <td>1</td>\n",
       "      <td>0</td>\n",
       "      <td>0</td>\n",
       "      <td>0</td>\n",
       "      <td>0</td>\n",
       "      <td>0</td>\n",
       "      <td>0</td>\n",
       "      <td>...</td>\n",
       "      <td>25</td>\n",
       "      <td>0</td>\n",
       "      <td>12.575300</td>\n",
       "      <td>0.402599</td>\n",
       "      <td>160.0</td>\n",
       "      <td>AIRL_WN</td>\n",
       "      <td>ORIG_MDW</td>\n",
       "      <td>DEST_TPA</td>\n",
       "      <td>2016-03-01 05:45:00</td>\n",
       "      <td>09:25:00</td>\n",
       "    </tr>\n",
       "    <tr>\n",
       "      <th>2016-03-01 05:50:00</th>\n",
       "      <td>1</td>\n",
       "      <td>0</td>\n",
       "      <td>0</td>\n",
       "      <td>0</td>\n",
       "      <td>0</td>\n",
       "      <td>0</td>\n",
       "      <td>0</td>\n",
       "      <td>0</td>\n",
       "      <td>0</td>\n",
       "      <td>0</td>\n",
       "      <td>...</td>\n",
       "      <td>32</td>\n",
       "      <td>0</td>\n",
       "      <td>10.230574</td>\n",
       "      <td>0.402598</td>\n",
       "      <td>102.0</td>\n",
       "      <td>AIRL_EV</td>\n",
       "      <td>ORIG_EWN</td>\n",
       "      <td>DEST_ATL</td>\n",
       "      <td>2016-03-01 05:50:00</td>\n",
       "      <td>07:32:00</td>\n",
       "    </tr>\n",
       "  </tbody>\n",
       "</table>\n",
       "<p>5 rows × 644 columns</p>\n",
       "</div>"
      ],
      "text/plain": [
       "                     AIRL_EV  AIRL_B6  AIRL_DL  AIRL_WN  AIRL_OO  AIRL_F9  \\\n",
       "SCHEDULED_DEPARTURE                                                         \n",
       "2016-03-01 05:14:00        1        0        0        0        0        0   \n",
       "2016-03-01 05:28:00        1        0        0        0        0        0   \n",
       "2016-03-01 05:30:00        0        0        1        0        0        0   \n",
       "2016-03-01 05:45:00        0        0        0        1        0        0   \n",
       "2016-03-01 05:50:00        1        0        0        0        0        0   \n",
       "\n",
       "                     AIRL_AA  AIRL_UA  AIRL_NK  AIRL_VX        ...          \\\n",
       "SCHEDULED_DEPARTURE                                            ...           \n",
       "2016-03-01 05:14:00        0        0        0        0        ...           \n",
       "2016-03-01 05:28:00        0        0        0        0        ...           \n",
       "2016-03-01 05:30:00        0        0        0        0        ...           \n",
       "2016-03-01 05:45:00        0        0        0        0        ...           \n",
       "2016-03-01 05:50:00        0        0        0        0        ...           \n",
       "\n",
       "                     SCHEDULED_ARRIVAL_MINUTE  SCHEDULED_ARRIVAL_SECONDE  \\\n",
       "SCHEDULED_DEPARTURE                                                        \n",
       "2016-03-01 05:14:00                         8                          0   \n",
       "2016-03-01 05:28:00                        46                          0   \n",
       "2016-03-01 05:30:00                        23                          0   \n",
       "2016-03-01 05:45:00                        25                          0   \n",
       "2016-03-01 05:50:00                        32                          0   \n",
       "\n",
       "                      DISTANCE  ARRIVAL_DELAY  SCHEDULED_ELAPSED_TIME  \\\n",
       "SCHEDULED_DEPARTURE                                                     \n",
       "2016-03-01 05:14:00   6.553942       0.402598                    54.0   \n",
       "2016-03-01 05:28:00   7.401654       0.402598                    78.0   \n",
       "2016-03-01 05:30:00  12.987390       0.402598                   173.0   \n",
       "2016-03-01 05:45:00  12.575300       0.402599                   160.0   \n",
       "2016-03-01 05:50:00  10.230574       0.402598                   102.0   \n",
       "\n",
       "                     AIRLINE    ORIGIN  DESTINATION  SCHEDULED_DEPARTURE  \\\n",
       "SCHEDULED_DEPARTURE                                                        \n",
       "2016-03-01 05:14:00  AIRL_EV  ORIG_ACT     DEST_DFW  2016-03-01 05:14:00   \n",
       "2016-03-01 05:28:00  AIRL_EV  ORIG_CAK     DEST_DTW  2016-03-01 05:28:00   \n",
       "2016-03-01 05:30:00  AIRL_DL  ORIG_BOI     DEST_MSP  2016-03-01 05:30:00   \n",
       "2016-03-01 05:45:00  AIRL_WN  ORIG_MDW     DEST_TPA  2016-03-01 05:45:00   \n",
       "2016-03-01 05:50:00  AIRL_EV  ORIG_EWN     DEST_ATL  2016-03-01 05:50:00   \n",
       "\n",
       "                     SCHEDULED_ARRIVAL  \n",
       "SCHEDULED_DEPARTURE                     \n",
       "2016-03-01 05:14:00           06:08:00  \n",
       "2016-03-01 05:28:00           06:46:00  \n",
       "2016-03-01 05:30:00           09:23:00  \n",
       "2016-03-01 05:45:00           09:25:00  \n",
       "2016-03-01 05:50:00           07:32:00  \n",
       "\n",
       "[5 rows x 644 columns]"
      ]
     },
     "execution_count": 21,
     "metadata": {},
     "output_type": "execute_result"
    }
   ],
   "source": [
    "df_tmp.sort_index(inplace=True)\n",
    "df_tmp.head()"
   ]
  },
  {
   "cell_type": "code",
   "execution_count": 22,
   "metadata": {},
   "outputs": [],
   "source": [
    "df_tmp = df_tmp.drop_duplicates('SCHEDULED_DEPARTURE', keep='first')"
   ]
  },
  {
   "cell_type": "code",
   "execution_count": 23,
   "metadata": {},
   "outputs": [
    {
     "data": {
      "text/plain": [
       "(19578, 644)"
      ]
     },
     "execution_count": 23,
     "metadata": {},
     "output_type": "execute_result"
    }
   ],
   "source": [
    "df_tmp.shape"
   ]
  },
  {
   "cell_type": "markdown",
   "metadata": {},
   "source": [
    "We can now store the dataframe for future usage:"
   ]
  },
  {
   "cell_type": "code",
   "execution_count": 24,
   "metadata": {},
   "outputs": [],
   "source": [
    "df_tmp.to_csv('dataset_prophet.csv', index=False)"
   ]
  },
  {
   "cell_type": "markdown",
   "metadata": {},
   "source": [
    "## 1.5 Arrival delay per airlines"
   ]
  },
  {
   "cell_type": "code",
   "execution_count": 25,
   "metadata": {},
   "outputs": [],
   "source": [
    "def get_stats(group):\n",
    "    return {'min': group.min(), 'max': group.max(),\n",
    "            'count': group.count(), 'mean': group.mean()}"
   ]
  },
  {
   "cell_type": "markdown",
   "metadata": {},
   "source": [
    "If we also observe the arrival delay per airlines:"
   ]
  },
  {
   "cell_type": "code",
   "execution_count": 26,
   "metadata": {},
   "outputs": [
    {
     "data": {
      "text/html": [
       "<div>\n",
       "<style scoped>\n",
       "    .dataframe tbody tr th:only-of-type {\n",
       "        vertical-align: middle;\n",
       "    }\n",
       "\n",
       "    .dataframe tbody tr th {\n",
       "        vertical-align: top;\n",
       "    }\n",
       "\n",
       "    .dataframe thead th {\n",
       "        text-align: right;\n",
       "    }\n",
       "</style>\n",
       "<table border=\"1\" class=\"dataframe\">\n",
       "  <thead>\n",
       "    <tr style=\"text-align: right;\">\n",
       "      <th></th>\n",
       "      <th>count</th>\n",
       "      <th>max</th>\n",
       "      <th>mean</th>\n",
       "      <th>min</th>\n",
       "    </tr>\n",
       "    <tr>\n",
       "      <th>AIRLINE</th>\n",
       "      <th></th>\n",
       "      <th></th>\n",
       "      <th></th>\n",
       "      <th></th>\n",
       "    </tr>\n",
       "  </thead>\n",
       "  <tbody>\n",
       "    <tr>\n",
       "      <th>AIRL_NK</th>\n",
       "      <td>499.0</td>\n",
       "      <td>85.0</td>\n",
       "      <td>5.180361</td>\n",
       "      <td>-37.0</td>\n",
       "    </tr>\n",
       "    <tr>\n",
       "      <th>AIRL_VX</th>\n",
       "      <td>173.0</td>\n",
       "      <td>71.0</td>\n",
       "      <td>2.208092</td>\n",
       "      <td>-50.0</td>\n",
       "    </tr>\n",
       "    <tr>\n",
       "      <th>AIRL_WN</th>\n",
       "      <td>4007.0</td>\n",
       "      <td>86.0</td>\n",
       "      <td>1.216122</td>\n",
       "      <td>-51.0</td>\n",
       "    </tr>\n",
       "    <tr>\n",
       "      <th>AIRL_B6</th>\n",
       "      <td>997.0</td>\n",
       "      <td>86.0</td>\n",
       "      <td>1.023069</td>\n",
       "      <td>-47.0</td>\n",
       "    </tr>\n",
       "    <tr>\n",
       "      <th>AIRL_HA</th>\n",
       "      <td>341.0</td>\n",
       "      <td>55.0</td>\n",
       "      <td>-1.592375</td>\n",
       "      <td>-35.0</td>\n",
       "    </tr>\n",
       "    <tr>\n",
       "      <th>AIRL_AA</th>\n",
       "      <td>2621.0</td>\n",
       "      <td>86.0</td>\n",
       "      <td>-1.936665</td>\n",
       "      <td>-53.0</td>\n",
       "    </tr>\n",
       "    <tr>\n",
       "      <th>AIRL_OO</th>\n",
       "      <td>2226.0</td>\n",
       "      <td>86.0</td>\n",
       "      <td>-2.402965</td>\n",
       "      <td>-45.0</td>\n",
       "    </tr>\n",
       "    <tr>\n",
       "      <th>AIRL_EV</th>\n",
       "      <td>2035.0</td>\n",
       "      <td>86.0</td>\n",
       "      <td>-3.193612</td>\n",
       "      <td>-56.0</td>\n",
       "    </tr>\n",
       "    <tr>\n",
       "      <th>AIRL_AS</th>\n",
       "      <td>426.0</td>\n",
       "      <td>75.0</td>\n",
       "      <td>-4.776995</td>\n",
       "      <td>-69.0</td>\n",
       "    </tr>\n",
       "    <tr>\n",
       "      <th>AIRL_DL</th>\n",
       "      <td>4007.0</td>\n",
       "      <td>86.0</td>\n",
       "      <td>-5.768904</td>\n",
       "      <td>-51.0</td>\n",
       "    </tr>\n",
       "    <tr>\n",
       "      <th>AIRL_F9</th>\n",
       "      <td>275.0</td>\n",
       "      <td>85.0</td>\n",
       "      <td>-6.090909</td>\n",
       "      <td>-51.0</td>\n",
       "    </tr>\n",
       "    <tr>\n",
       "      <th>AIRL_UA</th>\n",
       "      <td>1971.0</td>\n",
       "      <td>85.0</td>\n",
       "      <td>-6.911213</td>\n",
       "      <td>-59.0</td>\n",
       "    </tr>\n",
       "  </tbody>\n",
       "</table>\n",
       "</div>"
      ],
      "text/plain": [
       "          count   max      mean   min\n",
       "AIRLINE                              \n",
       "AIRL_NK   499.0  85.0  5.180361 -37.0\n",
       "AIRL_VX   173.0  71.0  2.208092 -50.0\n",
       "AIRL_WN  4007.0  86.0  1.216122 -51.0\n",
       "AIRL_B6   997.0  86.0  1.023069 -47.0\n",
       "AIRL_HA   341.0  55.0 -1.592375 -35.0\n",
       "AIRL_AA  2621.0  86.0 -1.936665 -53.0\n",
       "AIRL_OO  2226.0  86.0 -2.402965 -45.0\n",
       "AIRL_EV  2035.0  86.0 -3.193612 -56.0\n",
       "AIRL_AS   426.0  75.0 -4.776995 -69.0\n",
       "AIRL_DL  4007.0  86.0 -5.768904 -51.0\n",
       "AIRL_F9   275.0  85.0 -6.090909 -51.0\n",
       "AIRL_UA  1971.0  85.0 -6.911213 -59.0"
      ]
     },
     "execution_count": 26,
     "metadata": {},
     "output_type": "execute_result"
    }
   ],
   "source": [
    "df_tmp_copy = df_tmp.copy(deep=True)\n",
    "df_tmp_copy['ARRIVAL_DELAY_ORIGIN'] = invboxcox(df_tmp_copy['ARRIVAL_DELAY'], coxbox_ld_arrival_delay, coxbox_add_arrival_delay)\n",
    "stats = df_tmp_copy['ARRIVAL_DELAY_ORIGIN'].groupby(df_tmp_copy['AIRLINE']).apply(get_stats).unstack()\n",
    "stats = stats.sort_values('mean', ascending=False)\n",
    "stats"
   ]
  },
  {
   "cell_type": "markdown",
   "metadata": {},
   "source": [
    "We can also see that airlines counting highest level of traffic (**AIRL_VX**) does not have the highest delay (**AIRL_F9**)."
   ]
  },
  {
   "cell_type": "markdown",
   "metadata": {},
   "source": [
    "## 1.6 Arrival delay per scheduled arrival hour"
   ]
  },
  {
   "cell_type": "markdown",
   "metadata": {},
   "source": [
    "If we also observe the delay with scheduled arrival hour:"
   ]
  },
  {
   "cell_type": "code",
   "execution_count": 27,
   "metadata": {},
   "outputs": [
    {
     "data": {
      "text/html": [
       "<div>\n",
       "<style scoped>\n",
       "    .dataframe tbody tr th:only-of-type {\n",
       "        vertical-align: middle;\n",
       "    }\n",
       "\n",
       "    .dataframe tbody tr th {\n",
       "        vertical-align: top;\n",
       "    }\n",
       "\n",
       "    .dataframe thead th {\n",
       "        text-align: right;\n",
       "    }\n",
       "</style>\n",
       "<table border=\"1\" class=\"dataframe\">\n",
       "  <thead>\n",
       "    <tr style=\"text-align: right;\">\n",
       "      <th></th>\n",
       "      <th>count</th>\n",
       "      <th>max</th>\n",
       "      <th>mean</th>\n",
       "      <th>min</th>\n",
       "    </tr>\n",
       "    <tr>\n",
       "      <th>SCHEDULED_ARRIVAL_HOUR</th>\n",
       "      <th></th>\n",
       "      <th></th>\n",
       "      <th></th>\n",
       "      <th></th>\n",
       "    </tr>\n",
       "  </thead>\n",
       "  <tbody>\n",
       "    <tr>\n",
       "      <th>3</th>\n",
       "      <td>9.0</td>\n",
       "      <td>61.0</td>\n",
       "      <td>18.444444</td>\n",
       "      <td>-11.0</td>\n",
       "    </tr>\n",
       "    <tr>\n",
       "      <th>1</th>\n",
       "      <td>50.0</td>\n",
       "      <td>69.0</td>\n",
       "      <td>4.960000</td>\n",
       "      <td>-32.0</td>\n",
       "    </tr>\n",
       "    <tr>\n",
       "      <th>2</th>\n",
       "      <td>13.0</td>\n",
       "      <td>53.0</td>\n",
       "      <td>3.153846</td>\n",
       "      <td>-31.0</td>\n",
       "    </tr>\n",
       "    <tr>\n",
       "      <th>23</th>\n",
       "      <td>907.0</td>\n",
       "      <td>86.0</td>\n",
       "      <td>1.367144</td>\n",
       "      <td>-49.0</td>\n",
       "    </tr>\n",
       "    <tr>\n",
       "      <th>22</th>\n",
       "      <td>1032.0</td>\n",
       "      <td>85.0</td>\n",
       "      <td>0.456395</td>\n",
       "      <td>-50.0</td>\n",
       "    </tr>\n",
       "    <tr>\n",
       "      <th>0</th>\n",
       "      <td>360.0</td>\n",
       "      <td>79.0</td>\n",
       "      <td>-0.238889</td>\n",
       "      <td>-49.0</td>\n",
       "    </tr>\n",
       "    <tr>\n",
       "      <th>21</th>\n",
       "      <td>1221.0</td>\n",
       "      <td>86.0</td>\n",
       "      <td>-0.537265</td>\n",
       "      <td>-53.0</td>\n",
       "    </tr>\n",
       "    <tr>\n",
       "      <th>19</th>\n",
       "      <td>1213.0</td>\n",
       "      <td>85.0</td>\n",
       "      <td>-0.579555</td>\n",
       "      <td>-45.0</td>\n",
       "    </tr>\n",
       "    <tr>\n",
       "      <th>20</th>\n",
       "      <td>1169.0</td>\n",
       "      <td>85.0</td>\n",
       "      <td>-0.587682</td>\n",
       "      <td>-58.0</td>\n",
       "    </tr>\n",
       "    <tr>\n",
       "      <th>15</th>\n",
       "      <td>1162.0</td>\n",
       "      <td>86.0</td>\n",
       "      <td>-0.830465</td>\n",
       "      <td>-46.0</td>\n",
       "    </tr>\n",
       "    <tr>\n",
       "      <th>18</th>\n",
       "      <td>1194.0</td>\n",
       "      <td>85.0</td>\n",
       "      <td>-0.958124</td>\n",
       "      <td>-48.0</td>\n",
       "    </tr>\n",
       "    <tr>\n",
       "      <th>17</th>\n",
       "      <td>1172.0</td>\n",
       "      <td>86.0</td>\n",
       "      <td>-1.238055</td>\n",
       "      <td>-48.0</td>\n",
       "    </tr>\n",
       "    <tr>\n",
       "      <th>16</th>\n",
       "      <td>1386.0</td>\n",
       "      <td>86.0</td>\n",
       "      <td>-1.257576</td>\n",
       "      <td>-41.0</td>\n",
       "    </tr>\n",
       "    <tr>\n",
       "      <th>14</th>\n",
       "      <td>1250.0</td>\n",
       "      <td>85.0</td>\n",
       "      <td>-3.080000</td>\n",
       "      <td>-56.0</td>\n",
       "    </tr>\n",
       "    <tr>\n",
       "      <th>12</th>\n",
       "      <td>1115.0</td>\n",
       "      <td>86.0</td>\n",
       "      <td>-3.951570</td>\n",
       "      <td>-51.0</td>\n",
       "    </tr>\n",
       "    <tr>\n",
       "      <th>13</th>\n",
       "      <td>1116.0</td>\n",
       "      <td>86.0</td>\n",
       "      <td>-3.975806</td>\n",
       "      <td>-51.0</td>\n",
       "    </tr>\n",
       "    <tr>\n",
       "      <th>11</th>\n",
       "      <td>1161.0</td>\n",
       "      <td>86.0</td>\n",
       "      <td>-4.032730</td>\n",
       "      <td>-45.0</td>\n",
       "    </tr>\n",
       "    <tr>\n",
       "      <th>5</th>\n",
       "      <td>190.0</td>\n",
       "      <td>78.0</td>\n",
       "      <td>-5.431579</td>\n",
       "      <td>-33.0</td>\n",
       "    </tr>\n",
       "    <tr>\n",
       "      <th>8</th>\n",
       "      <td>718.0</td>\n",
       "      <td>82.0</td>\n",
       "      <td>-6.029248</td>\n",
       "      <td>-50.0</td>\n",
       "    </tr>\n",
       "    <tr>\n",
       "      <th>9</th>\n",
       "      <td>1029.0</td>\n",
       "      <td>85.0</td>\n",
       "      <td>-6.389699</td>\n",
       "      <td>-51.0</td>\n",
       "    </tr>\n",
       "    <tr>\n",
       "      <th>10</th>\n",
       "      <td>1088.0</td>\n",
       "      <td>82.0</td>\n",
       "      <td>-6.597426</td>\n",
       "      <td>-50.0</td>\n",
       "    </tr>\n",
       "    <tr>\n",
       "      <th>6</th>\n",
       "      <td>375.0</td>\n",
       "      <td>77.0</td>\n",
       "      <td>-7.021333</td>\n",
       "      <td>-59.0</td>\n",
       "    </tr>\n",
       "    <tr>\n",
       "      <th>7</th>\n",
       "      <td>611.0</td>\n",
       "      <td>80.0</td>\n",
       "      <td>-7.062193</td>\n",
       "      <td>-69.0</td>\n",
       "    </tr>\n",
       "    <tr>\n",
       "      <th>4</th>\n",
       "      <td>37.0</td>\n",
       "      <td>32.0</td>\n",
       "      <td>-9.432432</td>\n",
       "      <td>-34.0</td>\n",
       "    </tr>\n",
       "  </tbody>\n",
       "</table>\n",
       "</div>"
      ],
      "text/plain": [
       "                         count   max       mean   min\n",
       "SCHEDULED_ARRIVAL_HOUR                               \n",
       "3                          9.0  61.0  18.444444 -11.0\n",
       "1                         50.0  69.0   4.960000 -32.0\n",
       "2                         13.0  53.0   3.153846 -31.0\n",
       "23                       907.0  86.0   1.367144 -49.0\n",
       "22                      1032.0  85.0   0.456395 -50.0\n",
       "0                        360.0  79.0  -0.238889 -49.0\n",
       "21                      1221.0  86.0  -0.537265 -53.0\n",
       "19                      1213.0  85.0  -0.579555 -45.0\n",
       "20                      1169.0  85.0  -0.587682 -58.0\n",
       "15                      1162.0  86.0  -0.830465 -46.0\n",
       "18                      1194.0  85.0  -0.958124 -48.0\n",
       "17                      1172.0  86.0  -1.238055 -48.0\n",
       "16                      1386.0  86.0  -1.257576 -41.0\n",
       "14                      1250.0  85.0  -3.080000 -56.0\n",
       "12                      1115.0  86.0  -3.951570 -51.0\n",
       "13                      1116.0  86.0  -3.975806 -51.0\n",
       "11                      1161.0  86.0  -4.032730 -45.0\n",
       "5                        190.0  78.0  -5.431579 -33.0\n",
       "8                        718.0  82.0  -6.029248 -50.0\n",
       "9                       1029.0  85.0  -6.389699 -51.0\n",
       "10                      1088.0  82.0  -6.597426 -50.0\n",
       "6                        375.0  77.0  -7.021333 -59.0\n",
       "7                        611.0  80.0  -7.062193 -69.0\n",
       "4                         37.0  32.0  -9.432432 -34.0"
      ]
     },
     "execution_count": 27,
     "metadata": {},
     "output_type": "execute_result"
    }
   ],
   "source": [
    "df_tmp_copy = df_tmp.copy(deep=True)\n",
    "df_tmp_copy['ARRIVAL_DELAY_ORIGIN'] = invboxcox(df_tmp_copy['ARRIVAL_DELAY'], coxbox_ld_arrival_delay, coxbox_add_arrival_delay)\n",
    "stats = df_tmp_copy['ARRIVAL_DELAY_ORIGIN'].groupby(df_tmp_copy['SCHEDULED_ARRIVAL_HOUR']).apply(get_stats).unstack()\n",
    "stats = stats.sort_values('mean', ascending=False)\n",
    "stats"
   ]
  },
  {
   "cell_type": "code",
   "execution_count": 28,
   "metadata": {},
   "outputs": [
    {
     "data": {
      "text/plain": [
       "[<matplotlib.lines.Line2D at 0x241009067b8>]"
      ]
     },
     "execution_count": 28,
     "metadata": {},
     "output_type": "execute_result"
    },
    {
     "data": {
      "image/png": "[encoded data removed]",
      "text/plain": [
       "<Figure size 432x288 with 1 Axes>"
      ]
     },
     "metadata": {},
     "output_type": "display_data"
    }
   ],
   "source": [
    "stats_sort = stats.sort_index()\n",
    "plt.plot(stats_sort['mean'])"
   ]
  },
  {
   "cell_type": "markdown",
   "metadata": {},
   "source": [
    "We can see that the delay increases from the beginning of the day after having falled violently during the night!"
   ]
  },
  {
   "cell_type": "markdown",
   "metadata": {},
   "source": [
    "## 1.7 Arrival delay per week of day departure"
   ]
  },
  {
   "cell_type": "markdown",
   "metadata": {},
   "source": [
    "In the same way, if we observe the arrival day based on day of departure:"
   ]
  },
  {
   "cell_type": "code",
   "execution_count": 29,
   "metadata": {},
   "outputs": [],
   "source": [
    "df_tmp_copy['SCHEDULED_DEPARTURE_WEEK_OF_DAY'] = df_tmp_copy['SCHEDULED_DEPARTURE'].apply(lambda x: x.weekday())"
   ]
  },
  {
   "cell_type": "code",
   "execution_count": 30,
   "metadata": {},
   "outputs": [
    {
     "data": {
      "text/plain": [
       "array([1, 2, 3, 4, 5, 6, 0], dtype=int64)"
      ]
     },
     "execution_count": 30,
     "metadata": {},
     "output_type": "execute_result"
    }
   ],
   "source": [
    "df_tmp_copy['SCHEDULED_DEPARTURE_WEEK_OF_DAY'].unique()"
   ]
  },
  {
   "cell_type": "code",
   "execution_count": 31,
   "metadata": {},
   "outputs": [
    {
     "data": {
      "text/html": [
       "<div>\n",
       "<style scoped>\n",
       "    .dataframe tbody tr th:only-of-type {\n",
       "        vertical-align: middle;\n",
       "    }\n",
       "\n",
       "    .dataframe tbody tr th {\n",
       "        vertical-align: top;\n",
       "    }\n",
       "\n",
       "    .dataframe thead th {\n",
       "        text-align: right;\n",
       "    }\n",
       "</style>\n",
       "<table border=\"1\" class=\"dataframe\">\n",
       "  <thead>\n",
       "    <tr style=\"text-align: right;\">\n",
       "      <th></th>\n",
       "      <th>count</th>\n",
       "      <th>max</th>\n",
       "      <th>mean</th>\n",
       "      <th>min</th>\n",
       "    </tr>\n",
       "    <tr>\n",
       "      <th>SCHEDULED_DEPARTURE_WEEK_OF_DAY</th>\n",
       "      <th></th>\n",
       "      <th></th>\n",
       "      <th></th>\n",
       "      <th></th>\n",
       "    </tr>\n",
       "  </thead>\n",
       "  <tbody>\n",
       "    <tr>\n",
       "      <th>3</th>\n",
       "      <td>2834.0</td>\n",
       "      <td>86.0</td>\n",
       "      <td>0.294637</td>\n",
       "      <td>-56.0</td>\n",
       "    </tr>\n",
       "    <tr>\n",
       "      <th>4</th>\n",
       "      <td>2870.0</td>\n",
       "      <td>86.0</td>\n",
       "      <td>0.140070</td>\n",
       "      <td>-68.0</td>\n",
       "    </tr>\n",
       "    <tr>\n",
       "      <th>0</th>\n",
       "      <td>2888.0</td>\n",
       "      <td>85.0</td>\n",
       "      <td>-3.196330</td>\n",
       "      <td>-69.0</td>\n",
       "    </tr>\n",
       "    <tr>\n",
       "      <th>2</th>\n",
       "      <td>2846.0</td>\n",
       "      <td>86.0</td>\n",
       "      <td>-3.427266</td>\n",
       "      <td>-50.0</td>\n",
       "    </tr>\n",
       "    <tr>\n",
       "      <th>6</th>\n",
       "      <td>2706.0</td>\n",
       "      <td>86.0</td>\n",
       "      <td>-3.593126</td>\n",
       "      <td>-47.0</td>\n",
       "    </tr>\n",
       "    <tr>\n",
       "      <th>1</th>\n",
       "      <td>3051.0</td>\n",
       "      <td>86.0</td>\n",
       "      <td>-3.804654</td>\n",
       "      <td>-43.0</td>\n",
       "    </tr>\n",
       "    <tr>\n",
       "      <th>5</th>\n",
       "      <td>2383.0</td>\n",
       "      <td>86.0</td>\n",
       "      <td>-4.186320</td>\n",
       "      <td>-58.0</td>\n",
       "    </tr>\n",
       "  </tbody>\n",
       "</table>\n",
       "</div>"
      ],
      "text/plain": [
       "                                  count   max      mean   min\n",
       "SCHEDULED_DEPARTURE_WEEK_OF_DAY                              \n",
       "3                                2834.0  86.0  0.294637 -56.0\n",
       "4                                2870.0  86.0  0.140070 -68.0\n",
       "0                                2888.0  85.0 -3.196330 -69.0\n",
       "2                                2846.0  86.0 -3.427266 -50.0\n",
       "6                                2706.0  86.0 -3.593126 -47.0\n",
       "1                                3051.0  86.0 -3.804654 -43.0\n",
       "5                                2383.0  86.0 -4.186320 -58.0"
      ]
     },
     "execution_count": 31,
     "metadata": {},
     "output_type": "execute_result"
    }
   ],
   "source": [
    "df_tmp_copy = df_tmp.copy(deep=True)\n",
    "df_tmp_copy['SCHEDULED_DEPARTURE'] = pd.to_datetime(df_tmp_copy['SCHEDULED_DEPARTURE'])\n",
    "df_tmp_copy['SCHEDULED_DEPARTURE_WEEK_OF_DAY'] = df_tmp_copy['SCHEDULED_DEPARTURE'].apply(lambda x: x.weekday())\n",
    "df_tmp_copy['ARRIVAL_DELAY_ORIGIN'] = invboxcox(df_tmp_copy['ARRIVAL_DELAY'], coxbox_ld_arrival_delay, coxbox_add_arrival_delay)\n",
    "stats = df_tmp_copy['ARRIVAL_DELAY_ORIGIN'].groupby(df_tmp_copy['SCHEDULED_DEPARTURE_WEEK_OF_DAY']).apply(get_stats).unstack()\n",
    "stats = stats.sort_values('mean', ascending=False)\n",
    "stats"
   ]
  },
  {
   "cell_type": "code",
   "execution_count": 32,
   "metadata": {},
   "outputs": [
    {
     "data": {
      "text/plain": [
       "([<matplotlib.axis.XTick at 0x2410093e898>,\n",
       "  <matplotlib.axis.XTick at 0x241068909b0>,\n",
       "  <matplotlib.axis.XTick at 0x24106890710>,\n",
       "  <matplotlib.axis.XTick at 0x241068b8630>,\n",
       "  <matplotlib.axis.XTick at 0x241068b8b00>,\n",
       "  <matplotlib.axis.XTick at 0x241068b8d30>,\n",
       "  <matplotlib.axis.XTick at 0x241068c14e0>],\n",
       " <a list of 7 Text xticklabel objects>)"
      ]
     },
     "execution_count": 32,
     "metadata": {},
     "output_type": "execute_result"
    },
    {
     "data": {
      "image/png": "[encoded data removed]",
      "text/plain": [
       "<Figure size 432x288 with 1 Axes>"
      ]
     },
     "metadata": {},
     "output_type": "display_data"
    }
   ],
   "source": [
    "stats_sort = stats.sort_index()\n",
    "plt.plot(stats_sort['mean'])\n",
    "plt.xticks([0,1,2,3,4,5,6], ['sunday', 'monday', 'tuesday', 'wednesday', 'thursday', 'friday', 'saturday'], rotation='vertical')"
   ]
  },
  {
   "cell_type": "markdown",
   "metadata": {},
   "source": [
    "The highest delay is on **friday** and on **monday**"
   ]
  },
  {
   "cell_type": "markdown",
   "metadata": {},
   "source": [
    "## 1.8 Arrival delay based on origin airport"
   ]
  },
  {
   "cell_type": "markdown",
   "metadata": {},
   "source": [
    "Let's observe arrival delay based on origin airport:"
   ]
  },
  {
   "cell_type": "code",
   "execution_count": 33,
   "metadata": {},
   "outputs": [],
   "source": [
    "airlines = df_tmp['AIRLINE'].unique()\n",
    "origin_airport_delays = pd.DataFrame(pd.Series(df_tmp['ORIGIN'].unique()))\n",
    "origin_airport_delays.set_index(0, drop = True, inplace = True)\n",
    "\n",
    "for airline in airlines:\n",
    "    df1 = df_tmp[df_tmp['AIRLINE'] == airline]\n",
    "    df1['ARRIVAL_DELAY_ORIGIN'] = invboxcox(df1['ARRIVAL_DELAY'], coxbox_ld_arrival_delay, coxbox_add_arrival_delay)\n",
    "    test = df1['ARRIVAL_DELAY_ORIGIN'].groupby(df1['ORIGIN']).apply(get_stats)\n",
    "    origin_airport_delays[airline] = test.loc[:, 'mean'] "
   ]
  },
  {
   "cell_type": "code",
   "execution_count": 34,
   "metadata": {},
   "outputs": [
    {
     "data": {
      "text/plain": [
       "Text(0.5,0,'Delay in minutes')"
      ]
     },
     "execution_count": 34,
     "metadata": {},
     "output_type": "execute_result"
    },
    {
     "data": {
      "image/png": "[encoded data removed]",
      "text/plain": [
       "<Figure size 720x720 with 1 Axes>"
      ]
     },
     "metadata": {},
     "output_type": "display_data"
    }
   ],
   "source": [
    "fig = plt.figure(1, figsize=(10,10))\n",
    "fig.text(0.5, 0.9, \"Delays: impact of the origin airport\", ha='center', fontsize = 18)\n",
    "subset = origin_airport_delays[['AIRL_VX','AIRL_HA','AIRL_F9']]\n",
    "ax = fig.add_subplot(1,1,1)\n",
    "subset[:20].plot(kind='barh', width=1, ax=ax)\n",
    "ax.set_ylabel('Origin Airport')\n",
    "ax.set_xlabel('Delay in minutes')"
   ]
  },
  {
   "cell_type": "markdown",
   "metadata": {},
   "source": [
    "We can see that for airline **F9**, the mean delay from Atlanta (**ATL**), San Francisco (**SFO**) and Seattle (**SEA**) is not the same."
   ]
  },
  {
   "cell_type": "markdown",
   "metadata": {},
   "source": [
    "# 2. Compute our baseline"
   ]
  },
  {
   "cell_type": "markdown",
   "metadata": {},
   "source": [
    "Let's compute our baseline based on pre-selected model:\n",
    "- Linear Model: **Lasso**\n",
    "- Optimised Feature selection: **SelectKBest**"
   ]
  },
  {
   "cell_type": "code",
   "execution_count": 35,
   "metadata": {},
   "outputs": [],
   "source": [
    "from sklearn import preprocessing\n",
    "from sklearn import model_selection\n",
    "from sklearn.model_selection import GridSearchCV\n",
    "from sklearn.linear_model import Lasso\n",
    "from sklearn.pipeline import Pipeline\n",
    "from sklearn.feature_selection import SelectKBest, f_classif"
   ]
  },
  {
   "cell_type": "code",
   "execution_count": 36,
   "metadata": {},
   "outputs": [],
   "source": [
    "from sklearn.metrics import make_scorer, mean_absolute_error\n",
    "\n",
    "def mae(y_test, y_pred):\n",
    "    y_test_ = invboxcox(y_test, coxbox_ld_arrival_delay, coxbox_add_arrival_delay)\n",
    "    y_pred_ = invboxcox(y_pred, coxbox_ld_arrival_delay, coxbox_add_arrival_delay)\n",
    "    y_pred_[np.isnan(y_pred_)] = 0\n",
    "    return mean_absolute_error(y_pred_, y_test_)\n",
    "\n",
    "mae_scorer = make_scorer(mae)\n",
    "\n",
    "def lc_mae(model, X, y):\n",
    "    y_pred = model.predict(X)\n",
    "    return mae(y, y_pred)"
   ]
  },
  {
   "cell_type": "code",
   "execution_count": 37,
   "metadata": {
    "scrolled": true
   },
   "outputs": [
    {
     "data": {
      "text/plain": [
       "(19578, 644)"
      ]
     },
     "execution_count": 37,
     "metadata": {},
     "output_type": "execute_result"
    }
   ],
   "source": [
    "df_tmp.shape"
   ]
  },
  {
   "cell_type": "markdown",
   "metadata": {},
   "source": [
    "Let's select first **features** that we used for our baseline:"
   ]
  },
  {
   "cell_type": "code",
   "execution_count": 38,
   "metadata": {},
   "outputs": [],
   "source": [
    "baseline_col = list(df_tmp.columns)\n",
    "blacklist = ['AIRLINE',\n",
    " 'ORIGIN',\n",
    " 'DESTINATION',\n",
    " 'SCHEDULED_DEPARTURE',\n",
    " 'SCHEDULED_ARRIVAL']\n",
    "baseline_col = [j for j in baseline_col if j not in blacklist]\n",
    "df_tmp = df_tmp[baseline_col]"
   ]
  },
  {
   "cell_type": "markdown",
   "metadata": {},
   "source": [
    "Let's then select **X** and **y** vectors to build then our train and test patterns:"
   ]
  },
  {
   "cell_type": "code",
   "execution_count": 39,
   "metadata": {},
   "outputs": [],
   "source": [
    "X = df_tmp.as_matrix(np.concatenate([df_tmp.columns[:-2],[df_tmp.columns[-1]]]))\n",
    "X = preprocessing.normalize(X)\n",
    "y = df_tmp.as_matrix([df_tmp.columns[-2]])\n",
    "y = y.flatten()"
   ]
  },
  {
   "cell_type": "code",
   "execution_count": 40,
   "metadata": {},
   "outputs": [],
   "source": [
    "X_train, X_test, y_train, y_test = \\\n",
    "model_selection.train_test_split(X, y,\n",
    "test_size=0.3, # 30% des données dans le jeu de test\n",
    "random_state=10\n",
    ")"
   ]
  },
  {
   "cell_type": "code",
   "execution_count": 41,
   "metadata": {},
   "outputs": [
    {
     "name": "stdout",
     "output_type": "stream",
     "text": [
      "Fitting 5 folds for each of 1 candidates, totalling 5 fits\n"
     ]
    },
    {
     "name": "stderr",
     "output_type": "stream",
     "text": [
      "[Parallel(n_jobs=1)]: Done   5 out of   5 | elapsed:   31.2s finished\n"
     ]
    },
    {
     "data": {
      "text/plain": [
       "GridSearchCV(cv=5, error_score='raise',\n",
       "       estimator=Pipeline(memory=None,\n",
       "     steps=[('fs', SelectKBest(k=300, score_func=<function f_classif at 0x0000024107020AE8>)), ('lasso', Lasso(alpha=1e-13, copy_X=True, fit_intercept=True, max_iter=1000,\n",
       "   normalize=False, positive=False, precompute=False, random_state=None,\n",
       "   selection='cyclic', tol=0.0001, warm_start=False))]),\n",
       "       fit_params=None, iid=True, n_jobs=1, param_grid={},\n",
       "       pre_dispatch='2*n_jobs', refit=True, return_train_score='warn',\n",
       "       scoring=make_scorer(mae), verbose=1)"
      ]
     },
     "execution_count": 41,
     "metadata": {},
     "output_type": "execute_result"
    }
   ],
   "source": [
    "pipeline = Pipeline([\n",
    "        ('fs', SelectKBest(f_classif, k=300)), \n",
    "        ('lasso', Lasso(alpha = 1e-13))\n",
    "])\n",
    "gs_model = GridSearchCV(pipeline, {}, cv=5, n_jobs=1, \n",
    "                              verbose=1, scoring=mae_scorer)\n",
    "gs_model.fit(X_train,y_train)"
   ]
  },
  {
   "cell_type": "code",
   "execution_count": 275,
   "metadata": {},
   "outputs": [
    {
     "data": {
      "text/plain": [
       "(array([ 12.94765762]), array([ 13.3529657]))"
      ]
     },
     "execution_count": 275,
     "metadata": {},
     "output_type": "execute_result"
    }
   ],
   "source": [
    "# Train and Test score\n",
    "gs_model.cv_results_['mean_train_score'], gs_model.cv_results_['mean_test_score']"
   ]
  },
  {
   "cell_type": "code",
   "execution_count": 276,
   "metadata": {},
   "outputs": [
    {
     "data": {
      "text/plain": [
       "13.146134835356154"
      ]
     },
     "execution_count": 276,
     "metadata": {},
     "output_type": "execute_result"
    }
   ],
   "source": [
    "y_pred = gs_model.predict(X_test)\n",
    "# Validation score\n",
    "mae(y_pred, y_test)"
   ]
  },
  {
   "cell_type": "markdown",
   "metadata": {},
   "source": [
    "We then have our baseline:\n",
    "- **train_score** is equal to 12.95\n",
    "- **test_score** is equal to 13.15"
   ]
  },
  {
   "cell_type": "code",
   "execution_count": 277,
   "metadata": {},
   "outputs": [
    {
     "data": {
      "text/plain": [
       "[<matplotlib.lines.Line2D at 0x1f74db31f28>]"
      ]
     },
     "execution_count": 277,
     "metadata": {},
     "output_type": "execute_result"
    },
    {
     "data": {
      "image/png": "[encoded data removed]",
      "text/plain": [
       "<matplotlib.figure.Figure at 0x1f74db31da0>"
      ]
     },
     "metadata": {},
     "output_type": "display_data"
    }
   ],
   "source": [
    "plt.plot(y_test[2000:2100])\n",
    "plt.plot(y_pred[2000:2100], color='r')"
   ]
  }
 ],
 "metadata": {
  "kernelspec": {
   "display_name": "Python 3",
   "language": "python",
   "name": "python3"
  },
  "language_info": {
   "codemirror_mode": {
    "name": "ipython",
    "version": 3
   },
   "file_extension": ".py",
   "mimetype": "text/x-python",
   "name": "python",
   "nbconvert_exporter": "python",
   "pygments_lexer": "ipython3",
   "version": "3.6.5"
  }
 },
 "nbformat": 4,
 "nbformat_minor": 2
}
