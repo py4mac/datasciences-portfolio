{
 "cells": [
  {
   "cell_type": "markdown",
   "metadata": {},
   "source": [
    "# Predicting flight delays (exploration)\n",
    "Pierre-Yves BOISBUNON - Decembre 2017\n",
    "\n",
    "\n",
    "----------\n",
    "\n",
    "The target is to predict flight delays based on the dataset **https://www.transtats.bts.gov/DL_SelectFields.asp?Table_ID=236&DB_Short_Name=On-Time**\n",
    "\n",
    "In this notebook, we will explore the dataset and clean some of the data."
   ]
  },
  {
   "cell_type": "code",
   "execution_count": 1,
   "metadata": {},
   "outputs": [],
   "source": [
    "import pandas as pd\n",
    "import matplotlib.pyplot as plt\n",
    "import seaborn as sns\n",
    "import numpy as np\n",
    "import warnings\n",
    "warnings.filterwarnings('ignore')\n",
    "%matplotlib inline"
   ]
  },
  {
   "cell_type": "markdown",
   "metadata": {},
   "source": [
    "# 1. Exploration and Cleaning"
   ]
  },
  {
   "cell_type": "markdown",
   "metadata": {},
   "source": [
    "Let's open the dataset, due to the amount of data, we will collect only **10000** samples for each month"
   ]
  },
  {
   "cell_type": "markdown",
   "metadata": {},
   "source": [
    "Let's store the dataset for the future."
   ]
  },
  {
   "cell_type": "code",
   "execution_count": 2,
   "metadata": {},
   "outputs": [],
   "source": [
    "df = pd.read_csv('dataset.csv', sep=',', error_bad_lines=False)"
   ]
  },
  {
   "cell_type": "code",
   "execution_count": 3,
   "metadata": {
    "scrolled": true
   },
   "outputs": [
    {
     "data": {
      "text/plain": [
       "(120000, 65)"
      ]
     },
     "execution_count": 3,
     "metadata": {},
     "output_type": "execute_result"
    }
   ],
   "source": [
    "df.shape"
   ]
  },
  {
   "cell_type": "markdown",
   "metadata": {},
   "source": [
    "Let's display a column summary"
   ]
  },
  {
   "cell_type": "code",
   "execution_count": 4,
   "metadata": {},
   "outputs": [
    {
     "data": {
      "text/html": [
       "<div>\n",
       "<style scoped>\n",
       "    .dataframe tbody tr th:only-of-type {\n",
       "        vertical-align: middle;\n",
       "    }\n",
       "\n",
       "    .dataframe tbody tr th {\n",
       "        vertical-align: top;\n",
       "    }\n",
       "\n",
       "    .dataframe thead th {\n",
       "        text-align: right;\n",
       "    }\n",
       "</style>\n",
       "<table border=\"1\" class=\"dataframe\">\n",
       "  <thead>\n",
       "    <tr style=\"text-align: right;\">\n",
       "      <th></th>\n",
       "      <th>YEAR</th>\n",
       "      <th>QUARTER</th>\n",
       "      <th>MONTH</th>\n",
       "      <th>DAY_OF_MONTH</th>\n",
       "      <th>DAY_OF_WEEK</th>\n",
       "      <th>FL_DATE</th>\n",
       "      <th>UNIQUE_CARRIER</th>\n",
       "      <th>AIRLINE_ID</th>\n",
       "      <th>CARRIER</th>\n",
       "      <th>TAIL_NUM</th>\n",
       "      <th>...</th>\n",
       "      <th>DISTANCE_GROUP</th>\n",
       "      <th>CARRIER_DELAY</th>\n",
       "      <th>WEATHER_DELAY</th>\n",
       "      <th>NAS_DELAY</th>\n",
       "      <th>SECURITY_DELAY</th>\n",
       "      <th>LATE_AIRCRAFT_DELAY</th>\n",
       "      <th>FIRST_DEP_TIME</th>\n",
       "      <th>TOTAL_ADD_GTIME</th>\n",
       "      <th>LONGEST_ADD_GTIME</th>\n",
       "      <th>Unnamed: 64</th>\n",
       "    </tr>\n",
       "  </thead>\n",
       "  <tbody>\n",
       "    <tr>\n",
       "      <th>type</th>\n",
       "      <td>int64</td>\n",
       "      <td>int64</td>\n",
       "      <td>int64</td>\n",
       "      <td>int64</td>\n",
       "      <td>int64</td>\n",
       "      <td>object</td>\n",
       "      <td>object</td>\n",
       "      <td>int64</td>\n",
       "      <td>object</td>\n",
       "      <td>object</td>\n",
       "      <td>...</td>\n",
       "      <td>float64</td>\n",
       "      <td>float64</td>\n",
       "      <td>float64</td>\n",
       "      <td>float64</td>\n",
       "      <td>float64</td>\n",
       "      <td>float64</td>\n",
       "      <td>float64</td>\n",
       "      <td>float64</td>\n",
       "      <td>float64</td>\n",
       "      <td>float64</td>\n",
       "    </tr>\n",
       "    <tr>\n",
       "      <th>number of unique values</th>\n",
       "      <td>1</td>\n",
       "      <td>4</td>\n",
       "      <td>12</td>\n",
       "      <td>31</td>\n",
       "      <td>7</td>\n",
       "      <td>366</td>\n",
       "      <td>12</td>\n",
       "      <td>12</td>\n",
       "      <td>12</td>\n",
       "      <td>4845</td>\n",
       "      <td>...</td>\n",
       "      <td>11</td>\n",
       "      <td>391</td>\n",
       "      <td>213</td>\n",
       "      <td>252</td>\n",
       "      <td>45</td>\n",
       "      <td>323</td>\n",
       "      <td>536</td>\n",
       "      <td>119</td>\n",
       "      <td>116</td>\n",
       "      <td>0</td>\n",
       "    </tr>\n",
       "    <tr>\n",
       "      <th>number of missing values</th>\n",
       "      <td>0</td>\n",
       "      <td>0</td>\n",
       "      <td>0</td>\n",
       "      <td>0</td>\n",
       "      <td>0</td>\n",
       "      <td>0</td>\n",
       "      <td>0</td>\n",
       "      <td>0</td>\n",
       "      <td>0</td>\n",
       "      <td>280</td>\n",
       "      <td>...</td>\n",
       "      <td>0</td>\n",
       "      <td>99562</td>\n",
       "      <td>99562</td>\n",
       "      <td>99562</td>\n",
       "      <td>99562</td>\n",
       "      <td>99562</td>\n",
       "      <td>119260</td>\n",
       "      <td>119260</td>\n",
       "      <td>119260</td>\n",
       "      <td>120000</td>\n",
       "    </tr>\n",
       "    <tr>\n",
       "      <th>% of missing values</th>\n",
       "      <td>0</td>\n",
       "      <td>0</td>\n",
       "      <td>0</td>\n",
       "      <td>0</td>\n",
       "      <td>0</td>\n",
       "      <td>0</td>\n",
       "      <td>0</td>\n",
       "      <td>0</td>\n",
       "      <td>0</td>\n",
       "      <td>0.233333</td>\n",
       "      <td>...</td>\n",
       "      <td>0</td>\n",
       "      <td>82.9683</td>\n",
       "      <td>82.9683</td>\n",
       "      <td>82.9683</td>\n",
       "      <td>82.9683</td>\n",
       "      <td>82.9683</td>\n",
       "      <td>99.3833</td>\n",
       "      <td>99.3833</td>\n",
       "      <td>99.3833</td>\n",
       "      <td>100</td>\n",
       "    </tr>\n",
       "  </tbody>\n",
       "</table>\n",
       "<p>4 rows × 65 columns</p>\n",
       "</div>"
      ],
      "text/plain": [
       "                           YEAR QUARTER  MONTH DAY_OF_MONTH DAY_OF_WEEK  \\\n",
       "type                      int64   int64  int64        int64       int64   \n",
       "number of unique values       1       4     12           31           7   \n",
       "number of missing values      0       0      0            0           0   \n",
       "% of missing values           0       0      0            0           0   \n",
       "\n",
       "                         FL_DATE UNIQUE_CARRIER AIRLINE_ID CARRIER  TAIL_NUM  \\\n",
       "type                      object         object      int64  object    object   \n",
       "number of unique values      366             12         12      12      4845   \n",
       "number of missing values       0              0          0       0       280   \n",
       "% of missing values            0              0          0       0  0.233333   \n",
       "\n",
       "                             ...     DISTANCE_GROUP CARRIER_DELAY  \\\n",
       "type                         ...            float64       float64   \n",
       "number of unique values      ...                 11           391   \n",
       "number of missing values     ...                  0         99562   \n",
       "% of missing values          ...                  0       82.9683   \n",
       "\n",
       "                         WEATHER_DELAY NAS_DELAY SECURITY_DELAY  \\\n",
       "type                           float64   float64        float64   \n",
       "number of unique values            213       252             45   \n",
       "number of missing values         99562     99562          99562   \n",
       "% of missing values            82.9683   82.9683        82.9683   \n",
       "\n",
       "                         LATE_AIRCRAFT_DELAY FIRST_DEP_TIME TOTAL_ADD_GTIME  \\\n",
       "type                                 float64        float64         float64   \n",
       "number of unique values                  323            536             119   \n",
       "number of missing values               99562         119260          119260   \n",
       "% of missing values                  82.9683        99.3833         99.3833   \n",
       "\n",
       "                         LONGEST_ADD_GTIME Unnamed: 64  \n",
       "type                               float64     float64  \n",
       "number of unique values                116           0  \n",
       "number of missing values            119260      120000  \n",
       "% of missing values                99.3833         100  \n",
       "\n",
       "[4 rows x 65 columns]"
      ]
     },
     "execution_count": 4,
     "metadata": {},
     "output_type": "execute_result"
    }
   ],
   "source": [
    "import utils\n",
    "test = utils.display_dataframe_stats(df)\n",
    "test"
   ]
  },
  {
   "cell_type": "code",
   "execution_count": 5,
   "metadata": {
    "scrolled": false
   },
   "outputs": [
    {
     "data": {
      "text/html": [
       "<div>\n",
       "<style scoped>\n",
       "    .dataframe tbody tr th:only-of-type {\n",
       "        vertical-align: middle;\n",
       "    }\n",
       "\n",
       "    .dataframe tbody tr th {\n",
       "        vertical-align: top;\n",
       "    }\n",
       "\n",
       "    .dataframe thead th {\n",
       "        text-align: right;\n",
       "    }\n",
       "</style>\n",
       "<table border=\"1\" class=\"dataframe\">\n",
       "  <thead>\n",
       "    <tr style=\"text-align: right;\">\n",
       "      <th></th>\n",
       "      <th>YEAR</th>\n",
       "      <th>QUARTER</th>\n",
       "      <th>MONTH</th>\n",
       "      <th>DAY_OF_MONTH</th>\n",
       "      <th>DAY_OF_WEEK</th>\n",
       "      <th>FL_DATE</th>\n",
       "      <th>UNIQUE_CARRIER</th>\n",
       "      <th>AIRLINE_ID</th>\n",
       "      <th>CARRIER</th>\n",
       "      <th>TAIL_NUM</th>\n",
       "      <th>...</th>\n",
       "      <th>DISTANCE_GROUP</th>\n",
       "      <th>CARRIER_DELAY</th>\n",
       "      <th>WEATHER_DELAY</th>\n",
       "      <th>NAS_DELAY</th>\n",
       "      <th>SECURITY_DELAY</th>\n",
       "      <th>LATE_AIRCRAFT_DELAY</th>\n",
       "      <th>FIRST_DEP_TIME</th>\n",
       "      <th>TOTAL_ADD_GTIME</th>\n",
       "      <th>LONGEST_ADD_GTIME</th>\n",
       "      <th>Unnamed: 64</th>\n",
       "    </tr>\n",
       "  </thead>\n",
       "  <tbody>\n",
       "    <tr>\n",
       "      <th>0</th>\n",
       "      <td>2016</td>\n",
       "      <td>1</td>\n",
       "      <td>1</td>\n",
       "      <td>6</td>\n",
       "      <td>3</td>\n",
       "      <td>2016-01-06</td>\n",
       "      <td>EV</td>\n",
       "      <td>20366</td>\n",
       "      <td>EV</td>\n",
       "      <td>N34110</td>\n",
       "      <td>...</td>\n",
       "      <td>1.0</td>\n",
       "      <td>NaN</td>\n",
       "      <td>NaN</td>\n",
       "      <td>NaN</td>\n",
       "      <td>NaN</td>\n",
       "      <td>NaN</td>\n",
       "      <td>NaN</td>\n",
       "      <td>NaN</td>\n",
       "      <td>NaN</td>\n",
       "      <td>NaN</td>\n",
       "    </tr>\n",
       "    <tr>\n",
       "      <th>1</th>\n",
       "      <td>2016</td>\n",
       "      <td>1</td>\n",
       "      <td>1</td>\n",
       "      <td>17</td>\n",
       "      <td>7</td>\n",
       "      <td>2016-01-17</td>\n",
       "      <td>B6</td>\n",
       "      <td>20409</td>\n",
       "      <td>B6</td>\n",
       "      <td>N508JB</td>\n",
       "      <td>...</td>\n",
       "      <td>5.0</td>\n",
       "      <td>0.0</td>\n",
       "      <td>0.0</td>\n",
       "      <td>10.0</td>\n",
       "      <td>0.0</td>\n",
       "      <td>15.0</td>\n",
       "      <td>NaN</td>\n",
       "      <td>NaN</td>\n",
       "      <td>NaN</td>\n",
       "      <td>NaN</td>\n",
       "    </tr>\n",
       "    <tr>\n",
       "      <th>2</th>\n",
       "      <td>2016</td>\n",
       "      <td>1</td>\n",
       "      <td>1</td>\n",
       "      <td>22</td>\n",
       "      <td>5</td>\n",
       "      <td>2016-01-22</td>\n",
       "      <td>DL</td>\n",
       "      <td>19790</td>\n",
       "      <td>DL</td>\n",
       "      <td>N968AT</td>\n",
       "      <td>...</td>\n",
       "      <td>2.0</td>\n",
       "      <td>0.0</td>\n",
       "      <td>0.0</td>\n",
       "      <td>94.0</td>\n",
       "      <td>0.0</td>\n",
       "      <td>0.0</td>\n",
       "      <td>NaN</td>\n",
       "      <td>NaN</td>\n",
       "      <td>NaN</td>\n",
       "      <td>NaN</td>\n",
       "    </tr>\n",
       "    <tr>\n",
       "      <th>3</th>\n",
       "      <td>2016</td>\n",
       "      <td>1</td>\n",
       "      <td>1</td>\n",
       "      <td>18</td>\n",
       "      <td>1</td>\n",
       "      <td>2016-01-18</td>\n",
       "      <td>WN</td>\n",
       "      <td>19393</td>\n",
       "      <td>WN</td>\n",
       "      <td>N238WN</td>\n",
       "      <td>...</td>\n",
       "      <td>2.0</td>\n",
       "      <td>NaN</td>\n",
       "      <td>NaN</td>\n",
       "      <td>NaN</td>\n",
       "      <td>NaN</td>\n",
       "      <td>NaN</td>\n",
       "      <td>NaN</td>\n",
       "      <td>NaN</td>\n",
       "      <td>NaN</td>\n",
       "      <td>NaN</td>\n",
       "    </tr>\n",
       "    <tr>\n",
       "      <th>4</th>\n",
       "      <td>2016</td>\n",
       "      <td>1</td>\n",
       "      <td>1</td>\n",
       "      <td>17</td>\n",
       "      <td>7</td>\n",
       "      <td>2016-01-17</td>\n",
       "      <td>OO</td>\n",
       "      <td>20304</td>\n",
       "      <td>OO</td>\n",
       "      <td>N925SW</td>\n",
       "      <td>...</td>\n",
       "      <td>2.0</td>\n",
       "      <td>NaN</td>\n",
       "      <td>NaN</td>\n",
       "      <td>NaN</td>\n",
       "      <td>NaN</td>\n",
       "      <td>NaN</td>\n",
       "      <td>NaN</td>\n",
       "      <td>NaN</td>\n",
       "      <td>NaN</td>\n",
       "      <td>NaN</td>\n",
       "    </tr>\n",
       "  </tbody>\n",
       "</table>\n",
       "<p>5 rows × 65 columns</p>\n",
       "</div>"
      ],
      "text/plain": [
       "   YEAR  QUARTER  MONTH  DAY_OF_MONTH  DAY_OF_WEEK     FL_DATE UNIQUE_CARRIER  \\\n",
       "0  2016        1      1             6            3  2016-01-06             EV   \n",
       "1  2016        1      1            17            7  2016-01-17             B6   \n",
       "2  2016        1      1            22            5  2016-01-22             DL   \n",
       "3  2016        1      1            18            1  2016-01-18             WN   \n",
       "4  2016        1      1            17            7  2016-01-17             OO   \n",
       "\n",
       "   AIRLINE_ID CARRIER TAIL_NUM     ...       DISTANCE_GROUP  CARRIER_DELAY  \\\n",
       "0       20366      EV   N34110     ...                  1.0            NaN   \n",
       "1       20409      B6   N508JB     ...                  5.0            0.0   \n",
       "2       19790      DL   N968AT     ...                  2.0            0.0   \n",
       "3       19393      WN   N238WN     ...                  2.0            NaN   \n",
       "4       20304      OO   N925SW     ...                  2.0            NaN   \n",
       "\n",
       "   WEATHER_DELAY  NAS_DELAY SECURITY_DELAY LATE_AIRCRAFT_DELAY FIRST_DEP_TIME  \\\n",
       "0            NaN        NaN            NaN                 NaN            NaN   \n",
       "1            0.0       10.0            0.0                15.0            NaN   \n",
       "2            0.0       94.0            0.0                 0.0            NaN   \n",
       "3            NaN        NaN            NaN                 NaN            NaN   \n",
       "4            NaN        NaN            NaN                 NaN            NaN   \n",
       "\n",
       "   TOTAL_ADD_GTIME LONGEST_ADD_GTIME  Unnamed: 64  \n",
       "0              NaN               NaN          NaN  \n",
       "1              NaN               NaN          NaN  \n",
       "2              NaN               NaN          NaN  \n",
       "3              NaN               NaN          NaN  \n",
       "4              NaN               NaN          NaN  \n",
       "\n",
       "[5 rows x 65 columns]"
      ]
     },
     "execution_count": 5,
     "metadata": {},
     "output_type": "execute_result"
    }
   ],
   "source": [
    "df.head()"
   ]
  },
  {
   "cell_type": "code",
   "execution_count": 6,
   "metadata": {
    "scrolled": true
   },
   "outputs": [
    {
     "data": {
      "text/plain": [
       "Index(['YEAR', 'QUARTER', 'MONTH', 'DAY_OF_MONTH', 'DAY_OF_WEEK', 'FL_DATE',\n",
       "       'UNIQUE_CARRIER', 'AIRLINE_ID', 'CARRIER', 'TAIL_NUM', 'FL_NUM',\n",
       "       'ORIGIN_AIRPORT_ID', 'ORIGIN_AIRPORT_SEQ_ID', 'ORIGIN_CITY_MARKET_ID',\n",
       "       'ORIGIN', 'ORIGIN_CITY_NAME', 'ORIGIN_STATE_ABR', 'ORIGIN_STATE_FIPS',\n",
       "       'ORIGIN_STATE_NM', 'ORIGIN_WAC', 'DEST_AIRPORT_ID',\n",
       "       'DEST_AIRPORT_SEQ_ID', 'DEST_CITY_MARKET_ID', 'DEST', 'DEST_CITY_NAME',\n",
       "       'DEST_STATE_ABR', 'DEST_STATE_FIPS', 'DEST_STATE_NM', 'DEST_WAC',\n",
       "       'CRS_DEP_TIME', 'DEP_TIME', 'DEP_DELAY', 'DEP_DELAY_NEW', 'DEP_DEL15',\n",
       "       'DEP_DELAY_GROUP', 'DEP_TIME_BLK', 'TAXI_OUT', 'WHEELS_OFF',\n",
       "       'WHEELS_ON', 'TAXI_IN', 'CRS_ARR_TIME', 'ARR_TIME', 'ARR_DELAY',\n",
       "       'ARR_DELAY_NEW', 'ARR_DEL15', 'ARR_DELAY_GROUP', 'ARR_TIME_BLK',\n",
       "       'CANCELLED', 'CANCELLATION_CODE', 'DIVERTED', 'CRS_ELAPSED_TIME',\n",
       "       'ACTUAL_ELAPSED_TIME', 'AIR_TIME', 'FLIGHTS', 'DISTANCE',\n",
       "       'DISTANCE_GROUP', 'CARRIER_DELAY', 'WEATHER_DELAY', 'NAS_DELAY',\n",
       "       'SECURITY_DELAY', 'LATE_AIRCRAFT_DELAY', 'FIRST_DEP_TIME',\n",
       "       'TOTAL_ADD_GTIME', 'LONGEST_ADD_GTIME', 'Unnamed: 64'],\n",
       "      dtype='object')"
      ]
     },
     "execution_count": 6,
     "metadata": {},
     "output_type": "execute_result"
    }
   ],
   "source": [
    "df.columns"
   ]
  },
  {
   "cell_type": "markdown",
   "metadata": {},
   "source": [
    "## 1.1 Variable correlation"
   ]
  },
  {
   "cell_type": "markdown",
   "metadata": {},
   "source": [
    "If we observe the correlation of the variables, **departure delay** and **carrier delay** are linked to **arrival delay**. For this project we can't predict these 2 variables."
   ]
  },
  {
   "cell_type": "code",
   "execution_count": 7,
   "metadata": {
    "scrolled": false
   },
   "outputs": [
    {
     "data": {
      "image/png": "[encoded data removed]",
      "text/plain": [
       "<Figure size 864x648 with 2 Axes>"
      ]
     },
     "metadata": {},
     "output_type": "display_data"
    }
   ],
   "source": [
    "#correlation matrix\n",
    "corrmat = df.corr()\n",
    "f, ax = plt.subplots(figsize=(12, 9))\n",
    "sns.heatmap(corrmat, vmin = 0.5, vmax=1, cmap=sns.diverging_palette(220, 10, as_cmap=True), square=True);"
   ]
  },
  {
   "cell_type": "markdown",
   "metadata": {},
   "source": [
    "## 1.2 Airline"
   ]
  },
  {
   "cell_type": "markdown",
   "metadata": {},
   "source": [
    "Let's analyse **airline** variable:"
   ]
  },
  {
   "cell_type": "code",
   "execution_count": 8,
   "metadata": {
    "scrolled": false
   },
   "outputs": [
    {
     "data": {
      "text/plain": [
       "count     120000\n",
       "unique        12\n",
       "top           WN\n",
       "freq       27724\n",
       "Name: CARRIER, dtype: object"
      ]
     },
     "execution_count": 8,
     "metadata": {},
     "output_type": "execute_result"
    }
   ],
   "source": [
    "df['CARRIER'].describe()"
   ]
  },
  {
   "cell_type": "markdown",
   "metadata": {},
   "source": [
    "and **unique_carrier** variable:"
   ]
  },
  {
   "cell_type": "code",
   "execution_count": 9,
   "metadata": {},
   "outputs": [
    {
     "data": {
      "text/plain": [
       "count     120000\n",
       "unique        12\n",
       "top           WN\n",
       "freq       27724\n",
       "Name: UNIQUE_CARRIER, dtype: object"
      ]
     },
     "execution_count": 9,
     "metadata": {},
     "output_type": "execute_result"
    }
   ],
   "source": [
    "df['UNIQUE_CARRIER'].describe()"
   ]
  },
  {
   "cell_type": "code",
   "execution_count": 10,
   "metadata": {},
   "outputs": [
    {
     "data": {
      "text/plain": [
       "True"
      ]
     },
     "execution_count": 10,
     "metadata": {},
     "output_type": "execute_result"
    }
   ],
   "source": [
    "all(df['UNIQUE_CARRIER'] == df['CARRIER'])"
   ]
  },
  {
   "cell_type": "markdown",
   "metadata": {},
   "source": [
    "**CARRIER** and **UNIQUE_CARRIER** shows the same information. We can keep only one of them."
   ]
  },
  {
   "cell_type": "code",
   "execution_count": 11,
   "metadata": {},
   "outputs": [
    {
     "data": {
      "text/plain": [
       "array(['EV', 'B6', 'DL', 'WN', 'OO', 'F9', 'AA', 'UA', 'NK', 'VX', 'AS',\n",
       "       'HA'], dtype=object)"
      ]
     },
     "execution_count": 11,
     "metadata": {},
     "output_type": "execute_result"
    }
   ],
   "source": [
    "df['CARRIER'].unique()"
   ]
  },
  {
   "cell_type": "code",
   "execution_count": 12,
   "metadata": {
    "scrolled": false
   },
   "outputs": [
    {
     "data": {
      "text/plain": [
       "count    120000.000000\n",
       "mean      19903.237725\n",
       "std         381.683834\n",
       "min       19393.000000\n",
       "25%       19790.000000\n",
       "50%       19805.000000\n",
       "75%       20304.000000\n",
       "max       21171.000000\n",
       "Name: AIRLINE_ID, dtype: float64"
      ]
     },
     "execution_count": 12,
     "metadata": {},
     "output_type": "execute_result"
    }
   ],
   "source": [
    "df['AIRLINE_ID'].describe()"
   ]
  },
  {
   "cell_type": "code",
   "execution_count": 13,
   "metadata": {},
   "outputs": [
    {
     "data": {
      "text/html": [
       "<div>\n",
       "<style scoped>\n",
       "    .dataframe tbody tr th:only-of-type {\n",
       "        vertical-align: middle;\n",
       "    }\n",
       "\n",
       "    .dataframe tbody tr th {\n",
       "        vertical-align: top;\n",
       "    }\n",
       "\n",
       "    .dataframe thead th {\n",
       "        text-align: right;\n",
       "    }\n",
       "</style>\n",
       "<table border=\"1\" class=\"dataframe\">\n",
       "  <thead>\n",
       "    <tr style=\"text-align: right;\">\n",
       "      <th></th>\n",
       "      <th>airlines</th>\n",
       "      <th>carriers</th>\n",
       "    </tr>\n",
       "  </thead>\n",
       "  <tbody>\n",
       "    <tr>\n",
       "      <th>0</th>\n",
       "      <td>20366</td>\n",
       "      <td>1</td>\n",
       "    </tr>\n",
       "    <tr>\n",
       "      <th>1</th>\n",
       "      <td>20409</td>\n",
       "      <td>1</td>\n",
       "    </tr>\n",
       "    <tr>\n",
       "      <th>2</th>\n",
       "      <td>19790</td>\n",
       "      <td>1</td>\n",
       "    </tr>\n",
       "    <tr>\n",
       "      <th>3</th>\n",
       "      <td>19393</td>\n",
       "      <td>1</td>\n",
       "    </tr>\n",
       "    <tr>\n",
       "      <th>4</th>\n",
       "      <td>20304</td>\n",
       "      <td>1</td>\n",
       "    </tr>\n",
       "    <tr>\n",
       "      <th>5</th>\n",
       "      <td>20436</td>\n",
       "      <td>1</td>\n",
       "    </tr>\n",
       "    <tr>\n",
       "      <th>6</th>\n",
       "      <td>19805</td>\n",
       "      <td>1</td>\n",
       "    </tr>\n",
       "    <tr>\n",
       "      <th>7</th>\n",
       "      <td>19977</td>\n",
       "      <td>1</td>\n",
       "    </tr>\n",
       "    <tr>\n",
       "      <th>8</th>\n",
       "      <td>20416</td>\n",
       "      <td>1</td>\n",
       "    </tr>\n",
       "    <tr>\n",
       "      <th>9</th>\n",
       "      <td>21171</td>\n",
       "      <td>1</td>\n",
       "    </tr>\n",
       "    <tr>\n",
       "      <th>10</th>\n",
       "      <td>19930</td>\n",
       "      <td>1</td>\n",
       "    </tr>\n",
       "    <tr>\n",
       "      <th>11</th>\n",
       "      <td>19690</td>\n",
       "      <td>1</td>\n",
       "    </tr>\n",
       "  </tbody>\n",
       "</table>\n",
       "</div>"
      ],
      "text/plain": [
       "    airlines  carriers\n",
       "0      20366         1\n",
       "1      20409         1\n",
       "2      19790         1\n",
       "3      19393         1\n",
       "4      20304         1\n",
       "5      20436         1\n",
       "6      19805         1\n",
       "7      19977         1\n",
       "8      20416         1\n",
       "9      21171         1\n",
       "10     19930         1\n",
       "11     19690         1"
      ]
     },
     "execution_count": 13,
     "metadata": {},
     "output_type": "execute_result"
    }
   ],
   "source": [
    "airlines = df['AIRLINE_ID'].unique()\n",
    "carriers = []\n",
    "nb_carriers = []\n",
    "for airline in airlines:\n",
    "    carriers.append(len(np.unique(df[df.AIRLINE_ID == airline].CARRIER)))\n",
    "my_df = pd.DataFrame({'airlines': airlines, 'carriers': carriers})\n",
    "my_df.sort_values(by='carriers', ascending=False)"
   ]
  },
  {
   "cell_type": "markdown",
   "metadata": {},
   "source": [
    "**CARRIER** and **AIRLINES_ID** show the two same information.\n",
    "Let's keep only **CARRIER** information."
   ]
  },
  {
   "cell_type": "markdown",
   "metadata": {},
   "source": [
    "## 1.3 Origin"
   ]
  },
  {
   "cell_type": "markdown",
   "metadata": {},
   "source": [
    "Let's analyse **origin airport**:"
   ]
  },
  {
   "cell_type": "code",
   "execution_count": 14,
   "metadata": {},
   "outputs": [
    {
     "data": {
      "text/plain": [
       "count    120000.000000\n",
       "mean      12681.718950\n",
       "std        1538.689603\n",
       "min       10135.000000\n",
       "25%       11292.000000\n",
       "50%       12889.000000\n",
       "75%       14057.000000\n",
       "max       16218.000000\n",
       "Name: ORIGIN_AIRPORT_ID, dtype: float64"
      ]
     },
     "execution_count": 14,
     "metadata": {},
     "output_type": "execute_result"
    }
   ],
   "source": [
    "df['ORIGIN_AIRPORT_ID'].describe()"
   ]
  },
  {
   "cell_type": "code",
   "execution_count": 15,
   "metadata": {},
   "outputs": [
    {
     "data": {
      "text/plain": [
       "317"
      ]
     },
     "execution_count": 15,
     "metadata": {},
     "output_type": "execute_result"
    }
   ],
   "source": [
    "len(df['ORIGIN_AIRPORT_SEQ_ID'].unique())"
   ]
  },
  {
   "cell_type": "code",
   "execution_count": 16,
   "metadata": {},
   "outputs": [
    {
     "data": {
      "text/plain": [
       "count     120000\n",
       "unique       308\n",
       "top          ATL\n",
       "freq        8403\n",
       "Name: ORIGIN, dtype: object"
      ]
     },
     "execution_count": 16,
     "metadata": {},
     "output_type": "execute_result"
    }
   ],
   "source": [
    "df['ORIGIN'].describe()"
   ]
  },
  {
   "cell_type": "code",
   "execution_count": 17,
   "metadata": {
    "scrolled": false
   },
   "outputs": [
    {
     "data": {
      "text/plain": [
       "count          120000\n",
       "unique            304\n",
       "top       Atlanta, GA\n",
       "freq             8403\n",
       "Name: ORIGIN_CITY_NAME, dtype: object"
      ]
     },
     "execution_count": 17,
     "metadata": {},
     "output_type": "execute_result"
    }
   ],
   "source": [
    "df['ORIGIN_CITY_NAME'].describe()"
   ]
  },
  {
   "cell_type": "code",
   "execution_count": 18,
   "metadata": {},
   "outputs": [
    {
     "data": {
      "text/html": [
       "<div>\n",
       "<style scoped>\n",
       "    .dataframe tbody tr th:only-of-type {\n",
       "        vertical-align: middle;\n",
       "    }\n",
       "\n",
       "    .dataframe tbody tr th {\n",
       "        vertical-align: top;\n",
       "    }\n",
       "\n",
       "    .dataframe thead th {\n",
       "        text-align: right;\n",
       "    }\n",
       "</style>\n",
       "<table border=\"1\" class=\"dataframe\">\n",
       "  <thead>\n",
       "    <tr style=\"text-align: right;\">\n",
       "      <th></th>\n",
       "      <th>origin_city_name</th>\n",
       "      <th>aeroports</th>\n",
       "    </tr>\n",
       "  </thead>\n",
       "  <tbody>\n",
       "    <tr>\n",
       "      <th>0</th>\n",
       "      <td>Houston, TX</td>\n",
       "      <td>2</td>\n",
       "    </tr>\n",
       "    <tr>\n",
       "      <th>1</th>\n",
       "      <td>New York, NY</td>\n",
       "      <td>2</td>\n",
       "    </tr>\n",
       "    <tr>\n",
       "      <th>2</th>\n",
       "      <td>Mobile, AL</td>\n",
       "      <td>1</td>\n",
       "    </tr>\n",
       "    <tr>\n",
       "      <th>3</th>\n",
       "      <td>Cleveland, OH</td>\n",
       "      <td>1</td>\n",
       "    </tr>\n",
       "    <tr>\n",
       "      <th>4</th>\n",
       "      <td>Denver, CO</td>\n",
       "      <td>1</td>\n",
       "    </tr>\n",
       "  </tbody>\n",
       "</table>\n",
       "</div>"
      ],
      "text/plain": [
       "  origin_city_name  aeroports\n",
       "0      Houston, TX          2\n",
       "1     New York, NY          2\n",
       "2       Mobile, AL          1\n",
       "3    Cleveland, OH          1\n",
       "4       Denver, CO          1"
      ]
     },
     "execution_count": 18,
     "metadata": {},
     "output_type": "execute_result"
    }
   ],
   "source": [
    "origin_city_name = df['ORIGIN_CITY_NAME'].unique()\n",
    "aeroports = []\n",
    "for origin in origin_city_name:\n",
    "    aeroports.append(len(np.unique(df[df.ORIGIN_CITY_NAME == origin].ORIGIN_AIRPORT_ID)))\n",
    "my_df = pd.DataFrame({'origin_city_name': origin_city_name, 'aeroports': aeroports})\n",
    "my_df.head()"
   ]
  },
  {
   "cell_type": "markdown",
   "metadata": {},
   "source": [
    "Some cities have more than 1 aeroport. Let's keep **ORIGIN** as it contains an important information for the generator."
   ]
  },
  {
   "cell_type": "markdown",
   "metadata": {},
   "source": [
    "## 1.3 Destination"
   ]
  },
  {
   "cell_type": "markdown",
   "metadata": {},
   "source": [
    "Let's analyse **destination airport**:"
   ]
  },
  {
   "cell_type": "code",
   "execution_count": 19,
   "metadata": {
    "scrolled": true
   },
   "outputs": [
    {
     "data": {
      "text/plain": [
       "count    120000.000000\n",
       "mean      12669.435983\n",
       "std        1537.165443\n",
       "min       10135.000000\n",
       "25%       11292.000000\n",
       "50%       12889.000000\n",
       "75%       14027.000000\n",
       "max       16218.000000\n",
       "Name: DEST_AIRPORT_ID, dtype: float64"
      ]
     },
     "execution_count": 19,
     "metadata": {},
     "output_type": "execute_result"
    }
   ],
   "source": [
    "df['DEST_AIRPORT_ID'].describe()"
   ]
  },
  {
   "cell_type": "code",
   "execution_count": 20,
   "metadata": {},
   "outputs": [
    {
     "data": {
      "text/html": [
       "<div>\n",
       "<style scoped>\n",
       "    .dataframe tbody tr th:only-of-type {\n",
       "        vertical-align: middle;\n",
       "    }\n",
       "\n",
       "    .dataframe tbody tr th {\n",
       "        vertical-align: top;\n",
       "    }\n",
       "\n",
       "    .dataframe thead th {\n",
       "        text-align: right;\n",
       "    }\n",
       "</style>\n",
       "<table border=\"1\" class=\"dataframe\">\n",
       "  <thead>\n",
       "    <tr style=\"text-align: right;\">\n",
       "      <th></th>\n",
       "      <th>destination_city_name</th>\n",
       "      <th>aeroports</th>\n",
       "    </tr>\n",
       "  </thead>\n",
       "  <tbody>\n",
       "    <tr>\n",
       "      <th>0</th>\n",
       "      <td>Corpus Christi, TX</td>\n",
       "      <td>1</td>\n",
       "    </tr>\n",
       "    <tr>\n",
       "      <th>1</th>\n",
       "      <td>Fort Lauderdale, FL</td>\n",
       "      <td>1</td>\n",
       "    </tr>\n",
       "    <tr>\n",
       "      <th>2</th>\n",
       "      <td>Atlanta, GA</td>\n",
       "      <td>1</td>\n",
       "    </tr>\n",
       "    <tr>\n",
       "      <th>3</th>\n",
       "      <td>Baltimore, MD</td>\n",
       "      <td>1</td>\n",
       "    </tr>\n",
       "    <tr>\n",
       "      <th>4</th>\n",
       "      <td>Salt Lake City, UT</td>\n",
       "      <td>1</td>\n",
       "    </tr>\n",
       "  </tbody>\n",
       "</table>\n",
       "</div>"
      ],
      "text/plain": [
       "  destination_city_name  aeroports\n",
       "0    Corpus Christi, TX          1\n",
       "1   Fort Lauderdale, FL          1\n",
       "2           Atlanta, GA          1\n",
       "3         Baltimore, MD          1\n",
       "4    Salt Lake City, UT          1"
      ]
     },
     "execution_count": 20,
     "metadata": {},
     "output_type": "execute_result"
    }
   ],
   "source": [
    "destination_city_name = df['DEST_CITY_NAME'].unique()\n",
    "aeroports = []\n",
    "for dest in destination_city_name:\n",
    "    aeroports.append(len(np.unique(df[df.DEST_CITY_NAME == dest].DEST_AIRPORT_ID)))\n",
    "my_df = pd.DataFrame({'destination_city_name': destination_city_name, 'aeroports': aeroports})\n",
    "my_df.head()"
   ]
  },
  {
   "cell_type": "markdown",
   "metadata": {},
   "source": [
    "In the same way than for the origin airport, let's keep **DEST_AIRPORT** "
   ]
  },
  {
   "cell_type": "markdown",
   "metadata": {},
   "source": [
    "## 1.4 Departure Performance"
   ]
  },
  {
   "cell_type": "markdown",
   "metadata": {},
   "source": [
    "Let's analyse **departure performance**:\n",
    "* First, the **scheduled departime time**:"
   ]
  },
  {
   "cell_type": "code",
   "execution_count": 21,
   "metadata": {},
   "outputs": [
    {
     "data": {
      "text/plain": [
       "count    120000.000000\n",
       "mean       1332.163542\n",
       "std         489.441812\n",
       "min           1.000000\n",
       "25%         915.000000\n",
       "50%        1326.000000\n",
       "75%        1735.000000\n",
       "max        2359.000000\n",
       "Name: CRS_DEP_TIME, dtype: float64"
      ]
     },
     "execution_count": 21,
     "metadata": {},
     "output_type": "execute_result"
    }
   ],
   "source": [
    "df['CRS_DEP_TIME'].describe()"
   ]
  },
  {
   "cell_type": "markdown",
   "metadata": {},
   "source": [
    "* **departure time**:"
   ]
  },
  {
   "cell_type": "code",
   "execution_count": 22,
   "metadata": {},
   "outputs": [
    {
     "data": {
      "text/plain": [
       "count    118705.000000\n",
       "mean       1334.204153\n",
       "std         502.063441\n",
       "min           1.000000\n",
       "25%         918.000000\n",
       "50%        1330.000000\n",
       "75%        1742.000000\n",
       "max        2400.000000\n",
       "Name: DEP_TIME, dtype: float64"
      ]
     },
     "execution_count": 22,
     "metadata": {},
     "output_type": "execute_result"
    }
   ],
   "source": [
    "df['DEP_TIME'].describe()"
   ]
  },
  {
   "cell_type": "markdown",
   "metadata": {},
   "source": [
    "* **Departure delay**:\n",
    "this variable can't be used in the model."
   ]
  },
  {
   "cell_type": "code",
   "execution_count": 23,
   "metadata": {
    "scrolled": false
   },
   "outputs": [
    {
     "data": {
      "text/plain": [
       "count    118705.000000\n",
       "mean          8.860225\n",
       "std          39.728753\n",
       "min         -51.000000\n",
       "25%          -5.000000\n",
       "50%          -2.000000\n",
       "75%           6.000000\n",
       "max        1496.000000\n",
       "Name: DEP_DELAY, dtype: float64"
      ]
     },
     "execution_count": 23,
     "metadata": {},
     "output_type": "execute_result"
    }
   ],
   "source": [
    "df['DEP_DELAY'].describe()"
   ]
  },
  {
   "cell_type": "code",
   "execution_count": 24,
   "metadata": {
    "scrolled": true
   },
   "outputs": [
    {
     "data": {
      "text/plain": [
       "count    118705.000000\n",
       "mean         11.782545\n",
       "std          38.703090\n",
       "min           0.000000\n",
       "25%           0.000000\n",
       "50%           0.000000\n",
       "75%           6.000000\n",
       "max        1496.000000\n",
       "Name: DEP_DELAY_NEW, dtype: float64"
      ]
     },
     "execution_count": 24,
     "metadata": {},
     "output_type": "execute_result"
    }
   ],
   "source": [
    "df['DEP_DELAY_NEW'].describe()"
   ]
  },
  {
   "cell_type": "code",
   "execution_count": 25,
   "metadata": {
    "scrolled": true
   },
   "outputs": [
    {
     "data": {
      "text/plain": [
       "<matplotlib.collections.PathCollection at 0x195ae2e9eb8>"
      ]
     },
     "execution_count": 25,
     "metadata": {},
     "output_type": "execute_result"
    },
    {
     "data": {
      "image/png": "[encoded data removed]",
      "text/plain": [
       "<Figure size 432x288 with 1 Axes>"
      ]
     },
     "metadata": {},
     "output_type": "display_data"
    }
   ],
   "source": [
    "plt.scatter(df['DEP_DELAY'], df['DEP_DELAY_NEW'])"
   ]
  },
  {
   "cell_type": "markdown",
   "metadata": {},
   "source": [
    "In order to correctly predict delay, we choose to keep **DEP_DELAY** with negative values."
   ]
  },
  {
   "cell_type": "markdown",
   "metadata": {},
   "source": [
    "## 1.5 Arrival Performance"
   ]
  },
  {
   "cell_type": "markdown",
   "metadata": {},
   "source": [
    "Let's analyse arrival performance:\n",
    "\n",
    "* First the **scheduled arrival time**:"
   ]
  },
  {
   "cell_type": "code",
   "execution_count": 26,
   "metadata": {
    "scrolled": true
   },
   "outputs": [
    {
     "data": {
      "text/plain": [
       "count    120000.000000\n",
       "mean       1491.522600\n",
       "std         516.263642\n",
       "min           1.000000\n",
       "25%        1106.000000\n",
       "50%        1520.000000\n",
       "75%        1920.000000\n",
       "max        2359.000000\n",
       "Name: CRS_ARR_TIME, dtype: float64"
      ]
     },
     "execution_count": 26,
     "metadata": {},
     "output_type": "execute_result"
    }
   ],
   "source": [
    "df['CRS_ARR_TIME'].describe()"
   ]
  },
  {
   "cell_type": "markdown",
   "metadata": {},
   "source": [
    "* The **real arrival** time can't be used for the predicition:"
   ]
  },
  {
   "cell_type": "code",
   "execution_count": 27,
   "metadata": {
    "scrolled": true
   },
   "outputs": [
    {
     "data": {
      "text/plain": [
       "count    118612.000000\n",
       "mean       1473.081653\n",
       "std         533.581585\n",
       "min           1.000000\n",
       "25%        1054.000000\n",
       "50%        1512.000000\n",
       "75%        1918.000000\n",
       "max        2400.000000\n",
       "Name: ARR_TIME, dtype: float64"
      ]
     },
     "execution_count": 27,
     "metadata": {},
     "output_type": "execute_result"
    }
   ],
   "source": [
    "df['ARR_TIME'].describe()"
   ]
  },
  {
   "cell_type": "markdown",
   "metadata": {},
   "source": [
    "* The **real arrival delay** is the value that we want to predict."
   ]
  },
  {
   "cell_type": "code",
   "execution_count": 28,
   "metadata": {},
   "outputs": [
    {
     "data": {
      "text/plain": [
       "count    118385.000000\n",
       "mean          3.365215\n",
       "std          41.812745\n",
       "min         -94.000000\n",
       "25%         -14.000000\n",
       "50%          -6.000000\n",
       "75%           6.000000\n",
       "max        1488.000000\n",
       "Name: ARR_DELAY, dtype: float64"
      ]
     },
     "execution_count": 28,
     "metadata": {},
     "output_type": "execute_result"
    }
   ],
   "source": [
    "df['ARR_DELAY'].describe()"
   ]
  },
  {
   "cell_type": "code",
   "execution_count": 29,
   "metadata": {
    "scrolled": true
   },
   "outputs": [
    {
     "data": {
      "text/plain": [
       "count    118385.000000\n",
       "mean         11.722744\n",
       "std          38.313344\n",
       "min           0.000000\n",
       "25%           0.000000\n",
       "50%           0.000000\n",
       "75%           6.000000\n",
       "max        1488.000000\n",
       "Name: ARR_DELAY_NEW, dtype: float64"
      ]
     },
     "execution_count": 29,
     "metadata": {},
     "output_type": "execute_result"
    }
   ],
   "source": [
    "df['ARR_DELAY_NEW'].describe()"
   ]
  },
  {
   "cell_type": "code",
   "execution_count": 30,
   "metadata": {
    "scrolled": true
   },
   "outputs": [
    {
     "data": {
      "text/plain": [
       "<matplotlib.collections.PathCollection at 0x195ae2db898>"
      ]
     },
     "execution_count": 30,
     "metadata": {},
     "output_type": "execute_result"
    },
    {
     "data": {
      "image/png": "[encoded data removed]",
      "text/plain": [
       "<Figure size 432x288 with 1 Axes>"
      ]
     },
     "metadata": {},
     "output_type": "display_data"
    }
   ],
   "source": [
    "plt.scatter(df['ARR_DELAY'], df['ARR_DELAY_NEW'])"
   ]
  },
  {
   "cell_type": "markdown",
   "metadata": {},
   "source": [
    "In order to correctly predict delay, we choose to keep **ARR_DELAY** with negative values."
   ]
  },
  {
   "cell_type": "markdown",
   "metadata": {},
   "source": [
    "## 1.5 Flight Summaries"
   ]
  },
  {
   "cell_type": "markdown",
   "metadata": {},
   "source": [
    "**Scheduled elapsed time** and **distance** to travel are also 2 other indicators for the model."
   ]
  },
  {
   "cell_type": "code",
   "execution_count": 31,
   "metadata": {},
   "outputs": [
    {
     "data": {
      "text/plain": [
       "count    120000.000000\n",
       "mean        144.822417\n",
       "std          75.944334\n",
       "min          18.000000\n",
       "25%          88.000000\n",
       "50%         126.000000\n",
       "75%         177.000000\n",
       "max         695.000000\n",
       "Name: CRS_ELAPSED_TIME, dtype: float64"
      ]
     },
     "execution_count": 31,
     "metadata": {},
     "output_type": "execute_result"
    }
   ],
   "source": [
    "df['CRS_ELAPSED_TIME'].describe()"
   ]
  },
  {
   "cell_type": "code",
   "execution_count": 32,
   "metadata": {
    "scrolled": true
   },
   "outputs": [
    {
     "data": {
      "text/plain": [
       "count    120000.000000\n",
       "mean        845.221150\n",
       "std         615.738606\n",
       "min          31.000000\n",
       "25%         387.000000\n",
       "50%         675.000000\n",
       "75%        1090.000000\n",
       "max        4983.000000\n",
       "Name: DISTANCE, dtype: float64"
      ]
     },
     "execution_count": 32,
     "metadata": {},
     "output_type": "execute_result"
    }
   ],
   "source": [
    "df['DISTANCE'].describe()"
   ]
  },
  {
   "cell_type": "markdown",
   "metadata": {},
   "source": [
    "Scheduled elapsed time **CRS_ELAPSED_TIME** and travel distance **DISTANCE** should also be important variable in the dataset."
   ]
  },
  {
   "cell_type": "markdown",
   "metadata": {},
   "source": [
    "## 1.6 Variable selection"
   ]
  },
  {
   "cell_type": "markdown",
   "metadata": {},
   "source": [
    "After this first analyse, let's keep this selection:\n",
    "* **CARRIER**\n",
    "* **ORIGIN**\n",
    "* **DESTINATION**\n",
    "* **SCHEDULED ELAPSED TIME**\n",
    "* **SCHEDULED DEPARTURE**\n",
    "* **SCHEDULED ARRIVAL TIME**\n",
    "* **DISTANCE**\n",
    "* **ARRIVAL DELAY**"
   ]
  },
  {
   "cell_type": "markdown",
   "metadata": {},
   "source": [
    "First define, a utils function to convert a string into datetime, **convert_to_datetime**:"
   ]
  },
  {
   "cell_type": "code",
   "execution_count": 33,
   "metadata": {},
   "outputs": [],
   "source": [
    "def convert_to_datetime(x):\n",
    "    if pd.isnull(x):\n",
    "        return np.nan\n",
    "    else:\n",
    "        x = int(x)\n",
    "        hour = x//100\n",
    "        minute = x - hour*100\n",
    "        dt = datetime.time(hour, minute)\n",
    "        return dt"
   ]
  },
  {
   "cell_type": "markdown",
   "metadata": {},
   "source": [
    "First define, a utils function to convert the departure string into datetime, **convert_to_departure_datetime**:"
   ]
  },
  {
   "cell_type": "code",
   "execution_count": 36,
   "metadata": {},
   "outputs": [],
   "source": [
    "import datetime\n",
    "def convert_to_departure_datetime(df):    \n",
    "    liste = []\n",
    "    for index, cols in df[['FL_DATE', 'CRS_DEP_TIME']].iterrows():    \n",
    "        if pd.isnull(cols[1]):\n",
    "            liste.append(np.nan)\n",
    "        else:\n",
    "            cols[0] = datetime.datetime.strptime(cols[0],\"%Y-%m-%d\")\n",
    "            cols[1] = convert_to_datetime(cols[1])\n",
    "            res = datetime.datetime.combine(cols[0],cols[1])\n",
    "            liste.append(res)\n",
    "    return (liste)"
   ]
  },
  {
   "cell_type": "markdown",
   "metadata": {},
   "source": [
    "Let's process to the variable selection:"
   ]
  },
  {
   "cell_type": "code",
   "execution_count": 37,
   "metadata": {},
   "outputs": [],
   "source": [
    "df['AIRLINE'] = df['CARRIER']\n",
    "df['ORIGIN_AIRPORT'] = df['ORIGIN']\n",
    "df['DESTINATION_AIRPORT'] = df['DEST']\n",
    "df['SCHEDULED_ELAPSED_TIME'] = df['CRS_ELAPSED_TIME']\n",
    "df['SCHEDULED_DEPARTURE'] = convert_to_departure_datetime(df)\n",
    "df['DEPARTURE_DELAY'] = df['DEP_DELAY'].astype(float)\n",
    "df['SCHEDULED_ARRIVAL'] = df['CRS_ARR_TIME'].apply(convert_to_datetime)\n",
    "df['ARRIVAL_DELAY'] = df['ARR_DELAY'].astype(float)\n",
    "df['DISTANCE'] = df['DISTANCE'].astype(float)"
   ]
  },
  {
   "cell_type": "code",
   "execution_count": 38,
   "metadata": {
    "scrolled": true
   },
   "outputs": [],
   "source": [
    "df = df[['AIRLINE', 'ORIGIN_AIRPORT', 'DESTINATION_AIRPORT', \n",
    "        'SCHEDULED_ELAPSED_TIME',\n",
    "        'SCHEDULED_DEPARTURE', 'DEPARTURE_DELAY',\n",
    "        'SCHEDULED_ARRIVAL','DISTANCE','ARRIVAL_DELAY']]"
   ]
  },
  {
   "cell_type": "code",
   "execution_count": 39,
   "metadata": {},
   "outputs": [
    {
     "data": {
      "text/html": [
       "<div>\n",
       "<style scoped>\n",
       "    .dataframe tbody tr th:only-of-type {\n",
       "        vertical-align: middle;\n",
       "    }\n",
       "\n",
       "    .dataframe tbody tr th {\n",
       "        vertical-align: top;\n",
       "    }\n",
       "\n",
       "    .dataframe thead th {\n",
       "        text-align: right;\n",
       "    }\n",
       "</style>\n",
       "<table border=\"1\" class=\"dataframe\">\n",
       "  <thead>\n",
       "    <tr style=\"text-align: right;\">\n",
       "      <th></th>\n",
       "      <th>AIRLINE</th>\n",
       "      <th>ORIGIN_AIRPORT</th>\n",
       "      <th>DESTINATION_AIRPORT</th>\n",
       "      <th>SCHEDULED_ELAPSED_TIME</th>\n",
       "      <th>SCHEDULED_DEPARTURE</th>\n",
       "      <th>DEPARTURE_DELAY</th>\n",
       "      <th>SCHEDULED_ARRIVAL</th>\n",
       "      <th>DISTANCE</th>\n",
       "      <th>ARRIVAL_DELAY</th>\n",
       "    </tr>\n",
       "  </thead>\n",
       "  <tbody>\n",
       "    <tr>\n",
       "      <th>0</th>\n",
       "      <td>EV</td>\n",
       "      <td>IAH</td>\n",
       "      <td>CRP</td>\n",
       "      <td>66.0</td>\n",
       "      <td>2016-01-06 17:35:00</td>\n",
       "      <td>0.0</td>\n",
       "      <td>18:41:00</td>\n",
       "      <td>201.0</td>\n",
       "      <td>9.0</td>\n",
       "    </tr>\n",
       "    <tr>\n",
       "      <th>1</th>\n",
       "      <td>B6</td>\n",
       "      <td>LGA</td>\n",
       "      <td>FLL</td>\n",
       "      <td>176.0</td>\n",
       "      <td>2016-01-17 21:40:00</td>\n",
       "      <td>15.0</td>\n",
       "      <td>00:36:00</td>\n",
       "      <td>1076.0</td>\n",
       "      <td>25.0</td>\n",
       "    </tr>\n",
       "    <tr>\n",
       "      <th>2</th>\n",
       "      <td>DL</td>\n",
       "      <td>MOB</td>\n",
       "      <td>ATL</td>\n",
       "      <td>74.0</td>\n",
       "      <td>2016-01-22 17:50:00</td>\n",
       "      <td>91.0</td>\n",
       "      <td>20:04:00</td>\n",
       "      <td>302.0</td>\n",
       "      <td>94.0</td>\n",
       "    </tr>\n",
       "    <tr>\n",
       "      <th>3</th>\n",
       "      <td>WN</td>\n",
       "      <td>CLE</td>\n",
       "      <td>BWI</td>\n",
       "      <td>80.0</td>\n",
       "      <td>2016-01-18 21:15:00</td>\n",
       "      <td>-11.0</td>\n",
       "      <td>22:35:00</td>\n",
       "      <td>314.0</td>\n",
       "      <td>-10.0</td>\n",
       "    </tr>\n",
       "    <tr>\n",
       "      <th>4</th>\n",
       "      <td>OO</td>\n",
       "      <td>DEN</td>\n",
       "      <td>SLC</td>\n",
       "      <td>96.0</td>\n",
       "      <td>2016-01-17 15:19:00</td>\n",
       "      <td>6.0</td>\n",
       "      <td>16:55:00</td>\n",
       "      <td>391.0</td>\n",
       "      <td>8.0</td>\n",
       "    </tr>\n",
       "  </tbody>\n",
       "</table>\n",
       "</div>"
      ],
      "text/plain": [
       "  AIRLINE ORIGIN_AIRPORT DESTINATION_AIRPORT  SCHEDULED_ELAPSED_TIME  \\\n",
       "0      EV            IAH                 CRP                    66.0   \n",
       "1      B6            LGA                 FLL                   176.0   \n",
       "2      DL            MOB                 ATL                    74.0   \n",
       "3      WN            CLE                 BWI                    80.0   \n",
       "4      OO            DEN                 SLC                    96.0   \n",
       "\n",
       "  SCHEDULED_DEPARTURE  DEPARTURE_DELAY SCHEDULED_ARRIVAL  DISTANCE  \\\n",
       "0 2016-01-06 17:35:00              0.0          18:41:00     201.0   \n",
       "1 2016-01-17 21:40:00             15.0          00:36:00    1076.0   \n",
       "2 2016-01-22 17:50:00             91.0          20:04:00     302.0   \n",
       "3 2016-01-18 21:15:00            -11.0          22:35:00     314.0   \n",
       "4 2016-01-17 15:19:00              6.0          16:55:00     391.0   \n",
       "\n",
       "   ARRIVAL_DELAY  \n",
       "0            9.0  \n",
       "1           25.0  \n",
       "2           94.0  \n",
       "3          -10.0  \n",
       "4            8.0  "
      ]
     },
     "execution_count": 39,
     "metadata": {},
     "output_type": "execute_result"
    }
   ],
   "source": [
    "df.head()"
   ]
  },
  {
   "cell_type": "markdown",
   "metadata": {},
   "source": [
    "Let's analyse missing data contained in dataset"
   ]
  },
  {
   "cell_type": "code",
   "execution_count": 40,
   "metadata": {
    "scrolled": true
   },
   "outputs": [
    {
     "data": {
      "text/plain": [
       "Text(0,0.5,'')"
      ]
     },
     "execution_count": 40,
     "metadata": {},
     "output_type": "execute_result"
    },
    {
     "data": {
      "image/png": "[encoded data removed]",
      "text/plain": [
       "<Figure size 432x288 with 1 Axes>"
      ]
     },
     "metadata": {},
     "output_type": "display_data"
    }
   ],
   "source": [
    "col = df.columns.get_values()\n",
    "y = []\n",
    "for var in col:\n",
    "    missing = float(df[var].isnull().sum())\n",
    "    count = float(df[var].count() + 1)\n",
    "    y.append(float(missing/(missing+count)) * 100)\n",
    "    \n",
    "my_df = pd.DataFrame({'index': col, 'missing_values': y})\n",
    "my_df = my_df.sort_values('missing_values')\n",
    "\n",
    "fig, ax = plt.subplots()\n",
    "\n",
    "sns.barplot(x='missing_values', y=\"index\", data=my_df, ax=ax)\n",
    "ax.set_xlabel('Number of missing values')\n",
    "ax.set_ylabel('')"
   ]
  },
  {
   "cell_type": "markdown",
   "metadata": {},
   "source": [
    "Less than **2%** of the dataset are filled with missing values, let's remove them."
   ]
  },
  {
   "cell_type": "code",
   "execution_count": 41,
   "metadata": {},
   "outputs": [],
   "source": [
    "df.dropna(inplace=True)\n",
    "df = df.reset_index()"
   ]
  },
  {
   "cell_type": "markdown",
   "metadata": {},
   "source": [
    "Let's store the dataset."
   ]
  },
  {
   "cell_type": "code",
   "execution_count": 42,
   "metadata": {},
   "outputs": [],
   "source": [
    "df.to_csv('dataset_clean.csv', index=False)\n",
    "#df = pd.read_csv('../../../../OPENCLASSROOMS/PROJET4/dataset_clean.csv', sep=',', error_bad_lines=False)\n",
    "#df['Date'] = pd.to_datetime(df['Date'], coerce=True)"
   ]
  },
  {
   "cell_type": "markdown",
   "metadata": {},
   "source": [
    "# 2 Analyse"
   ]
  },
  {
   "cell_type": "markdown",
   "metadata": {},
   "source": [
    "## 2.1 Variation of delay inside the different carriers"
   ]
  },
  {
   "cell_type": "markdown",
   "metadata": {},
   "source": [
    "Let's analyse the variation of **arrival delay** for different carriers:"
   ]
  },
  {
   "cell_type": "code",
   "execution_count": 43,
   "metadata": {
    "scrolled": true
   },
   "outputs": [
    {
     "data": {
      "text/html": [
       "<div>\n",
       "<style scoped>\n",
       "    .dataframe tbody tr th:only-of-type {\n",
       "        vertical-align: middle;\n",
       "    }\n",
       "\n",
       "    .dataframe tbody tr th {\n",
       "        vertical-align: top;\n",
       "    }\n",
       "\n",
       "    .dataframe thead th {\n",
       "        text-align: right;\n",
       "    }\n",
       "</style>\n",
       "<table border=\"1\" class=\"dataframe\">\n",
       "  <thead>\n",
       "    <tr style=\"text-align: right;\">\n",
       "      <th></th>\n",
       "      <th>count</th>\n",
       "      <th>max</th>\n",
       "      <th>mean</th>\n",
       "      <th>min</th>\n",
       "    </tr>\n",
       "    <tr>\n",
       "      <th>AIRLINE</th>\n",
       "      <th></th>\n",
       "      <th></th>\n",
       "      <th></th>\n",
       "      <th></th>\n",
       "    </tr>\n",
       "  </thead>\n",
       "  <tbody>\n",
       "    <tr>\n",
       "      <th>VX</th>\n",
       "      <td>1455.0</td>\n",
       "      <td>222.0</td>\n",
       "      <td>5.349828</td>\n",
       "      <td>-63.0</td>\n",
       "    </tr>\n",
       "    <tr>\n",
       "      <th>HA</th>\n",
       "      <td>1614.0</td>\n",
       "      <td>545.0</td>\n",
       "      <td>-0.450434</td>\n",
       "      <td>-44.0</td>\n",
       "    </tr>\n",
       "    <tr>\n",
       "      <th>F9</th>\n",
       "      <td>2096.0</td>\n",
       "      <td>683.0</td>\n",
       "      <td>6.530057</td>\n",
       "      <td>-63.0</td>\n",
       "    </tr>\n",
       "    <tr>\n",
       "      <th>NK</th>\n",
       "      <td>2801.0</td>\n",
       "      <td>1014.0</td>\n",
       "      <td>9.108176</td>\n",
       "      <td>-55.0</td>\n",
       "    </tr>\n",
       "    <tr>\n",
       "      <th>AS</th>\n",
       "      <td>3563.0</td>\n",
       "      <td>328.0</td>\n",
       "      <td>-2.689868</td>\n",
       "      <td>-69.0</td>\n",
       "    </tr>\n",
       "    <tr>\n",
       "      <th>B6</th>\n",
       "      <td>6089.0</td>\n",
       "      <td>798.0</td>\n",
       "      <td>8.765643</td>\n",
       "      <td>-75.0</td>\n",
       "    </tr>\n",
       "    <tr>\n",
       "      <th>EV</th>\n",
       "      <td>10419.0</td>\n",
       "      <td>1175.0</td>\n",
       "      <td>5.733372</td>\n",
       "      <td>-56.0</td>\n",
       "    </tr>\n",
       "    <tr>\n",
       "      <th>UA</th>\n",
       "      <td>11271.0</td>\n",
       "      <td>993.0</td>\n",
       "      <td>1.500222</td>\n",
       "      <td>-79.0</td>\n",
       "    </tr>\n",
       "    <tr>\n",
       "      <th>OO</th>\n",
       "      <td>12716.0</td>\n",
       "      <td>1282.0</td>\n",
       "      <td>4.273199</td>\n",
       "      <td>-54.0</td>\n",
       "    </tr>\n",
       "    <tr>\n",
       "      <th>AA</th>\n",
       "      <td>18548.0</td>\n",
       "      <td>1488.0</td>\n",
       "      <td>4.787147</td>\n",
       "      <td>-94.0</td>\n",
       "    </tr>\n",
       "    <tr>\n",
       "      <th>DL</th>\n",
       "      <td>20466.0</td>\n",
       "      <td>968.0</td>\n",
       "      <td>-0.445324</td>\n",
       "      <td>-75.0</td>\n",
       "    </tr>\n",
       "    <tr>\n",
       "      <th>WN</th>\n",
       "      <td>27347.0</td>\n",
       "      <td>571.0</td>\n",
       "      <td>3.572019</td>\n",
       "      <td>-59.0</td>\n",
       "    </tr>\n",
       "  </tbody>\n",
       "</table>\n",
       "</div>"
      ],
      "text/plain": [
       "           count     max      mean   min\n",
       "AIRLINE                                 \n",
       "VX        1455.0   222.0  5.349828 -63.0\n",
       "HA        1614.0   545.0 -0.450434 -44.0\n",
       "F9        2096.0   683.0  6.530057 -63.0\n",
       "NK        2801.0  1014.0  9.108176 -55.0\n",
       "AS        3563.0   328.0 -2.689868 -69.0\n",
       "B6        6089.0   798.0  8.765643 -75.0\n",
       "EV       10419.0  1175.0  5.733372 -56.0\n",
       "UA       11271.0   993.0  1.500222 -79.0\n",
       "OO       12716.0  1282.0  4.273199 -54.0\n",
       "AA       18548.0  1488.0  4.787147 -94.0\n",
       "DL       20466.0   968.0 -0.445324 -75.0\n",
       "WN       27347.0   571.0  3.572019 -59.0"
      ]
     },
     "execution_count": 43,
     "metadata": {},
     "output_type": "execute_result"
    }
   ],
   "source": [
    "def get_stats(group):\n",
    "    return {'min': group.min(), 'max': group.max(),\n",
    "            'count': group.count(), 'mean': group.mean()}\n",
    "stats = df['ARRIVAL_DELAY'].groupby(df['AIRLINE']).apply(get_stats).unstack()\n",
    "stats = stats.sort_values('count')\n",
    "stats"
   ]
  },
  {
   "cell_type": "markdown",
   "metadata": {},
   "source": [
    "We can observe that some compagnies recording the highest number of flight (as WN) have a mean delay below other compagnies recording lowest number of flight (as NK)"
   ]
  },
  {
   "cell_type": "markdown",
   "metadata": {},
   "source": [
    "In order to complete this analyse, we can define different group of delay:\n",
    "- delay below 5 min\n",
    "- delay between 5 min and 45 min\n",
    "- delay above 45 min"
   ]
  },
  {
   "cell_type": "code",
   "execution_count": 44,
   "metadata": {},
   "outputs": [],
   "source": [
    "arrival_delay_level = lambda x:((0,1)[x > 5],2)[x > 45]\n",
    "df['ARRIVAL_DELAY_LEVEL'] = df['ARRIVAL_DELAY'].apply(arrival_delay_level)"
   ]
  },
  {
   "cell_type": "code",
   "execution_count": 45,
   "metadata": {
    "scrolled": true
   },
   "outputs": [
    {
     "data": {
      "text/plain": [
       "Text(0.5,0,'Delay repartition per company')"
      ]
     },
     "execution_count": 45,
     "metadata": {},
     "output_type": "execute_result"
    },
    {
     "data": {
      "image/png": "[encoded data removed]",
      "text/plain": [
       "<Figure size 432x288 with 1 Axes>"
      ]
     },
     "metadata": {},
     "output_type": "display_data"
    }
   ],
   "source": [
    "from __future__ import division\n",
    "delay_0 = []\n",
    "delay_1 = []\n",
    "delay_2 = []\n",
    "airlines = df['AIRLINE'].unique()\n",
    "#____________________________________________________\n",
    "for airline in airlines:\n",
    "    count = len(df[df['AIRLINE'] == airline])\n",
    "    delay_0.append(100 * (1 - ((count - len(df[(df['ARRIVAL_DELAY_LEVEL'] == 0) & (df['AIRLINE'] == airline)])) / count )))\n",
    "    delay_1.append(100 * (1 - ((count - len(df[(df['ARRIVAL_DELAY_LEVEL'] == 1) & (df['AIRLINE'] == airline)])) / count )))\n",
    "    delay_2.append(100 * (1 - ((count - len(df[(df['ARRIVAL_DELAY_LEVEL'] == 2) & (df['AIRLINE'] == airline)])) / count )))\n",
    "\n",
    "#____________________________________________________\n",
    "my_df = pd.DataFrame({'delay_0': delay_0, 'delay_1': delay_1, 'delay_2': delay_2, 'index': airline})\n",
    "ax = my_df.plot(kind='bar', stacked=True)\n",
    "ax.set_xticklabels(airlines)\n",
    "\n",
    "#____________________________________________________\n",
    "L = ax.legend(bbox_to_anchor=(1.1, 1.05))\n",
    "L.get_texts()[0].set_text('Delay below 5 min')\n",
    "L.get_texts()[1].set_text('Delay between 5 and 45 min')\n",
    "L.get_texts()[2].set_text('Delay above 45 min')\n",
    "\n",
    "plt.xlabel('Delay repartition per company', fontsize=16, weight = 'bold', labelpad=10)\n"
   ]
  },
  {
   "cell_type": "markdown",
   "metadata": {},
   "source": [
    "We confirm the previous observation, carriers have a lot of variation of delays."
   ]
  },
  {
   "cell_type": "markdown",
   "metadata": {},
   "source": [
    "## 2.2 Variation of delay for the same route"
   ]
  },
  {
   "cell_type": "code",
   "execution_count": 46,
   "metadata": {
    "scrolled": true
   },
   "outputs": [
    {
     "data": {
      "text/plain": [
       "Text(0.5,1,'Flights from San Francisco, CA to New York, NY')"
      ]
     },
     "execution_count": 46,
     "metadata": {},
     "output_type": "execute_result"
    },
    {
     "data": {
      "image/png": "[encoded data removed]",
      "text/plain": [
       "<Figure size 432x288 with 1 Axes>"
      ]
     },
     "metadata": {},
     "output_type": "display_data"
    }
   ],
   "source": [
    "# San Francisco, CA: San Francisco International -> New York, NY: John F. Kennedy International\n",
    "df_subset = df[(df.ORIGIN_AIRPORT == 'SFO') & (df.DESTINATION_AIRPORT == 'JFK')]\n",
    "\n",
    "carrier_list = df_subset[\"AIRLINE\"].unique()\n",
    "carrier_mean_delay = []\n",
    "\n",
    "for carrier in carrier_list:\n",
    "    carrier_mean_delay.append(df_subset[df_subset.AIRLINE == carrier][\"ARRIVAL_DELAY\"].mean())\n",
    "\n",
    "my_df = pd.DataFrame({'index': carrier_list, 'missing_values': carrier_mean_delay})\n",
    "my_df = my_df.sort_values('missing_values')\n",
    "\n",
    "fig, ax = plt.subplots()\n",
    "\n",
    "sns.barplot(x='index', y=\"missing_values\", data=my_df, ax=ax)\n",
    "ax.set_xlabel('Airline')\n",
    "ax.set_ylabel('Average Delay(minutes)')\n",
    "ax.set_title('Flights from San Francisco, CA to New York, NY')"
   ]
  },
  {
   "cell_type": "markdown",
   "metadata": {},
   "source": [
    "The **arrival delay** is changing a a lot between different airlines:\n",
    "* **VX** compagnie shows a positive delay\n",
    "* **DL** compagnie shows a negative delay"
   ]
  },
  {
   "cell_type": "markdown",
   "metadata": {},
   "source": [
    "## 2.3 Variation of delay using temperal factors: month"
   ]
  },
  {
   "cell_type": "markdown",
   "metadata": {},
   "source": [
    "Let's observe the **arrival delay** variation for all month"
   ]
  },
  {
   "cell_type": "code",
   "execution_count": 47,
   "metadata": {},
   "outputs": [
    {
     "data": {
      "text/plain": [
       "Text(0.5,1,'Flight delay based on month departure')"
      ]
     },
     "execution_count": 47,
     "metadata": {},
     "output_type": "execute_result"
    },
    {
     "data": {
      "image/png": "[encoded data removed]",
      "text/plain": [
       "<Figure size 432x288 with 1 Axes>"
      ]
     },
     "metadata": {},
     "output_type": "display_data"
    }
   ],
   "source": [
    "# Flight delay on all month\n",
    "df_subset = df\n",
    "\n",
    "month_list = df_subset.SCHEDULED_DEPARTURE.dt.month.unique()\n",
    "month_mean_delay = []\n",
    "\n",
    "for month in month_list:\n",
    "    month_mean_delay.append(df_subset[df_subset.SCHEDULED_DEPARTURE.dt.month == month][\"ARRIVAL_DELAY\"].mean())\n",
    "\n",
    "my_df = pd.DataFrame({'index': month_list, 'missing_values': month_mean_delay})\n",
    "my_df = my_df.sort_values('missing_values')\n",
    "\n",
    "fig, ax = plt.subplots()\n",
    "\n",
    "sns.barplot(x='index', y=\"missing_values\", data=my_df, ax=ax)\n",
    "ax.set_xlabel('Month')\n",
    "ax.set_ylabel('Average Delay(minutes)')\n",
    "ax.set_title('Flight delay based on month departure')"
   ]
  },
  {
   "cell_type": "markdown",
   "metadata": {},
   "source": [
    "We can observe a sort of seasonality:\n",
    "* average delay seems higher during **summer** (month 6/7) and for **christmas** period (month 12)"
   ]
  },
  {
   "cell_type": "code",
   "execution_count": 48,
   "metadata": {},
   "outputs": [
    {
     "data": {
      "text/plain": [
       "Text(0.5,1,'Flights from San Francisco, CA to New York, NY')"
      ]
     },
     "execution_count": 48,
     "metadata": {},
     "output_type": "execute_result"
    },
    {
     "data": {
      "image/png": "[encoded data removed]",
      "text/plain": [
       "<Figure size 432x288 with 1 Axes>"
      ]
     },
     "metadata": {},
     "output_type": "display_data"
    }
   ],
   "source": [
    "# San Francisco, CA: San Francisco International -> New York, NY: John F. Kennedy International\n",
    "df_subset = df[(df.ORIGIN_AIRPORT == 'SFO') & (df.DESTINATION_AIRPORT == 'JFK')]\n",
    "\n",
    "month_list = df_subset.SCHEDULED_DEPARTURE.dt.month.unique()\n",
    "month_mean_delay = []\n",
    "\n",
    "for month in month_list:\n",
    "    month_mean_delay.append(df_subset[df_subset.SCHEDULED_DEPARTURE.dt.month == month][\"ARRIVAL_DELAY\"].mean())\n",
    "\n",
    "my_df = pd.DataFrame({'index': month_list, 'missing_values': month_mean_delay})\n",
    "my_df = my_df.sort_values('missing_values')\n",
    "\n",
    "fig, ax = plt.subplots()\n",
    "\n",
    "sns.barplot(x='index', y=\"missing_values\", data=my_df, ax=ax)\n",
    "ax.set_xlabel('Month')\n",
    "ax.set_ylabel('Average Delay(minutes)')\n",
    "ax.set_title('Flights from San Francisco, CA to New York, NY')"
   ]
  },
  {
   "cell_type": "markdown",
   "metadata": {},
   "source": [
    "For a specific travel, we don't see the same thing. The delay is **the smallest** for **summer** and **christmas** holidays."
   ]
  },
  {
   "cell_type": "markdown",
   "metadata": {},
   "source": [
    "## 2.4 Variation of delay using temperal factors: day"
   ]
  },
  {
   "cell_type": "markdown",
   "metadata": {},
   "source": [
    "Let's observe the variation of arrival delay, day per day."
   ]
  },
  {
   "cell_type": "code",
   "execution_count": 49,
   "metadata": {},
   "outputs": [
    {
     "data": {
      "text/plain": [
       "Text(0.5,1,'Flights delay based on day departure')"
      ]
     },
     "execution_count": 49,
     "metadata": {},
     "output_type": "execute_result"
    },
    {
     "data": {
      "image/png": "[encoded data removed]",
      "text/plain": [
       "<Figure size 432x288 with 1 Axes>"
      ]
     },
     "metadata": {},
     "output_type": "display_data"
    }
   ],
   "source": [
    "# Let's find ORIGIN_AIRPORT_ID\n",
    "df_subset = df\n",
    "\n",
    "day_list = df_subset.SCHEDULED_DEPARTURE.dt.day.unique()\n",
    "day_mean_delay = []\n",
    "\n",
    "for day in day_list:\n",
    "    day_mean_delay.append(df_subset[df_subset.SCHEDULED_DEPARTURE.dt.day == day][\"ARRIVAL_DELAY\"].mean())\n",
    "\n",
    "my_df = pd.DataFrame({'index': day_list, 'missing_values': day_mean_delay})\n",
    "my_df = my_df.sort_values('missing_values')\n",
    "\n",
    "fig, ax = plt.subplots()\n",
    "\n",
    "sns.barplot(x='index', y=\"missing_values\", data=my_df, ax=ax)\n",
    "ax.set_xlabel('Day')\n",
    "ax.set_ylabel('Average Delay(minutes)')\n",
    "ax.set_title('Flights delay based on day departure')"
   ]
  },
  {
   "cell_type": "markdown",
   "metadata": {},
   "source": [
    "We can observe the arrival delay is highest in the middle of month."
   ]
  },
  {
   "cell_type": "code",
   "execution_count": 50,
   "metadata": {
    "scrolled": true
   },
   "outputs": [
    {
     "data": {
      "text/plain": [
       "Text(0.5,1,'Flights from San Francisco, CA to New York, NY')"
      ]
     },
     "execution_count": 50,
     "metadata": {},
     "output_type": "execute_result"
    },
    {
     "data": {
      "image/png": "[encoded data removed]",
      "text/plain": [
       "<Figure size 432x288 with 1 Axes>"
      ]
     },
     "metadata": {},
     "output_type": "display_data"
    }
   ],
   "source": [
    "# Let's find ORIGIN_AIRPORT_ID\n",
    "df_subset = df[(df.ORIGIN_AIRPORT == 'SFO') & (df.DESTINATION_AIRPORT == 'JFK')]\n",
    "\n",
    "day_list = df_subset.SCHEDULED_DEPARTURE.dt.day.unique()\n",
    "day_mean_delay = []\n",
    "\n",
    "for day in day_list:\n",
    "    day_mean_delay.append(df_subset[df_subset.SCHEDULED_DEPARTURE.dt.day == day][\"ARRIVAL_DELAY\"].mean())\n",
    "\n",
    "my_df = pd.DataFrame({'index': day_list, 'missing_values': day_mean_delay})\n",
    "my_df = my_df.sort_values('missing_values')\n",
    "\n",
    "fig, ax = plt.subplots()\n",
    "\n",
    "sns.barplot(x='index', y=\"missing_values\", data=my_df, ax=ax)\n",
    "ax.set_xlabel('Day')\n",
    "ax.set_ylabel('Average Delay(minutes)')\n",
    "ax.set_title('Flights from San Francisco, CA to New York, NY')"
   ]
  },
  {
   "cell_type": "markdown",
   "metadata": {},
   "source": [
    "If we observe the same thing for a specific travel, we don't see the same thing. It more weekly periodicity."
   ]
  },
  {
   "cell_type": "markdown",
   "metadata": {},
   "source": [
    "## 2.4 Variation of delay using origin airport"
   ]
  },
  {
   "cell_type": "markdown",
   "metadata": {},
   "source": [
    "Let's observe the variation of delay per airline based on origin."
   ]
  },
  {
   "cell_type": "code",
   "execution_count": 51,
   "metadata": {},
   "outputs": [],
   "source": [
    "airlines = df['AIRLINE'].unique()\n",
    "origin_airport_delays = pd.DataFrame(pd.Series(df['ORIGIN_AIRPORT'].unique()))\n",
    "origin_airport_delays.set_index(0, drop = True, inplace = True)\n",
    "\n",
    "for airline in airlines:\n",
    "    df1 = df[df['AIRLINE'] == airline]\n",
    "    test = df1['ARRIVAL_DELAY'].groupby(df1['ORIGIN_AIRPORT']).apply(get_stats)\n",
    "    origin_airport_delays[airline] = test.loc[:, 'mean'] "
   ]
  },
  {
   "cell_type": "code",
   "execution_count": 52,
   "metadata": {
    "scrolled": true
   },
   "outputs": [
    {
     "data": {
      "text/plain": [
       "Text(0.5,0,'Delay in minutes')"
      ]
     },
     "execution_count": 52,
     "metadata": {},
     "output_type": "execute_result"
    },
    {
     "data": {
      "image/png": "[encoded data removed]",
      "text/plain": [
       "<Figure size 720x720 with 1 Axes>"
      ]
     },
     "metadata": {},
     "output_type": "display_data"
    }
   ],
   "source": [
    "fig = plt.figure(1, figsize=(10,10))\n",
    "fig.text(0.5, 0.9, \"Delays: impact of the origin airport\", ha='center', fontsize = 18)\n",
    "subset = origin_airport_delays[['VX','HA','F9']]\n",
    "ax = fig.add_subplot(1,1,1)\n",
    "subset[:20].plot(kind='barh', width=1, ax=ax)\n",
    "ax.set_ylabel('Origin Airport')\n",
    "ax.set_xlabel('Delay in minutes')"
   ]
  },
  {
   "cell_type": "markdown",
   "metadata": {},
   "source": [
    "We can see that the mean delay for the company 'VX' is not the same observing origin airport."
   ]
  },
  {
   "cell_type": "code",
   "execution_count": 53,
   "metadata": {},
   "outputs": [],
   "source": [
    "df.drop('index',inplace=True, axis=1)\n",
    "df.drop('DEPARTURE_DELAY',inplace=True, axis=1)\n",
    "df.drop('ARRIVAL_DELAY_LEVEL',inplace=True, axis=1)\n",
    "df.to_csv('dataset_clean.csv', index=False)"
   ]
  },
  {
   "cell_type": "markdown",
   "metadata": {},
   "source": [
    "**CONCLUSION**\n",
    "We have just demonstrated that:\n",
    "* all the companies do not have the same performance using amount of flight criteria or a selected travel criteria.\n",
    "* the departure day plays a role in the arrival delay.\n",
    "* the tuple origin/destination also play a role in the arrival delay."
   ]
  }
 ],
 "metadata": {
  "kernelspec": {
   "display_name": "Python 3",
   "language": "python",
   "name": "python3"
  },
  "language_info": {
   "codemirror_mode": {
    "name": "ipython",
    "version": 3
   },
   "file_extension": ".py",
   "mimetype": "text/x-python",
   "name": "python",
   "nbconvert_exporter": "python",
   "pygments_lexer": "ipython3",
   "version": "3.6.5"
  }
 },
 "nbformat": 4,
 "nbformat_minor": 2
}
