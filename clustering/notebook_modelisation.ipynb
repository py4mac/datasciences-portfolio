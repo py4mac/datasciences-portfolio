{
 "cells": [
  {
   "cell_type": "markdown",
   "metadata": {},
   "source": [
    "# Customer Segmentation (modelisation)\n",
    "Pierre-Yves BOISBUNON - January 2018\n",
    "\n",
    "----------\n",
    "In this notebook, we will continue the customer segmentation job to establish a classification model.\n",
    "\n",
    "Tags:\n",
    "- HyperOpt\n",
    "- RandomForestClassfier\n",
    "- XGBoostClassifier"
   ]
  },
  {
   "cell_type": "code",
   "execution_count": 1,
   "metadata": {},
   "outputs": [],
   "source": [
    "import pandas as pd\n",
    "import matplotlib.pyplot as plt\n",
    "import seaborn as sns\n",
    "import numpy as np\n",
    "import warnings\n",
    "warnings.filterwarnings('ignore')\n",
    "%matplotlib inline\n",
    "from __future__ import division\n",
    "import utils"
   ]
  },
  {
   "cell_type": "markdown",
   "metadata": {},
   "source": [
    "# 1 Import clean dataset"
   ]
  },
  {
   "cell_type": "markdown",
   "metadata": {},
   "source": [
    "First open previously stored cleaned dataset:"
   ]
  },
  {
   "cell_type": "code",
   "execution_count": 2,
   "metadata": {
    "scrolled": true
   },
   "outputs": [
    {
     "data": {
      "text/html": [
       "<div>\n",
       "<style scoped>\n",
       "    .dataframe tbody tr th:only-of-type {\n",
       "        vertical-align: middle;\n",
       "    }\n",
       "\n",
       "    .dataframe tbody tr th {\n",
       "        vertical-align: top;\n",
       "    }\n",
       "\n",
       "    .dataframe thead th {\n",
       "        text-align: right;\n",
       "    }\n",
       "</style>\n",
       "<table border=\"1\" class=\"dataframe\">\n",
       "  <thead>\n",
       "    <tr style=\"text-align: right;\">\n",
       "      <th></th>\n",
       "      <th>day_0</th>\n",
       "      <th>day_1</th>\n",
       "      <th>day_2</th>\n",
       "      <th>day_3</th>\n",
       "      <th>day_4</th>\n",
       "      <th>day_5</th>\n",
       "      <th>day_6</th>\n",
       "      <th>qty_mean</th>\n",
       "      <th>qty_min</th>\n",
       "      <th>qty_max</th>\n",
       "      <th>unitprice_mean</th>\n",
       "      <th>unitprice_max</th>\n",
       "      <th>unitprice_min</th>\n",
       "      <th>totalprice_mean</th>\n",
       "      <th>totalprice_max</th>\n",
       "      <th>totalprice_min</th>\n",
       "      <th>category</th>\n",
       "    </tr>\n",
       "  </thead>\n",
       "  <tbody>\n",
       "    <tr>\n",
       "      <th>0</th>\n",
       "      <td>0</td>\n",
       "      <td>1</td>\n",
       "      <td>0</td>\n",
       "      <td>1</td>\n",
       "      <td>0</td>\n",
       "      <td>0</td>\n",
       "      <td>1</td>\n",
       "      <td>7.648649</td>\n",
       "      <td>1</td>\n",
       "      <td>24</td>\n",
       "      <td>4.441622</td>\n",
       "      <td>0.65</td>\n",
       "      <td>29.95</td>\n",
       "      <td>18.760811</td>\n",
       "      <td>7.80</td>\n",
       "      <td>47.70</td>\n",
       "      <td>7</td>\n",
       "    </tr>\n",
       "    <tr>\n",
       "      <th>1</th>\n",
       "      <td>0</td>\n",
       "      <td>0</td>\n",
       "      <td>0</td>\n",
       "      <td>0</td>\n",
       "      <td>0</td>\n",
       "      <td>0</td>\n",
       "      <td>1</td>\n",
       "      <td>8.600000</td>\n",
       "      <td>1</td>\n",
       "      <td>25</td>\n",
       "      <td>3.936333</td>\n",
       "      <td>0.10</td>\n",
       "      <td>18.00</td>\n",
       "      <td>19.424333</td>\n",
       "      <td>2.50</td>\n",
       "      <td>72.00</td>\n",
       "      <td>0</td>\n",
       "    </tr>\n",
       "    <tr>\n",
       "      <th>2</th>\n",
       "      <td>1</td>\n",
       "      <td>0</td>\n",
       "      <td>0</td>\n",
       "      <td>0</td>\n",
       "      <td>1</td>\n",
       "      <td>0</td>\n",
       "      <td>0</td>\n",
       "      <td>8.166667</td>\n",
       "      <td>2</td>\n",
       "      <td>24</td>\n",
       "      <td>4.735000</td>\n",
       "      <td>1.25</td>\n",
       "      <td>18.00</td>\n",
       "      <td>23.612333</td>\n",
       "      <td>7.65</td>\n",
       "      <td>68.00</td>\n",
       "      <td>0</td>\n",
       "    </tr>\n",
       "    <tr>\n",
       "      <th>3</th>\n",
       "      <td>0</td>\n",
       "      <td>0</td>\n",
       "      <td>1</td>\n",
       "      <td>1</td>\n",
       "      <td>1</td>\n",
       "      <td>0</td>\n",
       "      <td>0</td>\n",
       "      <td>14.683417</td>\n",
       "      <td>1</td>\n",
       "      <td>120</td>\n",
       "      <td>4.012563</td>\n",
       "      <td>0.21</td>\n",
       "      <td>18.00</td>\n",
       "      <td>24.606332</td>\n",
       "      <td>4.68</td>\n",
       "      <td>131.40</td>\n",
       "      <td>3</td>\n",
       "    </tr>\n",
       "    <tr>\n",
       "      <th>4</th>\n",
       "      <td>0</td>\n",
       "      <td>0</td>\n",
       "      <td>1</td>\n",
       "      <td>0</td>\n",
       "      <td>0</td>\n",
       "      <td>0</td>\n",
       "      <td>0</td>\n",
       "      <td>11.000000</td>\n",
       "      <td>1</td>\n",
       "      <td>25</td>\n",
       "      <td>3.700909</td>\n",
       "      <td>0.42</td>\n",
       "      <td>18.00</td>\n",
       "      <td>15.777273</td>\n",
       "      <td>10.50</td>\n",
       "      <td>23.25</td>\n",
       "      <td>5</td>\n",
       "    </tr>\n",
       "  </tbody>\n",
       "</table>\n",
       "</div>"
      ],
      "text/plain": [
       "   day_0  day_1  day_2  day_3  day_4  day_5  day_6   qty_mean  qty_min  \\\n",
       "0      0      1      0      1      0      0      1   7.648649        1   \n",
       "1      0      0      0      0      0      0      1   8.600000        1   \n",
       "2      1      0      0      0      1      0      0   8.166667        2   \n",
       "3      0      0      1      1      1      0      0  14.683417        1   \n",
       "4      0      0      1      0      0      0      0  11.000000        1   \n",
       "\n",
       "   qty_max  unitprice_mean  unitprice_max  unitprice_min  totalprice_mean  \\\n",
       "0       24        4.441622           0.65          29.95        18.760811   \n",
       "1       25        3.936333           0.10          18.00        19.424333   \n",
       "2       24        4.735000           1.25          18.00        23.612333   \n",
       "3      120        4.012563           0.21          18.00        24.606332   \n",
       "4       25        3.700909           0.42          18.00        15.777273   \n",
       "\n",
       "   totalprice_max  totalprice_min  category  \n",
       "0            7.80           47.70         7  \n",
       "1            2.50           72.00         0  \n",
       "2            7.65           68.00         0  \n",
       "3            4.68          131.40         3  \n",
       "4           10.50           23.25         5  "
      ]
     },
     "execution_count": 2,
     "metadata": {},
     "output_type": "execute_result"
    }
   ],
   "source": [
    "df = pd.read_csv('segmented_rfm.csv', sep='\\t')\n",
    "df.head()"
   ]
  },
  {
   "cell_type": "markdown",
   "metadata": {},
   "source": [
    "Let's define a random state in order models are computed with the same values."
   ]
  },
  {
   "cell_type": "code",
   "execution_count": 3,
   "metadata": {},
   "outputs": [],
   "source": [
    "# Random state in order to force computation with the same results\n",
    "random_state = 1"
   ]
  },
  {
   "cell_type": "markdown",
   "metadata": {},
   "source": [
    "Let's define the X and y vectors"
   ]
  },
  {
   "cell_type": "code",
   "execution_count": 4,
   "metadata": {},
   "outputs": [],
   "source": [
    "from sklearn import cluster, metrics\n",
    "from sklearn import preprocessing\n",
    "scaler = preprocessing.StandardScaler()\n",
    "scaler.fit(df[df.columns[:-1]])\n",
    "X_norm = scaler.transform(df[df.columns[:-1]])\n",
    "y = df.as_matrix([df.columns[-1]])\n",
    "y = y.flatten()"
   ]
  },
  {
   "cell_type": "markdown",
   "metadata": {},
   "source": [
    "Let's also split X and y vectors perserving percentages of each classes"
   ]
  },
  {
   "cell_type": "code",
   "execution_count": 5,
   "metadata": {},
   "outputs": [
    {
     "data": {
      "text/plain": [
       "array([0, 3, 5, 7], dtype=int64)"
      ]
     },
     "execution_count": 5,
     "metadata": {},
     "output_type": "execute_result"
    }
   ],
   "source": [
    "np.unique(y)"
   ]
  },
  {
   "cell_type": "code",
   "execution_count": 6,
   "metadata": {},
   "outputs": [],
   "source": [
    "from sklearn.model_selection import train_test_split\n",
    "X_train, X_test, y_train, y_test = train_test_split(X_norm, y,\n",
    "                                                    stratify=y,\n",
    "                                                    random_state=random_state, \n",
    "                                                    test_size=0.2)"
   ]
  },
  {
   "cell_type": "code",
   "execution_count": 7,
   "metadata": {},
   "outputs": [
    {
     "data": {
      "text/plain": [
       "Counter({0: 1108, 5: 789, 7: 661, 3: 706})"
      ]
     },
     "execution_count": 7,
     "metadata": {},
     "output_type": "execute_result"
    }
   ],
   "source": [
    "import collections\n",
    "collections.Counter(y_train)"
   ]
  },
  {
   "cell_type": "code",
   "execution_count": 8,
   "metadata": {},
   "outputs": [
    {
     "data": {
      "text/plain": [
       "Counter({3: 176, 7: 165, 5: 198, 0: 277})"
      ]
     },
     "execution_count": 8,
     "metadata": {},
     "output_type": "execute_result"
    }
   ],
   "source": [
    "collections.Counter(y_test)"
   ]
  },
  {
   "cell_type": "markdown",
   "metadata": {},
   "source": [
    "## 1.1 Utils functions"
   ]
  },
  {
   "cell_type": "markdown",
   "metadata": {},
   "source": [
    "Let's define the  **plot_confusion_matrix** function used later in the notebook:"
   ]
  },
  {
   "cell_type": "code",
   "execution_count": 9,
   "metadata": {},
   "outputs": [],
   "source": [
    "import itertools\n",
    "def plot_confusion_matrix(cm, classes,\n",
    "                          normalize=False,\n",
    "                          title='Confusion matrix',\n",
    "                          cmap=plt.cm.Blues):\n",
    "    \"\"\"\n",
    "    This function prints and plots the confusion matrix.\n",
    "    Normalization can be applied by setting `normalize=True`.\n",
    "    \"\"\"\n",
    "    if normalize:\n",
    "        cm = cm.astype('float') / cm.sum(axis=1)[:, np.newaxis]\n",
    "        print(\"Normalized confusion matrix\")\n",
    "    else:\n",
    "        print('Confusion matrix, without normalization')\n",
    "\n",
    "    print(cm)\n",
    "\n",
    "    plt.imshow(cm, interpolation='nearest', cmap=cmap)\n",
    "    plt.title(title)\n",
    "    plt.colorbar()\n",
    "    tick_marks = np.arange(len(classes))\n",
    "    plt.xticks(tick_marks, classes, rotation=45)\n",
    "    plt.yticks(tick_marks, classes)\n",
    "\n",
    "    fmt = '.2f' if normalize else 'd'\n",
    "    thresh = cm.max() / 2.\n",
    "    for i, j in itertools.product(range(cm.shape[0]), range(cm.shape[1])):\n",
    "        plt.text(j, i, format(cm[i, j], fmt),\n",
    "                 horizontalalignment=\"center\",\n",
    "                 color=\"white\" if cm[i, j] > thresh else \"black\")\n",
    "\n",
    "    plt.tight_layout()\n",
    "    plt.ylabel('True label')\n",
    "    plt.xlabel('Predicted label')"
   ]
  },
  {
   "cell_type": "markdown",
   "metadata": {},
   "source": [
    "Let's define the  **plot_learning_curve** function used later in the notebook:"
   ]
  },
  {
   "cell_type": "code",
   "execution_count": 10,
   "metadata": {},
   "outputs": [],
   "source": [
    "from sklearn.model_selection import learning_curve\n",
    "# http://scikit-learn.org/stable/auto_examples/model_selection/plot_learning_curve.html\n",
    "def plot_learning_curve(estimator, title, X, y, ylim=None, cv=None,\n",
    "                        n_jobs=1, train_sizes=np.linspace(.1, 1.0, 5),\n",
    "                       scoring=None):\n",
    "    \"\"\"\n",
    "    Generate a simple plot of the test and training learning curve.\n",
    "\n",
    "    Parameters\n",
    "    ----------\n",
    "    estimator : object type that implements the \"fit\" and \"predict\" methods\n",
    "        An object of that type which is cloned for each validation.\n",
    "\n",
    "    title : string\n",
    "        Title for the chart.\n",
    "\n",
    "    X : array-like, shape (n_samples, n_features)\n",
    "        Training vector, where n_samples is the number of samples and\n",
    "        n_features is the number of features.\n",
    "\n",
    "    y : array-like, shape (n_samples) or (n_samples, n_features), optional\n",
    "        Target relative to X for classification or regression;\n",
    "        None for unsupervised learning.\n",
    "\n",
    "    ylim : tuple, shape (ymin, ymax), optional\n",
    "        Defines minimum and maximum yvalues plotted.\n",
    "\n",
    "    cv : int, cross-validation generator or an iterable, optional\n",
    "        Determines the cross-validation splitting strategy.\n",
    "        Possible inputs for cv are:\n",
    "          - None, to use the default 3-fold cross-validation,\n",
    "          - integer, to specify the number of folds.\n",
    "          - An object to be used as a cross-validation generator.\n",
    "          - An iterable yielding train/test splits.\n",
    "\n",
    "        For integer/None inputs, if ``y`` is binary or multiclass,\n",
    "        :class:`StratifiedKFold` used. If the estimator is not a classifier\n",
    "        or if ``y`` is neither binary nor multiclass, :class:`KFold` is used.\n",
    "\n",
    "        Refer :ref:`User Guide <cross_validation>` for the various\n",
    "        cross-validators that can be used here.\n",
    "\n",
    "    n_jobs : integer, optional\n",
    "        Number of jobs to run in parallel (default 1).\n",
    "    \"\"\"\n",
    "    plt.figure()\n",
    "    plt.title(title)\n",
    "    if ylim is not None:\n",
    "        plt.ylim(*ylim)\n",
    "    plt.xlabel(\"Training examples\")\n",
    "    plt.ylabel(\"Score\")\n",
    "    train_sizes, train_scores, test_scores = learning_curve(\n",
    "        estimator, X, y, cv=cv, n_jobs=n_jobs, train_sizes=train_sizes,\n",
    "        scoring=scoring)\n",
    "    train_scores_mean = np.mean(train_scores, axis=1)\n",
    "    train_scores_std = np.std(train_scores, axis=1)\n",
    "    test_scores_mean = np.mean(test_scores, axis=1)\n",
    "    test_scores_std = np.std(test_scores, axis=1)\n",
    "    plt.grid()\n",
    "\n",
    "    plt.fill_between(train_sizes, train_scores_mean - train_scores_std,\n",
    "                     train_scores_mean + train_scores_std, alpha=0.1,\n",
    "                     color=\"r\")\n",
    "    plt.fill_between(train_sizes, test_scores_mean - test_scores_std,\n",
    "                     test_scores_mean + test_scores_std, alpha=0.1, color=\"g\")\n",
    "    plt.plot(train_sizes, train_scores_mean, 'o-', color=\"r\",\n",
    "             label=\"Training score\")\n",
    "    plt.plot(train_sizes, test_scores_mean, 'o-', color=\"g\",\n",
    "             label=\"Cross-validation score\")\n",
    "\n",
    "    plt.legend(loc=\"best\")\n",
    "    return plt"
   ]
  },
  {
   "cell_type": "markdown",
   "metadata": {},
   "source": [
    "# 2 Modelisation"
   ]
  },
  {
   "cell_type": "markdown",
   "metadata": {},
   "source": [
    "For the modelisation, we wil use two different classifiers:\n",
    "- Random Forest classifier\n",
    "- XGBoost classifier"
   ]
  },
  {
   "cell_type": "markdown",
   "metadata": {},
   "source": [
    "## 2.1 RandomForest"
   ]
  },
  {
   "cell_type": "markdown",
   "metadata": {},
   "source": [
    "In order to optimize Random Forest model, we will optimize the model in 5 steps:\n",
    "- Step 1: Setup number of estimators.\n",
    "- Step 2: Setup bootstrap feature.\n",
    "- Step 3: Setup max depth (node number).\n",
    "- Step 4: Setup best number of features.\n",
    "- Step 5: Setup best split point."
   ]
  },
  {
   "cell_type": "markdown",
   "metadata": {},
   "source": [
    "### 2.1.1 Tune n_estimators"
   ]
  },
  {
   "cell_type": "code",
   "execution_count": 13,
   "metadata": {},
   "outputs": [],
   "source": [
    "from hyperopt import hp, tpe, Trials, fmin, space_eval\n",
    "from sklearn.model_selection import cross_val_score, cross_validate\n",
    "from sklearn.model_selection import KFold"
   ]
  },
  {
   "cell_type": "code",
   "execution_count": 14,
   "metadata": {},
   "outputs": [
    {
     "name": "stdout",
     "output_type": "stream",
     "text": [
      "train_score: 1.0, test_score: 0.941321210638989, params: {'n_estimators': 1000}\n",
      "train_score: 1.0, test_score: 0.941321210638989, params: {'n_estimators': 1000}\n",
      "train_score: 1.0, test_score: 0.941321210638989, params: {'n_estimators': 1000}\n",
      "train_score: 1.0, test_score: 0.941321210638989, params: {'n_estimators': 1000}\n",
      "train_score: 1.0, test_score: 0.941321210638989, params: {'n_estimators': 1000}\n",
      "train_score: 1.0, test_score: 0.9412485361872983, params: {'n_estimators': 500}\n",
      "train_score: 1.0, test_score: 0.941321210638989, params: {'n_estimators': 1000}\n",
      "train_score: 1.0, test_score: 0.9427621736376537, params: {'n_estimators': 100}\n",
      "train_score: 1.0, test_score: 0.9427621736376537, params: {'n_estimators': 100}\n",
      "train_score: 1.0, test_score: 0.9427621736376537, params: {'n_estimators': 100}\n"
     ]
    }
   ],
   "source": [
    "from sklearn.ensemble import RandomForestClassifier\n",
    "\n",
    "space = {}\n",
    "space['n_estimators'] = hp.choice('n_estimators', [100, 500, 1000])\n",
    "\n",
    "def objective(params):\n",
    "    model_rfc = RandomForestClassifier(random_state=random_state)\n",
    "    model_rfc.set_params(**params)\n",
    "    shuffle = KFold(n_splits=5, shuffle=False)\n",
    "    score = cross_validate(model_rfc, X_train, y_train, cv=shuffle, scoring='f1_macro', n_jobs=-1)\n",
    "    print('train_score: {}, test_score: {}, params: {}'.format(score['train_score'].mean(), score['test_score'].mean(), params))\n",
    "    return 1-score['test_score'].mean()\n",
    "        \n",
    "trials = Trials()\n",
    "\n",
    "best = fmin(objective,\n",
    "            space,\n",
    "            algo=tpe.suggest,\n",
    "            max_evals=10,\n",
    "            trials=trials)"
   ]
  },
  {
   "cell_type": "code",
   "execution_count": 15,
   "metadata": {},
   "outputs": [
    {
     "data": {
      "text/plain": [
       "{'n_estimators': 100}"
      ]
     },
     "execution_count": 15,
     "metadata": {},
     "output_type": "execute_result"
    }
   ],
   "source": [
    "best_params = space_eval(space, best)\n",
    "best_params"
   ]
  },
  {
   "cell_type": "markdown",
   "metadata": {},
   "source": [
    "### 2.1.2 Tune bootstrap and criterion"
   ]
  },
  {
   "cell_type": "code",
   "execution_count": 16,
   "metadata": {
    "scrolled": false
   },
   "outputs": [
    {
     "name": "stdout",
     "output_type": "stream",
     "text": [
      "train_score: 1.0, test_score: 0.9447274490372383, params: {'bootstrap': False, 'criterion': 'gini'}\n",
      "train_score: 1.0, test_score: 0.9447274490372383, params: {'bootstrap': False, 'criterion': 'gini'}\n",
      "train_score: 1.0, test_score: 0.9427621736376537, params: {'bootstrap': True, 'criterion': 'gini'}\n",
      "train_score: 1.0, test_score: 0.944689818665857, params: {'bootstrap': True, 'criterion': 'entropy'}\n",
      "train_score: 1.0, test_score: 0.9447274490372383, params: {'bootstrap': False, 'criterion': 'gini'}\n",
      "train_score: 1.0, test_score: 0.9427621736376537, params: {'bootstrap': True, 'criterion': 'gini'}\n",
      "train_score: 1.0, test_score: 0.9471759298971497, params: {'bootstrap': False, 'criterion': 'entropy'}\n",
      "train_score: 1.0, test_score: 0.9471759298971497, params: {'bootstrap': False, 'criterion': 'entropy'}\n",
      "train_score: 1.0, test_score: 0.9427621736376537, params: {'bootstrap': True, 'criterion': 'gini'}\n",
      "train_score: 1.0, test_score: 0.9447274490372383, params: {'bootstrap': False, 'criterion': 'gini'}\n"
     ]
    },
    {
     "data": {
      "text/plain": [
       "{'bootstrap': False, 'criterion': 'entropy'}"
      ]
     },
     "execution_count": 16,
     "metadata": {},
     "output_type": "execute_result"
    }
   ],
   "source": [
    "from sklearn.ensemble import RandomForestClassifier\n",
    "\n",
    "space = {}\n",
    "space['bootstrap'] = hp.choice('bootstrap', [True, False])\n",
    "space['criterion'] = hp.choice('criterion', [\"gini\", \"entropy\"])\n",
    "\n",
    "def objective(params):\n",
    "    model_rfc = RandomForestClassifier(n_estimators = 100, random_state=random_state)\n",
    "    model_rfc.set_params(**params)\n",
    "    shuffle = KFold(n_splits=5, shuffle=False)\n",
    "    score = cross_validate(model_rfc, X_train, y_train, cv=shuffle, scoring='f1_macro', n_jobs=-1)\n",
    "    print('train_score: {}, test_score: {}, params: {}'.format(score['train_score'].mean(), score['test_score'].mean(), params))\n",
    "    return 1-score['test_score'].mean()\n",
    "        \n",
    "trials = Trials()\n",
    "\n",
    "best = fmin(objective,\n",
    "            space,\n",
    "            algo=tpe.suggest,\n",
    "            max_evals=10,\n",
    "            trials=trials)\n",
    "\n",
    "best_params = space_eval(space, best)\n",
    "best_params"
   ]
  },
  {
   "cell_type": "markdown",
   "metadata": {},
   "source": [
    "### 2.1.3 Tune max_depth"
   ]
  },
  {
   "cell_type": "code",
   "execution_count": 17,
   "metadata": {
    "scrolled": true
   },
   "outputs": [
    {
     "name": "stdout",
     "output_type": "stream",
     "text": [
      "train_score: 1.0, test_score: 0.9475403493624986, params: {'max_depth': 20}\n",
      "train_score: 1.0, test_score: 0.9471759298971497, params: {'max_depth': 30}\n",
      "train_score: 1.0, test_score: 0.9471759298971497, params: {'max_depth': None}\n",
      "train_score: 0.9354764718155302, test_score: 0.9325382864461412, params: {'max_depth': 3}\n",
      "train_score: 1.0, test_score: 0.9471759298971497, params: {'max_depth': None}\n",
      "train_score: 0.9354764718155302, test_score: 0.9325382864461412, params: {'max_depth': 3}\n",
      "train_score: 1.0, test_score: 0.9449065720672156, params: {'max_depth': 15}\n",
      "train_score: 0.9354764718155302, test_score: 0.9325382864461412, params: {'max_depth': 3}\n",
      "train_score: 1.0, test_score: 0.9449065720672156, params: {'max_depth': 15}\n",
      "train_score: 1.0, test_score: 0.9471759298971497, params: {'max_depth': None}\n"
     ]
    },
    {
     "data": {
      "text/plain": [
       "{'max_depth': 20}"
      ]
     },
     "execution_count": 17,
     "metadata": {},
     "output_type": "execute_result"
    }
   ],
   "source": [
    "from sklearn.ensemble import RandomForestClassifier\n",
    "\n",
    "space = {}\n",
    "space['max_depth'] = hp.choice('max_depth', [3, 10, 15, 20, 30, None])\n",
    "\n",
    "def objective(params):\n",
    "    model_rfc = RandomForestClassifier(n_estimators = 100, \n",
    "                                       bootstrap = False,\n",
    "                                       criterion = 'entropy',\n",
    "                                       random_state=random_state)\n",
    "    model_rfc.set_params(**params)\n",
    "    shuffle = KFold(n_splits=5, shuffle=False)\n",
    "    score = cross_validate(model_rfc, X_train, y_train, cv=shuffle, scoring='f1_macro', n_jobs=-1)\n",
    "    print('train_score: {}, test_score: {}, params: {}'.format(score['train_score'].mean(), score['test_score'].mean(), params))\n",
    "    return 1-score['test_score'].mean()\n",
    "        \n",
    "trials = Trials()\n",
    "\n",
    "best = fmin(objective,\n",
    "            space,\n",
    "            algo=tpe.suggest,\n",
    "            max_evals=10,\n",
    "            trials=trials)\n",
    "\n",
    "best_params = space_eval(space, best)\n",
    "best_params"
   ]
  },
  {
   "cell_type": "markdown",
   "metadata": {},
   "source": [
    "### 2.1.4 Tune max_features"
   ]
  },
  {
   "cell_type": "code",
   "execution_count": 18,
   "metadata": {
    "scrolled": true
   },
   "outputs": [
    {
     "name": "stdout",
     "output_type": "stream",
     "text": [
      "train_score: 1.0, test_score: 0.9475403493624986, params: {'max_features': 'auto'}\n",
      "train_score: 1.0, test_score: 0.9398930793713915, params: {'max_features': None}\n",
      "train_score: 1.0, test_score: 0.9475403493624986, params: {'max_features': 'log2'}\n",
      "train_score: 1.0, test_score: 0.9475403493624986, params: {'max_features': 'auto'}\n",
      "train_score: 1.0, test_score: 0.9475403493624986, params: {'max_features': 'auto'}\n",
      "train_score: 1.0, test_score: 0.9475403493624986, params: {'max_features': 'log2'}\n",
      "train_score: 1.0, test_score: 0.9475403493624986, params: {'max_features': 'auto'}\n",
      "train_score: 1.0, test_score: 0.9475403493624986, params: {'max_features': 'log2'}\n",
      "train_score: 1.0, test_score: 0.9475403493624986, params: {'max_features': 'auto'}\n",
      "train_score: 1.0, test_score: 0.9398930793713915, params: {'max_features': None}\n"
     ]
    },
    {
     "data": {
      "text/plain": [
       "{'max_features': 'auto'}"
      ]
     },
     "execution_count": 18,
     "metadata": {},
     "output_type": "execute_result"
    }
   ],
   "source": [
    "from sklearn.ensemble import RandomForestClassifier\n",
    "\n",
    "space = {}\n",
    "space['max_features'] = hp.choice('max_features', ['auto', 'sqrt', 'log2', None])\n",
    "\n",
    "def objective(params):\n",
    "    model_rfc = RandomForestClassifier(\n",
    "        n_estimators = 100, \n",
    "        random_state=random_state,\n",
    "        bootstrap=False,\n",
    "        criterion='entropy',\n",
    "        max_depth=20)\n",
    "    model_rfc.set_params(**params)\n",
    "    shuffle = KFold(n_splits=5, shuffle=False)\n",
    "    score = cross_validate(model_rfc, X_train, y_train, cv=shuffle, scoring='f1_macro', n_jobs=-1)\n",
    "    print('train_score: {}, test_score: {}, params: {}'.format(score['train_score'].mean(), score['test_score'].mean(), params))\n",
    "    return 1-score['test_score'].mean()\n",
    "        \n",
    "trials = Trials()\n",
    "\n",
    "best = fmin(objective,\n",
    "            space,\n",
    "            algo=tpe.suggest,\n",
    "            max_evals=10,\n",
    "            trials=trials)\n",
    "\n",
    "best_params = space_eval(space, best)\n",
    "best_params"
   ]
  },
  {
   "cell_type": "markdown",
   "metadata": {},
   "source": [
    "### 2.1.5 Tune max_features, min_samples_split and min_samples_leaf"
   ]
  },
  {
   "cell_type": "code",
   "execution_count": 20,
   "metadata": {
    "scrolled": false
   },
   "outputs": [
    {
     "name": "stdout",
     "output_type": "stream",
     "text": [
      "train_score: 1.0, test_score: 0.9449141951982805, params: {'min_samples_leaf': 1, 'min_samples_split': 3}\n",
      "train_score: 0.986922678365724, test_score: 0.9425405228533025, params: {'min_samples_leaf': 7, 'min_samples_split': 2}\n",
      "train_score: 0.986922678365724, test_score: 0.9425405228533025, params: {'min_samples_leaf': 7, 'min_samples_split': 3}\n",
      "train_score: 0.986922678365724, test_score: 0.9425405228533025, params: {'min_samples_leaf': 7, 'min_samples_split': 2}\n",
      "train_score: 1.0, test_score: 0.9449141951982805, params: {'min_samples_leaf': 1, 'min_samples_split': 3}\n",
      "train_score: 1.0, test_score: 0.9475403493624986, params: {'min_samples_leaf': 1, 'min_samples_split': 2}\n",
      "train_score: 1.0, test_score: 0.9449141951982805, params: {'min_samples_leaf': 1, 'min_samples_split': 3}\n",
      "train_score: 0.986922678365724, test_score: 0.9425405228533025, params: {'min_samples_leaf': 7, 'min_samples_split': 2}\n",
      "train_score: 1.0, test_score: 0.9449141951982805, params: {'min_samples_leaf': 1, 'min_samples_split': 3}\n",
      "train_score: 1.0, test_score: 0.9475403493624986, params: {'min_samples_leaf': 1, 'min_samples_split': 2}\n"
     ]
    },
    {
     "data": {
      "text/plain": [
       "{'min_samples_leaf': 1, 'min_samples_split': 2}"
      ]
     },
     "execution_count": 20,
     "metadata": {},
     "output_type": "execute_result"
    }
   ],
   "source": [
    "from sklearn.ensemble import RandomForestClassifier\n",
    "\n",
    "space = {}\n",
    "space['min_samples_split'] = hp.choice('min_samples_split', [2, 3, 7])\n",
    "space['min_samples_leaf'] = hp.choice('min_samples_leaf', [1, 3, 7])\n",
    "\n",
    "def objective(params):\n",
    "    model_rfc = RandomForestClassifier(\n",
    "        n_estimators = 100, \n",
    "        random_state=random_state,\n",
    "        bootstrap=False,\n",
    "        criterion='entropy',\n",
    "        max_depth=20,\n",
    "        max_features='auto')\n",
    "    model_rfc.set_params(**params)\n",
    "    shuffle = KFold(n_splits=5, shuffle=False)\n",
    "    score = cross_validate(model_rfc, X_train, y_train, cv=shuffle, scoring='f1_macro', n_jobs=-1)\n",
    "    print('train_score: {}, test_score: {}, params: {}'.format(score['train_score'].mean(), score['test_score'].mean(), params))\n",
    "    return 1-score['test_score'].mean()\n",
    "        \n",
    "trials = Trials()\n",
    "\n",
    "best = fmin(objective,\n",
    "            space,\n",
    "            algo=tpe.suggest,\n",
    "            max_evals=10,\n",
    "            trials=trials)\n",
    "\n",
    "best_params = space_eval(space, best)\n",
    "best_params"
   ]
  },
  {
   "cell_type": "markdown",
   "metadata": {},
   "source": [
    "We can see that the best **min_samples_leaf** and **min_samples_split** values are 1 and 7.\n",
    "Let's observe the test score and check if we have any overfitting."
   ]
  },
  {
   "cell_type": "code",
   "execution_count": 29,
   "metadata": {},
   "outputs": [
    {
     "data": {
      "text/plain": [
       "0.952002439574227"
      ]
     },
     "execution_count": 29,
     "metadata": {},
     "output_type": "execute_result"
    }
   ],
   "source": [
    "from sklearn.metrics import f1_score\n",
    "model_rfc = RandomForestClassifier(\n",
    "    n_estimators = 100, \n",
    "    random_state=random_state,\n",
    "    bootstrap=False,\n",
    "    criterion='entropy',\n",
    "    max_depth=20,\n",
    "    max_features='auto',\n",
    "    min_samples_leaf=1,\n",
    "    min_samples_split=2)\n",
    "model_rfc.fit(X_train, y_train)\n",
    "y_pred = model_rfc.predict(X_test)\n",
    "test_score = f1_score(y_test, y_pred, average='macro')\n",
    "test_score"
   ]
  },
  {
   "cell_type": "markdown",
   "metadata": {},
   "source": [
    "If we observe now the confusion matrix we can see:"
   ]
  },
  {
   "cell_type": "code",
   "execution_count": 30,
   "metadata": {
    "scrolled": true
   },
   "outputs": [
    {
     "data": {
      "text/plain": [
       "array([[275,   2,   0,   0],\n",
       "       [  3, 154,  10,   9],\n",
       "       [  0,   8, 190,   0],\n",
       "       [  0,   3,   0, 162]], dtype=int64)"
      ]
     },
     "execution_count": 30,
     "metadata": {},
     "output_type": "execute_result"
    }
   ],
   "source": [
    "from sklearn.metrics import confusion_matrix\n",
    "cnf_matrix = confusion_matrix(y_test, y_pred)\n",
    "cnf_matrix"
   ]
  },
  {
   "cell_type": "code",
   "execution_count": 31,
   "metadata": {
    "scrolled": true
   },
   "outputs": [
    {
     "name": "stdout",
     "output_type": "stream",
     "text": [
      "Normalized confusion matrix\n",
      "[[0.99 0.01 0.   0.  ]\n",
      " [0.02 0.88 0.06 0.05]\n",
      " [0.   0.04 0.96 0.  ]\n",
      " [0.   0.02 0.   0.98]]\n"
     ]
    },
    {
     "data": {
      "image/png": "[encoded data removed]",
      "text/plain": [
       "<Figure size 432x288 with 2 Axes>"
      ]
     },
     "metadata": {},
     "output_type": "display_data"
    }
   ],
   "source": [
    "class_names = np.unique(y)\n",
    "np.set_printoptions(precision=2)\n",
    "plot_confusion_matrix(cnf_matrix, classes=class_names, normalize=True,\n",
    "                      title='Confusion matrix, with normalization')\n",
    "plt.grid('off')"
   ]
  },
  {
   "cell_type": "markdown",
   "metadata": {},
   "source": [
    "- Some customers from class 1 are predicted either in class 2 or 0.\n",
    "- Some customers from class 2 are predicted in class 1."
   ]
  },
  {
   "cell_type": "code",
   "execution_count": 32,
   "metadata": {},
   "outputs": [
    {
     "data": {
      "text/plain": [
       "<module 'matplotlib.pyplot' from 'C:\\\\Users\\\\boisb\\\\Anaconda3\\\\envs\\\\py36\\\\lib\\\\site-packages\\\\matplotlib\\\\pyplot.py'>"
      ]
     },
     "execution_count": 32,
     "metadata": {},
     "output_type": "execute_result"
    },
    {
     "data": {
      "image/png": "[encoded data removed]",
      "text/plain": [
       "<Figure size 432x288 with 1 Axes>"
      ]
     },
     "metadata": {},
     "output_type": "display_data"
    }
   ],
   "source": [
    "plot_learning_curve(model_rfc, \"Random Forest\",\n",
    "                    X_train, y_train, train_sizes=np.linspace(.1, 1, 5), cv=5, n_jobs=-1, scoring='f1_macro')"
   ]
  },
  {
   "cell_type": "markdown",
   "metadata": {},
   "source": [
    "Finaly, if we observe the learning curve from the final Random Forest, we can also see that even if can have overfitting (training score) seems closed to 1, cross validation score and test score are close."
   ]
  },
  {
   "cell_type": "markdown",
   "metadata": {},
   "source": [
    "## 2.2 XGBoost"
   ]
  },
  {
   "cell_type": "markdown",
   "metadata": {},
   "source": [
    "In order to optimize XGBoost model, we will optimize the model in 5 steps:\n",
    "- Step 1: Setup number of estimators.\n",
    "- Step 2: Setup max depth (node number) and min_child_weight.\n",
    "- Step 3: Setup gamma.\n",
    "- Step 4: Setup subsample and colsample_bytree.\n",
    "- Step 5: Setup regularization parameters."
   ]
  },
  {
   "cell_type": "markdown",
   "metadata": {},
   "source": [
    "### 2.2.1 Tuning n_estimators"
   ]
  },
  {
   "cell_type": "code",
   "execution_count": 36,
   "metadata": {
    "scrolled": true
   },
   "outputs": [
    {
     "name": "stdout",
     "output_type": "stream",
     "text": [
      "train_score: 1.0, test_score: 0.9484130037335252, params: {'n_estimators': 800}\n",
      "train_score: 1.0, test_score: 0.9481818615018616, params: {'n_estimators': 200}\n",
      "train_score: 1.0, test_score: 0.9476847962935645, params: {'n_estimators': 1000}\n",
      "train_score: 1.0, test_score: 0.9481818615018616, params: {'n_estimators': 200}\n",
      "train_score: 1.0, test_score: 0.9476847962935645, params: {'n_estimators': 1000}\n",
      "train_score: 1.0, test_score: 0.9490092552144496, params: {'n_estimators': 400}\n",
      "train_score: 1.0, test_score: 0.9483740278766593, params: {'n_estimators': 600}\n",
      "train_score: 1.0, test_score: 0.9476847962935645, params: {'n_estimators': 1000}\n",
      "train_score: 1.0, test_score: 0.9484130037335252, params: {'n_estimators': 800}\n",
      "train_score: 1.0, test_score: 0.9483740278766593, params: {'n_estimators': 600}\n"
     ]
    },
    {
     "data": {
      "text/plain": [
       "{'n_estimators': 400}"
      ]
     },
     "execution_count": 36,
     "metadata": {},
     "output_type": "execute_result"
    }
   ],
   "source": [
    "import xgboost as xgb\n",
    "# See http://xgboost.readthedocs.io/en/latest/parameter.html\n",
    "\n",
    "\n",
    "space = {}\n",
    "space['n_estimators'] = hp.choice('n_estimators', [200,400,600,800,1000])\n",
    "\n",
    "def objective(params):\n",
    "    model_xgb = xgb.XGBClassifier(\n",
    "              nthread=4,\n",
    "              objective='multi:softmax',\n",
    "              learning_rate=0.3,\n",
    "              silent=1,\n",
    "              seed=random_state)\n",
    "    model_xgb.set_params(**params)\n",
    "    shuffle = KFold(n_splits=5, shuffle=False)\n",
    "    score = cross_validate(model_xgb, X_train, y_train, cv=shuffle, scoring='f1_macro', n_jobs=-1)\n",
    "    print('train_score: {}, test_score: {}, params: {}'.format(score['train_score'].mean(), score['test_score'].mean(), params))\n",
    "    return 1-score['test_score'].mean()\n",
    "        \n",
    "trials = Trials()\n",
    "\n",
    "best = fmin(objective,\n",
    "            space,\n",
    "            algo=tpe.suggest,\n",
    "            max_evals=10,\n",
    "            trials=trials)\n",
    "\n",
    "best_params = space_eval(space, best)\n",
    "best_params"
   ]
  },
  {
   "cell_type": "markdown",
   "metadata": {},
   "source": [
    "### 2.2.2 Tune max_depth and min_child_weight"
   ]
  },
  {
   "cell_type": "code",
   "execution_count": 37,
   "metadata": {
    "scrolled": true
   },
   "outputs": [
    {
     "name": "stdout",
     "output_type": "stream",
     "text": [
      "train_score: 1.0, test_score: 0.9466402483041778, params: {'max_depth': 10, 'min_child_weight': 1}\n",
      "train_score: 1.0, test_score: 0.9457189421437249, params: {'max_depth': 6, 'min_child_weight': 4}\n",
      "train_score: 1.0, test_score: 0.9456238223448518, params: {'max_depth': 8, 'min_child_weight': 1}\n",
      "train_score: 1.0, test_score: 0.9479921816754924, params: {'max_depth': 8, 'min_child_weight': 4}\n",
      "train_score: 1.0, test_score: 0.9479921816754924, params: {'max_depth': 8, 'min_child_weight': 4}\n",
      "train_score: 1.0, test_score: 0.9456238223448518, params: {'max_depth': 8, 'min_child_weight': 1}\n",
      "train_score: 1.0, test_score: 0.9466402483041778, params: {'max_depth': 10, 'min_child_weight': 1}\n",
      "train_score: 1.0, test_score: 0.9466402483041778, params: {'max_depth': 10, 'min_child_weight': 1}\n",
      "train_score: 1.0, test_score: 0.9475904421286607, params: {'max_depth': 4, 'min_child_weight': 1}\n",
      "train_score: 1.0, test_score: 0.9479921816754924, params: {'max_depth': 8, 'min_child_weight': 4}\n"
     ]
    },
    {
     "data": {
      "text/plain": [
       "{'max_depth': 8, 'min_child_weight': 4}"
      ]
     },
     "execution_count": 37,
     "metadata": {},
     "output_type": "execute_result"
    }
   ],
   "source": [
    "import xgboost as xgb\n",
    "\n",
    "\n",
    "space = {}\n",
    "space['max_depth'] = hp.choice('max_depth', [4, 6, 8, 10])\n",
    "space['min_child_weight'] = hp.choice('min_child_weight', [1, 4])\n",
    "\n",
    "def objective(params):\n",
    "    model_xgb = xgb.XGBClassifier(\n",
    "              nthread=4,\n",
    "              objective='multi:softmax',\n",
    "              learning_rate=0.3,\n",
    "              n_estimators=400,\n",
    "              silent=1,\n",
    "              seed=random_state)\n",
    "    model_xgb.set_params(**params)\n",
    "    shuffle = KFold(n_splits=5, shuffle=False)\n",
    "    score = cross_validate(model_xgb, X_train, y_train, cv=shuffle, scoring='f1_macro', n_jobs=-1)\n",
    "    print('train_score: {}, test_score: {}, params: {}'.format(score['train_score'].mean(), score['test_score'].mean(), params))\n",
    "    return 1-score['test_score'].mean()\n",
    "        \n",
    "trials = Trials()\n",
    "\n",
    "best = fmin(objective,\n",
    "            space,\n",
    "            algo=tpe.suggest,\n",
    "            max_evals=10,\n",
    "            trials=trials)\n",
    "\n",
    "best_params = space_eval(space, best)\n",
    "best_params"
   ]
  },
  {
   "cell_type": "markdown",
   "metadata": {},
   "source": [
    "### 2.2.3 Tune gamma"
   ]
  },
  {
   "cell_type": "code",
   "execution_count": 38,
   "metadata": {
    "scrolled": true
   },
   "outputs": [
    {
     "name": "stdout",
     "output_type": "stream",
     "text": [
      "train_score: 0.9935610386919496, test_score: 0.9492289746352796, params: {'gamma': 0.8}\n",
      "train_score: 1.0, test_score: 0.9479921816754924, params: {'gamma': 0}\n",
      "train_score: 1.0, test_score: 0.9479921816754924, params: {'gamma': 0}\n",
      "train_score: 0.9965025163606024, test_score: 0.946763042722434, params: {'gamma': 0.6}\n",
      "train_score: 0.9965025163606024, test_score: 0.946763042722434, params: {'gamma': 0.6}\n",
      "train_score: 0.9999159781444741, test_score: 0.943069268976816, params: {'gamma': 0.2}\n",
      "train_score: 0.9935610386919496, test_score: 0.9492289746352796, params: {'gamma': 0.8}\n",
      "train_score: 0.9999159781444741, test_score: 0.943069268976816, params: {'gamma': 0.2}\n",
      "train_score: 0.9987327708800666, test_score: 0.9455069878499375, params: {'gamma': 0.4}\n",
      "train_score: 0.9965025163606024, test_score: 0.946763042722434, params: {'gamma': 0.6}\n"
     ]
    },
    {
     "data": {
      "text/plain": [
       "{'gamma': 0.8}"
      ]
     },
     "execution_count": 38,
     "metadata": {},
     "output_type": "execute_result"
    }
   ],
   "source": [
    "import xgboost as xgb\n",
    "\n",
    "space = {}\n",
    "space['gamma'] = hp.choice('max_depth', [0,0.2, 0.4, 0.6, 0.8])\n",
    "\n",
    "def objective(params):\n",
    "    model_xgb = xgb.XGBClassifier(\n",
    "              nthread=4,\n",
    "              objective='multi:softmax',\n",
    "              learning_rate=0.3,\n",
    "              n_estimators=400,\n",
    "              silent=1,\n",
    "              seed=random_state,\n",
    "              max_depth=8,\n",
    "              min_child_weight=4)\n",
    "    model_xgb.set_params(**params)\n",
    "    shuffle = KFold(n_splits=5, shuffle=False)\n",
    "    score = cross_validate(model_xgb, X_train, y_train, cv=shuffle, scoring='f1_macro', n_jobs=-1)\n",
    "    print('train_score: {}, test_score: {}, params: {}'.format(score['train_score'].mean(), score['test_score'].mean(), params))\n",
    "    return 1-score['test_score'].mean()\n",
    "        \n",
    "trials = Trials()\n",
    "\n",
    "best = fmin(objective,\n",
    "            space,\n",
    "            algo=tpe.suggest,\n",
    "            max_evals=10,\n",
    "            trials=trials)\n",
    "\n",
    "best_params = space_eval(space, best)\n",
    "best_params"
   ]
  },
  {
   "cell_type": "markdown",
   "metadata": {},
   "source": [
    "### 2.2.4 Tune subsample and colsample_bytree"
   ]
  },
  {
   "cell_type": "code",
   "execution_count": 39,
   "metadata": {
    "scrolled": true
   },
   "outputs": [
    {
     "name": "stdout",
     "output_type": "stream",
     "text": [
      "train_score: 0.9985452320320206, test_score: 0.9505802958770306, params: {'colsample_bytree': 0.7, 'subsample': 0.7}\n",
      "train_score: 0.9988149581321606, test_score: 0.9494859970229783, params: {'colsample_bytree': 0.8, 'subsample': 0.8}\n",
      "train_score: 0.9989004460092717, test_score: 0.9505074374181375, params: {'colsample_bytree': 0.8, 'subsample': 0.7}\n",
      "train_score: 0.999419302095502, test_score: 0.9504077170772505, params: {'colsample_bytree': 1, 'subsample': 0.8}\n",
      "train_score: 0.9989707631972893, test_score: 0.9506086673062482, params: {'colsample_bytree': 1, 'subsample': 0.9}\n",
      "train_score: 0.998738311991595, test_score: 0.948499233728953, params: {'colsample_bytree': 0.9, 'subsample': 0.9}\n",
      "train_score: 0.998738311991595, test_score: 0.948499233728953, params: {'colsample_bytree': 0.9, 'subsample': 0.9}\n",
      "train_score: 0.9963257235483371, test_score: 0.9498779601900319, params: {'colsample_bytree': 0.9, 'subsample': 1}\n",
      "train_score: 0.9986380682251206, test_score: 0.953023396483761, params: {'colsample_bytree': 0.8, 'subsample': 0.9}\n",
      "train_score: 0.9989757174186294, test_score: 0.9503931728598539, params: {'colsample_bytree': 0.9, 'subsample': 0.8}\n"
     ]
    },
    {
     "data": {
      "text/plain": [
       "{'colsample_bytree': 0.8, 'subsample': 0.9}"
      ]
     },
     "execution_count": 39,
     "metadata": {},
     "output_type": "execute_result"
    }
   ],
   "source": [
    "import xgboost as xgb\n",
    "\n",
    "space = {}\n",
    "space['subsample'] = hp.choice('subsample', [0.7, 0.8, 0.9, 1])\n",
    "space['colsample_bytree'] = hp.choice('colsample_bytree', [0.6, 0.7, 0.8, 0.9, 1])\n",
    "\n",
    "def objective(params):\n",
    "    model_xgb = xgb.XGBClassifier(\n",
    "              nthread=4,\n",
    "              objective='multi:softmax',\n",
    "              learning_rate=0.3,\n",
    "              n_estimators=400,\n",
    "              silent=1,\n",
    "              seed=random_state,\n",
    "              max_depth=8,\n",
    "              min_child_weight=4,\n",
    "              gamma=0.8)\n",
    "    model_xgb.set_params(**params)\n",
    "    shuffle = KFold(n_splits=5, shuffle=False)\n",
    "    score = cross_validate(model_xgb, X_train, y_train, cv=shuffle, scoring='f1_macro', n_jobs=-1)\n",
    "    print('train_score: {}, test_score: {}, params: {}'.format(score['train_score'].mean(), score['test_score'].mean(), params))\n",
    "    return 1-score['test_score'].mean()\n",
    "        \n",
    "trials = Trials()\n",
    "\n",
    "best = fmin(objective,\n",
    "            space,\n",
    "            algo=tpe.suggest,\n",
    "            max_evals=10,\n",
    "            trials=trials)\n",
    "\n",
    "best_params = space_eval(space, best)\n",
    "best_params"
   ]
  },
  {
   "cell_type": "markdown",
   "metadata": {},
   "source": [
    "We can see that the best **colsample_bytree** / **subsample** couple is **1/1**, it gives the best cross validation score."
   ]
  },
  {
   "cell_type": "markdown",
   "metadata": {},
   "source": [
    "### 2.2.5 Tune regularization parameters"
   ]
  },
  {
   "cell_type": "code",
   "execution_count": 40,
   "metadata": {
    "scrolled": false
   },
   "outputs": [
    {
     "name": "stdout",
     "output_type": "stream",
     "text": [
      "train_score: 0.9983739724653278, test_score: 0.9493846626927989, params: {'reg_alpha': 0.1}\n",
      "train_score: 0.9983739724653278, test_score: 0.9493846626927989, params: {'reg_alpha': 0.1}\n",
      "train_score: 0.9989757174186294, test_score: 0.9503931728598539, params: {'reg_alpha': 0}\n",
      "train_score: 0.9989757174186294, test_score: 0.9503931728598539, params: {'reg_alpha': 0}\n",
      "train_score: 0.9976752896469838, test_score: 0.9490296140065476, params: {'reg_alpha': 0.2}\n",
      "train_score: 0.9983739724653278, test_score: 0.9493846626927989, params: {'reg_alpha': 0.1}\n",
      "train_score: 0.9989757174186294, test_score: 0.9503931728598539, params: {'reg_alpha': 0}\n",
      "train_score: 0.9983739724653278, test_score: 0.9493846626927989, params: {'reg_alpha': 0.1}\n",
      "train_score: 0.9983739724653278, test_score: 0.9493846626927989, params: {'reg_alpha': 0.1}\n",
      "train_score: 0.9976752896469838, test_score: 0.9490296140065476, params: {'reg_alpha': 0.2}\n"
     ]
    },
    {
     "data": {
      "text/plain": [
       "{'reg_alpha': 0}"
      ]
     },
     "execution_count": 40,
     "metadata": {},
     "output_type": "execute_result"
    }
   ],
   "source": [
    "import xgboost as xgb\n",
    "\n",
    "space = {}\n",
    "space['reg_alpha'] = hp.choice('reg_alpha', [0, 0.1, 0.2])\n",
    "\n",
    "def objective(params):\n",
    "    model_xgb = xgb.XGBClassifier(\n",
    "              nthread=4,\n",
    "              objective='multi:softmax',\n",
    "              learning_rate=0.3,\n",
    "              n_estimators=400,\n",
    "              silent=1,\n",
    "              seed=random_state,\n",
    "              max_depth=8,\n",
    "              min_child_weight=4,\n",
    "              gamma=0.8,\n",
    "              subsample=0.8,\n",
    "              colsample_bytree=0.9)\n",
    "    model_xgb.set_params(**params)\n",
    "    shuffle = KFold(n_splits=5, shuffle=False)\n",
    "    score = cross_validate(model_xgb, X_train, y_train, cv=shuffle, scoring='f1_macro', n_jobs=-1)\n",
    "    print('train_score: {}, test_score: {}, params: {}'.format(score['train_score'].mean(), score['test_score'].mean(), params))\n",
    "    return 1-score['test_score'].mean()\n",
    "        \n",
    "trials = Trials()\n",
    "\n",
    "best = fmin(objective,\n",
    "            space,\n",
    "            algo=tpe.suggest,\n",
    "            max_evals=10,\n",
    "            trials=trials)\n",
    "\n",
    "best_params = space_eval(space, best)\n",
    "best_params"
   ]
  },
  {
   "cell_type": "markdown",
   "metadata": {},
   "source": [
    "We can see that the best **regularisation** value is **0**, it gives the best cross validation score."
   ]
  },
  {
   "cell_type": "markdown",
   "metadata": {},
   "source": [
    "### 2.2.6 Tune learning_rate"
   ]
  },
  {
   "cell_type": "code",
   "execution_count": 41,
   "metadata": {
    "scrolled": true
   },
   "outputs": [
    {
     "name": "stdout",
     "output_type": "stream",
     "text": [
      "train_score: 0.9994216354062442, test_score: 0.9487985339333223, params: {'learning_rate': 0.4}\n",
      "train_score: 0.9992436801493607, test_score: 0.9505075101867065, params: {'learning_rate': 0.5}\n",
      "train_score: 0.9976606467703739, test_score: 0.9509366057674489, params: {'learning_rate': 0.1}\n",
      "train_score: 0.9976606467703739, test_score: 0.9509366057674489, params: {'learning_rate': 0.1}\n",
      "train_score: 0.9989757174186294, test_score: 0.9503931728598539, params: {'learning_rate': 0.3}\n",
      "train_score: 0.9976606467703739, test_score: 0.9509366057674489, params: {'learning_rate': 0.1}\n",
      "train_score: 0.9994216354062442, test_score: 0.9487985339333223, params: {'learning_rate': 0.4}\n",
      "train_score: 0.9976606467703739, test_score: 0.9509366057674489, params: {'learning_rate': 0.1}\n",
      "train_score: 0.9992436801493607, test_score: 0.9505075101867065, params: {'learning_rate': 0.5}\n",
      "train_score: 0.9992436801493607, test_score: 0.9505075101867065, params: {'learning_rate': 0.5}\n"
     ]
    },
    {
     "data": {
      "text/plain": [
       "{'learning_rate': 0.1}"
      ]
     },
     "execution_count": 41,
     "metadata": {},
     "output_type": "execute_result"
    }
   ],
   "source": [
    "import xgboost as xgb\n",
    "\n",
    "space = {}\n",
    "space['learning_rate'] = hp.choice('learning_rate', [0.1, 0.3, 0.4, 0.5])\n",
    "\n",
    "def objective(params):\n",
    "    model_xgb = xgb.XGBClassifier(\n",
    "              nthread=4,\n",
    "              objective='multi:softmax',\n",
    "              learning_rate=0.3,\n",
    "              n_estimators=400,\n",
    "              silent=1,\n",
    "              seed=random_state,\n",
    "              max_depth=8,\n",
    "              min_child_weight=4,\n",
    "              gamma=0.8,\n",
    "              subsample=0.8,\n",
    "              colsample_bytree=0.9,\n",
    "              reg_alpha=0)\n",
    "    model_xgb.set_params(**params)\n",
    "    shuffle = KFold(n_splits=5, shuffle=False)\n",
    "    score = cross_validate(model_xgb, X_train, y_train, cv=shuffle, scoring='f1_macro', n_jobs=-1)\n",
    "    print('train_score: {}, test_score: {}, params: {}'.format(score['train_score'].mean(), score['test_score'].mean(), params))\n",
    "    return 1-score['test_score'].mean()\n",
    "        \n",
    "trials = Trials()\n",
    "\n",
    "best = fmin(objective,\n",
    "            space,\n",
    "            algo=tpe.suggest,\n",
    "            max_evals=10,\n",
    "            trials=trials)\n",
    "\n",
    "best_params = space_eval(space, best)\n",
    "best_params"
   ]
  },
  {
   "cell_type": "markdown",
   "metadata": {},
   "source": [
    "### 2.2.7 Final testing"
   ]
  },
  {
   "cell_type": "markdown",
   "metadata": {},
   "source": [
    "Let's build the final classifier model based on previous XGBoost parameters optimized:"
   ]
  },
  {
   "cell_type": "code",
   "execution_count": 42,
   "metadata": {},
   "outputs": [],
   "source": [
    "model = xgb.XGBClassifier(\n",
    "              nthread=4,\n",
    "              objective='multi:softmax',\n",
    "              learning_rate=0.1,\n",
    "              n_estimators=400,\n",
    "              silent=1,\n",
    "              seed=random_state,\n",
    "              max_depth=8,\n",
    "              min_child_weight=4,\n",
    "              gamma=0.8,\n",
    "              subsample=0.8,\n",
    "              colsample_bytree=0.9,\n",
    "              reg_alpha=0)"
   ]
  },
  {
   "cell_type": "code",
   "execution_count": 44,
   "metadata": {},
   "outputs": [
    {
     "name": "stderr",
     "output_type": "stream",
     "text": [
      "C:\\Users\\boisb\\Anaconda3\\envs\\py36\\lib\\site-packages\\sklearn\\preprocessing\\label.py:151: DeprecationWarning: The truth value of an empty array is ambiguous. Returning False, but in future this will result in an error. Use `array.size > 0` to check that an array is not empty.\n",
      "  if diff:\n"
     ]
    },
    {
     "data": {
      "text/plain": [
       "0.9507969105321551"
      ]
     },
     "execution_count": 44,
     "metadata": {},
     "output_type": "execute_result"
    }
   ],
   "source": [
    "model.fit(X_train,y_train)\n",
    "y_predict = model.predict(X_test)\n",
    "test_score = custom_scorer(y_test, y_predict)\n",
    "test_score"
   ]
  },
  {
   "cell_type": "markdown",
   "metadata": {},
   "source": [
    "If we observe now the confusion matrix we can see:"
   ]
  },
  {
   "cell_type": "code",
   "execution_count": 45,
   "metadata": {},
   "outputs": [
    {
     "name": "stdout",
     "output_type": "stream",
     "text": [
      "Normalized confusion matrix\n",
      "[[0.99 0.01 0.   0.  ]\n",
      " [0.02 0.89 0.05 0.05]\n",
      " [0.   0.04 0.96 0.  ]\n",
      " [0.   0.04 0.   0.96]]\n"
     ]
    },
    {
     "data": {
      "image/png": "[encoded data removed]",
      "text/plain": [
       "<Figure size 432x288 with 2 Axes>"
      ]
     },
     "metadata": {},
     "output_type": "display_data"
    }
   ],
   "source": [
    "from sklearn.metrics import confusion_matrix\n",
    "cnf_matrix = confusion_matrix(y_test, y_predict)\n",
    "class_names = np.unique(y)\n",
    "np.set_printoptions(precision=2)\n",
    "plot_confusion_matrix(cnf_matrix, classes=class_names, normalize=True,\n",
    "                      title='Confusion matrix, with normalization')\n",
    "plt.grid('off')"
   ]
  },
  {
   "cell_type": "markdown",
   "metadata": {},
   "source": [
    "- Some customers from class 1 are predicted either in class 2 or 0.\n",
    "- Some customers from class 2 are predicted in class 1."
   ]
  },
  {
   "cell_type": "code",
   "execution_count": 46,
   "metadata": {},
   "outputs": [
    {
     "name": "stderr",
     "output_type": "stream",
     "text": [
      "C:\\Users\\boisb\\Anaconda3\\envs\\py36\\lib\\site-packages\\sklearn\\preprocessing\\label.py:151: DeprecationWarning: The truth value of an empty array is ambiguous. Returning False, but in future this will result in an error. Use `array.size > 0` to check that an array is not empty.\n",
      "  if diff:\n",
      "C:\\Users\\boisb\\Anaconda3\\envs\\py36\\lib\\site-packages\\sklearn\\preprocessing\\label.py:151: DeprecationWarning: The truth value of an empty array is ambiguous. Returning False, but in future this will result in an error. Use `array.size > 0` to check that an array is not empty.\n",
      "  if diff:\n",
      "C:\\Users\\boisb\\Anaconda3\\envs\\py36\\lib\\site-packages\\sklearn\\preprocessing\\label.py:151: DeprecationWarning: The truth value of an empty array is ambiguous. Returning False, but in future this will result in an error. Use `array.size > 0` to check that an array is not empty.\n",
      "  if diff:\n",
      "C:\\Users\\boisb\\Anaconda3\\envs\\py36\\lib\\site-packages\\sklearn\\preprocessing\\label.py:151: DeprecationWarning: The truth value of an empty array is ambiguous. Returning False, but in future this will result in an error. Use `array.size > 0` to check that an array is not empty.\n",
      "  if diff:\n",
      "C:\\Users\\boisb\\Anaconda3\\envs\\py36\\lib\\site-packages\\sklearn\\preprocessing\\label.py:151: DeprecationWarning: The truth value of an empty array is ambiguous. Returning False, but in future this will result in an error. Use `array.size > 0` to check that an array is not empty.\n",
      "  if diff:\n",
      "C:\\Users\\boisb\\Anaconda3\\envs\\py36\\lib\\site-packages\\sklearn\\preprocessing\\label.py:151: DeprecationWarning: The truth value of an empty array is ambiguous. Returning False, but in future this will result in an error. Use `array.size > 0` to check that an array is not empty.\n",
      "  if diff:\n",
      "C:\\Users\\boisb\\Anaconda3\\envs\\py36\\lib\\site-packages\\sklearn\\preprocessing\\label.py:151: DeprecationWarning: The truth value of an empty array is ambiguous. Returning False, but in future this will result in an error. Use `array.size > 0` to check that an array is not empty.\n",
      "  if diff:\n",
      "C:\\Users\\boisb\\Anaconda3\\envs\\py36\\lib\\site-packages\\sklearn\\preprocessing\\label.py:151: DeprecationWarning: The truth value of an empty array is ambiguous. Returning False, but in future this will result in an error. Use `array.size > 0` to check that an array is not empty.\n",
      "  if diff:\n",
      "C:\\Users\\boisb\\Anaconda3\\envs\\py36\\lib\\site-packages\\sklearn\\preprocessing\\label.py:151: DeprecationWarning: The truth value of an empty array is ambiguous. Returning False, but in future this will result in an error. Use `array.size > 0` to check that an array is not empty.\n",
      "  if diff:\n",
      "C:\\Users\\boisb\\Anaconda3\\envs\\py36\\lib\\site-packages\\sklearn\\preprocessing\\label.py:151: DeprecationWarning: The truth value of an empty array is ambiguous. Returning False, but in future this will result in an error. Use `array.size > 0` to check that an array is not empty.\n",
      "  if diff:\n",
      "C:\\Users\\boisb\\Anaconda3\\envs\\py36\\lib\\site-packages\\sklearn\\preprocessing\\label.py:151: DeprecationWarning: The truth value of an empty array is ambiguous. Returning False, but in future this will result in an error. Use `array.size > 0` to check that an array is not empty.\n",
      "  if diff:\n",
      "C:\\Users\\boisb\\Anaconda3\\envs\\py36\\lib\\site-packages\\sklearn\\preprocessing\\label.py:151: DeprecationWarning: The truth value of an empty array is ambiguous. Returning False, but in future this will result in an error. Use `array.size > 0` to check that an array is not empty.\n",
      "  if diff:\n",
      "C:\\Users\\boisb\\Anaconda3\\envs\\py36\\lib\\site-packages\\sklearn\\preprocessing\\label.py:151: DeprecationWarning: The truth value of an empty array is ambiguous. Returning False, but in future this will result in an error. Use `array.size > 0` to check that an array is not empty.\n",
      "  if diff:\n",
      "C:\\Users\\boisb\\Anaconda3\\envs\\py36\\lib\\site-packages\\sklearn\\preprocessing\\label.py:151: DeprecationWarning: The truth value of an empty array is ambiguous. Returning False, but in future this will result in an error. Use `array.size > 0` to check that an array is not empty.\n",
      "  if diff:\n",
      "C:\\Users\\boisb\\Anaconda3\\envs\\py36\\lib\\site-packages\\sklearn\\preprocessing\\label.py:151: DeprecationWarning: The truth value of an empty array is ambiguous. Returning False, but in future this will result in an error. Use `array.size > 0` to check that an array is not empty.\n",
      "  if diff:\n",
      "C:\\Users\\boisb\\Anaconda3\\envs\\py36\\lib\\site-packages\\sklearn\\preprocessing\\label.py:151: DeprecationWarning: The truth value of an empty array is ambiguous. Returning False, but in future this will result in an error. Use `array.size > 0` to check that an array is not empty.\n",
      "  if diff:\n",
      "C:\\Users\\boisb\\Anaconda3\\envs\\py36\\lib\\site-packages\\sklearn\\preprocessing\\label.py:151: DeprecationWarning: The truth value of an empty array is ambiguous. Returning False, but in future this will result in an error. Use `array.size > 0` to check that an array is not empty.\n",
      "  if diff:\n",
      "C:\\Users\\boisb\\Anaconda3\\envs\\py36\\lib\\site-packages\\sklearn\\preprocessing\\label.py:151: DeprecationWarning: The truth value of an empty array is ambiguous. Returning False, but in future this will result in an error. Use `array.size > 0` to check that an array is not empty.\n",
      "  if diff:\n",
      "C:\\Users\\boisb\\Anaconda3\\envs\\py36\\lib\\site-packages\\sklearn\\preprocessing\\label.py:151: DeprecationWarning: The truth value of an empty array is ambiguous. Returning False, but in future this will result in an error. Use `array.size > 0` to check that an array is not empty.\n",
      "  if diff:\n",
      "C:\\Users\\boisb\\Anaconda3\\envs\\py36\\lib\\site-packages\\sklearn\\preprocessing\\label.py:151: DeprecationWarning: The truth value of an empty array is ambiguous. Returning False, but in future this will result in an error. Use `array.size > 0` to check that an array is not empty.\n",
      "  if diff:\n",
      "C:\\Users\\boisb\\Anaconda3\\envs\\py36\\lib\\site-packages\\sklearn\\preprocessing\\label.py:151: DeprecationWarning: The truth value of an empty array is ambiguous. Returning False, but in future this will result in an error. Use `array.size > 0` to check that an array is not empty.\n",
      "  if diff:\n",
      "C:\\Users\\boisb\\Anaconda3\\envs\\py36\\lib\\site-packages\\sklearn\\preprocessing\\label.py:151: DeprecationWarning: The truth value of an empty array is ambiguous. Returning False, but in future this will result in an error. Use `array.size > 0` to check that an array is not empty.\n",
      "  if diff:\n",
      "C:\\Users\\boisb\\Anaconda3\\envs\\py36\\lib\\site-packages\\sklearn\\preprocessing\\label.py:151: DeprecationWarning: The truth value of an empty array is ambiguous. Returning False, but in future this will result in an error. Use `array.size > 0` to check that an array is not empty.\n",
      "  if diff:\n",
      "C:\\Users\\boisb\\Anaconda3\\envs\\py36\\lib\\site-packages\\sklearn\\preprocessing\\label.py:151: DeprecationWarning: The truth value of an empty array is ambiguous. Returning False, but in future this will result in an error. Use `array.size > 0` to check that an array is not empty.\n",
      "  if diff:\n",
      "C:\\Users\\boisb\\Anaconda3\\envs\\py36\\lib\\site-packages\\sklearn\\preprocessing\\label.py:151: DeprecationWarning: The truth value of an empty array is ambiguous. Returning False, but in future this will result in an error. Use `array.size > 0` to check that an array is not empty.\n",
      "  if diff:\n",
      "C:\\Users\\boisb\\Anaconda3\\envs\\py36\\lib\\site-packages\\sklearn\\preprocessing\\label.py:151: DeprecationWarning: The truth value of an empty array is ambiguous. Returning False, but in future this will result in an error. Use `array.size > 0` to check that an array is not empty.\n",
      "  if diff:\n",
      "C:\\Users\\boisb\\Anaconda3\\envs\\py36\\lib\\site-packages\\sklearn\\preprocessing\\label.py:151: DeprecationWarning: The truth value of an empty array is ambiguous. Returning False, but in future this will result in an error. Use `array.size > 0` to check that an array is not empty.\n",
      "  if diff:\n",
      "C:\\Users\\boisb\\Anaconda3\\envs\\py36\\lib\\site-packages\\sklearn\\preprocessing\\label.py:151: DeprecationWarning: The truth value of an empty array is ambiguous. Returning False, but in future this will result in an error. Use `array.size > 0` to check that an array is not empty.\n",
      "  if diff:\n",
      "C:\\Users\\boisb\\Anaconda3\\envs\\py36\\lib\\site-packages\\sklearn\\preprocessing\\label.py:151: DeprecationWarning: The truth value of an empty array is ambiguous. Returning False, but in future this will result in an error. Use `array.size > 0` to check that an array is not empty.\n",
      "  if diff:\n",
      "C:\\Users\\boisb\\Anaconda3\\envs\\py36\\lib\\site-packages\\sklearn\\preprocessing\\label.py:151: DeprecationWarning: The truth value of an empty array is ambiguous. Returning False, but in future this will result in an error. Use `array.size > 0` to check that an array is not empty.\n",
      "  if diff:\n"
     ]
    },
    {
     "name": "stderr",
     "output_type": "stream",
     "text": [
      "C:\\Users\\boisb\\Anaconda3\\envs\\py36\\lib\\site-packages\\sklearn\\preprocessing\\label.py:151: DeprecationWarning: The truth value of an empty array is ambiguous. Returning False, but in future this will result in an error. Use `array.size > 0` to check that an array is not empty.\n",
      "  if diff:\n",
      "C:\\Users\\boisb\\Anaconda3\\envs\\py36\\lib\\site-packages\\sklearn\\preprocessing\\label.py:151: DeprecationWarning: The truth value of an empty array is ambiguous. Returning False, but in future this will result in an error. Use `array.size > 0` to check that an array is not empty.\n",
      "  if diff:\n",
      "C:\\Users\\boisb\\Anaconda3\\envs\\py36\\lib\\site-packages\\sklearn\\preprocessing\\label.py:151: DeprecationWarning: The truth value of an empty array is ambiguous. Returning False, but in future this will result in an error. Use `array.size > 0` to check that an array is not empty.\n",
      "  if diff:\n",
      "C:\\Users\\boisb\\Anaconda3\\envs\\py36\\lib\\site-packages\\sklearn\\preprocessing\\label.py:151: DeprecationWarning: The truth value of an empty array is ambiguous. Returning False, but in future this will result in an error. Use `array.size > 0` to check that an array is not empty.\n",
      "  if diff:\n",
      "C:\\Users\\boisb\\Anaconda3\\envs\\py36\\lib\\site-packages\\sklearn\\preprocessing\\label.py:151: DeprecationWarning: The truth value of an empty array is ambiguous. Returning False, but in future this will result in an error. Use `array.size > 0` to check that an array is not empty.\n",
      "  if diff:\n",
      "C:\\Users\\boisb\\Anaconda3\\envs\\py36\\lib\\site-packages\\sklearn\\preprocessing\\label.py:151: DeprecationWarning: The truth value of an empty array is ambiguous. Returning False, but in future this will result in an error. Use `array.size > 0` to check that an array is not empty.\n",
      "  if diff:\n",
      "C:\\Users\\boisb\\Anaconda3\\envs\\py36\\lib\\site-packages\\sklearn\\preprocessing\\label.py:151: DeprecationWarning: The truth value of an empty array is ambiguous. Returning False, but in future this will result in an error. Use `array.size > 0` to check that an array is not empty.\n",
      "  if diff:\n",
      "C:\\Users\\boisb\\Anaconda3\\envs\\py36\\lib\\site-packages\\sklearn\\preprocessing\\label.py:151: DeprecationWarning: The truth value of an empty array is ambiguous. Returning False, but in future this will result in an error. Use `array.size > 0` to check that an array is not empty.\n",
      "  if diff:\n",
      "C:\\Users\\boisb\\Anaconda3\\envs\\py36\\lib\\site-packages\\sklearn\\preprocessing\\label.py:151: DeprecationWarning: The truth value of an empty array is ambiguous. Returning False, but in future this will result in an error. Use `array.size > 0` to check that an array is not empty.\n",
      "  if diff:\n",
      "C:\\Users\\boisb\\Anaconda3\\envs\\py36\\lib\\site-packages\\sklearn\\preprocessing\\label.py:151: DeprecationWarning: The truth value of an empty array is ambiguous. Returning False, but in future this will result in an error. Use `array.size > 0` to check that an array is not empty.\n",
      "  if diff:\n",
      "C:\\Users\\boisb\\Anaconda3\\envs\\py36\\lib\\site-packages\\sklearn\\preprocessing\\label.py:151: DeprecationWarning: The truth value of an empty array is ambiguous. Returning False, but in future this will result in an error. Use `array.size > 0` to check that an array is not empty.\n",
      "  if diff:\n",
      "C:\\Users\\boisb\\Anaconda3\\envs\\py36\\lib\\site-packages\\sklearn\\preprocessing\\label.py:151: DeprecationWarning: The truth value of an empty array is ambiguous. Returning False, but in future this will result in an error. Use `array.size > 0` to check that an array is not empty.\n",
      "  if diff:\n",
      "C:\\Users\\boisb\\Anaconda3\\envs\\py36\\lib\\site-packages\\sklearn\\preprocessing\\label.py:151: DeprecationWarning: The truth value of an empty array is ambiguous. Returning False, but in future this will result in an error. Use `array.size > 0` to check that an array is not empty.\n",
      "  if diff:\n",
      "C:\\Users\\boisb\\Anaconda3\\envs\\py36\\lib\\site-packages\\sklearn\\preprocessing\\label.py:151: DeprecationWarning: The truth value of an empty array is ambiguous. Returning False, but in future this will result in an error. Use `array.size > 0` to check that an array is not empty.\n",
      "  if diff:\n",
      "C:\\Users\\boisb\\Anaconda3\\envs\\py36\\lib\\site-packages\\sklearn\\preprocessing\\label.py:151: DeprecationWarning: The truth value of an empty array is ambiguous. Returning False, but in future this will result in an error. Use `array.size > 0` to check that an array is not empty.\n",
      "  if diff:\n",
      "C:\\Users\\boisb\\Anaconda3\\envs\\py36\\lib\\site-packages\\sklearn\\preprocessing\\label.py:151: DeprecationWarning: The truth value of an empty array is ambiguous. Returning False, but in future this will result in an error. Use `array.size > 0` to check that an array is not empty.\n",
      "  if diff:\n",
      "C:\\Users\\boisb\\Anaconda3\\envs\\py36\\lib\\site-packages\\sklearn\\preprocessing\\label.py:151: DeprecationWarning: The truth value of an empty array is ambiguous. Returning False, but in future this will result in an error. Use `array.size > 0` to check that an array is not empty.\n",
      "  if diff:\n",
      "C:\\Users\\boisb\\Anaconda3\\envs\\py36\\lib\\site-packages\\sklearn\\preprocessing\\label.py:151: DeprecationWarning: The truth value of an empty array is ambiguous. Returning False, but in future this will result in an error. Use `array.size > 0` to check that an array is not empty.\n",
      "  if diff:\n",
      "C:\\Users\\boisb\\Anaconda3\\envs\\py36\\lib\\site-packages\\sklearn\\preprocessing\\label.py:151: DeprecationWarning: The truth value of an empty array is ambiguous. Returning False, but in future this will result in an error. Use `array.size > 0` to check that an array is not empty.\n",
      "  if diff:\n",
      "C:\\Users\\boisb\\Anaconda3\\envs\\py36\\lib\\site-packages\\sklearn\\preprocessing\\label.py:151: DeprecationWarning: The truth value of an empty array is ambiguous. Returning False, but in future this will result in an error. Use `array.size > 0` to check that an array is not empty.\n",
      "  if diff:\n"
     ]
    },
    {
     "data": {
      "text/plain": [
       "<module 'matplotlib.pyplot' from 'C:\\\\Users\\\\boisb\\\\Anaconda3\\\\envs\\\\py36\\\\lib\\\\site-packages\\\\matplotlib\\\\pyplot.py'>"
      ]
     },
     "execution_count": 46,
     "metadata": {},
     "output_type": "execute_result"
    },
    {
     "data": {
      "image/png": "[encoded data removed]",
      "text/plain": [
       "<Figure size 432x288 with 1 Axes>"
      ]
     },
     "metadata": {},
     "output_type": "display_data"
    }
   ],
   "source": [
    "plot_learning_curve(model, \"XGBoost\",\n",
    "                    X_train, y_train, train_sizes=np.linspace(.1, 1, 5),cv=5)"
   ]
  },
  {
   "cell_type": "markdown",
   "metadata": {},
   "source": [
    "Finaly, if we observe the learning curve from the final XGBoost, we can also see that even if can have overfitting (training score) seems closed to 1 but as previously stated cross validation score and test score are close."
   ]
  },
  {
   "cell_type": "code",
   "execution_count": 48,
   "metadata": {},
   "outputs": [
    {
     "data": {
      "text/plain": [
       "['./api/static/scaler.pkl']"
      ]
     },
     "execution_count": 48,
     "metadata": {},
     "output_type": "execute_result"
    }
   ],
   "source": [
    "from sklearn.externals import joblib\n",
    "joblib.dump(model, './api/static/model.pkl')\n",
    "joblib.dump(scaler, './api/static/scaler.pkl')"
   ]
  },
  {
   "cell_type": "markdown",
   "metadata": {},
   "source": [
    "Let's store classifier and scaler for later use."
   ]
  }
 ],
 "metadata": {
  "kernelspec": {
   "display_name": "Python 3",
   "language": "python",
   "name": "python3"
  },
  "language_info": {
   "codemirror_mode": {
    "name": "ipython",
    "version": 3
   },
   "file_extension": ".py",
   "mimetype": "text/x-python",
   "name": "python",
   "nbconvert_exporter": "python",
   "pygments_lexer": "ipython3",
   "version": "3.6.5"
  }
 },
 "nbformat": 4,
 "nbformat_minor": 2
}
