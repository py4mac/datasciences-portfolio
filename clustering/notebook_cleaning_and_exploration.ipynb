{
 "cells": [
  {
   "cell_type": "markdown",
   "metadata": {},
   "source": [
    "# Customer Segmentation (exploration)\n",
    "Pierre-Yves BOISBUNON - January 2018\n",
    "\n",
    "------\n",
    "In this notebook, we will start exploring a customer retail database.\n",
    "\n",
    "This file is available here: https://archive.ics.uci.edu/ml/machine-learning-databases/00352/Online%20Retail.xlsx\n",
    "\n",
    "Tags:\n",
    "- Clustering (Kmeans)\n",
    "- RFM Score"
   ]
  },
  {
   "cell_type": "code",
   "execution_count": 1,
   "metadata": {},
   "outputs": [],
   "source": [
    "import pandas as pd\n",
    "import matplotlib.pyplot as plt\n",
    "import seaborn as sns\n",
    "import numpy as np\n",
    "import warnings\n",
    "warnings.filterwarnings('ignore')\n",
    "%matplotlib inline\n",
    "from __future__ import division\n",
    "import utils"
   ]
  },
  {
   "cell_type": "markdown",
   "metadata": {},
   "source": [
    "# 1. Exploration and Cleaning"
   ]
  },
  {
   "cell_type": "markdown",
   "metadata": {},
   "source": [
    "Let's import the dataset first"
   ]
  },
  {
   "cell_type": "code",
   "execution_count": 2,
   "metadata": {
    "scrolled": true
   },
   "outputs": [],
   "source": [
    "df_retail = pd.read_excel('Online Retail.xlsx')\n",
    "# Convert InvoiceDate as datetime variable\n",
    "df_retail['InvoiceDate'] = pd.to_datetime(df_retail['InvoiceDate'])"
   ]
  },
  {
   "cell_type": "markdown",
   "metadata": {},
   "source": [
    "Let's preview the dataset"
   ]
  },
  {
   "cell_type": "code",
   "execution_count": 3,
   "metadata": {
    "scrolled": true
   },
   "outputs": [
    {
     "data": {
      "text/html": [
       "<div>\n",
       "<style scoped>\n",
       "    .dataframe tbody tr th:only-of-type {\n",
       "        vertical-align: middle;\n",
       "    }\n",
       "\n",
       "    .dataframe tbody tr th {\n",
       "        vertical-align: top;\n",
       "    }\n",
       "\n",
       "    .dataframe thead th {\n",
       "        text-align: right;\n",
       "    }\n",
       "</style>\n",
       "<table border=\"1\" class=\"dataframe\">\n",
       "  <thead>\n",
       "    <tr style=\"text-align: right;\">\n",
       "      <th></th>\n",
       "      <th>InvoiceNo</th>\n",
       "      <th>StockCode</th>\n",
       "      <th>Description</th>\n",
       "      <th>Quantity</th>\n",
       "      <th>InvoiceDate</th>\n",
       "      <th>UnitPrice</th>\n",
       "      <th>CustomerID</th>\n",
       "      <th>Country</th>\n",
       "    </tr>\n",
       "  </thead>\n",
       "  <tbody>\n",
       "    <tr>\n",
       "      <th>0</th>\n",
       "      <td>536365</td>\n",
       "      <td>85123A</td>\n",
       "      <td>WHITE HANGING HEART T-LIGHT HOLDER</td>\n",
       "      <td>6</td>\n",
       "      <td>2010-12-01 08:26:00</td>\n",
       "      <td>2.55</td>\n",
       "      <td>17850.0</td>\n",
       "      <td>United Kingdom</td>\n",
       "    </tr>\n",
       "    <tr>\n",
       "      <th>1</th>\n",
       "      <td>536365</td>\n",
       "      <td>71053</td>\n",
       "      <td>WHITE METAL LANTERN</td>\n",
       "      <td>6</td>\n",
       "      <td>2010-12-01 08:26:00</td>\n",
       "      <td>3.39</td>\n",
       "      <td>17850.0</td>\n",
       "      <td>United Kingdom</td>\n",
       "    </tr>\n",
       "    <tr>\n",
       "      <th>2</th>\n",
       "      <td>536365</td>\n",
       "      <td>84406B</td>\n",
       "      <td>CREAM CUPID HEARTS COAT HANGER</td>\n",
       "      <td>8</td>\n",
       "      <td>2010-12-01 08:26:00</td>\n",
       "      <td>2.75</td>\n",
       "      <td>17850.0</td>\n",
       "      <td>United Kingdom</td>\n",
       "    </tr>\n",
       "    <tr>\n",
       "      <th>3</th>\n",
       "      <td>536365</td>\n",
       "      <td>84029G</td>\n",
       "      <td>KNITTED UNION FLAG HOT WATER BOTTLE</td>\n",
       "      <td>6</td>\n",
       "      <td>2010-12-01 08:26:00</td>\n",
       "      <td>3.39</td>\n",
       "      <td>17850.0</td>\n",
       "      <td>United Kingdom</td>\n",
       "    </tr>\n",
       "    <tr>\n",
       "      <th>4</th>\n",
       "      <td>536365</td>\n",
       "      <td>84029E</td>\n",
       "      <td>RED WOOLLY HOTTIE WHITE HEART.</td>\n",
       "      <td>6</td>\n",
       "      <td>2010-12-01 08:26:00</td>\n",
       "      <td>3.39</td>\n",
       "      <td>17850.0</td>\n",
       "      <td>United Kingdom</td>\n",
       "    </tr>\n",
       "  </tbody>\n",
       "</table>\n",
       "</div>"
      ],
      "text/plain": [
       "  InvoiceNo StockCode                          Description  Quantity  \\\n",
       "0    536365    85123A   WHITE HANGING HEART T-LIGHT HOLDER         6   \n",
       "1    536365     71053                  WHITE METAL LANTERN         6   \n",
       "2    536365    84406B       CREAM CUPID HEARTS COAT HANGER         8   \n",
       "3    536365    84029G  KNITTED UNION FLAG HOT WATER BOTTLE         6   \n",
       "4    536365    84029E       RED WOOLLY HOTTIE WHITE HEART.         6   \n",
       "\n",
       "          InvoiceDate  UnitPrice  CustomerID         Country  \n",
       "0 2010-12-01 08:26:00       2.55     17850.0  United Kingdom  \n",
       "1 2010-12-01 08:26:00       3.39     17850.0  United Kingdom  \n",
       "2 2010-12-01 08:26:00       2.75     17850.0  United Kingdom  \n",
       "3 2010-12-01 08:26:00       3.39     17850.0  United Kingdom  \n",
       "4 2010-12-01 08:26:00       3.39     17850.0  United Kingdom  "
      ]
     },
     "execution_count": 3,
     "metadata": {},
     "output_type": "execute_result"
    }
   ],
   "source": [
    "df_retail.head()"
   ]
  },
  {
   "cell_type": "markdown",
   "metadata": {},
   "source": [
    "If we display a static summary of the dataset we can see:\n",
    "- **CustomerID** contains around 25% of missing values. Let's remove all of them."
   ]
  },
  {
   "cell_type": "code",
   "execution_count": 4,
   "metadata": {
    "scrolled": true
   },
   "outputs": [
    {
     "data": {
      "text/html": [
       "<div>\n",
       "<style scoped>\n",
       "    .dataframe tbody tr th:only-of-type {\n",
       "        vertical-align: middle;\n",
       "    }\n",
       "\n",
       "    .dataframe tbody tr th {\n",
       "        vertical-align: top;\n",
       "    }\n",
       "\n",
       "    .dataframe thead th {\n",
       "        text-align: right;\n",
       "    }\n",
       "</style>\n",
       "<table border=\"1\" class=\"dataframe\">\n",
       "  <thead>\n",
       "    <tr style=\"text-align: right;\">\n",
       "      <th></th>\n",
       "      <th>InvoiceNo</th>\n",
       "      <th>StockCode</th>\n",
       "      <th>Description</th>\n",
       "      <th>Quantity</th>\n",
       "      <th>InvoiceDate</th>\n",
       "      <th>UnitPrice</th>\n",
       "      <th>CustomerID</th>\n",
       "      <th>Country</th>\n",
       "    </tr>\n",
       "  </thead>\n",
       "  <tbody>\n",
       "    <tr>\n",
       "      <th>type</th>\n",
       "      <td>object</td>\n",
       "      <td>object</td>\n",
       "      <td>object</td>\n",
       "      <td>int64</td>\n",
       "      <td>datetime64[ns]</td>\n",
       "      <td>float64</td>\n",
       "      <td>float64</td>\n",
       "      <td>object</td>\n",
       "    </tr>\n",
       "    <tr>\n",
       "      <th>number of unique values</th>\n",
       "      <td>25900</td>\n",
       "      <td>4070</td>\n",
       "      <td>4223</td>\n",
       "      <td>722</td>\n",
       "      <td>23260</td>\n",
       "      <td>1630</td>\n",
       "      <td>4372</td>\n",
       "      <td>38</td>\n",
       "    </tr>\n",
       "    <tr>\n",
       "      <th>number of missing values</th>\n",
       "      <td>0</td>\n",
       "      <td>0</td>\n",
       "      <td>1454</td>\n",
       "      <td>0</td>\n",
       "      <td>0</td>\n",
       "      <td>0</td>\n",
       "      <td>135080</td>\n",
       "      <td>0</td>\n",
       "    </tr>\n",
       "    <tr>\n",
       "      <th>% of missing values</th>\n",
       "      <td>0</td>\n",
       "      <td>0</td>\n",
       "      <td>0.268311</td>\n",
       "      <td>0</td>\n",
       "      <td>0</td>\n",
       "      <td>0</td>\n",
       "      <td>24.9267</td>\n",
       "      <td>0</td>\n",
       "    </tr>\n",
       "  </tbody>\n",
       "</table>\n",
       "</div>"
      ],
      "text/plain": [
       "                         InvoiceNo StockCode Description Quantity  \\\n",
       "type                        object    object      object    int64   \n",
       "number of unique values      25900      4070        4223      722   \n",
       "number of missing values         0         0        1454        0   \n",
       "% of missing values              0         0    0.268311        0   \n",
       "\n",
       "                             InvoiceDate UnitPrice CustomerID Country  \n",
       "type                      datetime64[ns]   float64    float64  object  \n",
       "number of unique values            23260      1630       4372      38  \n",
       "number of missing values               0         0     135080       0  \n",
       "% of missing values                    0         0    24.9267       0  "
      ]
     },
     "execution_count": 4,
     "metadata": {},
     "output_type": "execute_result"
    }
   ],
   "source": [
    "# Display a column summary\n",
    "stats = utils.display_dataframe_stats(df_retail)\n",
    "stats"
   ]
  },
  {
   "cell_type": "markdown",
   "metadata": {},
   "source": [
    "Let's remove missing value for **CustomerID**"
   ]
  },
  {
   "cell_type": "code",
   "execution_count": 5,
   "metadata": {},
   "outputs": [],
   "source": [
    "df_retail.dropna(subset=['CustomerID'], how='all', inplace=True)"
   ]
  },
  {
   "cell_type": "markdown",
   "metadata": {},
   "source": [
    "Let's remove all duplicates values"
   ]
  },
  {
   "cell_type": "code",
   "execution_count": 6,
   "metadata": {},
   "outputs": [],
   "source": [
    "df_retail.drop_duplicates(inplace=True)"
   ]
  },
  {
   "cell_type": "markdown",
   "metadata": {},
   "source": [
    "The dataset is composed as below:"
   ]
  },
  {
   "cell_type": "code",
   "execution_count": 7,
   "metadata": {
    "scrolled": true
   },
   "outputs": [
    {
     "data": {
      "text/plain": [
       "(401604, 8)"
      ]
     },
     "execution_count": 7,
     "metadata": {},
     "output_type": "execute_result"
    }
   ],
   "source": [
    "df_retail.shape"
   ]
  },
  {
   "cell_type": "markdown",
   "metadata": {},
   "source": [
    "## 1.1 StockCode vs Description"
   ]
  },
  {
   "cell_type": "markdown",
   "metadata": {},
   "source": [
    "Let's check the difference between **StockCode** and **Description** variables"
   ]
  },
  {
   "cell_type": "code",
   "execution_count": 8,
   "metadata": {
    "scrolled": true
   },
   "outputs": [
    {
     "data": {
      "text/html": [
       "<div>\n",
       "<style scoped>\n",
       "    .dataframe tbody tr th:only-of-type {\n",
       "        vertical-align: middle;\n",
       "    }\n",
       "\n",
       "    .dataframe tbody tr th {\n",
       "        vertical-align: top;\n",
       "    }\n",
       "\n",
       "    .dataframe thead th {\n",
       "        text-align: right;\n",
       "    }\n",
       "</style>\n",
       "<table border=\"1\" class=\"dataframe\">\n",
       "  <thead>\n",
       "    <tr style=\"text-align: right;\">\n",
       "      <th></th>\n",
       "      <th>StockCode</th>\n",
       "      <th>Description</th>\n",
       "    </tr>\n",
       "  </thead>\n",
       "  <tbody>\n",
       "    <tr>\n",
       "      <th>2000</th>\n",
       "      <td>23236</td>\n",
       "      <td>4</td>\n",
       "    </tr>\n",
       "    <tr>\n",
       "      <th>1960</th>\n",
       "      <td>23196</td>\n",
       "      <td>4</td>\n",
       "    </tr>\n",
       "    <tr>\n",
       "      <th>2114</th>\n",
       "      <td>23366</td>\n",
       "      <td>3</td>\n",
       "    </tr>\n",
       "    <tr>\n",
       "      <th>1967</th>\n",
       "      <td>23203</td>\n",
       "      <td>3</td>\n",
       "    </tr>\n",
       "    <tr>\n",
       "      <th>1713</th>\n",
       "      <td>22937</td>\n",
       "      <td>3</td>\n",
       "    </tr>\n",
       "  </tbody>\n",
       "</table>\n",
       "</div>"
      ],
      "text/plain": [
       "     StockCode  Description\n",
       "2000     23236            4\n",
       "1960     23196            4\n",
       "2114     23366            3\n",
       "1967     23203            3\n",
       "1713     22937            3"
      ]
     },
     "execution_count": 8,
     "metadata": {},
     "output_type": "execute_result"
    }
   ],
   "source": [
    "# Collect only single tuple StockCode/Description\n",
    "temp=df_retail[['StockCode','Description']].drop_duplicates()\n",
    "temp=temp.groupby(['StockCode'])['Description'].count().reset_index().sort_values('Description', ascending=False)\n",
    "temp[:5]"
   ]
  },
  {
   "cell_type": "markdown",
   "metadata": {},
   "source": [
    "If we observe the different description of a specific **StockCode**, we can see the changes are only related to different formulation of the same product."
   ]
  },
  {
   "cell_type": "code",
   "execution_count": 9,
   "metadata": {
    "scrolled": false
   },
   "outputs": [
    {
     "data": {
      "text/plain": [
       "array(['DOILEY STORAGE TIN', 'DOILEY BISCUIT TIN',\n",
       "       'STORAGE TIN VINTAGE DOILY ', 'STORAGE TIN VINTAGE DOILEY '],\n",
       "      dtype=object)"
      ]
     },
     "execution_count": 9,
     "metadata": {},
     "output_type": "execute_result"
    }
   ],
   "source": [
    "df_retail[df_retail.StockCode == 23236]['Description'].unique()"
   ]
  },
  {
   "cell_type": "markdown",
   "metadata": {},
   "source": [
    "As it does not give a real useful information, let's drop this feature."
   ]
  },
  {
   "cell_type": "code",
   "execution_count": 10,
   "metadata": {},
   "outputs": [],
   "source": [
    "del df_retail['Description']"
   ]
  },
  {
   "cell_type": "markdown",
   "metadata": {},
   "source": [
    "## 1.2 Number of customer per Country"
   ]
  },
  {
   "cell_type": "markdown",
   "metadata": {},
   "source": [
    "Let's observe now, the variation of country, as the number of customers per country."
   ]
  },
  {
   "cell_type": "code",
   "execution_count": 11,
   "metadata": {
    "scrolled": true
   },
   "outputs": [
    {
     "data": {
      "text/plain": [
       "37"
      ]
     },
     "execution_count": 11,
     "metadata": {},
     "output_type": "execute_result"
    }
   ],
   "source": [
    "df_retail.Country.nunique()"
   ]
  },
  {
   "cell_type": "markdown",
   "metadata": {},
   "source": [
    "We can see that most of customers are from:\n",
    "- United Kingdom\n",
    "- Germany\n",
    "- France\n",
    "The other country are sparsely represented."
   ]
  },
  {
   "cell_type": "code",
   "execution_count": 12,
   "metadata": {},
   "outputs": [
    {
     "data": {
      "text/html": [
       "<div>\n",
       "<style scoped>\n",
       "    .dataframe tbody tr th:only-of-type {\n",
       "        vertical-align: middle;\n",
       "    }\n",
       "\n",
       "    .dataframe tbody tr th {\n",
       "        vertical-align: top;\n",
       "    }\n",
       "\n",
       "    .dataframe thead th {\n",
       "        text-align: right;\n",
       "    }\n",
       "</style>\n",
       "<table border=\"1\" class=\"dataframe\">\n",
       "  <thead>\n",
       "    <tr style=\"text-align: right;\">\n",
       "      <th></th>\n",
       "      <th>Country</th>\n",
       "      <th>CustomerID</th>\n",
       "    </tr>\n",
       "  </thead>\n",
       "  <tbody>\n",
       "    <tr>\n",
       "      <th>35</th>\n",
       "      <td>United Kingdom</td>\n",
       "      <td>3950</td>\n",
       "    </tr>\n",
       "    <tr>\n",
       "      <th>14</th>\n",
       "      <td>Germany</td>\n",
       "      <td>95</td>\n",
       "    </tr>\n",
       "    <tr>\n",
       "      <th>13</th>\n",
       "      <td>France</td>\n",
       "      <td>87</td>\n",
       "    </tr>\n",
       "    <tr>\n",
       "      <th>30</th>\n",
       "      <td>Spain</td>\n",
       "      <td>31</td>\n",
       "    </tr>\n",
       "    <tr>\n",
       "      <th>3</th>\n",
       "      <td>Belgium</td>\n",
       "      <td>25</td>\n",
       "    </tr>\n",
       "    <tr>\n",
       "      <th>32</th>\n",
       "      <td>Switzerland</td>\n",
       "      <td>21</td>\n",
       "    </tr>\n",
       "    <tr>\n",
       "      <th>26</th>\n",
       "      <td>Portugal</td>\n",
       "      <td>19</td>\n",
       "    </tr>\n",
       "    <tr>\n",
       "      <th>18</th>\n",
       "      <td>Italy</td>\n",
       "      <td>15</td>\n",
       "    </tr>\n",
       "    <tr>\n",
       "      <th>12</th>\n",
       "      <td>Finland</td>\n",
       "      <td>12</td>\n",
       "    </tr>\n",
       "    <tr>\n",
       "      <th>1</th>\n",
       "      <td>Austria</td>\n",
       "      <td>11</td>\n",
       "    </tr>\n",
       "  </tbody>\n",
       "</table>\n",
       "</div>"
      ],
      "text/plain": [
       "           Country  CustomerID\n",
       "35  United Kingdom        3950\n",
       "14         Germany          95\n",
       "13          France          87\n",
       "30           Spain          31\n",
       "3          Belgium          25\n",
       "32     Switzerland          21\n",
       "26        Portugal          19\n",
       "18           Italy          15\n",
       "12         Finland          12\n",
       "1          Austria          11"
      ]
     },
     "execution_count": 12,
     "metadata": {},
     "output_type": "execute_result"
    }
   ],
   "source": [
    "customer_by_country = df_retail[['Country','CustomerID']].drop_duplicates()\n",
    "customer_by_country.groupby(['Country'])['CustomerID'].count().reset_index().sort_values('CustomerID', ascending=False)[:10]"
   ]
  },
  {
   "cell_type": "markdown",
   "metadata": {},
   "source": [
    "## 1.3 Date"
   ]
  },
  {
   "cell_type": "markdown",
   "metadata": {},
   "source": [
    "The transaction variation date is between 1st of Decembre 2010 and the 9th of December 2011."
   ]
  },
  {
   "cell_type": "code",
   "execution_count": 13,
   "metadata": {},
   "outputs": [
    {
     "data": {
      "text/plain": [
       "count                  401604\n",
       "unique                  20460\n",
       "top       2011-11-14 15:27:00\n",
       "freq                      543\n",
       "first     2010-12-01 08:26:00\n",
       "last      2011-12-09 12:50:00\n",
       "Name: InvoiceDate, dtype: object"
      ]
     },
     "execution_count": 13,
     "metadata": {},
     "output_type": "execute_result"
    }
   ],
   "source": [
    "df_retail.InvoiceDate.describe()"
   ]
  },
  {
   "cell_type": "markdown",
   "metadata": {},
   "source": [
    "## 1.4 Customer by order (InvoiceNo)"
   ]
  },
  {
   "cell_type": "markdown",
   "metadata": {},
   "source": [
    "Let's observe the different transactions, now:"
   ]
  },
  {
   "cell_type": "code",
   "execution_count": 14,
   "metadata": {},
   "outputs": [
    {
     "data": {
      "text/html": [
       "<div>\n",
       "<style scoped>\n",
       "    .dataframe tbody tr th:only-of-type {\n",
       "        vertical-align: middle;\n",
       "    }\n",
       "\n",
       "    .dataframe tbody tr th {\n",
       "        vertical-align: top;\n",
       "    }\n",
       "\n",
       "    .dataframe thead th {\n",
       "        text-align: right;\n",
       "    }\n",
       "</style>\n",
       "<table border=\"1\" class=\"dataframe\">\n",
       "  <thead>\n",
       "    <tr style=\"text-align: right;\">\n",
       "      <th></th>\n",
       "      <th>CustomerID</th>\n",
       "      <th>InvoiceNo</th>\n",
       "      <th>TransactionsNo</th>\n",
       "    </tr>\n",
       "  </thead>\n",
       "  <tbody>\n",
       "    <tr>\n",
       "      <th>0</th>\n",
       "      <td>12346.0</td>\n",
       "      <td>541431</td>\n",
       "      <td>1</td>\n",
       "    </tr>\n",
       "    <tr>\n",
       "      <th>1</th>\n",
       "      <td>12346.0</td>\n",
       "      <td>C541433</td>\n",
       "      <td>1</td>\n",
       "    </tr>\n",
       "    <tr>\n",
       "      <th>8</th>\n",
       "      <td>12347.0</td>\n",
       "      <td>581180</td>\n",
       "      <td>11</td>\n",
       "    </tr>\n",
       "    <tr>\n",
       "      <th>9</th>\n",
       "      <td>12348.0</td>\n",
       "      <td>539318</td>\n",
       "      <td>17</td>\n",
       "    </tr>\n",
       "    <tr>\n",
       "      <th>5</th>\n",
       "      <td>12347.0</td>\n",
       "      <td>556201</td>\n",
       "      <td>18</td>\n",
       "    </tr>\n",
       "    <tr>\n",
       "      <th>6</th>\n",
       "      <td>12347.0</td>\n",
       "      <td>562032</td>\n",
       "      <td>22</td>\n",
       "    </tr>\n",
       "    <tr>\n",
       "      <th>4</th>\n",
       "      <td>12347.0</td>\n",
       "      <td>549222</td>\n",
       "      <td>24</td>\n",
       "    </tr>\n",
       "    <tr>\n",
       "      <th>3</th>\n",
       "      <td>12347.0</td>\n",
       "      <td>542237</td>\n",
       "      <td>29</td>\n",
       "    </tr>\n",
       "    <tr>\n",
       "      <th>2</th>\n",
       "      <td>12347.0</td>\n",
       "      <td>537626</td>\n",
       "      <td>31</td>\n",
       "    </tr>\n",
       "    <tr>\n",
       "      <th>7</th>\n",
       "      <td>12347.0</td>\n",
       "      <td>573511</td>\n",
       "      <td>47</td>\n",
       "    </tr>\n",
       "  </tbody>\n",
       "</table>\n",
       "</div>"
      ],
      "text/plain": [
       "   CustomerID InvoiceNo  TransactionsNo\n",
       "0     12346.0    541431               1\n",
       "1     12346.0   C541433               1\n",
       "8     12347.0    581180              11\n",
       "9     12348.0    539318              17\n",
       "5     12347.0    556201              18\n",
       "6     12347.0    562032              22\n",
       "4     12347.0    549222              24\n",
       "3     12347.0    542237              29\n",
       "2     12347.0    537626              31\n",
       "7     12347.0    573511              47"
      ]
     },
     "execution_count": 14,
     "metadata": {},
     "output_type": "execute_result"
    }
   ],
   "source": [
    "stats = df_retail.groupby(by=['CustomerID', 'InvoiceNo'], as_index=False)['Quantity'].count()\n",
    "products = stats.rename(columns = {'Quantity':'TransactionsNo'})\n",
    "products[:10].sort_values('TransactionsNo')"
   ]
  },
  {
   "cell_type": "markdown",
   "metadata": {},
   "source": [
    "We can see that for customer **12346**, we can observe two transaction: transaction **514131** and **C51433**.\n",
    "From the description of the dataset we know that **C** letter concerns canceled transaction.\n",
    "Let's create a specific feature for canceled transaction."
   ]
  },
  {
   "cell_type": "code",
   "execution_count": 15,
   "metadata": {},
   "outputs": [
    {
     "data": {
      "text/html": [
       "<div>\n",
       "<style scoped>\n",
       "    .dataframe tbody tr th:only-of-type {\n",
       "        vertical-align: middle;\n",
       "    }\n",
       "\n",
       "    .dataframe tbody tr th {\n",
       "        vertical-align: top;\n",
       "    }\n",
       "\n",
       "    .dataframe thead th {\n",
       "        text-align: right;\n",
       "    }\n",
       "</style>\n",
       "<table border=\"1\" class=\"dataframe\">\n",
       "  <thead>\n",
       "    <tr style=\"text-align: right;\">\n",
       "      <th></th>\n",
       "      <th>CustomerID</th>\n",
       "      <th>InvoiceNo</th>\n",
       "      <th>TransactionsNo</th>\n",
       "      <th>CanceledNo</th>\n",
       "    </tr>\n",
       "  </thead>\n",
       "  <tbody>\n",
       "    <tr>\n",
       "      <th>0</th>\n",
       "      <td>12346.0</td>\n",
       "      <td>541431</td>\n",
       "      <td>1</td>\n",
       "      <td>0</td>\n",
       "    </tr>\n",
       "    <tr>\n",
       "      <th>1</th>\n",
       "      <td>12346.0</td>\n",
       "      <td>C541433</td>\n",
       "      <td>1</td>\n",
       "      <td>1</td>\n",
       "    </tr>\n",
       "    <tr>\n",
       "      <th>2</th>\n",
       "      <td>12347.0</td>\n",
       "      <td>537626</td>\n",
       "      <td>31</td>\n",
       "      <td>0</td>\n",
       "    </tr>\n",
       "    <tr>\n",
       "      <th>3</th>\n",
       "      <td>12347.0</td>\n",
       "      <td>542237</td>\n",
       "      <td>29</td>\n",
       "      <td>0</td>\n",
       "    </tr>\n",
       "    <tr>\n",
       "      <th>4</th>\n",
       "      <td>12347.0</td>\n",
       "      <td>549222</td>\n",
       "      <td>24</td>\n",
       "      <td>0</td>\n",
       "    </tr>\n",
       "  </tbody>\n",
       "</table>\n",
       "</div>"
      ],
      "text/plain": [
       "   CustomerID InvoiceNo  TransactionsNo  CanceledNo\n",
       "0     12346.0    541431               1           0\n",
       "1     12346.0   C541433               1           1\n",
       "2     12347.0    537626              31           0\n",
       "3     12347.0    542237              29           0\n",
       "4     12347.0    549222              24           0"
      ]
     },
     "execution_count": 15,
     "metadata": {},
     "output_type": "execute_result"
    }
   ],
   "source": [
    "products['CanceledNo'] = products['InvoiceNo'].apply(lambda x:int('C' in str(x)))\n",
    "products[:5]"
   ]
  },
  {
   "cell_type": "markdown",
   "metadata": {},
   "source": [
    "If we also observe the number of canceled transaction, we can see that around **16%** of transactions are canceled."
   ]
  },
  {
   "cell_type": "code",
   "execution_count": 16,
   "metadata": {},
   "outputs": [
    {
     "name": "stdout",
     "output_type": "stream",
     "text": [
      "Number of orders canceled: 3654/22190 (16.47%) \n"
     ]
    }
   ],
   "source": [
    "n1 = products['CanceledNo'].sum()\n",
    "n2 = products.shape[0]\n",
    "print('Number of orders canceled: {}/{} ({:.2f}%) '.format(n1, n2, n1/n2*100))"
   ]
  },
  {
   "cell_type": "markdown",
   "metadata": {},
   "source": [
    "Let's try to see if there is any specific for canceled transaction:"
   ]
  },
  {
   "cell_type": "code",
   "execution_count": 17,
   "metadata": {
    "scrolled": false
   },
   "outputs": [
    {
     "data": {
      "text/html": [
       "<div>\n",
       "<style scoped>\n",
       "    .dataframe tbody tr th:only-of-type {\n",
       "        vertical-align: middle;\n",
       "    }\n",
       "\n",
       "    .dataframe tbody tr th {\n",
       "        vertical-align: top;\n",
       "    }\n",
       "\n",
       "    .dataframe thead th {\n",
       "        text-align: right;\n",
       "    }\n",
       "</style>\n",
       "<table border=\"1\" class=\"dataframe\">\n",
       "  <thead>\n",
       "    <tr style=\"text-align: right;\">\n",
       "      <th></th>\n",
       "      <th>InvoiceNo</th>\n",
       "      <th>StockCode</th>\n",
       "      <th>Quantity</th>\n",
       "      <th>InvoiceDate</th>\n",
       "      <th>UnitPrice</th>\n",
       "      <th>CustomerID</th>\n",
       "      <th>Country</th>\n",
       "    </tr>\n",
       "  </thead>\n",
       "  <tbody>\n",
       "    <tr>\n",
       "      <th>61619</th>\n",
       "      <td>541431</td>\n",
       "      <td>23166</td>\n",
       "      <td>74215</td>\n",
       "      <td>2011-01-18 10:01:00</td>\n",
       "      <td>1.04</td>\n",
       "      <td>12346.0</td>\n",
       "      <td>United Kingdom</td>\n",
       "    </tr>\n",
       "    <tr>\n",
       "      <th>61624</th>\n",
       "      <td>C541433</td>\n",
       "      <td>23166</td>\n",
       "      <td>-74215</td>\n",
       "      <td>2011-01-18 10:17:00</td>\n",
       "      <td>1.04</td>\n",
       "      <td>12346.0</td>\n",
       "      <td>United Kingdom</td>\n",
       "    </tr>\n",
       "  </tbody>\n",
       "</table>\n",
       "</div>"
      ],
      "text/plain": [
       "      InvoiceNo StockCode  Quantity         InvoiceDate  UnitPrice  \\\n",
       "61619    541431     23166     74215 2011-01-18 10:01:00       1.04   \n",
       "61624   C541433     23166    -74215 2011-01-18 10:17:00       1.04   \n",
       "\n",
       "       CustomerID         Country  \n",
       "61619     12346.0  United Kingdom  \n",
       "61624     12346.0  United Kingdom  "
      ]
     },
     "execution_count": 17,
     "metadata": {},
     "output_type": "execute_result"
    }
   ],
   "source": [
    "df_retail[df_retail['CustomerID'] == 12346]"
   ]
  },
  {
   "cell_type": "markdown",
   "metadata": {},
   "source": [
    "What we see, that when a canceled transaction is detected, if comes with a previous order. Let's check if this hypotesis\n",
    "is always true."
   ]
  },
  {
   "cell_type": "code",
   "execution_count": 19,
   "metadata": {
    "scrolled": true
   },
   "outputs": [
    {
     "name": "stdout",
     "output_type": "stream",
     "text": [
      "CustomerID                   14527\n",
      "StockCode                        D\n",
      "Quantity                        -1\n",
      "InvoiceDate    2010-12-01 09:41:00\n",
      "UnitPrice                     27.5\n",
      "Name: 141, dtype: object\n"
     ]
    }
   ],
   "source": [
    "df_check = df_retail[df_retail.Quantity < 0][['CustomerID','StockCode','Quantity','InvoiceDate','UnitPrice']]\n",
    "for index,col in df_check.iterrows():\n",
    "    if df_retail[(df_retail.CustomerID == col[0]) & (df_retail.StockCode==col[1])\n",
    "             & (df_retail.Quantity == -col[2])\n",
    "             & (df_retail.InvoiceDate > col[3])].shape[0]==0:\n",
    "        print(df_check.loc[index])\n",
    "        break"
   ]
  },
  {
   "cell_type": "markdown",
   "metadata": {},
   "source": [
    "This hypotesis is not checked, we can see below, that cancelation order can happen without previous order."
   ]
  },
  {
   "cell_type": "code",
   "execution_count": 20,
   "metadata": {
    "scrolled": true
   },
   "outputs": [
    {
     "data": {
      "text/html": [
       "<div>\n",
       "<style scoped>\n",
       "    .dataframe tbody tr th:only-of-type {\n",
       "        vertical-align: middle;\n",
       "    }\n",
       "\n",
       "    .dataframe tbody tr th {\n",
       "        vertical-align: top;\n",
       "    }\n",
       "\n",
       "    .dataframe thead th {\n",
       "        text-align: right;\n",
       "    }\n",
       "</style>\n",
       "<table border=\"1\" class=\"dataframe\">\n",
       "  <thead>\n",
       "    <tr style=\"text-align: right;\">\n",
       "      <th></th>\n",
       "      <th>InvoiceNo</th>\n",
       "      <th>StockCode</th>\n",
       "      <th>Quantity</th>\n",
       "      <th>InvoiceDate</th>\n",
       "      <th>UnitPrice</th>\n",
       "      <th>CustomerID</th>\n",
       "      <th>Country</th>\n",
       "    </tr>\n",
       "  </thead>\n",
       "  <tbody>\n",
       "    <tr>\n",
       "      <th>141</th>\n",
       "      <td>C536379</td>\n",
       "      <td>D</td>\n",
       "      <td>-1</td>\n",
       "      <td>2010-12-01 09:41:00</td>\n",
       "      <td>27.50</td>\n",
       "      <td>14527.0</td>\n",
       "      <td>United Kingdom</td>\n",
       "    </tr>\n",
       "    <tr>\n",
       "      <th>8963</th>\n",
       "      <td>537159</td>\n",
       "      <td>22112</td>\n",
       "      <td>6</td>\n",
       "      <td>2010-12-05 13:17:00</td>\n",
       "      <td>4.95</td>\n",
       "      <td>14527.0</td>\n",
       "      <td>United Kingdom</td>\n",
       "    </tr>\n",
       "    <tr>\n",
       "      <th>8964</th>\n",
       "      <td>537159</td>\n",
       "      <td>22111</td>\n",
       "      <td>1</td>\n",
       "      <td>2010-12-05 13:17:00</td>\n",
       "      <td>4.95</td>\n",
       "      <td>14527.0</td>\n",
       "      <td>United Kingdom</td>\n",
       "    </tr>\n",
       "    <tr>\n",
       "      <th>8965</th>\n",
       "      <td>537159</td>\n",
       "      <td>21479</td>\n",
       "      <td>1</td>\n",
       "      <td>2010-12-05 13:17:00</td>\n",
       "      <td>3.75</td>\n",
       "      <td>14527.0</td>\n",
       "      <td>United Kingdom</td>\n",
       "    </tr>\n",
       "    <tr>\n",
       "      <th>8966</th>\n",
       "      <td>537159</td>\n",
       "      <td>22114</td>\n",
       "      <td>6</td>\n",
       "      <td>2010-12-05 13:17:00</td>\n",
       "      <td>3.95</td>\n",
       "      <td>14527.0</td>\n",
       "      <td>United Kingdom</td>\n",
       "    </tr>\n",
       "  </tbody>\n",
       "</table>\n",
       "</div>"
      ],
      "text/plain": [
       "     InvoiceNo StockCode  Quantity         InvoiceDate  UnitPrice  CustomerID  \\\n",
       "141    C536379         D        -1 2010-12-01 09:41:00      27.50     14527.0   \n",
       "8963    537159     22112         6 2010-12-05 13:17:00       4.95     14527.0   \n",
       "8964    537159     22111         1 2010-12-05 13:17:00       4.95     14527.0   \n",
       "8965    537159     21479         1 2010-12-05 13:17:00       3.75     14527.0   \n",
       "8966    537159     22114         6 2010-12-05 13:17:00       3.95     14527.0   \n",
       "\n",
       "             Country  \n",
       "141   United Kingdom  \n",
       "8963  United Kingdom  \n",
       "8964  United Kingdom  \n",
       "8965  United Kingdom  \n",
       "8966  United Kingdom  "
      ]
     },
     "execution_count": 20,
     "metadata": {},
     "output_type": "execute_result"
    }
   ],
   "source": [
    "df_retail[df_retail.CustomerID == 14527][:5]"
   ]
  },
  {
   "cell_type": "markdown",
   "metadata": {},
   "source": [
    "There is no previous order (before the first date available in the dataset 1/12/2010).\n",
    "Let's remove the following entries:\n",
    "- The ones coming from a previous order (**entry_with_cancelation**)\n",
    "- The ones without a previous order (**entry_without_cancelation**)"
   ]
  },
  {
   "cell_type": "code",
   "execution_count": 22,
   "metadata": {
    "scrolled": true
   },
   "outputs": [],
   "source": [
    "df = df_retail.copy(deep=True)\n",
    "df['QuantityCanceled'] = 0\n",
    "entry_with_cancelation = []\n",
    "entry_without_cancelation = []\n",
    "\n",
    "for index, col in  df_retail.iterrows():\n",
    "    # Filter negative quantity\n",
    "    if (col['Quantity'] > 0): continue        \n",
    "    # Look for entries from the same customer ordering the same product in the past\n",
    "    # - same customer ID, same StockCode\n",
    "    # - previous InvoiceDate\n",
    "    # - order with posive quantity\n",
    "    df_test = df_retail[(df_retail['CustomerID'] == col['CustomerID']) &\n",
    "                         (df_retail['StockCode']  == col['StockCode']) & \n",
    "                         (df_retail['InvoiceDate'] < col['InvoiceDate']) & \n",
    "                         (df_retail['Quantity']   > 0)].copy()\n",
    "    if (df_test.shape[0] == 0):\n",
    "        # This customer has not ordered this product in the past\n",
    "        # This is a refund from a non previous order => remove it!\n",
    "        entry_without_cancelation.append(index)\n",
    "    elif (df_test.shape[0] == 1):\n",
    "        # This customer has made one order of this product in the past => remove it\n",
    "        entry_with_cancelation.append(index)        \n",
    "        # Compute quantity canceled based on quantity 'refunded'\n",
    "        df.QuantityCanceled.loc[df_test.index[0]] = -col['Quantity']\n",
    "    else:\n",
    "        # This customer has made multiple orders of this product in the past\n",
    "        df_test = df_test.sort_values('InvoiceDate')\n",
    "        for ind, val in df_test.iterrows():\n",
    "            # Look for the first quantity entries with a value above quantity 'refunded' and break\n",
    "            if val['Quantity'] < -col['Quantity']: continue\n",
    "            df.QuantityCanceled.loc[ind] = -col['Quantity']\n",
    "            entry_with_cancelation.append(index) \n",
    "            break"
   ]
  },
  {
   "cell_type": "markdown",
   "metadata": {},
   "source": [
    "We know have a list of the entries that we need to remove."
   ]
  },
  {
   "cell_type": "code",
   "execution_count": 23,
   "metadata": {},
   "outputs": [
    {
     "name": "stdout",
     "output_type": "stream",
     "text": [
      "entry_with_cancelation: 7521\n",
      "entry_without_cancelation: 1303\n"
     ]
    }
   ],
   "source": [
    "print(\"entry_with_cancelation: {}\".format(len(entry_with_cancelation)))\n",
    "print(\"entry_without_cancelation: {}\".format(len(entry_without_cancelation)))"
   ]
  },
  {
   "cell_type": "code",
   "execution_count": 24,
   "metadata": {},
   "outputs": [],
   "source": [
    "df.drop(entry_with_cancelation, axis=0, inplace=True)\n",
    "df.drop(entry_without_cancelation, axis=0, inplace=True)"
   ]
  },
  {
   "cell_type": "markdown",
   "metadata": {},
   "source": [
    "Let's compute the **TotalPrice** feature for each order based on **Quantity** ordered and **QuantityCanceled** per each order."
   ]
  },
  {
   "cell_type": "code",
   "execution_count": 25,
   "metadata": {
    "scrolled": true
   },
   "outputs": [
    {
     "data": {
      "text/html": [
       "<div>\n",
       "<style scoped>\n",
       "    .dataframe tbody tr th:only-of-type {\n",
       "        vertical-align: middle;\n",
       "    }\n",
       "\n",
       "    .dataframe tbody tr th {\n",
       "        vertical-align: top;\n",
       "    }\n",
       "\n",
       "    .dataframe thead th {\n",
       "        text-align: right;\n",
       "    }\n",
       "</style>\n",
       "<table border=\"1\" class=\"dataframe\">\n",
       "  <thead>\n",
       "    <tr style=\"text-align: right;\">\n",
       "      <th></th>\n",
       "      <th>InvoiceNo</th>\n",
       "      <th>StockCode</th>\n",
       "      <th>Quantity</th>\n",
       "      <th>InvoiceDate</th>\n",
       "      <th>UnitPrice</th>\n",
       "      <th>CustomerID</th>\n",
       "      <th>Country</th>\n",
       "      <th>QuantityCanceled</th>\n",
       "      <th>TotalPrice</th>\n",
       "    </tr>\n",
       "  </thead>\n",
       "  <tbody>\n",
       "    <tr>\n",
       "      <th>61619</th>\n",
       "      <td>541431</td>\n",
       "      <td>23166</td>\n",
       "      <td>74215</td>\n",
       "      <td>2011-01-18 10:01:00</td>\n",
       "      <td>1.04</td>\n",
       "      <td>12346.0</td>\n",
       "      <td>United Kingdom</td>\n",
       "      <td>74215</td>\n",
       "      <td>0.0</td>\n",
       "    </tr>\n",
       "    <tr>\n",
       "      <th>148288</th>\n",
       "      <td>549222</td>\n",
       "      <td>22375</td>\n",
       "      <td>4</td>\n",
       "      <td>2011-04-07 10:43:00</td>\n",
       "      <td>4.25</td>\n",
       "      <td>12347.0</td>\n",
       "      <td>Iceland</td>\n",
       "      <td>0</td>\n",
       "      <td>17.0</td>\n",
       "    </tr>\n",
       "    <tr>\n",
       "      <th>428969</th>\n",
       "      <td>573511</td>\n",
       "      <td>47567B</td>\n",
       "      <td>6</td>\n",
       "      <td>2011-10-31 12:25:00</td>\n",
       "      <td>5.95</td>\n",
       "      <td>12347.0</td>\n",
       "      <td>Iceland</td>\n",
       "      <td>0</td>\n",
       "      <td>35.7</td>\n",
       "    </tr>\n",
       "    <tr>\n",
       "      <th>428968</th>\n",
       "      <td>573511</td>\n",
       "      <td>47580</td>\n",
       "      <td>6</td>\n",
       "      <td>2011-10-31 12:25:00</td>\n",
       "      <td>2.55</td>\n",
       "      <td>12347.0</td>\n",
       "      <td>Iceland</td>\n",
       "      <td>0</td>\n",
       "      <td>15.3</td>\n",
       "    </tr>\n",
       "    <tr>\n",
       "      <th>428967</th>\n",
       "      <td>573511</td>\n",
       "      <td>23173</td>\n",
       "      <td>2</td>\n",
       "      <td>2011-10-31 12:25:00</td>\n",
       "      <td>9.95</td>\n",
       "      <td>12347.0</td>\n",
       "      <td>Iceland</td>\n",
       "      <td>0</td>\n",
       "      <td>19.9</td>\n",
       "    </tr>\n",
       "  </tbody>\n",
       "</table>\n",
       "</div>"
      ],
      "text/plain": [
       "       InvoiceNo StockCode  Quantity         InvoiceDate  UnitPrice  \\\n",
       "61619     541431     23166     74215 2011-01-18 10:01:00       1.04   \n",
       "148288    549222     22375         4 2011-04-07 10:43:00       4.25   \n",
       "428969    573511    47567B         6 2011-10-31 12:25:00       5.95   \n",
       "428968    573511     47580         6 2011-10-31 12:25:00       2.55   \n",
       "428967    573511     23173         2 2011-10-31 12:25:00       9.95   \n",
       "\n",
       "        CustomerID         Country  QuantityCanceled  TotalPrice  \n",
       "61619      12346.0  United Kingdom             74215         0.0  \n",
       "148288     12347.0         Iceland                 0        17.0  \n",
       "428969     12347.0         Iceland                 0        35.7  \n",
       "428968     12347.0         Iceland                 0        15.3  \n",
       "428967     12347.0         Iceland                 0        19.9  "
      ]
     },
     "execution_count": 25,
     "metadata": {},
     "output_type": "execute_result"
    }
   ],
   "source": [
    "df['TotalPrice'] = df['UnitPrice'] * (df['Quantity'] - df['QuantityCanceled'])\n",
    "df.sort_values('CustomerID')[:5]"
   ]
  },
  {
   "cell_type": "code",
   "execution_count": 26,
   "metadata": {},
   "outputs": [
    {
     "data": {
      "text/plain": [
       "(392780, 9)"
      ]
     },
     "execution_count": 26,
     "metadata": {},
     "output_type": "execute_result"
    }
   ],
   "source": [
    "df.shape"
   ]
  },
  {
   "cell_type": "code",
   "execution_count": 27,
   "metadata": {
    "scrolled": true
   },
   "outputs": [
    {
     "data": {
      "text/html": [
       "<div>\n",
       "<style scoped>\n",
       "    .dataframe tbody tr th:only-of-type {\n",
       "        vertical-align: middle;\n",
       "    }\n",
       "\n",
       "    .dataframe tbody tr th {\n",
       "        vertical-align: top;\n",
       "    }\n",
       "\n",
       "    .dataframe thead th {\n",
       "        text-align: right;\n",
       "    }\n",
       "</style>\n",
       "<table border=\"1\" class=\"dataframe\">\n",
       "  <thead>\n",
       "    <tr style=\"text-align: right;\">\n",
       "      <th></th>\n",
       "      <th>InvoiceNo</th>\n",
       "      <th>StockCode</th>\n",
       "      <th>Quantity</th>\n",
       "      <th>InvoiceDate</th>\n",
       "      <th>UnitPrice</th>\n",
       "      <th>CustomerID</th>\n",
       "      <th>Country</th>\n",
       "      <th>QuantityCanceled</th>\n",
       "      <th>TotalPrice</th>\n",
       "    </tr>\n",
       "  </thead>\n",
       "  <tbody>\n",
       "    <tr>\n",
       "      <th>0</th>\n",
       "      <td>536365</td>\n",
       "      <td>85123A</td>\n",
       "      <td>6</td>\n",
       "      <td>2010-12-01 08:26:00</td>\n",
       "      <td>2.55</td>\n",
       "      <td>17850.0</td>\n",
       "      <td>United Kingdom</td>\n",
       "      <td>0</td>\n",
       "      <td>15.30</td>\n",
       "    </tr>\n",
       "    <tr>\n",
       "      <th>1</th>\n",
       "      <td>536365</td>\n",
       "      <td>71053</td>\n",
       "      <td>6</td>\n",
       "      <td>2010-12-01 08:26:00</td>\n",
       "      <td>3.39</td>\n",
       "      <td>17850.0</td>\n",
       "      <td>United Kingdom</td>\n",
       "      <td>0</td>\n",
       "      <td>20.34</td>\n",
       "    </tr>\n",
       "    <tr>\n",
       "      <th>2</th>\n",
       "      <td>536365</td>\n",
       "      <td>84406B</td>\n",
       "      <td>8</td>\n",
       "      <td>2010-12-01 08:26:00</td>\n",
       "      <td>2.75</td>\n",
       "      <td>17850.0</td>\n",
       "      <td>United Kingdom</td>\n",
       "      <td>0</td>\n",
       "      <td>22.00</td>\n",
       "    </tr>\n",
       "    <tr>\n",
       "      <th>3</th>\n",
       "      <td>536365</td>\n",
       "      <td>84029G</td>\n",
       "      <td>6</td>\n",
       "      <td>2010-12-01 08:26:00</td>\n",
       "      <td>3.39</td>\n",
       "      <td>17850.0</td>\n",
       "      <td>United Kingdom</td>\n",
       "      <td>0</td>\n",
       "      <td>20.34</td>\n",
       "    </tr>\n",
       "    <tr>\n",
       "      <th>4</th>\n",
       "      <td>536365</td>\n",
       "      <td>84029E</td>\n",
       "      <td>6</td>\n",
       "      <td>2010-12-01 08:26:00</td>\n",
       "      <td>3.39</td>\n",
       "      <td>17850.0</td>\n",
       "      <td>United Kingdom</td>\n",
       "      <td>0</td>\n",
       "      <td>20.34</td>\n",
       "    </tr>\n",
       "  </tbody>\n",
       "</table>\n",
       "</div>"
      ],
      "text/plain": [
       "  InvoiceNo StockCode  Quantity         InvoiceDate  UnitPrice  CustomerID  \\\n",
       "0    536365    85123A         6 2010-12-01 08:26:00       2.55     17850.0   \n",
       "1    536365     71053         6 2010-12-01 08:26:00       3.39     17850.0   \n",
       "2    536365    84406B         8 2010-12-01 08:26:00       2.75     17850.0   \n",
       "3    536365    84029G         6 2010-12-01 08:26:00       3.39     17850.0   \n",
       "4    536365    84029E         6 2010-12-01 08:26:00       3.39     17850.0   \n",
       "\n",
       "          Country  QuantityCanceled  TotalPrice  \n",
       "0  United Kingdom                 0       15.30  \n",
       "1  United Kingdom                 0       20.34  \n",
       "2  United Kingdom                 0       22.00  \n",
       "3  United Kingdom                 0       20.34  \n",
       "4  United Kingdom                 0       20.34  "
      ]
     },
     "execution_count": 27,
     "metadata": {},
     "output_type": "execute_result"
    }
   ],
   "source": [
    "df.head()"
   ]
  },
  {
   "cell_type": "markdown",
   "metadata": {},
   "source": [
    "Let's store this intermediate dataset:"
   ]
  },
  {
   "cell_type": "code",
   "execution_count": 361,
   "metadata": {
    "collapsed": true
   },
   "outputs": [],
   "source": [
    "df.to_csv('../../../../OPENCLASSROOMS/PROJET5/dataset_intermediate.csv', sep='\\t', index=False, encoding='utf-8')\n",
    "#df = pd.read_csv('../../../../OPENCLASSROOMS/PROJET5/dataset_intermediate.csv', sep='\\t')\n",
    "#df['InvoiceDate'] = pd.to_datetime(df['InvoiceDate'])"
   ]
  },
  {
   "cell_type": "markdown",
   "metadata": {},
   "source": [
    "# 2. Feature Engineering"
   ]
  },
  {
   "cell_type": "markdown",
   "metadata": {},
   "source": [
    "As we previously see, most of customers are located in **United Kingdom**, **Germany** or **France**, let's keep the customers only located in this country with **TotalPrice** positive."
   ]
  },
  {
   "cell_type": "code",
   "execution_count": 28,
   "metadata": {},
   "outputs": [],
   "source": [
    "df = df[(df.Country == 'United Kingdom') | (df.Country == 'Germany') | (df.Country == 'France')]\n",
    "df = df[df.TotalPrice > 0]"
   ]
  },
  {
   "cell_type": "markdown",
   "metadata": {},
   "source": [
    "In the next part, we will create some variables that would like to create customer segmentation."
   ]
  },
  {
   "cell_type": "markdown",
   "metadata": {},
   "source": [
    "## 2.1 RFM"
   ]
  },
  {
   "cell_type": "markdown",
   "metadata": {},
   "source": [
    "The first one is **RFM** score is computed on a **1 year period** and is based on three criteria:\n",
    "- Recency: number of days elapsed from last transaction.\n",
    "- Frequency: number of transaction from the given period.\n",
    "- Monetary Value: mean basket price."
   ]
  },
  {
   "cell_type": "code",
   "execution_count": 29,
   "metadata": {},
   "outputs": [],
   "source": [
    "import datetime as dt\n",
    "NOW = dt.datetime(2011,12,10)"
   ]
  },
  {
   "cell_type": "markdown",
   "metadata": {},
   "source": [
    "The last transaction date is **2011/12/10**, let's define **NOW** variable."
   ]
  },
  {
   "cell_type": "code",
   "execution_count": 30,
   "metadata": {
    "scrolled": false
   },
   "outputs": [
    {
     "data": {
      "text/html": [
       "<div>\n",
       "<style scoped>\n",
       "    .dataframe tbody tr th:only-of-type {\n",
       "        vertical-align: middle;\n",
       "    }\n",
       "\n",
       "    .dataframe tbody tr th {\n",
       "        vertical-align: top;\n",
       "    }\n",
       "\n",
       "    .dataframe thead th {\n",
       "        text-align: right;\n",
       "    }\n",
       "</style>\n",
       "<table border=\"1\" class=\"dataframe\">\n",
       "  <thead>\n",
       "    <tr style=\"text-align: right;\">\n",
       "      <th></th>\n",
       "      <th>recency</th>\n",
       "      <th>frequency</th>\n",
       "      <th>monetary_value</th>\n",
       "    </tr>\n",
       "    <tr>\n",
       "      <th>CustomerID</th>\n",
       "      <th></th>\n",
       "      <th></th>\n",
       "      <th></th>\n",
       "    </tr>\n",
       "  </thead>\n",
       "  <tbody>\n",
       "    <tr>\n",
       "      <th>12413.0</th>\n",
       "      <td>66</td>\n",
       "      <td>37</td>\n",
       "      <td>18.760811</td>\n",
       "    </tr>\n",
       "    <tr>\n",
       "      <th>12426.0</th>\n",
       "      <td>194</td>\n",
       "      <td>30</td>\n",
       "      <td>19.424333</td>\n",
       "    </tr>\n",
       "    <tr>\n",
       "      <th>12427.0</th>\n",
       "      <td>21</td>\n",
       "      <td>30</td>\n",
       "      <td>23.612333</td>\n",
       "    </tr>\n",
       "    <tr>\n",
       "      <th>12437.0</th>\n",
       "      <td>1</td>\n",
       "      <td>199</td>\n",
       "      <td>24.606332</td>\n",
       "    </tr>\n",
       "    <tr>\n",
       "      <th>12441.0</th>\n",
       "      <td>366</td>\n",
       "      <td>11</td>\n",
       "      <td>15.777273</td>\n",
       "    </tr>\n",
       "  </tbody>\n",
       "</table>\n",
       "</div>"
      ],
      "text/plain": [
       "            recency  frequency  monetary_value\n",
       "CustomerID                                    \n",
       "12413.0          66         37       18.760811\n",
       "12426.0         194         30       19.424333\n",
       "12427.0          21         30       23.612333\n",
       "12437.0           1        199       24.606332\n",
       "12441.0         366         11       15.777273"
      ]
     },
     "execution_count": 30,
     "metadata": {},
     "output_type": "execute_result"
    }
   ],
   "source": [
    "rfmTable = df.groupby('CustomerID').agg({'InvoiceDate': lambda x: (NOW - x.max()).days, 'InvoiceNo': lambda x: len(x), 'TotalPrice': lambda x: x.mean()})\n",
    "rfmTable['InvoiceDate'] = rfmTable['InvoiceDate'].astype(int)\n",
    "rfmTable.rename(columns={'InvoiceDate': 'recency', \n",
    "                         'InvoiceNo': 'frequency', \n",
    "                         'TotalPrice': 'monetary_value'}, inplace=True)\n",
    "rfmTable.head()"
   ]
  },
  {
   "cell_type": "markdown",
   "metadata": {},
   "source": [
    "In order to define the final **RFM** score, let's create quartile for the split of **recency**, \n",
    "**frequency** and **monetary value**."
   ]
  },
  {
   "cell_type": "code",
   "execution_count": 31,
   "metadata": {
    "scrolled": true
   },
   "outputs": [
    {
     "data": {
      "text/html": [
       "<div>\n",
       "<style scoped>\n",
       "    .dataframe tbody tr th:only-of-type {\n",
       "        vertical-align: middle;\n",
       "    }\n",
       "\n",
       "    .dataframe tbody tr th {\n",
       "        vertical-align: top;\n",
       "    }\n",
       "\n",
       "    .dataframe thead th {\n",
       "        text-align: right;\n",
       "    }\n",
       "</style>\n",
       "<table border=\"1\" class=\"dataframe\">\n",
       "  <thead>\n",
       "    <tr style=\"text-align: right;\">\n",
       "      <th></th>\n",
       "      <th>recency</th>\n",
       "      <th>frequency</th>\n",
       "      <th>monetary_value</th>\n",
       "      <th>r_quartile</th>\n",
       "      <th>f_quartile</th>\n",
       "      <th>m_quartile</th>\n",
       "    </tr>\n",
       "    <tr>\n",
       "      <th>CustomerID</th>\n",
       "      <th></th>\n",
       "      <th></th>\n",
       "      <th></th>\n",
       "      <th></th>\n",
       "      <th></th>\n",
       "      <th></th>\n",
       "    </tr>\n",
       "  </thead>\n",
       "  <tbody>\n",
       "    <tr>\n",
       "      <th>12413.0</th>\n",
       "      <td>66</td>\n",
       "      <td>37</td>\n",
       "      <td>18.760811</td>\n",
       "      <td>3</td>\n",
       "      <td>3</td>\n",
       "      <td>2</td>\n",
       "    </tr>\n",
       "    <tr>\n",
       "      <th>12426.0</th>\n",
       "      <td>194</td>\n",
       "      <td>30</td>\n",
       "      <td>19.424333</td>\n",
       "      <td>4</td>\n",
       "      <td>3</td>\n",
       "      <td>2</td>\n",
       "    </tr>\n",
       "    <tr>\n",
       "      <th>12427.0</th>\n",
       "      <td>21</td>\n",
       "      <td>30</td>\n",
       "      <td>23.612333</td>\n",
       "      <td>2</td>\n",
       "      <td>3</td>\n",
       "      <td>2</td>\n",
       "    </tr>\n",
       "    <tr>\n",
       "      <th>12437.0</th>\n",
       "      <td>1</td>\n",
       "      <td>199</td>\n",
       "      <td>24.606332</td>\n",
       "      <td>1</td>\n",
       "      <td>1</td>\n",
       "      <td>1</td>\n",
       "    </tr>\n",
       "    <tr>\n",
       "      <th>12441.0</th>\n",
       "      <td>366</td>\n",
       "      <td>11</td>\n",
       "      <td>15.777273</td>\n",
       "      <td>4</td>\n",
       "      <td>4</td>\n",
       "      <td>3</td>\n",
       "    </tr>\n",
       "  </tbody>\n",
       "</table>\n",
       "</div>"
      ],
      "text/plain": [
       "            recency  frequency  monetary_value  r_quartile  f_quartile  \\\n",
       "CustomerID                                                               \n",
       "12413.0          66         37       18.760811           3           3   \n",
       "12426.0         194         30       19.424333           4           3   \n",
       "12427.0          21         30       23.612333           2           3   \n",
       "12437.0           1        199       24.606332           1           1   \n",
       "12441.0         366         11       15.777273           4           4   \n",
       "\n",
       "            m_quartile  \n",
       "CustomerID              \n",
       "12413.0              2  \n",
       "12426.0              2  \n",
       "12427.0              2  \n",
       "12437.0              1  \n",
       "12441.0              3  "
      ]
     },
     "execution_count": 31,
     "metadata": {},
     "output_type": "execute_result"
    }
   ],
   "source": [
    "quantiles = rfmTable.quantile(q=[0.25,0.5,0.75])\n",
    "quantiles = quantiles.to_dict()\n",
    "segmented_rfm = rfmTable\n",
    "def RScore(x,p,d):\n",
    "    if x <= d[p][0.25]:\n",
    "        return 1\n",
    "    elif x <= d[p][0.50]:\n",
    "        return 2\n",
    "    elif x <= d[p][0.75]: \n",
    "        return 3\n",
    "    else:\n",
    "        return 4\n",
    "    \n",
    "def FMScore(x,p,d):\n",
    "    if x <= d[p][0.25]:\n",
    "        return 4\n",
    "    elif x <= d[p][0.50]:\n",
    "        return 3\n",
    "    elif x <= d[p][0.75]: \n",
    "        return 2\n",
    "    else:\n",
    "        return 1\n",
    "segmented_rfm['r_quartile'] = segmented_rfm['recency'].apply(RScore, args=('recency',quantiles,))\n",
    "segmented_rfm['f_quartile'] = segmented_rfm['frequency'].apply(FMScore, args=('frequency',quantiles,))\n",
    "segmented_rfm['m_quartile'] = segmented_rfm['monetary_value'].apply(FMScore, args=('monetary_value',quantiles,))\n",
    "segmented_rfm.head()"
   ]
  },
  {
   "cell_type": "markdown",
   "metadata": {},
   "source": [
    "The **RFM** score is then directly a combinaition of **r_quartile**, **f_quartile** and **m_quartile**."
   ]
  },
  {
   "cell_type": "code",
   "execution_count": 32,
   "metadata": {},
   "outputs": [
    {
     "data": {
      "text/html": [
       "<div>\n",
       "<style scoped>\n",
       "    .dataframe tbody tr th:only-of-type {\n",
       "        vertical-align: middle;\n",
       "    }\n",
       "\n",
       "    .dataframe tbody tr th {\n",
       "        vertical-align: top;\n",
       "    }\n",
       "\n",
       "    .dataframe thead th {\n",
       "        text-align: right;\n",
       "    }\n",
       "</style>\n",
       "<table border=\"1\" class=\"dataframe\">\n",
       "  <thead>\n",
       "    <tr style=\"text-align: right;\">\n",
       "      <th></th>\n",
       "      <th>recency</th>\n",
       "      <th>frequency</th>\n",
       "      <th>monetary_value</th>\n",
       "      <th>r_quartile</th>\n",
       "      <th>f_quartile</th>\n",
       "      <th>m_quartile</th>\n",
       "      <th>RFMscore</th>\n",
       "    </tr>\n",
       "    <tr>\n",
       "      <th>CustomerID</th>\n",
       "      <th></th>\n",
       "      <th></th>\n",
       "      <th></th>\n",
       "      <th></th>\n",
       "      <th></th>\n",
       "      <th></th>\n",
       "      <th></th>\n",
       "    </tr>\n",
       "  </thead>\n",
       "  <tbody>\n",
       "    <tr>\n",
       "      <th>12413.0</th>\n",
       "      <td>66</td>\n",
       "      <td>37</td>\n",
       "      <td>18.760811</td>\n",
       "      <td>3</td>\n",
       "      <td>3</td>\n",
       "      <td>2</td>\n",
       "      <td>332</td>\n",
       "    </tr>\n",
       "    <tr>\n",
       "      <th>12426.0</th>\n",
       "      <td>194</td>\n",
       "      <td>30</td>\n",
       "      <td>19.424333</td>\n",
       "      <td>4</td>\n",
       "      <td>3</td>\n",
       "      <td>2</td>\n",
       "      <td>432</td>\n",
       "    </tr>\n",
       "    <tr>\n",
       "      <th>12427.0</th>\n",
       "      <td>21</td>\n",
       "      <td>30</td>\n",
       "      <td>23.612333</td>\n",
       "      <td>2</td>\n",
       "      <td>3</td>\n",
       "      <td>2</td>\n",
       "      <td>232</td>\n",
       "    </tr>\n",
       "    <tr>\n",
       "      <th>12437.0</th>\n",
       "      <td>1</td>\n",
       "      <td>199</td>\n",
       "      <td>24.606332</td>\n",
       "      <td>1</td>\n",
       "      <td>1</td>\n",
       "      <td>1</td>\n",
       "      <td>111</td>\n",
       "    </tr>\n",
       "    <tr>\n",
       "      <th>12441.0</th>\n",
       "      <td>366</td>\n",
       "      <td>11</td>\n",
       "      <td>15.777273</td>\n",
       "      <td>4</td>\n",
       "      <td>4</td>\n",
       "      <td>3</td>\n",
       "      <td>443</td>\n",
       "    </tr>\n",
       "  </tbody>\n",
       "</table>\n",
       "</div>"
      ],
      "text/plain": [
       "            recency  frequency  monetary_value  r_quartile  f_quartile  \\\n",
       "CustomerID                                                               \n",
       "12413.0          66         37       18.760811           3           3   \n",
       "12426.0         194         30       19.424333           4           3   \n",
       "12427.0          21         30       23.612333           2           3   \n",
       "12437.0           1        199       24.606332           1           1   \n",
       "12441.0         366         11       15.777273           4           4   \n",
       "\n",
       "            m_quartile RFMscore  \n",
       "CustomerID                       \n",
       "12413.0              2      332  \n",
       "12426.0              2      432  \n",
       "12427.0              2      232  \n",
       "12437.0              1      111  \n",
       "12441.0              3      443  "
      ]
     },
     "execution_count": 32,
     "metadata": {},
     "output_type": "execute_result"
    }
   ],
   "source": [
    "segmented_rfm['RFMscore'] = segmented_rfm.r_quartile.map(str)\\\n",
    "                            + segmented_rfm.f_quartile.map(str)\\\n",
    "                            + segmented_rfm.m_quartile.map(str)\n",
    "segmented_rfm.head()"
   ]
  },
  {
   "cell_type": "markdown",
   "metadata": {},
   "source": [
    "## 2.2 Observe day of the week"
   ]
  },
  {
   "cell_type": "markdown",
   "metadata": {},
   "source": [
    "We can also define a specific feature for each of the customer based on the day of the transaction."
   ]
  },
  {
   "cell_type": "code",
   "execution_count": 33,
   "metadata": {},
   "outputs": [],
   "source": [
    "# Create one variable per day of the week?\n",
    "segmented_rfm['day_0'] = 0 # Monday\n",
    "segmented_rfm['day_1'] = 0 # Tuesday\n",
    "segmented_rfm['day_2'] = 0 # Wednesday\n",
    "segmented_rfm['day_3'] = 0 # Thursday\n",
    "segmented_rfm['day_4'] = 0 # Friday\n",
    "segmented_rfm['day_5'] = 0 # Saturday\n",
    "segmented_rfm['day_6'] = 0 # Sunday"
   ]
  },
  {
   "cell_type": "code",
   "execution_count": 34,
   "metadata": {},
   "outputs": [],
   "source": [
    "customer_lst = df.CustomerID.unique()\n",
    "for cust in customer_lst:\n",
    "    df_subset = df[df.CustomerID == cust].InvoiceDate\n",
    "    date_lst = pd.to_datetime(df_subset.unique().tolist())\n",
    "    weekday_lst = pd.to_datetime(date_lst).weekday.tolist()\n",
    "    for day in weekday_lst:\n",
    "        segmented_rfm['day_' + str(day)].loc[segmented_rfm.index == cust] = 1"
   ]
  },
  {
   "cell_type": "markdown",
   "metadata": {},
   "source": [
    "## 2.3 Product ordered in big quantity:"
   ]
  },
  {
   "cell_type": "markdown",
   "metadata": {},
   "source": [
    "If we focus on the product, we can also create specific features for the quantity order:\n",
    "- Quantity mean\n",
    "- Quantity max\n",
    "- Quantity min"
   ]
  },
  {
   "cell_type": "code",
   "execution_count": 35,
   "metadata": {},
   "outputs": [],
   "source": [
    "# Create quantity category\n",
    "segmented_rfm['qty_mean'] = 0\n",
    "segmented_rfm['qty_min']  = 0\n",
    "segmented_rfm['qty_max']  = 0"
   ]
  },
  {
   "cell_type": "code",
   "execution_count": 36,
   "metadata": {},
   "outputs": [],
   "source": [
    "customer_lst = df.CustomerID.unique()\n",
    "for cust in customer_lst:\n",
    "    segmented_rfm['qty_mean'].loc[segmented_rfm.index == cust] = df[df.CustomerID == cust].Quantity.mean()\n",
    "    segmented_rfm['qty_min'].loc[segmented_rfm.index == cust] = df[df.CustomerID == cust].Quantity.min()\n",
    "    segmented_rfm['qty_max'].loc[segmented_rfm.index == cust] = df[df.CustomerID == cust].Quantity.max()"
   ]
  },
  {
   "cell_type": "markdown",
   "metadata": {},
   "source": [
    "## 2.4 Mean product price"
   ]
  },
  {
   "cell_type": "markdown",
   "metadata": {},
   "source": [
    "If we contiue, we can also create specific features for the product price related informations:\n",
    "\n",
    "- Unit Price mean/max/min for all of the items ordered.\n",
    "- Total Price mean/max/min for all of the orders."
   ]
  },
  {
   "cell_type": "code",
   "execution_count": 37,
   "metadata": {},
   "outputs": [],
   "source": [
    "# Create price category\n",
    "segmented_rfm['unitprice_mean']  = 0\n",
    "segmented_rfm['unitprice_max']   = 0\n",
    "segmented_rfm['unitprice_min']   = 0\n",
    "segmented_rfm['totalprice_mean'] = 0\n",
    "segmented_rfm['totalprice_max']  = 0\n",
    "segmented_rfm['totalprice_min']  = 0"
   ]
  },
  {
   "cell_type": "code",
   "execution_count": 38,
   "metadata": {},
   "outputs": [],
   "source": [
    "customer_lst = df.CustomerID.unique()\n",
    "for cust in customer_lst:\n",
    "    segmented_rfm['unitprice_mean'].loc[segmented_rfm.index == cust] = df[df.CustomerID == cust].UnitPrice.mean()\n",
    "    segmented_rfm['unitprice_max'].loc[segmented_rfm.index == cust] = df[df.CustomerID == cust].UnitPrice.min()\n",
    "    segmented_rfm['unitprice_min'].loc[segmented_rfm.index == cust] = df[df.CustomerID == cust].UnitPrice.max()\n",
    "    segmented_rfm['totalprice_mean'].loc[segmented_rfm.index == cust] = df[df.CustomerID == cust].TotalPrice.mean()\n",
    "    segmented_rfm['totalprice_max'].loc[segmented_rfm.index == cust] = df[df.CustomerID == cust].TotalPrice.min()\n",
    "    segmented_rfm['totalprice_min'].loc[segmented_rfm.index == cust] = df[df.CustomerID == cust].TotalPrice.max()"
   ]
  },
  {
   "cell_type": "markdown",
   "metadata": {
    "collapsed": true
   },
   "source": [
    "Let's store the the new dataset containing one entry for each user."
   ]
  },
  {
   "cell_type": "code",
   "execution_count": 275,
   "metadata": {
    "collapsed": true
   },
   "outputs": [],
   "source": [
    "segmented_rfm.to_csv('../../../../OPENCLASSROOMS/PROJET5/segmented_rfm_backup2.csv', sep='\\t', index=False, encoding='utf-8')\n",
    "#segmented_rfm = pd.read_csv('../../../../OPENCLASSROOMS/PROJET5/segmented_rfm_backup2.csv', sep='\\t')"
   ]
  },
  {
   "cell_type": "code",
   "execution_count": 39,
   "metadata": {
    "scrolled": true
   },
   "outputs": [
    {
     "data": {
      "text/html": [
       "<div>\n",
       "<style scoped>\n",
       "    .dataframe tbody tr th:only-of-type {\n",
       "        vertical-align: middle;\n",
       "    }\n",
       "\n",
       "    .dataframe tbody tr th {\n",
       "        vertical-align: top;\n",
       "    }\n",
       "\n",
       "    .dataframe thead th {\n",
       "        text-align: right;\n",
       "    }\n",
       "</style>\n",
       "<table border=\"1\" class=\"dataframe\">\n",
       "  <thead>\n",
       "    <tr style=\"text-align: right;\">\n",
       "      <th></th>\n",
       "      <th>recency</th>\n",
       "      <th>frequency</th>\n",
       "      <th>monetary_value</th>\n",
       "      <th>r_quartile</th>\n",
       "      <th>f_quartile</th>\n",
       "      <th>m_quartile</th>\n",
       "      <th>RFMscore</th>\n",
       "      <th>day_0</th>\n",
       "      <th>day_1</th>\n",
       "      <th>day_2</th>\n",
       "      <th>...</th>\n",
       "      <th>day_6</th>\n",
       "      <th>qty_mean</th>\n",
       "      <th>qty_min</th>\n",
       "      <th>qty_max</th>\n",
       "      <th>unitprice_mean</th>\n",
       "      <th>unitprice_max</th>\n",
       "      <th>unitprice_min</th>\n",
       "      <th>totalprice_mean</th>\n",
       "      <th>totalprice_max</th>\n",
       "      <th>totalprice_min</th>\n",
       "    </tr>\n",
       "    <tr>\n",
       "      <th>CustomerID</th>\n",
       "      <th></th>\n",
       "      <th></th>\n",
       "      <th></th>\n",
       "      <th></th>\n",
       "      <th></th>\n",
       "      <th></th>\n",
       "      <th></th>\n",
       "      <th></th>\n",
       "      <th></th>\n",
       "      <th></th>\n",
       "      <th></th>\n",
       "      <th></th>\n",
       "      <th></th>\n",
       "      <th></th>\n",
       "      <th></th>\n",
       "      <th></th>\n",
       "      <th></th>\n",
       "      <th></th>\n",
       "      <th></th>\n",
       "      <th></th>\n",
       "      <th></th>\n",
       "    </tr>\n",
       "  </thead>\n",
       "  <tbody>\n",
       "    <tr>\n",
       "      <th>12413.0</th>\n",
       "      <td>66</td>\n",
       "      <td>37</td>\n",
       "      <td>18.760811</td>\n",
       "      <td>3</td>\n",
       "      <td>3</td>\n",
       "      <td>2</td>\n",
       "      <td>332</td>\n",
       "      <td>0</td>\n",
       "      <td>1</td>\n",
       "      <td>0</td>\n",
       "      <td>...</td>\n",
       "      <td>1</td>\n",
       "      <td>7.648649</td>\n",
       "      <td>1</td>\n",
       "      <td>24</td>\n",
       "      <td>4.441622</td>\n",
       "      <td>0.65</td>\n",
       "      <td>29.95</td>\n",
       "      <td>18.760811</td>\n",
       "      <td>7.80</td>\n",
       "      <td>47.70</td>\n",
       "    </tr>\n",
       "    <tr>\n",
       "      <th>12426.0</th>\n",
       "      <td>194</td>\n",
       "      <td>30</td>\n",
       "      <td>19.424333</td>\n",
       "      <td>4</td>\n",
       "      <td>3</td>\n",
       "      <td>2</td>\n",
       "      <td>432</td>\n",
       "      <td>0</td>\n",
       "      <td>0</td>\n",
       "      <td>0</td>\n",
       "      <td>...</td>\n",
       "      <td>1</td>\n",
       "      <td>8.600000</td>\n",
       "      <td>1</td>\n",
       "      <td>25</td>\n",
       "      <td>3.936333</td>\n",
       "      <td>0.10</td>\n",
       "      <td>18.00</td>\n",
       "      <td>19.424333</td>\n",
       "      <td>2.50</td>\n",
       "      <td>72.00</td>\n",
       "    </tr>\n",
       "    <tr>\n",
       "      <th>12427.0</th>\n",
       "      <td>21</td>\n",
       "      <td>30</td>\n",
       "      <td>23.612333</td>\n",
       "      <td>2</td>\n",
       "      <td>3</td>\n",
       "      <td>2</td>\n",
       "      <td>232</td>\n",
       "      <td>1</td>\n",
       "      <td>0</td>\n",
       "      <td>0</td>\n",
       "      <td>...</td>\n",
       "      <td>0</td>\n",
       "      <td>8.166667</td>\n",
       "      <td>2</td>\n",
       "      <td>24</td>\n",
       "      <td>4.735000</td>\n",
       "      <td>1.25</td>\n",
       "      <td>18.00</td>\n",
       "      <td>23.612333</td>\n",
       "      <td>7.65</td>\n",
       "      <td>68.00</td>\n",
       "    </tr>\n",
       "    <tr>\n",
       "      <th>12437.0</th>\n",
       "      <td>1</td>\n",
       "      <td>199</td>\n",
       "      <td>24.606332</td>\n",
       "      <td>1</td>\n",
       "      <td>1</td>\n",
       "      <td>1</td>\n",
       "      <td>111</td>\n",
       "      <td>0</td>\n",
       "      <td>0</td>\n",
       "      <td>1</td>\n",
       "      <td>...</td>\n",
       "      <td>0</td>\n",
       "      <td>14.683417</td>\n",
       "      <td>1</td>\n",
       "      <td>120</td>\n",
       "      <td>4.012563</td>\n",
       "      <td>0.21</td>\n",
       "      <td>18.00</td>\n",
       "      <td>24.606332</td>\n",
       "      <td>4.68</td>\n",
       "      <td>131.40</td>\n",
       "    </tr>\n",
       "    <tr>\n",
       "      <th>12441.0</th>\n",
       "      <td>366</td>\n",
       "      <td>11</td>\n",
       "      <td>15.777273</td>\n",
       "      <td>4</td>\n",
       "      <td>4</td>\n",
       "      <td>3</td>\n",
       "      <td>443</td>\n",
       "      <td>0</td>\n",
       "      <td>0</td>\n",
       "      <td>1</td>\n",
       "      <td>...</td>\n",
       "      <td>0</td>\n",
       "      <td>11.000000</td>\n",
       "      <td>1</td>\n",
       "      <td>25</td>\n",
       "      <td>3.700909</td>\n",
       "      <td>0.42</td>\n",
       "      <td>18.00</td>\n",
       "      <td>15.777273</td>\n",
       "      <td>10.50</td>\n",
       "      <td>23.25</td>\n",
       "    </tr>\n",
       "  </tbody>\n",
       "</table>\n",
       "<p>5 rows × 23 columns</p>\n",
       "</div>"
      ],
      "text/plain": [
       "            recency  frequency  monetary_value  r_quartile  f_quartile  \\\n",
       "CustomerID                                                               \n",
       "12413.0          66         37       18.760811           3           3   \n",
       "12426.0         194         30       19.424333           4           3   \n",
       "12427.0          21         30       23.612333           2           3   \n",
       "12437.0           1        199       24.606332           1           1   \n",
       "12441.0         366         11       15.777273           4           4   \n",
       "\n",
       "            m_quartile RFMscore  day_0  day_1  day_2       ...        day_6  \\\n",
       "CustomerID                                                 ...                \n",
       "12413.0              2      332      0      1      0       ...            1   \n",
       "12426.0              2      432      0      0      0       ...            1   \n",
       "12427.0              2      232      1      0      0       ...            0   \n",
       "12437.0              1      111      0      0      1       ...            0   \n",
       "12441.0              3      443      0      0      1       ...            0   \n",
       "\n",
       "             qty_mean  qty_min  qty_max  unitprice_mean  unitprice_max  \\\n",
       "CustomerID                                                               \n",
       "12413.0      7.648649        1       24        4.441622           0.65   \n",
       "12426.0      8.600000        1       25        3.936333           0.10   \n",
       "12427.0      8.166667        2       24        4.735000           1.25   \n",
       "12437.0     14.683417        1      120        4.012563           0.21   \n",
       "12441.0     11.000000        1       25        3.700909           0.42   \n",
       "\n",
       "            unitprice_min  totalprice_mean  totalprice_max  totalprice_min  \n",
       "CustomerID                                                                  \n",
       "12413.0             29.95        18.760811            7.80           47.70  \n",
       "12426.0             18.00        19.424333            2.50           72.00  \n",
       "12427.0             18.00        23.612333            7.65           68.00  \n",
       "12437.0             18.00        24.606332            4.68          131.40  \n",
       "12441.0             18.00        15.777273           10.50           23.25  \n",
       "\n",
       "[5 rows x 23 columns]"
      ]
     },
     "execution_count": 39,
     "metadata": {},
     "output_type": "execute_result"
    }
   ],
   "source": [
    "segmented_rfm.head()"
   ]
  },
  {
   "cell_type": "markdown",
   "metadata": {},
   "source": [
    "# 3 Clustering"
   ]
  },
  {
   "cell_type": "markdown",
   "metadata": {},
   "source": [
    "Some variables do not need to be kept for the clustering, let's remove them."
   ]
  },
  {
   "cell_type": "code",
   "execution_count": 40,
   "metadata": {},
   "outputs": [
    {
     "data": {
      "text/html": [
       "<div>\n",
       "<style scoped>\n",
       "    .dataframe tbody tr th:only-of-type {\n",
       "        vertical-align: middle;\n",
       "    }\n",
       "\n",
       "    .dataframe tbody tr th {\n",
       "        vertical-align: top;\n",
       "    }\n",
       "\n",
       "    .dataframe thead th {\n",
       "        text-align: right;\n",
       "    }\n",
       "</style>\n",
       "<table border=\"1\" class=\"dataframe\">\n",
       "  <thead>\n",
       "    <tr style=\"text-align: right;\">\n",
       "      <th></th>\n",
       "      <th>RFMscore</th>\n",
       "      <th>day_0</th>\n",
       "      <th>day_1</th>\n",
       "      <th>day_2</th>\n",
       "      <th>day_3</th>\n",
       "      <th>day_4</th>\n",
       "      <th>day_5</th>\n",
       "      <th>day_6</th>\n",
       "      <th>qty_mean</th>\n",
       "      <th>qty_min</th>\n",
       "      <th>qty_max</th>\n",
       "      <th>unitprice_mean</th>\n",
       "      <th>unitprice_max</th>\n",
       "      <th>unitprice_min</th>\n",
       "      <th>totalprice_mean</th>\n",
       "      <th>totalprice_max</th>\n",
       "      <th>totalprice_min</th>\n",
       "    </tr>\n",
       "    <tr>\n",
       "      <th>CustomerID</th>\n",
       "      <th></th>\n",
       "      <th></th>\n",
       "      <th></th>\n",
       "      <th></th>\n",
       "      <th></th>\n",
       "      <th></th>\n",
       "      <th></th>\n",
       "      <th></th>\n",
       "      <th></th>\n",
       "      <th></th>\n",
       "      <th></th>\n",
       "      <th></th>\n",
       "      <th></th>\n",
       "      <th></th>\n",
       "      <th></th>\n",
       "      <th></th>\n",
       "      <th></th>\n",
       "    </tr>\n",
       "  </thead>\n",
       "  <tbody>\n",
       "    <tr>\n",
       "      <th>12413.0</th>\n",
       "      <td>332</td>\n",
       "      <td>0</td>\n",
       "      <td>1</td>\n",
       "      <td>0</td>\n",
       "      <td>1</td>\n",
       "      <td>0</td>\n",
       "      <td>0</td>\n",
       "      <td>1</td>\n",
       "      <td>7.648649</td>\n",
       "      <td>1</td>\n",
       "      <td>24</td>\n",
       "      <td>4.441622</td>\n",
       "      <td>0.65</td>\n",
       "      <td>29.95</td>\n",
       "      <td>18.760811</td>\n",
       "      <td>7.80</td>\n",
       "      <td>47.70</td>\n",
       "    </tr>\n",
       "    <tr>\n",
       "      <th>12426.0</th>\n",
       "      <td>432</td>\n",
       "      <td>0</td>\n",
       "      <td>0</td>\n",
       "      <td>0</td>\n",
       "      <td>0</td>\n",
       "      <td>0</td>\n",
       "      <td>0</td>\n",
       "      <td>1</td>\n",
       "      <td>8.600000</td>\n",
       "      <td>1</td>\n",
       "      <td>25</td>\n",
       "      <td>3.936333</td>\n",
       "      <td>0.10</td>\n",
       "      <td>18.00</td>\n",
       "      <td>19.424333</td>\n",
       "      <td>2.50</td>\n",
       "      <td>72.00</td>\n",
       "    </tr>\n",
       "    <tr>\n",
       "      <th>12427.0</th>\n",
       "      <td>232</td>\n",
       "      <td>1</td>\n",
       "      <td>0</td>\n",
       "      <td>0</td>\n",
       "      <td>0</td>\n",
       "      <td>1</td>\n",
       "      <td>0</td>\n",
       "      <td>0</td>\n",
       "      <td>8.166667</td>\n",
       "      <td>2</td>\n",
       "      <td>24</td>\n",
       "      <td>4.735000</td>\n",
       "      <td>1.25</td>\n",
       "      <td>18.00</td>\n",
       "      <td>23.612333</td>\n",
       "      <td>7.65</td>\n",
       "      <td>68.00</td>\n",
       "    </tr>\n",
       "    <tr>\n",
       "      <th>12437.0</th>\n",
       "      <td>111</td>\n",
       "      <td>0</td>\n",
       "      <td>0</td>\n",
       "      <td>1</td>\n",
       "      <td>1</td>\n",
       "      <td>1</td>\n",
       "      <td>0</td>\n",
       "      <td>0</td>\n",
       "      <td>14.683417</td>\n",
       "      <td>1</td>\n",
       "      <td>120</td>\n",
       "      <td>4.012563</td>\n",
       "      <td>0.21</td>\n",
       "      <td>18.00</td>\n",
       "      <td>24.606332</td>\n",
       "      <td>4.68</td>\n",
       "      <td>131.40</td>\n",
       "    </tr>\n",
       "    <tr>\n",
       "      <th>12441.0</th>\n",
       "      <td>443</td>\n",
       "      <td>0</td>\n",
       "      <td>0</td>\n",
       "      <td>1</td>\n",
       "      <td>0</td>\n",
       "      <td>0</td>\n",
       "      <td>0</td>\n",
       "      <td>0</td>\n",
       "      <td>11.000000</td>\n",
       "      <td>1</td>\n",
       "      <td>25</td>\n",
       "      <td>3.700909</td>\n",
       "      <td>0.42</td>\n",
       "      <td>18.00</td>\n",
       "      <td>15.777273</td>\n",
       "      <td>10.50</td>\n",
       "      <td>23.25</td>\n",
       "    </tr>\n",
       "  </tbody>\n",
       "</table>\n",
       "</div>"
      ],
      "text/plain": [
       "           RFMscore  day_0  day_1  day_2  day_3  day_4  day_5  day_6  \\\n",
       "CustomerID                                                             \n",
       "12413.0         332      0      1      0      1      0      0      1   \n",
       "12426.0         432      0      0      0      0      0      0      1   \n",
       "12427.0         232      1      0      0      0      1      0      0   \n",
       "12437.0         111      0      0      1      1      1      0      0   \n",
       "12441.0         443      0      0      1      0      0      0      0   \n",
       "\n",
       "             qty_mean  qty_min  qty_max  unitprice_mean  unitprice_max  \\\n",
       "CustomerID                                                               \n",
       "12413.0      7.648649        1       24        4.441622           0.65   \n",
       "12426.0      8.600000        1       25        3.936333           0.10   \n",
       "12427.0      8.166667        2       24        4.735000           1.25   \n",
       "12437.0     14.683417        1      120        4.012563           0.21   \n",
       "12441.0     11.000000        1       25        3.700909           0.42   \n",
       "\n",
       "            unitprice_min  totalprice_mean  totalprice_max  totalprice_min  \n",
       "CustomerID                                                                  \n",
       "12413.0             29.95        18.760811            7.80           47.70  \n",
       "12426.0             18.00        19.424333            2.50           72.00  \n",
       "12427.0             18.00        23.612333            7.65           68.00  \n",
       "12437.0             18.00        24.606332            4.68          131.40  \n",
       "12441.0             18.00        15.777273           10.50           23.25  "
      ]
     },
     "execution_count": 40,
     "metadata": {},
     "output_type": "execute_result"
    }
   ],
   "source": [
    "segmented_rfm.drop('frequency', axis=1, inplace=True)\n",
    "segmented_rfm.drop('monetary_value', axis=1, inplace=True)\n",
    "segmented_rfm.drop('recency', axis=1, inplace=True)\n",
    "segmented_rfm.drop('r_quartile', axis=1, inplace=True)\n",
    "segmented_rfm.drop('f_quartile', axis=1, inplace=True)\n",
    "segmented_rfm.drop('m_quartile', axis=1, inplace=True)\n",
    "\n",
    "segmented_rfm.head()"
   ]
  },
  {
   "cell_type": "code",
   "execution_count": 43,
   "metadata": {},
   "outputs": [],
   "source": [
    "from sklearn import cluster, metrics\n",
    "from sklearn import preprocessing\n",
    "#X_norm=preprocessing.scale(segmented_rfm)\n",
    "scaler = preprocessing.StandardScaler()\n",
    "X_norm = scaler.fit_transform(segmented_rfm)"
   ]
  },
  {
   "cell_type": "markdown",
   "metadata": {},
   "source": [
    "For the clustering, we will use two technicals to optimize the number of clusters:\n",
    "- observe silhouette coefficients\n",
    "- use elbow observation"
   ]
  },
  {
   "cell_type": "markdown",
   "metadata": {},
   "source": [
    "## 3.1 Observe silhouette coefficients"
   ]
  },
  {
   "cell_type": "code",
   "execution_count": 46,
   "metadata": {},
   "outputs": [
    {
     "name": "stdout",
     "output_type": "stream",
     "text": [
      "For n_clusters = 4 The average silhouette_score is : 0.1549474222663417\n"
     ]
    },
    {
     "data": {
      "image/png": "[encoded data removed]",
      "text/plain": [
       "<Figure size 1296x504 with 2 Axes>"
      ]
     },
     "metadata": {},
     "output_type": "display_data"
    },
    {
     "name": "stdout",
     "output_type": "stream",
     "text": [
      "For n_clusters = 5 The average silhouette_score is : 0.1775142669713453\n"
     ]
    },
    {
     "data": {
      "image/png": "[encoded data removed]",
      "text/plain": [
       "<Figure size 1296x504 with 2 Axes>"
      ]
     },
     "metadata": {},
     "output_type": "display_data"
    },
    {
     "name": "stdout",
     "output_type": "stream",
     "text": [
      "For n_clusters = 6 The average silhouette_score is : 0.16418970707585065\n"
     ]
    },
    {
     "data": {
      "image/png": "[encoded data removed]",
      "text/plain": [
       "<Figure size 1296x504 with 2 Axes>"
      ]
     },
     "metadata": {},
     "output_type": "display_data"
    },
    {
     "name": "stdout",
     "output_type": "stream",
     "text": [
      "For n_clusters = 7 The average silhouette_score is : 0.17627653163832507\n"
     ]
    },
    {
     "data": {
      "image/png": "[encoded data removed]",
      "text/plain": [
       "<Figure size 1296x504 with 2 Axes>"
      ]
     },
     "metadata": {},
     "output_type": "display_data"
    },
    {
     "name": "stdout",
     "output_type": "stream",
     "text": [
      "For n_clusters = 8 The average silhouette_score is : 0.1911058025447619\n"
     ]
    },
    {
     "data": {
      "image/png": "[encoded data removed]",
      "text/plain": [
       "<Figure size 1296x504 with 2 Axes>"
      ]
     },
     "metadata": {},
     "output_type": "display_data"
    }
   ],
   "source": [
    "# http://scikit-learn.org/stable/auto_examples/cluster/plot_kmeans_silhouette_analysis.html\n",
    "import matplotlib.cm as cm\n",
    "range_n_clusters = [4, 5, 6, 7, 8]\n",
    "for n_clusters in range_n_clusters:\n",
    "    # Create a subplot with 1 row and 2 columns\n",
    "    fig, (ax1, ax2) = plt.subplots(1, 2)\n",
    "    fig.set_size_inches(18, 7)\n",
    "\n",
    "    # The 1st subplot is the silhouette plot\n",
    "    # The silhouette coefficient can range from -1, 1 but in this example all\n",
    "    # lie within [-0.1, 1]\n",
    "    ax1.set_xlim([-0.1, 1])\n",
    "    # The (n_clusters+1)*10 is for inserting blank space between silhouette\n",
    "    # plots of individual clusters, to demarcate them clearly.\n",
    "    ax1.set_ylim([0, len(X_norm) + (n_clusters + 1) * 10])\n",
    "\n",
    "    # Initialize the clusterer with n_clusters value and a random generator\n",
    "    # seed of 10 for reproducibility.\n",
    "    clusterer = cluster.KMeans(n_clusters=n_clusters, random_state=10)\n",
    "    cluster_labels = clusterer.fit_predict(X_norm)\n",
    "\n",
    "    # The silhouette_score gives the average value for all the samples.\n",
    "    # This gives a perspective into the density and separation of the formed\n",
    "    # clusters\n",
    "    silhouette_avg = metrics.silhouette_score(X_norm, cluster_labels)\n",
    "    print(\"For n_clusters =\", n_clusters,\n",
    "          \"The average silhouette_score is :\", silhouette_avg)\n",
    "\n",
    "    # Compute the silhouette scores for each sample\n",
    "    sample_silhouette_values = metrics.silhouette_samples(X_norm, cluster_labels)\n",
    "\n",
    "    y_lower = 10\n",
    "    for i in range(n_clusters):\n",
    "        # Aggregate the silhouette scores for samples belonging to\n",
    "        # cluster i, and sort them\n",
    "        ith_cluster_silhouette_values = \\\n",
    "            sample_silhouette_values[cluster_labels == i]\n",
    "\n",
    "        ith_cluster_silhouette_values.sort()\n",
    "\n",
    "        size_cluster_i = ith_cluster_silhouette_values.shape[0]\n",
    "        y_upper = y_lower + size_cluster_i\n",
    "\n",
    "        color = cm.nipy_spectral(float(i) / n_clusters)\n",
    "        ax1.fill_betweenx(np.arange(y_lower, y_upper),\n",
    "                          0, ith_cluster_silhouette_values,\n",
    "                          facecolor=color, edgecolor=color, alpha=0.7)\n",
    "\n",
    "        # Label the silhouette plots with their cluster numbers at the middle\n",
    "        ax1.text(-0.05, y_lower + 0.5 * size_cluster_i, str(i))\n",
    "\n",
    "        # Compute the new y_lower for next plot\n",
    "        y_lower = y_upper + 10  # 10 for the 0 samples\n",
    "\n",
    "    ax1.set_title(\"The silhouette plot for the various clusters.\")\n",
    "    ax1.set_xlabel(\"The silhouette coefficient values\")\n",
    "    ax1.set_ylabel(\"Cluster label\")\n",
    "\n",
    "    # The vertical line for average silhouette score of all the values\n",
    "    ax1.axvline(x=silhouette_avg, color=\"red\", linestyle=\"--\")\n",
    "\n",
    "    ax1.set_yticks([])  # Clear the yaxis labels / ticks\n",
    "    ax1.set_xticks([-0.1, 0, 0.2, 0.4, 0.6, 0.8, 1])\n",
    "\n",
    "    # 2nd Plot showing the actual clusters formed\n",
    "    colors = cm.nipy_spectral(cluster_labels.astype(float) / n_clusters)\n",
    "    ax2.scatter(X_norm[:, 0], X_norm[:, 1], marker='.', s=30, lw=0, alpha=0.7,\n",
    "                c=colors, edgecolor='k')\n",
    "\n",
    "    # Labeling the clusters\n",
    "    centers = clusterer.cluster_centers_\n",
    "    # Draw white circles at cluster centers\n",
    "    ax2.scatter(centers[:, 0], centers[:, 1], marker='o',\n",
    "                c=\"white\", alpha=1, s=200, edgecolor='k')\n",
    "\n",
    "    for i, c in enumerate(centers):\n",
    "        ax2.scatter(c[0], c[1], marker='$%d$' % i, alpha=1,\n",
    "                    s=50, edgecolor='k')\n",
    "\n",
    "    ax2.set_title(\"The visualization of the clustered data.\")\n",
    "    ax2.set_xlabel(\"Feature space for the 1st feature\")\n",
    "    ax2.set_ylabel(\"Feature space for the 2nd feature\")\n",
    "\n",
    "    plt.suptitle((\"Silhouette analysis for KMeans clustering on sample data \"\n",
    "                  \"with n_clusters = %d\" % n_clusters),\n",
    "                 fontsize=14, fontweight='bold')\n",
    "\n",
    "    plt.show()"
   ]
  },
  {
   "cell_type": "markdown",
   "metadata": {},
   "source": [
    "For the three graph, we observe that all of the custers are above silhouette average score.\n",
    "But, if we observe the thickness of the silhouette per cluster, the silhouette plot for cluster 1 when n_clusters \n",
    "is equal to 8, is bigger in size owing than for the others. Let's try to confirm this with **elbow** optimisation."
   ]
  },
  {
   "cell_type": "markdown",
   "metadata": {},
   "source": [
    "## 3.2 Elbow optimisation"
   ]
  },
  {
   "cell_type": "code",
   "execution_count": 47,
   "metadata": {
    "scrolled": true
   },
   "outputs": [
    {
     "data": {
      "image/png": "[encoded data removed]",
      "text/plain": [
       "<Figure size 432x288 with 1 Axes>"
      ]
     },
     "metadata": {},
     "output_type": "display_data"
    }
   ],
   "source": [
    "from scipy.spatial.distance import cdist\n",
    "colors = ['b', 'g', 'r']\n",
    "markers = ['o', 'v', 's']\n",
    "\n",
    "# k means determine k\n",
    "distortions = []\n",
    "K = range(1,10)\n",
    "for k in K:\n",
    "    kmeanModel = cluster.KMeans(n_clusters=k).fit(X_norm)\n",
    "    kmeanModel.fit(X_norm)\n",
    "    distortions.append(sum(np.min(cdist(X_norm, kmeanModel.cluster_centers_, 'euclidean'), axis=1)) / X_norm.shape[0])\n",
    " \n",
    "# Plot the elbow\n",
    "plt.plot(K, distortions, 'bx-')\n",
    "plt.xlabel('k')\n",
    "plt.ylabel('Distortion')\n",
    "plt.title('The Elbow Method showing the optimal k')\n",
    "plt.show()"
   ]
  },
  {
   "cell_type": "markdown",
   "metadata": {},
   "source": [
    "If we observe the distorsion, we can also confirm, that **n_clusters==8** seem to be the right candidate."
   ]
  },
  {
   "cell_type": "markdown",
   "metadata": {},
   "source": [
    "## 3.3 Clustering: final choice"
   ]
  },
  {
   "cell_type": "markdown",
   "metadata": {},
   "source": [
    "Let's compute final clustering based on our optimal number of clusters."
   ]
  },
  {
   "cell_type": "code",
   "execution_count": 48,
   "metadata": {},
   "outputs": [
    {
     "data": {
      "text/html": [
       "<div>\n",
       "<style scoped>\n",
       "    .dataframe tbody tr th:only-of-type {\n",
       "        vertical-align: middle;\n",
       "    }\n",
       "\n",
       "    .dataframe tbody tr th {\n",
       "        vertical-align: top;\n",
       "    }\n",
       "\n",
       "    .dataframe thead th {\n",
       "        text-align: right;\n",
       "    }\n",
       "</style>\n",
       "<table border=\"1\" class=\"dataframe\">\n",
       "  <thead>\n",
       "    <tr style=\"text-align: right;\">\n",
       "      <th></th>\n",
       "      <th>0</th>\n",
       "      <th>5</th>\n",
       "      <th>3</th>\n",
       "      <th>7</th>\n",
       "      <th>4</th>\n",
       "      <th>6</th>\n",
       "      <th>1</th>\n",
       "      <th>2</th>\n",
       "    </tr>\n",
       "  </thead>\n",
       "  <tbody>\n",
       "    <tr>\n",
       "      <th>nb clients</th>\n",
       "      <td>1385</td>\n",
       "      <td>987</td>\n",
       "      <td>882</td>\n",
       "      <td>826</td>\n",
       "      <td>9</td>\n",
       "      <td>2</td>\n",
       "      <td>1</td>\n",
       "      <td>1</td>\n",
       "    </tr>\n",
       "  </tbody>\n",
       "</table>\n",
       "</div>"
      ],
      "text/plain": [
       "               0    5    3    7  4  6  1  2\n",
       "nb clients  1385  987  882  826  9  2  1  1"
      ]
     },
     "execution_count": 48,
     "metadata": {},
     "output_type": "execute_result"
    }
   ],
   "source": [
    "cls7 = cluster.KMeans(n_clusters=8, n_init=100, init='k-means++')\n",
    "cls7.fit(X_norm)\n",
    "clusters_customers = cls7.predict(X_norm)\n",
    "pd.DataFrame(pd.Series(clusters_customers).value_counts(), columns=['nb clients']).T"
   ]
  },
  {
   "cell_type": "markdown",
   "metadata": {},
   "source": [
    "Clusters 4-6-1-2 are sparsely represented. Let's remove them."
   ]
  },
  {
   "cell_type": "code",
   "execution_count": 57,
   "metadata": {
    "scrolled": true
   },
   "outputs": [
    {
     "data": {
      "text/html": [
       "<div>\n",
       "<style scoped>\n",
       "    .dataframe tbody tr th:only-of-type {\n",
       "        vertical-align: middle;\n",
       "    }\n",
       "\n",
       "    .dataframe tbody tr th {\n",
       "        vertical-align: top;\n",
       "    }\n",
       "\n",
       "    .dataframe thead th {\n",
       "        text-align: right;\n",
       "    }\n",
       "</style>\n",
       "<table border=\"1\" class=\"dataframe\">\n",
       "  <thead>\n",
       "    <tr style=\"text-align: right;\">\n",
       "      <th></th>\n",
       "      <th>category_0</th>\n",
       "      <th>category_3</th>\n",
       "      <th>category_5</th>\n",
       "      <th>category_7</th>\n",
       "    </tr>\n",
       "  </thead>\n",
       "  <tbody>\n",
       "    <tr>\n",
       "      <th>day_0</th>\n",
       "      <td>0.354513</td>\n",
       "      <td>0.743764</td>\n",
       "      <td>0.213779</td>\n",
       "      <td>0.170702</td>\n",
       "    </tr>\n",
       "    <tr>\n",
       "      <th>day_1</th>\n",
       "      <td>0.335018</td>\n",
       "      <td>0.809524</td>\n",
       "      <td>0.249240</td>\n",
       "      <td>0.222760</td>\n",
       "    </tr>\n",
       "    <tr>\n",
       "      <th>day_2</th>\n",
       "      <td>0.000000</td>\n",
       "      <td>0.777778</td>\n",
       "      <td>1.000000</td>\n",
       "      <td>0.000000</td>\n",
       "    </tr>\n",
       "    <tr>\n",
       "      <th>day_3</th>\n",
       "      <td>0.000000</td>\n",
       "      <td>0.851474</td>\n",
       "      <td>0.314083</td>\n",
       "      <td>1.000000</td>\n",
       "    </tr>\n",
       "    <tr>\n",
       "      <th>day_4</th>\n",
       "      <td>0.319134</td>\n",
       "      <td>0.807256</td>\n",
       "      <td>0.140831</td>\n",
       "      <td>0.184019</td>\n",
       "    </tr>\n",
       "    <tr>\n",
       "      <th>day_5</th>\n",
       "      <td>0.000000</td>\n",
       "      <td>0.000000</td>\n",
       "      <td>0.000000</td>\n",
       "      <td>0.000000</td>\n",
       "    </tr>\n",
       "    <tr>\n",
       "      <th>day_6</th>\n",
       "      <td>0.303249</td>\n",
       "      <td>0.522676</td>\n",
       "      <td>0.165147</td>\n",
       "      <td>0.167070</td>\n",
       "    </tr>\n",
       "    <tr>\n",
       "      <th>qty_mean</th>\n",
       "      <td>15.982977</td>\n",
       "      <td>21.957100</td>\n",
       "      <td>16.961336</td>\n",
       "      <td>14.563060</td>\n",
       "    </tr>\n",
       "    <tr>\n",
       "      <th>qty_min</th>\n",
       "      <td>6.137906</td>\n",
       "      <td>2.628118</td>\n",
       "      <td>5.172239</td>\n",
       "      <td>4.599274</td>\n",
       "    </tr>\n",
       "    <tr>\n",
       "      <th>qty_max</th>\n",
       "      <td>47.075812</td>\n",
       "      <td>149.221088</td>\n",
       "      <td>62.638298</td>\n",
       "      <td>52.076271</td>\n",
       "    </tr>\n",
       "    <tr>\n",
       "      <th>unitprice_mean</th>\n",
       "      <td>3.845462</td>\n",
       "      <td>3.079401</td>\n",
       "      <td>3.416927</td>\n",
       "      <td>3.687093</td>\n",
       "    </tr>\n",
       "    <tr>\n",
       "      <th>unitprice_max</th>\n",
       "      <td>1.426745</td>\n",
       "      <td>0.334864</td>\n",
       "      <td>0.670893</td>\n",
       "      <td>0.849045</td>\n",
       "    </tr>\n",
       "    <tr>\n",
       "      <th>unitprice_min</th>\n",
       "      <td>13.378715</td>\n",
       "      <td>26.407993</td>\n",
       "      <td>15.260557</td>\n",
       "      <td>16.296271</td>\n",
       "    </tr>\n",
       "    <tr>\n",
       "      <th>totalprice_mean</th>\n",
       "      <td>26.571876</td>\n",
       "      <td>34.040762</td>\n",
       "      <td>31.974182</td>\n",
       "      <td>24.603824</td>\n",
       "    </tr>\n",
       "    <tr>\n",
       "      <th>totalprice_max</th>\n",
       "      <td>13.148319</td>\n",
       "      <td>5.249569</td>\n",
       "      <td>11.593689</td>\n",
       "      <td>9.488754</td>\n",
       "    </tr>\n",
       "    <tr>\n",
       "      <th>totalprice_min</th>\n",
       "      <td>66.769061</td>\n",
       "      <td>206.281043</td>\n",
       "      <td>92.026069</td>\n",
       "      <td>72.075048</td>\n",
       "    </tr>\n",
       "  </tbody>\n",
       "</table>\n",
       "</div>"
      ],
      "text/plain": [
       "                 category_0  category_3  category_5  category_7\n",
       "day_0              0.354513    0.743764    0.213779    0.170702\n",
       "day_1              0.335018    0.809524    0.249240    0.222760\n",
       "day_2              0.000000    0.777778    1.000000    0.000000\n",
       "day_3              0.000000    0.851474    0.314083    1.000000\n",
       "day_4              0.319134    0.807256    0.140831    0.184019\n",
       "day_5              0.000000    0.000000    0.000000    0.000000\n",
       "day_6              0.303249    0.522676    0.165147    0.167070\n",
       "qty_mean          15.982977   21.957100   16.961336   14.563060\n",
       "qty_min            6.137906    2.628118    5.172239    4.599274\n",
       "qty_max           47.075812  149.221088   62.638298   52.076271\n",
       "unitprice_mean     3.845462    3.079401    3.416927    3.687093\n",
       "unitprice_max      1.426745    0.334864    0.670893    0.849045\n",
       "unitprice_min     13.378715   26.407993   15.260557   16.296271\n",
       "totalprice_mean   26.571876   34.040762   31.974182   24.603824\n",
       "totalprice_max    13.148319    5.249569   11.593689    9.488754\n",
       "totalprice_min    66.769061  206.281043   92.026069   72.075048"
      ]
     },
     "execution_count": 57,
     "metadata": {},
     "output_type": "execute_result"
    }
   ],
   "source": [
    "segmented_rfm['category'] = clusters_customers\n",
    "column = [\n",
    "    'day_0','day_1','day_2','day_3','day_4','day_5','day_6',\n",
    "    'qty_mean','qty_min','qty_max','unitprice_mean','unitprice_max',\n",
    "    'unitprice_min','totalprice_mean','totalprice_max','totalprice_min'\n",
    "]\n",
    "stats = pd.DataFrame(columns = ['category_0', 'category_3', 'category_5', 'category_7'])\n",
    "i = 0\n",
    "for col in column:\n",
    "    # Append entry to the end of the DataFrame\n",
    "    stats.loc[i] = [\n",
    "        segmented_rfm[segmented_rfm.category == 0][col].mean(),\n",
    "        segmented_rfm[segmented_rfm.category == 3][col].mean(),\n",
    "        segmented_rfm[segmented_rfm.category == 5][col].mean(),\n",
    "        segmented_rfm[segmented_rfm.category == 7][col].mean()\n",
    "    ]\n",
    "    stats = stats.rename(index={i: col})\n",
    "    i = i + 1\n",
    "stats"
   ]
  },
  {
   "cell_type": "markdown",
   "metadata": {},
   "source": [
    "What we can interpret:\n",
    "- category 7 ('cold': small recurrence )\n",
    "- category 0 ('discrete': low recurrence (without thursday and saturday))\n",
    "- category 5 ('loyal': high recurrence, quantity medium)\n",
    "- category 3 ('gold': high recurrence, quantity mean high)"
   ]
  },
  {
   "cell_type": "code",
   "execution_count": 58,
   "metadata": {
    "scrolled": true
   },
   "outputs": [
    {
     "data": {
      "text/html": [
       "<div>\n",
       "<style scoped>\n",
       "    .dataframe tbody tr th:only-of-type {\n",
       "        vertical-align: middle;\n",
       "    }\n",
       "\n",
       "    .dataframe tbody tr th {\n",
       "        vertical-align: top;\n",
       "    }\n",
       "\n",
       "    .dataframe thead th {\n",
       "        text-align: right;\n",
       "    }\n",
       "</style>\n",
       "<table border=\"1\" class=\"dataframe\">\n",
       "  <thead>\n",
       "    <tr style=\"text-align: right;\">\n",
       "      <th></th>\n",
       "      <th>RFMscore</th>\n",
       "      <th>day_0</th>\n",
       "      <th>day_1</th>\n",
       "      <th>day_2</th>\n",
       "      <th>day_3</th>\n",
       "      <th>day_4</th>\n",
       "      <th>day_5</th>\n",
       "      <th>day_6</th>\n",
       "      <th>qty_mean</th>\n",
       "      <th>qty_min</th>\n",
       "      <th>qty_max</th>\n",
       "      <th>unitprice_mean</th>\n",
       "      <th>unitprice_max</th>\n",
       "      <th>unitprice_min</th>\n",
       "      <th>totalprice_mean</th>\n",
       "      <th>totalprice_max</th>\n",
       "      <th>totalprice_min</th>\n",
       "      <th>category</th>\n",
       "    </tr>\n",
       "    <tr>\n",
       "      <th>CustomerID</th>\n",
       "      <th></th>\n",
       "      <th></th>\n",
       "      <th></th>\n",
       "      <th></th>\n",
       "      <th></th>\n",
       "      <th></th>\n",
       "      <th></th>\n",
       "      <th></th>\n",
       "      <th></th>\n",
       "      <th></th>\n",
       "      <th></th>\n",
       "      <th></th>\n",
       "      <th></th>\n",
       "      <th></th>\n",
       "      <th></th>\n",
       "      <th></th>\n",
       "      <th></th>\n",
       "      <th></th>\n",
       "    </tr>\n",
       "  </thead>\n",
       "  <tbody>\n",
       "    <tr>\n",
       "      <th>12413.0</th>\n",
       "      <td>332</td>\n",
       "      <td>0</td>\n",
       "      <td>1</td>\n",
       "      <td>0</td>\n",
       "      <td>1</td>\n",
       "      <td>0</td>\n",
       "      <td>0</td>\n",
       "      <td>1</td>\n",
       "      <td>7.648649</td>\n",
       "      <td>1</td>\n",
       "      <td>24</td>\n",
       "      <td>4.441622</td>\n",
       "      <td>0.65</td>\n",
       "      <td>29.95</td>\n",
       "      <td>18.760811</td>\n",
       "      <td>7.80</td>\n",
       "      <td>47.70</td>\n",
       "      <td>7</td>\n",
       "    </tr>\n",
       "    <tr>\n",
       "      <th>12426.0</th>\n",
       "      <td>432</td>\n",
       "      <td>0</td>\n",
       "      <td>0</td>\n",
       "      <td>0</td>\n",
       "      <td>0</td>\n",
       "      <td>0</td>\n",
       "      <td>0</td>\n",
       "      <td>1</td>\n",
       "      <td>8.600000</td>\n",
       "      <td>1</td>\n",
       "      <td>25</td>\n",
       "      <td>3.936333</td>\n",
       "      <td>0.10</td>\n",
       "      <td>18.00</td>\n",
       "      <td>19.424333</td>\n",
       "      <td>2.50</td>\n",
       "      <td>72.00</td>\n",
       "      <td>0</td>\n",
       "    </tr>\n",
       "    <tr>\n",
       "      <th>12427.0</th>\n",
       "      <td>232</td>\n",
       "      <td>1</td>\n",
       "      <td>0</td>\n",
       "      <td>0</td>\n",
       "      <td>0</td>\n",
       "      <td>1</td>\n",
       "      <td>0</td>\n",
       "      <td>0</td>\n",
       "      <td>8.166667</td>\n",
       "      <td>2</td>\n",
       "      <td>24</td>\n",
       "      <td>4.735000</td>\n",
       "      <td>1.25</td>\n",
       "      <td>18.00</td>\n",
       "      <td>23.612333</td>\n",
       "      <td>7.65</td>\n",
       "      <td>68.00</td>\n",
       "      <td>0</td>\n",
       "    </tr>\n",
       "    <tr>\n",
       "      <th>12437.0</th>\n",
       "      <td>111</td>\n",
       "      <td>0</td>\n",
       "      <td>0</td>\n",
       "      <td>1</td>\n",
       "      <td>1</td>\n",
       "      <td>1</td>\n",
       "      <td>0</td>\n",
       "      <td>0</td>\n",
       "      <td>14.683417</td>\n",
       "      <td>1</td>\n",
       "      <td>120</td>\n",
       "      <td>4.012563</td>\n",
       "      <td>0.21</td>\n",
       "      <td>18.00</td>\n",
       "      <td>24.606332</td>\n",
       "      <td>4.68</td>\n",
       "      <td>131.40</td>\n",
       "      <td>3</td>\n",
       "    </tr>\n",
       "    <tr>\n",
       "      <th>12441.0</th>\n",
       "      <td>443</td>\n",
       "      <td>0</td>\n",
       "      <td>0</td>\n",
       "      <td>1</td>\n",
       "      <td>0</td>\n",
       "      <td>0</td>\n",
       "      <td>0</td>\n",
       "      <td>0</td>\n",
       "      <td>11.000000</td>\n",
       "      <td>1</td>\n",
       "      <td>25</td>\n",
       "      <td>3.700909</td>\n",
       "      <td>0.42</td>\n",
       "      <td>18.00</td>\n",
       "      <td>15.777273</td>\n",
       "      <td>10.50</td>\n",
       "      <td>23.25</td>\n",
       "      <td>5</td>\n",
       "    </tr>\n",
       "  </tbody>\n",
       "</table>\n",
       "</div>"
      ],
      "text/plain": [
       "           RFMscore  day_0  day_1  day_2  day_3  day_4  day_5  day_6  \\\n",
       "CustomerID                                                             \n",
       "12413.0         332      0      1      0      1      0      0      1   \n",
       "12426.0         432      0      0      0      0      0      0      1   \n",
       "12427.0         232      1      0      0      0      1      0      0   \n",
       "12437.0         111      0      0      1      1      1      0      0   \n",
       "12441.0         443      0      0      1      0      0      0      0   \n",
       "\n",
       "             qty_mean  qty_min  qty_max  unitprice_mean  unitprice_max  \\\n",
       "CustomerID                                                               \n",
       "12413.0      7.648649        1       24        4.441622           0.65   \n",
       "12426.0      8.600000        1       25        3.936333           0.10   \n",
       "12427.0      8.166667        2       24        4.735000           1.25   \n",
       "12437.0     14.683417        1      120        4.012563           0.21   \n",
       "12441.0     11.000000        1       25        3.700909           0.42   \n",
       "\n",
       "            unitprice_min  totalprice_mean  totalprice_max  totalprice_min  \\\n",
       "CustomerID                                                                   \n",
       "12413.0             29.95        18.760811            7.80           47.70   \n",
       "12426.0             18.00        19.424333            2.50           72.00   \n",
       "12427.0             18.00        23.612333            7.65           68.00   \n",
       "12437.0             18.00        24.606332            4.68          131.40   \n",
       "12441.0             18.00        15.777273           10.50           23.25   \n",
       "\n",
       "            category  \n",
       "CustomerID            \n",
       "12413.0            7  \n",
       "12426.0            0  \n",
       "12427.0            0  \n",
       "12437.0            3  \n",
       "12441.0            5  "
      ]
     },
     "execution_count": 58,
     "metadata": {},
     "output_type": "execute_result"
    }
   ],
   "source": [
    "segmented_rfm = segmented_rfm[\n",
    "        (segmented_rfm.category == 0) |\n",
    "        (segmented_rfm.category == 3) |\n",
    "        (segmented_rfm.category == 5) |\n",
    "        (segmented_rfm.category == 7)\n",
    "]\n",
    "segmented_rfm.head()"
   ]
  },
  {
   "cell_type": "markdown",
   "metadata": {},
   "source": [
    "If we observe, the 4 classes previously created, we can graphicaly observe their repartition."
   ]
  },
  {
   "cell_type": "code",
   "execution_count": 61,
   "metadata": {},
   "outputs": [
    {
     "data": {
      "text/plain": [
       "array([<matplotlib.axes._subplots.AxesSubplot object at 0x000001FE8C11BFD0>],\n",
       "      dtype=object)"
      ]
     },
     "execution_count": 61,
     "metadata": {},
     "output_type": "execute_result"
    },
    {
     "data": {
      "image/png": "[encoded data removed]",
      "text/plain": [
       "<Figure size 432x432 with 1 Axes>"
      ]
     },
     "metadata": {},
     "output_type": "display_data"
    }
   ],
   "source": [
    "my_df = pd.DataFrame({'discrete':  [segmented_rfm[segmented_rfm.category == 0].shape[0]],\n",
    "                      'gold':  [segmented_rfm[segmented_rfm.category == 3].shape[0]],\n",
    "                      'loyal':  [segmented_rfm[segmented_rfm.category == 5].shape[0]],\n",
    "                      'cold':  [segmented_rfm[segmented_rfm.category == 7].shape[0]]})\n",
    "f, ax = plt.subplots(figsize=(6, 6))\n",
    "my_df.iloc[0].plot.pie(subplots=True, ax=ax)"
   ]
  },
  {
   "cell_type": "markdown",
   "metadata": {},
   "source": [
    "# 4. Store Final Dataset"
   ]
  },
  {
   "cell_type": "markdown",
   "metadata": {
    "collapsed": true
   },
   "source": [
    "Let's store the final dataset with the different clusters computed removing **RFM** score variable as the target is to segment customer based on their first transaction."
   ]
  },
  {
   "cell_type": "code",
   "execution_count": 60,
   "metadata": {},
   "outputs": [],
   "source": [
    "segmented_rfm.drop('RFMscore', axis=1, inplace=True)\n",
    "segmented_rfm.to_csv('segmented_rfm.csv', sep='\\t', index=False, encoding='utf-8')"
   ]
  }
 ],
 "metadata": {
  "kernelspec": {
   "display_name": "Python 3",
   "language": "python",
   "name": "python3"
  },
  "language_info": {
   "codemirror_mode": {
    "name": "ipython",
    "version": 3
   },
   "file_extension": ".py",
   "mimetype": "text/x-python",
   "name": "python",
   "nbconvert_exporter": "python",
   "pygments_lexer": "ipython3",
   "version": "3.6.5"
  }
 },
 "nbformat": 4,
 "nbformat_minor": 2
}
